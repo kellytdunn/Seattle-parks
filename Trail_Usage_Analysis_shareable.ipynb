{
  "nbformat": 4,
  "nbformat_minor": 0,
  "metadata": {
    "kernelspec": {
      "display_name": "Python 3",
      "language": "python",
      "name": "python3"
    },
    "language_info": {
      "codemirror_mode": {
        "name": "ipython",
        "version": 3
      },
      "file_extension": ".py",
      "mimetype": "text/x-python",
      "name": "python",
      "nbconvert_exporter": "python",
      "pygments_lexer": "ipython3",
      "version": "3.9.1"
    },
    "colab": {
      "name": "Trail Usage Analysis_shareable.ipynb",
      "provenance": [],
      "collapsed_sections": [
        "A7CfZZea-5ef",
        "5Dsk4ebah6p1"
      ],
      "include_colab_link": true
    }
  },
  "cells": [
    {
      "cell_type": "markdown",
      "metadata": {
        "id": "view-in-github",
        "colab_type": "text"
      },
      "source": [
        "<a href=\"https://colab.research.google.com/github/kellytdunn/Seattle-parks/blob/master/Trail_Usage_Analysis_shareable.ipynb\" target=\"_parent\"><img src=\"https://colab.research.google.com/assets/colab-badge.svg\" alt=\"Open In Colab\"/></a>"
      ]
    },
    {
      "cell_type": "markdown",
      "metadata": {
        "id": "CfFATACT0GBZ"
      },
      "source": [
        "## How can I Avoid Crowds at Seattle Parks?"
      ]
    },
    {
      "cell_type": "markdown",
      "metadata": {
        "id": "Mi4dUT3hUaoV"
      },
      "source": [
        "## Introduction"
      ]
    },
    {
      "cell_type": "markdown",
      "metadata": {
        "id": "TqYA5Sq10GBb"
      },
      "source": [
        "For my first Python project, I was curious how the pandemic was affecting transportation, as I am a transportation planner. I have gone out to exercise every day during the stay at home orders, and have observed many others doing the same, particularly at big city parks, like Myrtle Edwards. The City took notice and closed down some parks temporarily that were getting too crowded to allow for social distancing. I wondered if people were more likely to be in parks these days given that there are so few other places to be. "
      ]
    },
    {
      "cell_type": "markdown",
      "metadata": {
        "id": "DkrrxBOpWASD"
      },
      "source": [
        "## Housekeeping"
      ]
    },
    {
      "cell_type": "markdown",
      "metadata": {
        "id": "gWEEwFvDBujM"
      },
      "source": [
        "*Note: This notebook uses two API tokens that I want to keep private while I share the notebook publicly. I define them here in a cell that i can easily hide before sharing. If you want to run these notebooks you'll need to grab your own token.Tokens for bike/ped data can be found here: https://data.seattle.gov/login. Tokens for NOAA data can be found here: https://www.ncdc.noaa.gov/cdo-web/token *"
      ]
    },
    {
      "cell_type": "markdown",
      "metadata": {
        "id": "47Ul8AjN0GBc"
      },
      "source": [
        "First, I import libraries:"
      ]
    },
    {
      "cell_type": "code",
      "metadata": {
        "colab": {
          "base_uri": "https://localhost:8080/"
        },
        "id": "cdYDALvj0mxq",
        "outputId": "044e38db-16f9-4d19-adae-094165c8441b"
      },
      "source": [
        "!pip install sodapy\n",
        "!pip install seaborn\n",
        "!pip install folium"
      ],
      "execution_count": null,
      "outputs": [
        {
          "output_type": "stream",
          "text": [
            "Collecting sodapy\n",
            "  Downloading https://files.pythonhosted.org/packages/9e/74/95fb7d45bbe7f1de43caac45d7dd4807ef1e15881564a00eef489a3bb5c6/sodapy-2.1.0-py2.py3-none-any.whl\n",
            "Requirement already satisfied: requests>=2.20.0 in /usr/local/lib/python3.7/dist-packages (from sodapy) (2.23.0)\n",
            "Requirement already satisfied: idna<3,>=2.5 in /usr/local/lib/python3.7/dist-packages (from requests>=2.20.0->sodapy) (2.10)\n",
            "Requirement already satisfied: urllib3!=1.25.0,!=1.25.1,<1.26,>=1.21.1 in /usr/local/lib/python3.7/dist-packages (from requests>=2.20.0->sodapy) (1.24.3)\n",
            "Requirement already satisfied: certifi>=2017.4.17 in /usr/local/lib/python3.7/dist-packages (from requests>=2.20.0->sodapy) (2021.5.30)\n",
            "Requirement already satisfied: chardet<4,>=3.0.2 in /usr/local/lib/python3.7/dist-packages (from requests>=2.20.0->sodapy) (3.0.4)\n",
            "Installing collected packages: sodapy\n",
            "Successfully installed sodapy-2.1.0\n",
            "Requirement already satisfied: seaborn in /usr/local/lib/python3.7/dist-packages (0.11.1)\n",
            "Requirement already satisfied: scipy>=1.0 in /usr/local/lib/python3.7/dist-packages (from seaborn) (1.4.1)\n",
            "Requirement already satisfied: pandas>=0.23 in /usr/local/lib/python3.7/dist-packages (from seaborn) (1.1.5)\n",
            "Requirement already satisfied: numpy>=1.15 in /usr/local/lib/python3.7/dist-packages (from seaborn) (1.19.5)\n",
            "Requirement already satisfied: matplotlib>=2.2 in /usr/local/lib/python3.7/dist-packages (from seaborn) (3.2.2)\n",
            "Requirement already satisfied: pytz>=2017.2 in /usr/local/lib/python3.7/dist-packages (from pandas>=0.23->seaborn) (2018.9)\n",
            "Requirement already satisfied: python-dateutil>=2.7.3 in /usr/local/lib/python3.7/dist-packages (from pandas>=0.23->seaborn) (2.8.1)\n",
            "Requirement already satisfied: kiwisolver>=1.0.1 in /usr/local/lib/python3.7/dist-packages (from matplotlib>=2.2->seaborn) (1.3.1)\n",
            "Requirement already satisfied: pyparsing!=2.0.4,!=2.1.2,!=2.1.6,>=2.0.1 in /usr/local/lib/python3.7/dist-packages (from matplotlib>=2.2->seaborn) (2.4.7)\n",
            "Requirement already satisfied: cycler>=0.10 in /usr/local/lib/python3.7/dist-packages (from matplotlib>=2.2->seaborn) (0.10.0)\n",
            "Requirement already satisfied: six>=1.5 in /usr/local/lib/python3.7/dist-packages (from python-dateutil>=2.7.3->pandas>=0.23->seaborn) (1.15.0)\n",
            "Requirement already satisfied: folium in /usr/local/lib/python3.7/dist-packages (0.8.3)\n",
            "Requirement already satisfied: numpy in /usr/local/lib/python3.7/dist-packages (from folium) (1.19.5)\n",
            "Requirement already satisfied: six in /usr/local/lib/python3.7/dist-packages (from folium) (1.15.0)\n",
            "Requirement already satisfied: branca>=0.3.0 in /usr/local/lib/python3.7/dist-packages (from folium) (0.4.2)\n",
            "Requirement already satisfied: requests in /usr/local/lib/python3.7/dist-packages (from folium) (2.23.0)\n",
            "Requirement already satisfied: jinja2 in /usr/local/lib/python3.7/dist-packages (from folium) (2.11.3)\n",
            "Requirement already satisfied: urllib3!=1.25.0,!=1.25.1,<1.26,>=1.21.1 in /usr/local/lib/python3.7/dist-packages (from requests->folium) (1.24.3)\n",
            "Requirement already satisfied: idna<3,>=2.5 in /usr/local/lib/python3.7/dist-packages (from requests->folium) (2.10)\n",
            "Requirement already satisfied: chardet<4,>=3.0.2 in /usr/local/lib/python3.7/dist-packages (from requests->folium) (3.0.4)\n",
            "Requirement already satisfied: certifi>=2017.4.17 in /usr/local/lib/python3.7/dist-packages (from requests->folium) (2021.5.30)\n",
            "Requirement already satisfied: MarkupSafe>=0.23 in /usr/local/lib/python3.7/dist-packages (from jinja2->folium) (2.0.1)\n"
          ],
          "name": "stdout"
        }
      ]
    },
    {
      "cell_type": "code",
      "metadata": {
        "id": "DBAx7_lD0GBc"
      },
      "source": [
        "import sys\n",
        "!{sys.executable} -m pip install ipywidgets>=7.5\n",
        "import pandas as pd\n",
        "from plotly.offline import iplot\n",
        "import plotly.graph_objs as go\n",
        "import time\n",
        "import datetime\n",
        "from datetime import date\n",
        "import math\n",
        "import requests\n",
        "from sodapy import Socrata\n",
        "import numpy as np\n",
        "import matplotlib.pyplot as plt\n",
        "import seaborn as sns\n",
        "from sklearn.linear_model import LinearRegression\n",
        "from sklearn.metrics import r2_score\n",
        "%matplotlib inline \n",
        "import scipy\n",
        "from scipy import stats\n",
        "import folium"
      ],
      "execution_count": null,
      "outputs": []
    },
    {
      "cell_type": "markdown",
      "metadata": {
        "id": "mU1sgdkCVAiT"
      },
      "source": [
        "## Defining my Approach and Data Requirements"
      ]
    },
    {
      "cell_type": "markdown",
      "metadata": {
        "id": "UcuhLXmYVFTL"
      },
      "source": [
        "This being my first project, I started out not entirely knowing what I would find, but I was interested in building a predictive model to help predict how crowded a park would be on a given day. To start off, I just wanted to understand the data."
      ]
    },
    {
      "cell_type": "markdown",
      "metadata": {
        "id": "ui_mZNJ_VrlK"
      },
      "source": [
        "I found a dataset from the Seattle Department of Transportation on bicycle and pedestrian counts from 2014-2020 at a specific point at Myrtle Edwards Park: https://data.seattle.gov/Transportation/Elliott-Bay-Trail-in-Myrtle-Edwards-Park-Bicycle-a/4qej-qvrz. \n",
        "I decided to use this count data as a proxy for how many people were using this park on a given day. Perhaps I will expand to other parks later, but for now, I'll stick with this park because I spent a lot of time there early in the pandemic."
      ]
    },
    {
      "cell_type": "markdown",
      "metadata": {
        "id": "nLUMdiKL0WZL"
      },
      "source": [
        "First, because I like maps, here's Myrtle Edwards Park in context. You can zoom in and out. "
      ]
    },
    {
      "cell_type": "code",
      "metadata": {
        "colab": {
          "base_uri": "https://localhost:8080/",
          "height": 682
        },
        "id": "dd6x7r5Wyf-T",
        "outputId": "22b56944-6595-462b-ee28-71518f4194b9"
      },
      "source": [
        "folium.Map(location = [47.62, -122.36], zoom_start = 15)"
      ],
      "execution_count": null,
      "outputs": [
        {
          "output_type": "execute_result",
          "data": {
            "text/html": [
              "<div style=\"width:100%;\"><div style=\"position:relative;width:100%;height:0;padding-bottom:60%;\"><span style=\"color:#565656\">Make this Notebook Trusted to load map: File -> Trust Notebook</span><iframe src=\"about:blank\" style=\"position:absolute;width:100%;height:100%;left:0;top:0;border:none !important;\" data-html=%3C%21DOCTYPE%20html%3E%0A%3Chead%3E%20%20%20%20%0A%20%20%20%20%3Cmeta%20http-equiv%3D%22content-type%22%20content%3D%22text/html%3B%20charset%3DUTF-8%22%20/%3E%0A%20%20%20%20%3Cscript%3EL_PREFER_CANVAS%3Dfalse%3B%20L_NO_TOUCH%3Dfalse%3B%20L_DISABLE_3D%3Dfalse%3B%3C/script%3E%0A%20%20%20%20%3Cscript%20src%3D%22https%3A//cdn.jsdelivr.net/npm/leaflet%401.4.0/dist/leaflet.js%22%3E%3C/script%3E%0A%20%20%20%20%3Cscript%20src%3D%22https%3A//code.jquery.com/jquery-1.12.4.min.js%22%3E%3C/script%3E%0A%20%20%20%20%3Cscript%20src%3D%22https%3A//maxcdn.bootstrapcdn.com/bootstrap/3.2.0/js/bootstrap.min.js%22%3E%3C/script%3E%0A%20%20%20%20%3Cscript%20src%3D%22https%3A//cdnjs.cloudflare.com/ajax/libs/Leaflet.awesome-markers/2.0.2/leaflet.awesome-markers.js%22%3E%3C/script%3E%0A%20%20%20%20%3Clink%20rel%3D%22stylesheet%22%20href%3D%22https%3A//cdn.jsdelivr.net/npm/leaflet%401.4.0/dist/leaflet.css%22/%3E%0A%20%20%20%20%3Clink%20rel%3D%22stylesheet%22%20href%3D%22https%3A//maxcdn.bootstrapcdn.com/bootstrap/3.2.0/css/bootstrap.min.css%22/%3E%0A%20%20%20%20%3Clink%20rel%3D%22stylesheet%22%20href%3D%22https%3A//maxcdn.bootstrapcdn.com/bootstrap/3.2.0/css/bootstrap-theme.min.css%22/%3E%0A%20%20%20%20%3Clink%20rel%3D%22stylesheet%22%20href%3D%22https%3A//maxcdn.bootstrapcdn.com/font-awesome/4.6.3/css/font-awesome.min.css%22/%3E%0A%20%20%20%20%3Clink%20rel%3D%22stylesheet%22%20href%3D%22https%3A//cdnjs.cloudflare.com/ajax/libs/Leaflet.awesome-markers/2.0.2/leaflet.awesome-markers.css%22/%3E%0A%20%20%20%20%3Clink%20rel%3D%22stylesheet%22%20href%3D%22https%3A//rawcdn.githack.com/python-visualization/folium/master/folium/templates/leaflet.awesome.rotate.css%22/%3E%0A%20%20%20%20%3Cstyle%3Ehtml%2C%20body%20%7Bwidth%3A%20100%25%3Bheight%3A%20100%25%3Bmargin%3A%200%3Bpadding%3A%200%3B%7D%3C/style%3E%0A%20%20%20%20%3Cstyle%3E%23map%20%7Bposition%3Aabsolute%3Btop%3A0%3Bbottom%3A0%3Bright%3A0%3Bleft%3A0%3B%7D%3C/style%3E%0A%20%20%20%20%0A%20%20%20%20%3Cmeta%20name%3D%22viewport%22%20content%3D%22width%3Ddevice-width%2C%0A%20%20%20%20%20%20%20%20initial-scale%3D1.0%2C%20maximum-scale%3D1.0%2C%20user-scalable%3Dno%22%20/%3E%0A%20%20%20%20%3Cstyle%3E%23map_297b3148e37240b2a611131a4afbcde9%20%7B%0A%20%20%20%20%20%20%20%20position%3A%20relative%3B%0A%20%20%20%20%20%20%20%20width%3A%20100.0%25%3B%0A%20%20%20%20%20%20%20%20height%3A%20100.0%25%3B%0A%20%20%20%20%20%20%20%20left%3A%200.0%25%3B%0A%20%20%20%20%20%20%20%20top%3A%200.0%25%3B%0A%20%20%20%20%20%20%20%20%7D%0A%20%20%20%20%3C/style%3E%0A%3C/head%3E%0A%3Cbody%3E%20%20%20%20%0A%20%20%20%20%0A%20%20%20%20%3Cdiv%20class%3D%22folium-map%22%20id%3D%22map_297b3148e37240b2a611131a4afbcde9%22%20%3E%3C/div%3E%0A%3C/body%3E%0A%3Cscript%3E%20%20%20%20%0A%20%20%20%20%0A%20%20%20%20%0A%20%20%20%20%20%20%20%20var%20bounds%20%3D%20null%3B%0A%20%20%20%20%0A%0A%20%20%20%20var%20map_297b3148e37240b2a611131a4afbcde9%20%3D%20L.map%28%0A%20%20%20%20%20%20%20%20%27map_297b3148e37240b2a611131a4afbcde9%27%2C%20%7B%0A%20%20%20%20%20%20%20%20center%3A%20%5B47.62%2C%20-122.36%5D%2C%0A%20%20%20%20%20%20%20%20zoom%3A%2015%2C%0A%20%20%20%20%20%20%20%20maxBounds%3A%20bounds%2C%0A%20%20%20%20%20%20%20%20layers%3A%20%5B%5D%2C%0A%20%20%20%20%20%20%20%20worldCopyJump%3A%20false%2C%0A%20%20%20%20%20%20%20%20crs%3A%20L.CRS.EPSG3857%2C%0A%20%20%20%20%20%20%20%20zoomControl%3A%20true%2C%0A%20%20%20%20%20%20%20%20%7D%29%3B%0A%0A%0A%20%20%20%20%0A%20%20%20%20var%20tile_layer_3066d9f9d1cc4deaa3db681744b34fb1%20%3D%20L.tileLayer%28%0A%20%20%20%20%20%20%20%20%27https%3A//%7Bs%7D.tile.openstreetmap.org/%7Bz%7D/%7Bx%7D/%7By%7D.png%27%2C%0A%20%20%20%20%20%20%20%20%7B%0A%20%20%20%20%20%20%20%20%22attribution%22%3A%20null%2C%0A%20%20%20%20%20%20%20%20%22detectRetina%22%3A%20false%2C%0A%20%20%20%20%20%20%20%20%22maxNativeZoom%22%3A%2018%2C%0A%20%20%20%20%20%20%20%20%22maxZoom%22%3A%2018%2C%0A%20%20%20%20%20%20%20%20%22minZoom%22%3A%200%2C%0A%20%20%20%20%20%20%20%20%22noWrap%22%3A%20false%2C%0A%20%20%20%20%20%20%20%20%22opacity%22%3A%201%2C%0A%20%20%20%20%20%20%20%20%22subdomains%22%3A%20%22abc%22%2C%0A%20%20%20%20%20%20%20%20%22tms%22%3A%20false%0A%7D%29.addTo%28map_297b3148e37240b2a611131a4afbcde9%29%3B%0A%3C/script%3E onload=\"this.contentDocument.open();this.contentDocument.write(    decodeURIComponent(this.getAttribute('data-html')));this.contentDocument.close();\" allowfullscreen webkitallowfullscreen mozallowfullscreen></iframe></div></div>"
            ],
            "text/plain": [
              "<folium.folium.Map at 0x7f29ab8d5b50>"
            ]
          },
          "metadata": {
            "tags": []
          },
          "execution_count": 4
        }
      ]
    },
    {
      "cell_type": "markdown",
      "metadata": {
        "id": "siccRhFlWLv7"
      },
      "source": [
        "I start the data analysis by accessing the API:"
      ]
    },
    {
      "cell_type": "code",
      "metadata": {
        "id": "tAQKC2R50GBe",
        "colab": {
          "base_uri": "https://localhost:8080/",
          "height": 206
        },
        "outputId": "128b0aa7-2dbe-4e81-8410-bbff541fba91"
      },
      "source": [
        "#bike/ped count dataset\n",
        "client = Socrata(\"data.seattle.gov\",\n",
        "                  SEA_token)\n",
        "\n",
        "# returned as JSON from API / converted to Python list of dictionaries by sodapy.\n",
        "results = client.get(\"4qej-qvrz\", limit = 100000)\n",
        "\n",
        "# Convert to pandas DataFrame\n",
        "results_df = pd.DataFrame.from_records(results)\n",
        "\n",
        "results_df.head()\n"
      ],
      "execution_count": null,
      "outputs": [
        {
          "output_type": "execute_result",
          "data": {
            "text/html": [
              "<div>\n",
              "<style scoped>\n",
              "    .dataframe tbody tr th:only-of-type {\n",
              "        vertical-align: middle;\n",
              "    }\n",
              "\n",
              "    .dataframe tbody tr th {\n",
              "        vertical-align: top;\n",
              "    }\n",
              "\n",
              "    .dataframe thead th {\n",
              "        text-align: right;\n",
              "    }\n",
              "</style>\n",
              "<table border=\"1\" class=\"dataframe\">\n",
              "  <thead>\n",
              "    <tr style=\"text-align: right;\">\n",
              "      <th></th>\n",
              "      <th>date</th>\n",
              "      <th>eilliott_bay_trail_in_myrtle_edwards_park_total</th>\n",
              "      <th>ped_north</th>\n",
              "      <th>ped_south</th>\n",
              "      <th>bike_north</th>\n",
              "      <th>bike_south</th>\n",
              "    </tr>\n",
              "  </thead>\n",
              "  <tbody>\n",
              "    <tr>\n",
              "      <th>0</th>\n",
              "      <td>2020-06-01T00:00:00.000</td>\n",
              "      <td>5</td>\n",
              "      <td>2</td>\n",
              "      <td>1</td>\n",
              "      <td>1</td>\n",
              "      <td>1</td>\n",
              "    </tr>\n",
              "    <tr>\n",
              "      <th>1</th>\n",
              "      <td>2020-06-01T01:00:00.000</td>\n",
              "      <td>0</td>\n",
              "      <td>0</td>\n",
              "      <td>0</td>\n",
              "      <td>0</td>\n",
              "      <td>0</td>\n",
              "    </tr>\n",
              "    <tr>\n",
              "      <th>2</th>\n",
              "      <td>2020-06-01T02:00:00.000</td>\n",
              "      <td>1</td>\n",
              "      <td>0</td>\n",
              "      <td>0</td>\n",
              "      <td>1</td>\n",
              "      <td>0</td>\n",
              "    </tr>\n",
              "    <tr>\n",
              "      <th>3</th>\n",
              "      <td>2020-06-01T03:00:00.000</td>\n",
              "      <td>1</td>\n",
              "      <td>1</td>\n",
              "      <td>0</td>\n",
              "      <td>0</td>\n",
              "      <td>0</td>\n",
              "    </tr>\n",
              "    <tr>\n",
              "      <th>4</th>\n",
              "      <td>2020-06-01T04:00:00.000</td>\n",
              "      <td>1</td>\n",
              "      <td>0</td>\n",
              "      <td>0</td>\n",
              "      <td>1</td>\n",
              "      <td>0</td>\n",
              "    </tr>\n",
              "  </tbody>\n",
              "</table>\n",
              "</div>"
            ],
            "text/plain": [
              "                      date  ... bike_south\n",
              "0  2020-06-01T00:00:00.000  ...          1\n",
              "1  2020-06-01T01:00:00.000  ...          0\n",
              "2  2020-06-01T02:00:00.000  ...          0\n",
              "3  2020-06-01T03:00:00.000  ...          0\n",
              "4  2020-06-01T04:00:00.000  ...          0\n",
              "\n",
              "[5 rows x 6 columns]"
            ]
          },
          "metadata": {
            "tags": []
          },
          "execution_count": 5
        }
      ]
    },
    {
      "cell_type": "markdown",
      "metadata": {
        "id": "8PCx005QWd1H"
      },
      "source": [
        "Already, I can see some ways that this dataset can be improved. Thus begins the process of preparing the data."
      ]
    },
    {
      "cell_type": "markdown",
      "metadata": {
        "id": "uGyuZYK9Wkbk"
      },
      "source": [
        "## Data Preparation"
      ]
    },
    {
      "cell_type": "code",
      "metadata": {
        "id": "JDD5xjZlvzsL"
      },
      "source": [
        "results_df['date']=pd.to_datetime(results_df['date'])"
      ],
      "execution_count": null,
      "outputs": []
    },
    {
      "cell_type": "code",
      "metadata": {
        "id": "_Qr5-2loEubL",
        "colab": {
          "base_uri": "https://localhost:8080/"
        },
        "outputId": "5d1ef901-6996-451d-b5ca-281badc45066"
      },
      "source": [
        "(results_df['date']).dtype"
      ],
      "execution_count": null,
      "outputs": [
        {
          "output_type": "execute_result",
          "data": {
            "text/plain": [
              "dtype('<M8[ns]')"
            ]
          },
          "metadata": {
            "tags": []
          },
          "execution_count": 7
        }
      ]
    },
    {
      "cell_type": "code",
      "metadata": {
        "colab": {
          "base_uri": "https://localhost:8080/",
          "height": 206
        },
        "id": "YTh8dXUJ0GBf",
        "outputId": "20e2d5c3-6c73-410a-c9f8-62ae226ff10a"
      },
      "source": [
        "#convert the datetime field in the \"date\" column to something more readable and separate date and time.\n",
        "results_df['Date'] = pd.to_datetime(results_df['date']).dt.date \n",
        "results_df['Time'] = pd.to_datetime(results_df['date']).dt.time \n",
        "results_df.head()"
      ],
      "execution_count": null,
      "outputs": [
        {
          "output_type": "execute_result",
          "data": {
            "text/html": [
              "<div>\n",
              "<style scoped>\n",
              "    .dataframe tbody tr th:only-of-type {\n",
              "        vertical-align: middle;\n",
              "    }\n",
              "\n",
              "    .dataframe tbody tr th {\n",
              "        vertical-align: top;\n",
              "    }\n",
              "\n",
              "    .dataframe thead th {\n",
              "        text-align: right;\n",
              "    }\n",
              "</style>\n",
              "<table border=\"1\" class=\"dataframe\">\n",
              "  <thead>\n",
              "    <tr style=\"text-align: right;\">\n",
              "      <th></th>\n",
              "      <th>date</th>\n",
              "      <th>eilliott_bay_trail_in_myrtle_edwards_park_total</th>\n",
              "      <th>ped_north</th>\n",
              "      <th>ped_south</th>\n",
              "      <th>bike_north</th>\n",
              "      <th>bike_south</th>\n",
              "      <th>Date</th>\n",
              "      <th>Time</th>\n",
              "    </tr>\n",
              "  </thead>\n",
              "  <tbody>\n",
              "    <tr>\n",
              "      <th>0</th>\n",
              "      <td>2020-06-01 00:00:00</td>\n",
              "      <td>5</td>\n",
              "      <td>2</td>\n",
              "      <td>1</td>\n",
              "      <td>1</td>\n",
              "      <td>1</td>\n",
              "      <td>2020-06-01</td>\n",
              "      <td>00:00:00</td>\n",
              "    </tr>\n",
              "    <tr>\n",
              "      <th>1</th>\n",
              "      <td>2020-06-01 01:00:00</td>\n",
              "      <td>0</td>\n",
              "      <td>0</td>\n",
              "      <td>0</td>\n",
              "      <td>0</td>\n",
              "      <td>0</td>\n",
              "      <td>2020-06-01</td>\n",
              "      <td>01:00:00</td>\n",
              "    </tr>\n",
              "    <tr>\n",
              "      <th>2</th>\n",
              "      <td>2020-06-01 02:00:00</td>\n",
              "      <td>1</td>\n",
              "      <td>0</td>\n",
              "      <td>0</td>\n",
              "      <td>1</td>\n",
              "      <td>0</td>\n",
              "      <td>2020-06-01</td>\n",
              "      <td>02:00:00</td>\n",
              "    </tr>\n",
              "    <tr>\n",
              "      <th>3</th>\n",
              "      <td>2020-06-01 03:00:00</td>\n",
              "      <td>1</td>\n",
              "      <td>1</td>\n",
              "      <td>0</td>\n",
              "      <td>0</td>\n",
              "      <td>0</td>\n",
              "      <td>2020-06-01</td>\n",
              "      <td>03:00:00</td>\n",
              "    </tr>\n",
              "    <tr>\n",
              "      <th>4</th>\n",
              "      <td>2020-06-01 04:00:00</td>\n",
              "      <td>1</td>\n",
              "      <td>0</td>\n",
              "      <td>0</td>\n",
              "      <td>1</td>\n",
              "      <td>0</td>\n",
              "      <td>2020-06-01</td>\n",
              "      <td>04:00:00</td>\n",
              "    </tr>\n",
              "  </tbody>\n",
              "</table>\n",
              "</div>"
            ],
            "text/plain": [
              "                 date  ...      Time\n",
              "0 2020-06-01 00:00:00  ...  00:00:00\n",
              "1 2020-06-01 01:00:00  ...  01:00:00\n",
              "2 2020-06-01 02:00:00  ...  02:00:00\n",
              "3 2020-06-01 03:00:00  ...  03:00:00\n",
              "4 2020-06-01 04:00:00  ...  04:00:00\n",
              "\n",
              "[5 rows x 8 columns]"
            ]
          },
          "metadata": {
            "tags": []
          },
          "execution_count": 8
        }
      ]
    },
    {
      "cell_type": "code",
      "metadata": {
        "colab": {
          "base_uri": "https://localhost:8080/",
          "height": 206
        },
        "id": "myevh7Rt0GBf",
        "outputId": "cbee0cab-2d0c-42bf-dfbb-6366e21f7683"
      },
      "source": [
        "#rename columns and add columns to help with data analysis.\n",
        "clean_df = results_df.rename(columns={\"date\": \"Timestamp_Date\", \"eilliott_bay_trail_in_myrtle_edwards_park_total\": \"Total\"})\n",
        "clean_df['Day of Week'] = pd.DatetimeIndex(clean_df['Date']).day_name() # week day name\n",
        "clean_df['Month'] = pd.DatetimeIndex(clean_df['Date']).month_name() # month name\n",
        "clean_df['Year'] = pd.DatetimeIndex(clean_df['Timestamp_Date']).year # year name\n",
        "clean_df.head()\n"
      ],
      "execution_count": null,
      "outputs": [
        {
          "output_type": "execute_result",
          "data": {
            "text/html": [
              "<div>\n",
              "<style scoped>\n",
              "    .dataframe tbody tr th:only-of-type {\n",
              "        vertical-align: middle;\n",
              "    }\n",
              "\n",
              "    .dataframe tbody tr th {\n",
              "        vertical-align: top;\n",
              "    }\n",
              "\n",
              "    .dataframe thead th {\n",
              "        text-align: right;\n",
              "    }\n",
              "</style>\n",
              "<table border=\"1\" class=\"dataframe\">\n",
              "  <thead>\n",
              "    <tr style=\"text-align: right;\">\n",
              "      <th></th>\n",
              "      <th>Timestamp_Date</th>\n",
              "      <th>Total</th>\n",
              "      <th>ped_north</th>\n",
              "      <th>ped_south</th>\n",
              "      <th>bike_north</th>\n",
              "      <th>bike_south</th>\n",
              "      <th>Date</th>\n",
              "      <th>Time</th>\n",
              "      <th>Day of Week</th>\n",
              "      <th>Month</th>\n",
              "      <th>Year</th>\n",
              "    </tr>\n",
              "  </thead>\n",
              "  <tbody>\n",
              "    <tr>\n",
              "      <th>0</th>\n",
              "      <td>2020-06-01 00:00:00</td>\n",
              "      <td>5</td>\n",
              "      <td>2</td>\n",
              "      <td>1</td>\n",
              "      <td>1</td>\n",
              "      <td>1</td>\n",
              "      <td>2020-06-01</td>\n",
              "      <td>00:00:00</td>\n",
              "      <td>Monday</td>\n",
              "      <td>June</td>\n",
              "      <td>2020</td>\n",
              "    </tr>\n",
              "    <tr>\n",
              "      <th>1</th>\n",
              "      <td>2020-06-01 01:00:00</td>\n",
              "      <td>0</td>\n",
              "      <td>0</td>\n",
              "      <td>0</td>\n",
              "      <td>0</td>\n",
              "      <td>0</td>\n",
              "      <td>2020-06-01</td>\n",
              "      <td>01:00:00</td>\n",
              "      <td>Monday</td>\n",
              "      <td>June</td>\n",
              "      <td>2020</td>\n",
              "    </tr>\n",
              "    <tr>\n",
              "      <th>2</th>\n",
              "      <td>2020-06-01 02:00:00</td>\n",
              "      <td>1</td>\n",
              "      <td>0</td>\n",
              "      <td>0</td>\n",
              "      <td>1</td>\n",
              "      <td>0</td>\n",
              "      <td>2020-06-01</td>\n",
              "      <td>02:00:00</td>\n",
              "      <td>Monday</td>\n",
              "      <td>June</td>\n",
              "      <td>2020</td>\n",
              "    </tr>\n",
              "    <tr>\n",
              "      <th>3</th>\n",
              "      <td>2020-06-01 03:00:00</td>\n",
              "      <td>1</td>\n",
              "      <td>1</td>\n",
              "      <td>0</td>\n",
              "      <td>0</td>\n",
              "      <td>0</td>\n",
              "      <td>2020-06-01</td>\n",
              "      <td>03:00:00</td>\n",
              "      <td>Monday</td>\n",
              "      <td>June</td>\n",
              "      <td>2020</td>\n",
              "    </tr>\n",
              "    <tr>\n",
              "      <th>4</th>\n",
              "      <td>2020-06-01 04:00:00</td>\n",
              "      <td>1</td>\n",
              "      <td>0</td>\n",
              "      <td>0</td>\n",
              "      <td>1</td>\n",
              "      <td>0</td>\n",
              "      <td>2020-06-01</td>\n",
              "      <td>04:00:00</td>\n",
              "      <td>Monday</td>\n",
              "      <td>June</td>\n",
              "      <td>2020</td>\n",
              "    </tr>\n",
              "  </tbody>\n",
              "</table>\n",
              "</div>"
            ],
            "text/plain": [
              "       Timestamp_Date Total ped_north  ... Day of Week Month  Year\n",
              "0 2020-06-01 00:00:00     5         2  ...      Monday  June  2020\n",
              "1 2020-06-01 01:00:00     0         0  ...      Monday  June  2020\n",
              "2 2020-06-01 02:00:00     1         0  ...      Monday  June  2020\n",
              "3 2020-06-01 03:00:00     1         1  ...      Monday  June  2020\n",
              "4 2020-06-01 04:00:00     1         0  ...      Monday  June  2020\n",
              "\n",
              "[5 rows x 11 columns]"
            ]
          },
          "metadata": {
            "tags": []
          },
          "execution_count": 11
        }
      ]
    },
    {
      "cell_type": "code",
      "metadata": {
        "id": "XWNj0kvl0GBg"
      },
      "source": [
        "APIrecords = clean_df.to_dict('records')"
      ],
      "execution_count": null,
      "outputs": []
    },
    {
      "cell_type": "code",
      "metadata": {
        "colab": {
          "base_uri": "https://localhost:8080/"
        },
        "id": "s5wm-Gt90GBg",
        "outputId": "c516b4e9-846e-4d42-d90b-1e1f60d2db50"
      },
      "source": [
        "len(results_df)"
      ],
      "execution_count": null,
      "outputs": [
        {
          "output_type": "execute_result",
          "data": {
            "text/plain": [
              "64992"
            ]
          },
          "metadata": {
            "tags": []
          },
          "execution_count": 13
        }
      ]
    },
    {
      "cell_type": "markdown",
      "metadata": {
        "id": "qLp_CX_T0GBg"
      },
      "source": [
        "So ```APIrecords``` is a list of dictionaries. Each dictionary represents one hour's worth of data and thus each dictionary has the same keys and different values. There are over 56,000 records in this dataset as of May 2020. As I play around with different functions, I need a quick way to select a subset of records so that every function doesn't iterate through the whole thing."
      ]
    },
    {
      "cell_type": "markdown",
      "metadata": {
        "id": "DGkHBZfQ0GBh"
      },
      "source": [
        "I create the below ```testlist``` to give myself a small section of the dataset to try out functions on. "
      ]
    },
    {
      "cell_type": "code",
      "metadata": {
        "colab": {
          "base_uri": "https://localhost:8080/"
        },
        "id": "4R7nFK200GBh",
        "outputId": "0fc2a8b2-4410-48a4-dedc-293e4847d78e"
      },
      "source": [
        "testlist = APIrecords[:5]\n",
        "testlist"
      ],
      "execution_count": null,
      "outputs": [
        {
          "output_type": "execute_result",
          "data": {
            "text/plain": [
              "[{'Date': datetime.date(2020, 6, 1),\n",
              "  'Day of Week': 'Monday',\n",
              "  'Month': 'June',\n",
              "  'Time': datetime.time(0, 0),\n",
              "  'Timestamp_Date': Timestamp('2020-06-01 00:00:00'),\n",
              "  'Total': '5',\n",
              "  'Year': 2020,\n",
              "  'bike_north': '1',\n",
              "  'bike_south': '1',\n",
              "  'ped_north': '2',\n",
              "  'ped_south': '1'},\n",
              " {'Date': datetime.date(2020, 6, 1),\n",
              "  'Day of Week': 'Monday',\n",
              "  'Month': 'June',\n",
              "  'Time': datetime.time(1, 0),\n",
              "  'Timestamp_Date': Timestamp('2020-06-01 01:00:00'),\n",
              "  'Total': '0',\n",
              "  'Year': 2020,\n",
              "  'bike_north': '0',\n",
              "  'bike_south': '0',\n",
              "  'ped_north': '0',\n",
              "  'ped_south': '0'},\n",
              " {'Date': datetime.date(2020, 6, 1),\n",
              "  'Day of Week': 'Monday',\n",
              "  'Month': 'June',\n",
              "  'Time': datetime.time(2, 0),\n",
              "  'Timestamp_Date': Timestamp('2020-06-01 02:00:00'),\n",
              "  'Total': '1',\n",
              "  'Year': 2020,\n",
              "  'bike_north': '1',\n",
              "  'bike_south': '0',\n",
              "  'ped_north': '0',\n",
              "  'ped_south': '0'},\n",
              " {'Date': datetime.date(2020, 6, 1),\n",
              "  'Day of Week': 'Monday',\n",
              "  'Month': 'June',\n",
              "  'Time': datetime.time(3, 0),\n",
              "  'Timestamp_Date': Timestamp('2020-06-01 03:00:00'),\n",
              "  'Total': '1',\n",
              "  'Year': 2020,\n",
              "  'bike_north': '0',\n",
              "  'bike_south': '0',\n",
              "  'ped_north': '1',\n",
              "  'ped_south': '0'},\n",
              " {'Date': datetime.date(2020, 6, 1),\n",
              "  'Day of Week': 'Monday',\n",
              "  'Month': 'June',\n",
              "  'Time': datetime.time(4, 0),\n",
              "  'Timestamp_Date': Timestamp('2020-06-01 04:00:00'),\n",
              "  'Total': '1',\n",
              "  'Year': 2020,\n",
              "  'bike_north': '1',\n",
              "  'bike_south': '0',\n",
              "  'ped_north': '0',\n",
              "  'ped_south': '0'}]"
            ]
          },
          "metadata": {
            "tags": []
          },
          "execution_count": 14
        }
      ]
    },
    {
      "cell_type": "markdown",
      "metadata": {
        "id": "dOGyWdSh0GBh"
      },
      "source": [
        "### Creating Functions to Prepare the Data"
      ]
    },
    {
      "cell_type": "code",
      "metadata": {
        "id": "DxGPpmR20GBi"
      },
      "source": [
        "def timestamp(mmddyyyy):\n",
        "    return pd.to_datetime(mmddyyyy)"
      ],
      "execution_count": null,
      "outputs": []
    },
    {
      "cell_type": "code",
      "metadata": {
        "id": "-3q1O9QV_7r5"
      },
      "source": [
        "def hourlycounts(date, data): #date must be entered as 'mm/dd/yy', including quotes\n",
        "    target_date = timestamp(date) #this caches the function so it doesn't have to recalculate with every iteration. \n",
        "    return [x['Total'] for x in data if x['Date'] == target_date] #this is a cleaner list comprehension. Thank you Stack Overflow.\n"
      ],
      "execution_count": null,
      "outputs": []
    },
    {
      "cell_type": "markdown",
      "metadata": {
        "id": "z3GTjwJc0GBi"
      },
      "source": [
        "If I want to be able to create graphs with time or date as an independent variable, I need to be able to generate a list of all the values associated with a specific key in the list of dictionaries. Below, I create a function and test it out on ```testlist```."
      ]
    },
    {
      "cell_type": "code",
      "metadata": {
        "colab": {
          "base_uri": "https://localhost:8080/"
        },
        "id": "nNlzUTIL0GBi",
        "outputId": "20c5129f-b97f-4ede-95c9-2432553bbc81"
      },
      "source": [
        "def list_from_dictionary(dictlist, key):\n",
        "    return [sub[key] for sub in dictlist]\n",
        "list_from_dictionary(testlist, 'Day of Week')"
      ],
      "execution_count": null,
      "outputs": [
        {
          "output_type": "execute_result",
          "data": {
            "text/plain": [
              "['Monday', 'Monday', 'Monday', 'Monday', 'Monday']"
            ]
          },
          "metadata": {
            "tags": []
          },
          "execution_count": 17
        }
      ]
    },
    {
      "cell_type": "markdown",
      "metadata": {
        "id": "gKj-w8UQ0GBj"
      },
      "source": [
        "Trying this function out on ```testlist``` confirms that it would not filter out duplicates, and if I run this on the whole dataset it would return 54,000 items, which I don't want. "
      ]
    },
    {
      "cell_type": "markdown",
      "metadata": {
        "id": "o75MpHP-0GBj"
      },
      "source": [
        "To create a list of all the values for a given key, without duplicates, I need a new function. "
      ]
    },
    {
      "cell_type": "code",
      "metadata": {
        "id": "0w6pU2kV0GBj",
        "colab": {
          "base_uri": "https://localhost:8080/"
        },
        "outputId": "571a3a69-848f-48f3-fdaa-98cd0a37d0a0"
      },
      "source": [
        "#generate list of all unique values in a given column in the dataset. Use to generate x values for graphs and in for loops.\n",
        "def unique(recordlist, key):\n",
        "    new_list=[]\n",
        "    list1 = list_from_dictionary(recordlist, key)\n",
        "    list_set = set(list1)\n",
        "    unique_list = list(list_set)\n",
        "    for x in unique_list:\n",
        "        new_list.append(x)\n",
        "    return new_list\n",
        "unique(testlist, 'Day of Week')"
      ],
      "execution_count": null,
      "outputs": [
        {
          "output_type": "execute_result",
          "data": {
            "text/plain": [
              "['Monday']"
            ]
          },
          "metadata": {
            "tags": []
          },
          "execution_count": 18
        }
      ]
    },
    {
      "cell_type": "markdown",
      "metadata": {
        "id": "zdMW_vTi0GBk"
      },
      "source": [
        "I apply this to the 'Time' key, as I plan to use hour of day as an x-value for my initial graphs."
      ]
    },
    {
      "cell_type": "code",
      "metadata": {
        "id": "lbg_dLbo0GBk"
      },
      "source": [
        "alltimes = sorted(unique(APIrecords, 'Time'))\n"
      ],
      "execution_count": null,
      "outputs": []
    },
    {
      "cell_type": "markdown",
      "metadata": {
        "id": "6bNKOqV50GBk"
      },
      "source": [
        "Now I want to know how April 2020 overall compares to other years to see if, overall, April 2020 might see different usage than prior years. I'll choose Fridays in April as a way to compare apples to apples across different years.\n",
        "To start with, the function below would give you, for example, the average count at noon for all the Fridays in April 2020. "
      ]
    },
    {
      "cell_type": "code",
      "metadata": {
        "id": "X3_ipOAO0GBk"
      },
      "source": [
        "def hourly_average_by_day(month, year, weekday, hour):\n",
        "    monthly_total = []\n",
        "    matching_records = list(record for record in APIrecords if record['Day of Week']==weekday and record['Month']==month and record['Time']==hour and record['Year']==year)\n",
        "    for record in matching_records:\n",
        "        monthly_total.append(int(record['Total']))\n",
        "    try: \n",
        "        return sum(monthly_total)/len(monthly_total)\n",
        "    except:\n",
        "        return 'error'\n",
        "\n",
        "#hourly_average_by_day('March', 2017, 'Friday', datetime.time(17, 0))\n"
      ],
      "execution_count": null,
      "outputs": []
    },
    {
      "cell_type": "markdown",
      "metadata": {
        "id": "EhAeTlvE0GBl"
      },
      "source": [
        "The function above gives me average counts for a specific hour of a specific weekday in the year and month I provide as arguments. Now I want to be able to apply that function to every year all at once, so I can graph it and see a change over time. Maybe people are using the park at different times of day than they used to, and I'm curious how that's changed. The following function applies ```hourly_average_by_day()``` to every year from 2014-2020."
      ]
    },
    {
      "cell_type": "markdown",
      "metadata": {
        "id": "eZ0f6zag0GBl"
      },
      "source": [
        "First, though, I noticed when looking through the data that no counts were recorded for a large part of 2015; the equipment must have been broken. I don't want to get zeros in my plots, so I'm going to omit 2015 data. "
      ]
    },
    {
      "cell_type": "code",
      "metadata": {
        "id": "UFsr8L8R0GBm"
      },
      "source": [
        "def counts_across_years(month, weekday, hour): #note below how the hour must be formatted.\n",
        "    counts_list=[]\n",
        "    for year in [x for x in range(2014, 2021) if x != 2015]:\n",
        "        count = hourly_average_by_day(month, year, weekday, hour)\n",
        "        counts_list.append(count)\n",
        "    return counts_list\n",
        "\n",
        "#counts_across_years('April', 'Friday', datetime.time(12, 0))"
      ],
      "execution_count": null,
      "outputs": []
    },
    {
      "cell_type": "code",
      "metadata": {
        "id": "gO9H0K1S0GBm",
        "colab": {
          "base_uri": "https://localhost:8080/"
        },
        "outputId": "6371eba3-de2d-4824-85c0-f1e864b2b2b2"
      },
      "source": [
        "allyears=[]\n",
        "for i in [x for x in range(2014, 2021) if x != 2015]:\n",
        "    allyears.append(i)\n",
        "allyears"
      ],
      "execution_count": null,
      "outputs": [
        {
          "output_type": "execute_result",
          "data": {
            "text/plain": [
              "[2014, 2016, 2017, 2018, 2019, 2020]"
            ]
          },
          "metadata": {
            "tags": []
          },
          "execution_count": 22
        }
      ]
    },
    {
      "cell_type": "markdown",
      "metadata": {
        "id": "-sBYOIWGW1DD"
      },
      "source": [
        "## Data Exploration"
      ]
    },
    {
      "cell_type": "markdown",
      "metadata": {
        "id": "SzT7rD83W5VD"
      },
      "source": [
        "Now I want to start getting a sense of what's actually in this data, so I can determine how I want to analyze it."
      ]
    },
    {
      "cell_type": "markdown",
      "metadata": {
        "id": "rDxHerCT0GBm"
      },
      "source": [
        "### Graphing Trail Usage Over Time"
      ]
    },
    {
      "cell_type": "markdown",
      "metadata": {
        "id": "oQmewSVW0GBm"
      },
      "source": [
        "Now it's time to make my first graph. I will use my ```counts_across_years()``` function to graph how average hourly counts at noon for any given weekday have changed from 2014-2020. I am curious if 2020 will continue past trends or show a departure. "
      ]
    },
    {
      "cell_type": "code",
      "metadata": {
        "id": "KGVhPEiR0GBm",
        "colab": {
          "base_uri": "https://localhost:8080/",
          "height": 559
        },
        "outputId": "42c8ac0c-c084-4fd8-e754-10bbf16a072d"
      },
      "source": [
        "width = 12\n",
        "height = 10\n",
        "plt.figure(figsize=(width, height))\n",
        "fig = go.Figure()\n",
        "fig.add_trace(go.Scatter(x=allyears, y=counts_across_years('April', 'Monday', datetime.time(12, 0)),\n",
        "                    mode='lines',\n",
        "                    name='Mondays, 12-1 pm'))\n",
        "fig.add_trace(go.Scatter(x=allyears, y=counts_across_years('April', 'Tuesday', datetime.time(12, 0)),\n",
        "                    mode='lines',\n",
        "                    name='Tuesdays, 12-1 pm'))\n",
        "fig.add_trace(go.Scatter(x=allyears, y=counts_across_years('April', 'Wednesday', datetime.time(12, 0)),\n",
        "                    mode='lines',\n",
        "                    name='Wednesdays, 12-1 pm'))\n",
        "fig.add_trace(go.Scatter(x=allyears, y=counts_across_years('April', 'Thursday', datetime.time(12, 0)),\n",
        "                    mode='lines',\n",
        "                    name='Thursdays, 12-1 pm'))\n",
        "fig.add_trace(go.Scatter(x=allyears, y=counts_across_years('April', 'Friday', datetime.time(12, 0)),\n",
        "                    mode='lines',\n",
        "                    name='Fridays, 12-1 pm'))\n",
        "fig.update_layout(title='Average Park Activity During Different Days of the Week in April, Lunchtime',\n",
        "                   xaxis_title='Year',\n",
        "                   yaxis_title='Average Bike + Ped Count')\n",
        "fig.show()"
      ],
      "execution_count": null,
      "outputs": [
        {
          "output_type": "display_data",
          "data": {
            "text/html": [
              "<html>\n",
              "<head><meta charset=\"utf-8\" /></head>\n",
              "<body>\n",
              "    <div>\n",
              "            <script src=\"https://cdnjs.cloudflare.com/ajax/libs/mathjax/2.7.5/MathJax.js?config=TeX-AMS-MML_SVG\"></script><script type=\"text/javascript\">if (window.MathJax) {MathJax.Hub.Config({SVG: {font: \"STIX-Web\"}});}</script>\n",
              "                <script type=\"text/javascript\">window.PlotlyConfig = {MathJaxConfig: 'local'};</script>\n",
              "        <script src=\"https://cdn.plot.ly/plotly-latest.min.js\"></script>    \n",
              "            <div id=\"968c5d5a-6fde-4503-90cd-24db5cd89e2c\" class=\"plotly-graph-div\" style=\"height:525px; width:100%;\"></div>\n",
              "            <script type=\"text/javascript\">\n",
              "                \n",
              "                    window.PLOTLYENV=window.PLOTLYENV || {};\n",
              "                    \n",
              "                if (document.getElementById(\"968c5d5a-6fde-4503-90cd-24db5cd89e2c\")) {\n",
              "                    Plotly.newPlot(\n",
              "                        '968c5d5a-6fde-4503-90cd-24db5cd89e2c',\n",
              "                        [{\"mode\": \"lines\", \"name\": \"Mondays, 12-1 pm\", \"type\": \"scatter\", \"x\": [2014, 2016, 2017, 2018, 2019, 2020], \"y\": [318.0, 323.0, 274.0, 325.0, 326.8, 386.5]}, {\"mode\": \"lines\", \"name\": \"Tuesdays, 12-1 pm\", \"type\": \"scatter\", \"x\": [2014, 2016, 2017, 2018, 2019, 2020], \"y\": [286.6, 316.25, 347.25, 325.25, 314.2, 296.5]}, {\"mode\": \"lines\", \"name\": \"Wednesdays, 12-1 pm\", \"type\": \"scatter\", \"x\": [2014, 2016, 2017, 2018, 2019, 2020], \"y\": [229.2, 344.25, 178.0, 252.5, 255.25, 282.0]}, {\"mode\": \"lines\", \"name\": \"Thursdays, 12-1 pm\", \"type\": \"scatter\", \"x\": [2014, 2016, 2017, 2018, 2019, 2020], \"y\": [166.5, 326.5, 282.75, 288.5, 255.75, 326.8]}, {\"mode\": \"lines\", \"name\": \"Fridays, 12-1 pm\", \"type\": \"scatter\", \"x\": [2014, 2016, 2017, 2018, 2019, 2020], \"y\": [259.0, 277.0, 279.5, 244.25, 196.0, 334.5]}],\n",
              "                        {\"template\": {\"data\": {\"bar\": [{\"error_x\": {\"color\": \"#2a3f5f\"}, \"error_y\": {\"color\": \"#2a3f5f\"}, \"marker\": {\"line\": {\"color\": \"#E5ECF6\", \"width\": 0.5}}, \"type\": \"bar\"}], \"barpolar\": [{\"marker\": {\"line\": {\"color\": \"#E5ECF6\", \"width\": 0.5}}, \"type\": \"barpolar\"}], \"carpet\": [{\"aaxis\": {\"endlinecolor\": \"#2a3f5f\", \"gridcolor\": \"white\", \"linecolor\": \"white\", \"minorgridcolor\": \"white\", \"startlinecolor\": \"#2a3f5f\"}, \"baxis\": {\"endlinecolor\": \"#2a3f5f\", \"gridcolor\": \"white\", \"linecolor\": \"white\", \"minorgridcolor\": \"white\", \"startlinecolor\": \"#2a3f5f\"}, \"type\": \"carpet\"}], \"choropleth\": [{\"colorbar\": {\"outlinewidth\": 0, \"ticks\": \"\"}, \"type\": \"choropleth\"}], \"contour\": [{\"colorbar\": {\"outlinewidth\": 0, \"ticks\": \"\"}, \"colorscale\": [[0.0, \"#0d0887\"], [0.1111111111111111, \"#46039f\"], [0.2222222222222222, \"#7201a8\"], [0.3333333333333333, \"#9c179e\"], [0.4444444444444444, \"#bd3786\"], [0.5555555555555556, \"#d8576b\"], [0.6666666666666666, \"#ed7953\"], [0.7777777777777778, \"#fb9f3a\"], [0.8888888888888888, \"#fdca26\"], [1.0, \"#f0f921\"]], \"type\": \"contour\"}], \"contourcarpet\": [{\"colorbar\": {\"outlinewidth\": 0, \"ticks\": \"\"}, \"type\": \"contourcarpet\"}], \"heatmap\": [{\"colorbar\": {\"outlinewidth\": 0, \"ticks\": \"\"}, \"colorscale\": [[0.0, \"#0d0887\"], [0.1111111111111111, \"#46039f\"], [0.2222222222222222, \"#7201a8\"], [0.3333333333333333, \"#9c179e\"], [0.4444444444444444, \"#bd3786\"], [0.5555555555555556, \"#d8576b\"], [0.6666666666666666, \"#ed7953\"], [0.7777777777777778, \"#fb9f3a\"], [0.8888888888888888, \"#fdca26\"], [1.0, \"#f0f921\"]], \"type\": \"heatmap\"}], \"heatmapgl\": [{\"colorbar\": {\"outlinewidth\": 0, \"ticks\": \"\"}, \"colorscale\": [[0.0, \"#0d0887\"], [0.1111111111111111, \"#46039f\"], [0.2222222222222222, \"#7201a8\"], [0.3333333333333333, \"#9c179e\"], [0.4444444444444444, \"#bd3786\"], [0.5555555555555556, \"#d8576b\"], [0.6666666666666666, \"#ed7953\"], [0.7777777777777778, \"#fb9f3a\"], [0.8888888888888888, \"#fdca26\"], [1.0, \"#f0f921\"]], \"type\": \"heatmapgl\"}], \"histogram\": [{\"marker\": {\"colorbar\": {\"outlinewidth\": 0, \"ticks\": \"\"}}, \"type\": \"histogram\"}], \"histogram2d\": [{\"colorbar\": {\"outlinewidth\": 0, \"ticks\": \"\"}, \"colorscale\": [[0.0, \"#0d0887\"], [0.1111111111111111, \"#46039f\"], [0.2222222222222222, \"#7201a8\"], [0.3333333333333333, \"#9c179e\"], [0.4444444444444444, \"#bd3786\"], [0.5555555555555556, \"#d8576b\"], [0.6666666666666666, \"#ed7953\"], [0.7777777777777778, \"#fb9f3a\"], [0.8888888888888888, \"#fdca26\"], [1.0, \"#f0f921\"]], \"type\": \"histogram2d\"}], \"histogram2dcontour\": [{\"colorbar\": {\"outlinewidth\": 0, \"ticks\": \"\"}, \"colorscale\": [[0.0, \"#0d0887\"], [0.1111111111111111, \"#46039f\"], [0.2222222222222222, \"#7201a8\"], [0.3333333333333333, \"#9c179e\"], [0.4444444444444444, \"#bd3786\"], [0.5555555555555556, \"#d8576b\"], [0.6666666666666666, \"#ed7953\"], [0.7777777777777778, \"#fb9f3a\"], [0.8888888888888888, \"#fdca26\"], [1.0, \"#f0f921\"]], \"type\": \"histogram2dcontour\"}], \"mesh3d\": [{\"colorbar\": {\"outlinewidth\": 0, \"ticks\": \"\"}, \"type\": \"mesh3d\"}], \"parcoords\": [{\"line\": {\"colorbar\": {\"outlinewidth\": 0, \"ticks\": \"\"}}, \"type\": \"parcoords\"}], \"pie\": [{\"automargin\": true, \"type\": \"pie\"}], \"scatter\": [{\"marker\": {\"colorbar\": {\"outlinewidth\": 0, \"ticks\": \"\"}}, \"type\": \"scatter\"}], \"scatter3d\": [{\"line\": {\"colorbar\": {\"outlinewidth\": 0, \"ticks\": \"\"}}, \"marker\": {\"colorbar\": {\"outlinewidth\": 0, \"ticks\": \"\"}}, \"type\": \"scatter3d\"}], \"scattercarpet\": [{\"marker\": {\"colorbar\": {\"outlinewidth\": 0, \"ticks\": \"\"}}, \"type\": \"scattercarpet\"}], \"scattergeo\": [{\"marker\": {\"colorbar\": {\"outlinewidth\": 0, \"ticks\": \"\"}}, \"type\": \"scattergeo\"}], \"scattergl\": [{\"marker\": {\"colorbar\": {\"outlinewidth\": 0, \"ticks\": \"\"}}, \"type\": \"scattergl\"}], \"scattermapbox\": [{\"marker\": {\"colorbar\": {\"outlinewidth\": 0, \"ticks\": \"\"}}, \"type\": \"scattermapbox\"}], \"scatterpolar\": [{\"marker\": {\"colorbar\": {\"outlinewidth\": 0, \"ticks\": \"\"}}, \"type\": \"scatterpolar\"}], \"scatterpolargl\": [{\"marker\": {\"colorbar\": {\"outlinewidth\": 0, \"ticks\": \"\"}}, \"type\": \"scatterpolargl\"}], \"scatterternary\": [{\"marker\": {\"colorbar\": {\"outlinewidth\": 0, \"ticks\": \"\"}}, \"type\": \"scatterternary\"}], \"surface\": [{\"colorbar\": {\"outlinewidth\": 0, \"ticks\": \"\"}, \"colorscale\": [[0.0, \"#0d0887\"], [0.1111111111111111, \"#46039f\"], [0.2222222222222222, \"#7201a8\"], [0.3333333333333333, \"#9c179e\"], [0.4444444444444444, \"#bd3786\"], [0.5555555555555556, \"#d8576b\"], [0.6666666666666666, \"#ed7953\"], [0.7777777777777778, \"#fb9f3a\"], [0.8888888888888888, \"#fdca26\"], [1.0, \"#f0f921\"]], \"type\": \"surface\"}], \"table\": [{\"cells\": {\"fill\": {\"color\": \"#EBF0F8\"}, \"line\": {\"color\": \"white\"}}, \"header\": {\"fill\": {\"color\": \"#C8D4E3\"}, \"line\": {\"color\": \"white\"}}, \"type\": \"table\"}]}, \"layout\": {\"annotationdefaults\": {\"arrowcolor\": \"#2a3f5f\", \"arrowhead\": 0, \"arrowwidth\": 1}, \"coloraxis\": {\"colorbar\": {\"outlinewidth\": 0, \"ticks\": \"\"}}, \"colorscale\": {\"diverging\": [[0, \"#8e0152\"], [0.1, \"#c51b7d\"], [0.2, \"#de77ae\"], [0.3, \"#f1b6da\"], [0.4, \"#fde0ef\"], [0.5, \"#f7f7f7\"], [0.6, \"#e6f5d0\"], [0.7, \"#b8e186\"], [0.8, \"#7fbc41\"], [0.9, \"#4d9221\"], [1, \"#276419\"]], \"sequential\": [[0.0, \"#0d0887\"], [0.1111111111111111, \"#46039f\"], [0.2222222222222222, \"#7201a8\"], [0.3333333333333333, \"#9c179e\"], [0.4444444444444444, \"#bd3786\"], [0.5555555555555556, \"#d8576b\"], [0.6666666666666666, \"#ed7953\"], [0.7777777777777778, \"#fb9f3a\"], [0.8888888888888888, \"#fdca26\"], [1.0, \"#f0f921\"]], \"sequentialminus\": [[0.0, \"#0d0887\"], [0.1111111111111111, \"#46039f\"], [0.2222222222222222, \"#7201a8\"], [0.3333333333333333, \"#9c179e\"], [0.4444444444444444, \"#bd3786\"], [0.5555555555555556, \"#d8576b\"], [0.6666666666666666, \"#ed7953\"], [0.7777777777777778, \"#fb9f3a\"], [0.8888888888888888, \"#fdca26\"], [1.0, \"#f0f921\"]]}, \"colorway\": [\"#636efa\", \"#EF553B\", \"#00cc96\", \"#ab63fa\", \"#FFA15A\", \"#19d3f3\", \"#FF6692\", \"#B6E880\", \"#FF97FF\", \"#FECB52\"], \"font\": {\"color\": \"#2a3f5f\"}, \"geo\": {\"bgcolor\": \"white\", \"lakecolor\": \"white\", \"landcolor\": \"#E5ECF6\", \"showlakes\": true, \"showland\": true, \"subunitcolor\": \"white\"}, \"hoverlabel\": {\"align\": \"left\"}, \"hovermode\": \"closest\", \"mapbox\": {\"style\": \"light\"}, \"paper_bgcolor\": \"white\", \"plot_bgcolor\": \"#E5ECF6\", \"polar\": {\"angularaxis\": {\"gridcolor\": \"white\", \"linecolor\": \"white\", \"ticks\": \"\"}, \"bgcolor\": \"#E5ECF6\", \"radialaxis\": {\"gridcolor\": \"white\", \"linecolor\": \"white\", \"ticks\": \"\"}}, \"scene\": {\"xaxis\": {\"backgroundcolor\": \"#E5ECF6\", \"gridcolor\": \"white\", \"gridwidth\": 2, \"linecolor\": \"white\", \"showbackground\": true, \"ticks\": \"\", \"zerolinecolor\": \"white\"}, \"yaxis\": {\"backgroundcolor\": \"#E5ECF6\", \"gridcolor\": \"white\", \"gridwidth\": 2, \"linecolor\": \"white\", \"showbackground\": true, \"ticks\": \"\", \"zerolinecolor\": \"white\"}, \"zaxis\": {\"backgroundcolor\": \"#E5ECF6\", \"gridcolor\": \"white\", \"gridwidth\": 2, \"linecolor\": \"white\", \"showbackground\": true, \"ticks\": \"\", \"zerolinecolor\": \"white\"}}, \"shapedefaults\": {\"line\": {\"color\": \"#2a3f5f\"}}, \"ternary\": {\"aaxis\": {\"gridcolor\": \"white\", \"linecolor\": \"white\", \"ticks\": \"\"}, \"baxis\": {\"gridcolor\": \"white\", \"linecolor\": \"white\", \"ticks\": \"\"}, \"bgcolor\": \"#E5ECF6\", \"caxis\": {\"gridcolor\": \"white\", \"linecolor\": \"white\", \"ticks\": \"\"}}, \"title\": {\"x\": 0.05}, \"xaxis\": {\"automargin\": true, \"gridcolor\": \"white\", \"linecolor\": \"white\", \"ticks\": \"\", \"title\": {\"standoff\": 15}, \"zerolinecolor\": \"white\", \"zerolinewidth\": 2}, \"yaxis\": {\"automargin\": true, \"gridcolor\": \"white\", \"linecolor\": \"white\", \"ticks\": \"\", \"title\": {\"standoff\": 15}, \"zerolinecolor\": \"white\", \"zerolinewidth\": 2}}}, \"title\": {\"text\": \"Average Park Activity During Different Days of the Week in April, Lunchtime\"}, \"xaxis\": {\"title\": {\"text\": \"Year\"}}, \"yaxis\": {\"title\": {\"text\": \"Average Bike + Ped Count\"}}},\n",
              "                        {\"responsive\": true}\n",
              "                    ).then(function(){\n",
              "                            \n",
              "var gd = document.getElementById('968c5d5a-6fde-4503-90cd-24db5cd89e2c');\n",
              "var x = new MutationObserver(function (mutations, observer) {{\n",
              "        var display = window.getComputedStyle(gd).display;\n",
              "        if (!display || display === 'none') {{\n",
              "            console.log([gd, 'removed!']);\n",
              "            Plotly.purge(gd);\n",
              "            observer.disconnect();\n",
              "        }}\n",
              "}});\n",
              "\n",
              "// Listen for the removal of the full notebook cells\n",
              "var notebookContainer = gd.closest('#notebook-container');\n",
              "if (notebookContainer) {{\n",
              "    x.observe(notebookContainer, {childList: true});\n",
              "}}\n",
              "\n",
              "// Listen for the clearing of the current output cell\n",
              "var outputEl = gd.closest('.output');\n",
              "if (outputEl) {{\n",
              "    x.observe(outputEl, {childList: true});\n",
              "}}\n",
              "\n",
              "                        })\n",
              "                };\n",
              "                \n",
              "            </script>\n",
              "        </div>\n",
              "</body>\n",
              "</html>"
            ]
          },
          "metadata": {
            "tags": []
          }
        },
        {
          "output_type": "display_data",
          "data": {
            "text/plain": [
              "<Figure size 864x720 with 0 Axes>"
            ]
          },
          "metadata": {
            "tags": []
          }
        }
      ]
    },
    {
      "cell_type": "markdown",
      "metadata": {
        "id": "zU-JlIDP0GBn"
      },
      "source": [
        "This data suggests that park usage on any given weekday in April 2020 is higher compared to the same weekday in 2019, except on Tuesdays, but compared to prior years there's no recognizable pattern. This is just the lunch hour though. Will this pattern hold after work hours?"
      ]
    },
    {
      "cell_type": "code",
      "metadata": {
        "id": "un8Do8IN0GBn",
        "colab": {
          "base_uri": "https://localhost:8080/",
          "height": 542
        },
        "outputId": "169e6058-67dc-451c-8922-41c3e09fff13"
      },
      "source": [
        "fig = go.Figure()\n",
        "fig.add_trace(go.Scatter(x=allyears, y=counts_across_years('April', 'Monday', datetime.time(17, 0)),\n",
        "                    mode='lines',\n",
        "                    name='Mondays, 5-6 pm'))\n",
        "fig.add_trace(go.Scatter(x=allyears, y=counts_across_years('April', 'Tuesday', datetime.time(17, 0)),\n",
        "                    mode='lines',\n",
        "                    name='Tuesdays, 5-6 pm'))\n",
        "fig.add_trace(go.Scatter(x=allyears, y=counts_across_years('April', 'Wednesday', datetime.time(17, 0)),\n",
        "                    mode='lines',\n",
        "                    name='Wednesdays, 5-6 pm'))\n",
        "fig.add_trace(go.Scatter(x=allyears, y=counts_across_years('April', 'Thursday', datetime.time(17, 0)),\n",
        "                    mode='lines',\n",
        "                    name='Thursdays, 5-6 pm'))\n",
        "fig.add_trace(go.Scatter(x=allyears, y=counts_across_years('April', 'Friday', datetime.time(17, 0)),\n",
        "                    mode='lines',\n",
        "                    name='Fridays, 5-6 pm'))\n",
        "fig.add_trace(go.Scatter(x=allyears, y=counts_across_years('April', 'Saturday', datetime.time(17, 0)),\n",
        "                    mode='lines',\n",
        "                    name='Saturdays, 5-6 pm'))\n",
        "\n",
        "fig.update_layout(title='Average Park Activity During Different Days of the Week in March, Evenings',\n",
        "                   xaxis_title='Year',\n",
        "                   yaxis_title='Average Bike + Ped Count')\n",
        "fig.show()"
      ],
      "execution_count": null,
      "outputs": [
        {
          "output_type": "display_data",
          "data": {
            "text/html": [
              "<html>\n",
              "<head><meta charset=\"utf-8\" /></head>\n",
              "<body>\n",
              "    <div>\n",
              "            <script src=\"https://cdnjs.cloudflare.com/ajax/libs/mathjax/2.7.5/MathJax.js?config=TeX-AMS-MML_SVG\"></script><script type=\"text/javascript\">if (window.MathJax) {MathJax.Hub.Config({SVG: {font: \"STIX-Web\"}});}</script>\n",
              "                <script type=\"text/javascript\">window.PlotlyConfig = {MathJaxConfig: 'local'};</script>\n",
              "        <script src=\"https://cdn.plot.ly/plotly-latest.min.js\"></script>    \n",
              "            <div id=\"50af977b-f03d-4990-ba95-0b6f5be76443\" class=\"plotly-graph-div\" style=\"height:525px; width:100%;\"></div>\n",
              "            <script type=\"text/javascript\">\n",
              "                \n",
              "                    window.PLOTLYENV=window.PLOTLYENV || {};\n",
              "                    \n",
              "                if (document.getElementById(\"50af977b-f03d-4990-ba95-0b6f5be76443\")) {\n",
              "                    Plotly.newPlot(\n",
              "                        '50af977b-f03d-4990-ba95-0b6f5be76443',\n",
              "                        [{\"mode\": \"lines\", \"name\": \"Mondays, 5-6 pm\", \"type\": \"scatter\", \"x\": [2014, 2016, 2017, 2018, 2019, 2020], \"y\": [557.25, 486.25, 378.25, 485.6, 770.4, 784.25]}, {\"mode\": \"lines\", \"name\": \"Tuesdays, 5-6 pm\", \"type\": \"scatter\", \"x\": [2014, 2016, 2017, 2018, 2019, 2020], \"y\": [421.8, 421.75, 400.5, 512.0, 842.8, 622.0]}, {\"mode\": \"lines\", \"name\": \"Wednesdays, 5-6 pm\", \"type\": \"scatter\", \"x\": [2014, 2016, 2017, 2018, 2019, 2020], \"y\": [411.8, 527.75, 260.75, 416.0, 806.25, 589.4]}, {\"mode\": \"lines\", \"name\": \"Thursdays, 5-6 pm\", \"type\": \"scatter\", \"x\": [2014, 2016, 2017, 2018, 2019, 2020], \"y\": [266.0, 552.75, 410.25, 444.75, 430.25, 590.2]}, {\"mode\": \"lines\", \"name\": \"Fridays, 5-6 pm\", \"type\": \"scatter\", \"x\": [2014, 2016, 2017, 2018, 2019, 2020], \"y\": [341.0, 458.6, 410.75, 353.75, 348.0, 501.0]}, {\"mode\": \"lines\", \"name\": \"Saturdays, 5-6 pm\", \"type\": \"scatter\", \"x\": [2014, 2016, 2017, 2018, 2019, 2020], \"y\": [151.25, 466.6, 233.0, 107.5, 632.0, 544.5]}],\n",
              "                        {\"template\": {\"data\": {\"bar\": [{\"error_x\": {\"color\": \"#2a3f5f\"}, \"error_y\": {\"color\": \"#2a3f5f\"}, \"marker\": {\"line\": {\"color\": \"#E5ECF6\", \"width\": 0.5}}, \"type\": \"bar\"}], \"barpolar\": [{\"marker\": {\"line\": {\"color\": \"#E5ECF6\", \"width\": 0.5}}, \"type\": \"barpolar\"}], \"carpet\": [{\"aaxis\": {\"endlinecolor\": \"#2a3f5f\", \"gridcolor\": \"white\", \"linecolor\": \"white\", \"minorgridcolor\": \"white\", \"startlinecolor\": \"#2a3f5f\"}, \"baxis\": {\"endlinecolor\": \"#2a3f5f\", \"gridcolor\": \"white\", \"linecolor\": \"white\", \"minorgridcolor\": \"white\", \"startlinecolor\": \"#2a3f5f\"}, \"type\": \"carpet\"}], \"choropleth\": [{\"colorbar\": {\"outlinewidth\": 0, \"ticks\": \"\"}, \"type\": \"choropleth\"}], \"contour\": [{\"colorbar\": {\"outlinewidth\": 0, \"ticks\": \"\"}, \"colorscale\": [[0.0, \"#0d0887\"], [0.1111111111111111, \"#46039f\"], [0.2222222222222222, \"#7201a8\"], [0.3333333333333333, \"#9c179e\"], [0.4444444444444444, \"#bd3786\"], [0.5555555555555556, \"#d8576b\"], [0.6666666666666666, \"#ed7953\"], [0.7777777777777778, \"#fb9f3a\"], [0.8888888888888888, \"#fdca26\"], [1.0, \"#f0f921\"]], \"type\": \"contour\"}], \"contourcarpet\": [{\"colorbar\": {\"outlinewidth\": 0, \"ticks\": \"\"}, \"type\": \"contourcarpet\"}], \"heatmap\": [{\"colorbar\": {\"outlinewidth\": 0, \"ticks\": \"\"}, \"colorscale\": [[0.0, \"#0d0887\"], [0.1111111111111111, \"#46039f\"], [0.2222222222222222, \"#7201a8\"], [0.3333333333333333, \"#9c179e\"], [0.4444444444444444, \"#bd3786\"], [0.5555555555555556, \"#d8576b\"], [0.6666666666666666, \"#ed7953\"], [0.7777777777777778, \"#fb9f3a\"], [0.8888888888888888, \"#fdca26\"], [1.0, \"#f0f921\"]], \"type\": \"heatmap\"}], \"heatmapgl\": [{\"colorbar\": {\"outlinewidth\": 0, \"ticks\": \"\"}, \"colorscale\": [[0.0, \"#0d0887\"], [0.1111111111111111, \"#46039f\"], [0.2222222222222222, \"#7201a8\"], [0.3333333333333333, \"#9c179e\"], [0.4444444444444444, \"#bd3786\"], [0.5555555555555556, \"#d8576b\"], [0.6666666666666666, \"#ed7953\"], [0.7777777777777778, \"#fb9f3a\"], [0.8888888888888888, \"#fdca26\"], [1.0, \"#f0f921\"]], \"type\": \"heatmapgl\"}], \"histogram\": [{\"marker\": {\"colorbar\": {\"outlinewidth\": 0, \"ticks\": \"\"}}, \"type\": \"histogram\"}], \"histogram2d\": [{\"colorbar\": {\"outlinewidth\": 0, \"ticks\": \"\"}, \"colorscale\": [[0.0, \"#0d0887\"], [0.1111111111111111, \"#46039f\"], [0.2222222222222222, \"#7201a8\"], [0.3333333333333333, \"#9c179e\"], [0.4444444444444444, \"#bd3786\"], [0.5555555555555556, \"#d8576b\"], [0.6666666666666666, \"#ed7953\"], [0.7777777777777778, \"#fb9f3a\"], [0.8888888888888888, \"#fdca26\"], [1.0, \"#f0f921\"]], \"type\": \"histogram2d\"}], \"histogram2dcontour\": [{\"colorbar\": {\"outlinewidth\": 0, \"ticks\": \"\"}, \"colorscale\": [[0.0, \"#0d0887\"], [0.1111111111111111, \"#46039f\"], [0.2222222222222222, \"#7201a8\"], [0.3333333333333333, \"#9c179e\"], [0.4444444444444444, \"#bd3786\"], [0.5555555555555556, \"#d8576b\"], [0.6666666666666666, \"#ed7953\"], [0.7777777777777778, \"#fb9f3a\"], [0.8888888888888888, \"#fdca26\"], [1.0, \"#f0f921\"]], \"type\": \"histogram2dcontour\"}], \"mesh3d\": [{\"colorbar\": {\"outlinewidth\": 0, \"ticks\": \"\"}, \"type\": \"mesh3d\"}], \"parcoords\": [{\"line\": {\"colorbar\": {\"outlinewidth\": 0, \"ticks\": \"\"}}, \"type\": \"parcoords\"}], \"pie\": [{\"automargin\": true, \"type\": \"pie\"}], \"scatter\": [{\"marker\": {\"colorbar\": {\"outlinewidth\": 0, \"ticks\": \"\"}}, \"type\": \"scatter\"}], \"scatter3d\": [{\"line\": {\"colorbar\": {\"outlinewidth\": 0, \"ticks\": \"\"}}, \"marker\": {\"colorbar\": {\"outlinewidth\": 0, \"ticks\": \"\"}}, \"type\": \"scatter3d\"}], \"scattercarpet\": [{\"marker\": {\"colorbar\": {\"outlinewidth\": 0, \"ticks\": \"\"}}, \"type\": \"scattercarpet\"}], \"scattergeo\": [{\"marker\": {\"colorbar\": {\"outlinewidth\": 0, \"ticks\": \"\"}}, \"type\": \"scattergeo\"}], \"scattergl\": [{\"marker\": {\"colorbar\": {\"outlinewidth\": 0, \"ticks\": \"\"}}, \"type\": \"scattergl\"}], \"scattermapbox\": [{\"marker\": {\"colorbar\": {\"outlinewidth\": 0, \"ticks\": \"\"}}, \"type\": \"scattermapbox\"}], \"scatterpolar\": [{\"marker\": {\"colorbar\": {\"outlinewidth\": 0, \"ticks\": \"\"}}, \"type\": \"scatterpolar\"}], \"scatterpolargl\": [{\"marker\": {\"colorbar\": {\"outlinewidth\": 0, \"ticks\": \"\"}}, \"type\": \"scatterpolargl\"}], \"scatterternary\": [{\"marker\": {\"colorbar\": {\"outlinewidth\": 0, \"ticks\": \"\"}}, \"type\": \"scatterternary\"}], \"surface\": [{\"colorbar\": {\"outlinewidth\": 0, \"ticks\": \"\"}, \"colorscale\": [[0.0, \"#0d0887\"], [0.1111111111111111, \"#46039f\"], [0.2222222222222222, \"#7201a8\"], [0.3333333333333333, \"#9c179e\"], [0.4444444444444444, \"#bd3786\"], [0.5555555555555556, \"#d8576b\"], [0.6666666666666666, \"#ed7953\"], [0.7777777777777778, \"#fb9f3a\"], [0.8888888888888888, \"#fdca26\"], [1.0, \"#f0f921\"]], \"type\": \"surface\"}], \"table\": [{\"cells\": {\"fill\": {\"color\": \"#EBF0F8\"}, \"line\": {\"color\": \"white\"}}, \"header\": {\"fill\": {\"color\": \"#C8D4E3\"}, \"line\": {\"color\": \"white\"}}, \"type\": \"table\"}]}, \"layout\": {\"annotationdefaults\": {\"arrowcolor\": \"#2a3f5f\", \"arrowhead\": 0, \"arrowwidth\": 1}, \"coloraxis\": {\"colorbar\": {\"outlinewidth\": 0, \"ticks\": \"\"}}, \"colorscale\": {\"diverging\": [[0, \"#8e0152\"], [0.1, \"#c51b7d\"], [0.2, \"#de77ae\"], [0.3, \"#f1b6da\"], [0.4, \"#fde0ef\"], [0.5, \"#f7f7f7\"], [0.6, \"#e6f5d0\"], [0.7, \"#b8e186\"], [0.8, \"#7fbc41\"], [0.9, \"#4d9221\"], [1, \"#276419\"]], \"sequential\": [[0.0, \"#0d0887\"], [0.1111111111111111, \"#46039f\"], [0.2222222222222222, \"#7201a8\"], [0.3333333333333333, \"#9c179e\"], [0.4444444444444444, \"#bd3786\"], [0.5555555555555556, \"#d8576b\"], [0.6666666666666666, \"#ed7953\"], [0.7777777777777778, \"#fb9f3a\"], [0.8888888888888888, \"#fdca26\"], [1.0, \"#f0f921\"]], \"sequentialminus\": [[0.0, \"#0d0887\"], [0.1111111111111111, \"#46039f\"], [0.2222222222222222, \"#7201a8\"], [0.3333333333333333, \"#9c179e\"], [0.4444444444444444, \"#bd3786\"], [0.5555555555555556, \"#d8576b\"], [0.6666666666666666, \"#ed7953\"], [0.7777777777777778, \"#fb9f3a\"], [0.8888888888888888, \"#fdca26\"], [1.0, \"#f0f921\"]]}, \"colorway\": [\"#636efa\", \"#EF553B\", \"#00cc96\", \"#ab63fa\", \"#FFA15A\", \"#19d3f3\", \"#FF6692\", \"#B6E880\", \"#FF97FF\", \"#FECB52\"], \"font\": {\"color\": \"#2a3f5f\"}, \"geo\": {\"bgcolor\": \"white\", \"lakecolor\": \"white\", \"landcolor\": \"#E5ECF6\", \"showlakes\": true, \"showland\": true, \"subunitcolor\": \"white\"}, \"hoverlabel\": {\"align\": \"left\"}, \"hovermode\": \"closest\", \"mapbox\": {\"style\": \"light\"}, \"paper_bgcolor\": \"white\", \"plot_bgcolor\": \"#E5ECF6\", \"polar\": {\"angularaxis\": {\"gridcolor\": \"white\", \"linecolor\": \"white\", \"ticks\": \"\"}, \"bgcolor\": \"#E5ECF6\", \"radialaxis\": {\"gridcolor\": \"white\", \"linecolor\": \"white\", \"ticks\": \"\"}}, \"scene\": {\"xaxis\": {\"backgroundcolor\": \"#E5ECF6\", \"gridcolor\": \"white\", \"gridwidth\": 2, \"linecolor\": \"white\", \"showbackground\": true, \"ticks\": \"\", \"zerolinecolor\": \"white\"}, \"yaxis\": {\"backgroundcolor\": \"#E5ECF6\", \"gridcolor\": \"white\", \"gridwidth\": 2, \"linecolor\": \"white\", \"showbackground\": true, \"ticks\": \"\", \"zerolinecolor\": \"white\"}, \"zaxis\": {\"backgroundcolor\": \"#E5ECF6\", \"gridcolor\": \"white\", \"gridwidth\": 2, \"linecolor\": \"white\", \"showbackground\": true, \"ticks\": \"\", \"zerolinecolor\": \"white\"}}, \"shapedefaults\": {\"line\": {\"color\": \"#2a3f5f\"}}, \"ternary\": {\"aaxis\": {\"gridcolor\": \"white\", \"linecolor\": \"white\", \"ticks\": \"\"}, \"baxis\": {\"gridcolor\": \"white\", \"linecolor\": \"white\", \"ticks\": \"\"}, \"bgcolor\": \"#E5ECF6\", \"caxis\": {\"gridcolor\": \"white\", \"linecolor\": \"white\", \"ticks\": \"\"}}, \"title\": {\"x\": 0.05}, \"xaxis\": {\"automargin\": true, \"gridcolor\": \"white\", \"linecolor\": \"white\", \"ticks\": \"\", \"title\": {\"standoff\": 15}, \"zerolinecolor\": \"white\", \"zerolinewidth\": 2}, \"yaxis\": {\"automargin\": true, \"gridcolor\": \"white\", \"linecolor\": \"white\", \"ticks\": \"\", \"title\": {\"standoff\": 15}, \"zerolinecolor\": \"white\", \"zerolinewidth\": 2}}}, \"title\": {\"text\": \"Average Park Activity During Different Days of the Week in March, Evenings\"}, \"xaxis\": {\"title\": {\"text\": \"Year\"}}, \"yaxis\": {\"title\": {\"text\": \"Average Bike + Ped Count\"}}},\n",
              "                        {\"responsive\": true}\n",
              "                    ).then(function(){\n",
              "                            \n",
              "var gd = document.getElementById('50af977b-f03d-4990-ba95-0b6f5be76443');\n",
              "var x = new MutationObserver(function (mutations, observer) {{\n",
              "        var display = window.getComputedStyle(gd).display;\n",
              "        if (!display || display === 'none') {{\n",
              "            console.log([gd, 'removed!']);\n",
              "            Plotly.purge(gd);\n",
              "            observer.disconnect();\n",
              "        }}\n",
              "}});\n",
              "\n",
              "// Listen for the removal of the full notebook cells\n",
              "var notebookContainer = gd.closest('#notebook-container');\n",
              "if (notebookContainer) {{\n",
              "    x.observe(notebookContainer, {childList: true});\n",
              "}}\n",
              "\n",
              "// Listen for the clearing of the current output cell\n",
              "var outputEl = gd.closest('.output');\n",
              "if (outputEl) {{\n",
              "    x.observe(outputEl, {childList: true});\n",
              "}}\n",
              "\n",
              "                        })\n",
              "                };\n",
              "                \n",
              "            </script>\n",
              "        </div>\n",
              "</body>\n",
              "</html>"
            ]
          },
          "metadata": {
            "tags": []
          }
        }
      ]
    },
    {
      "cell_type": "markdown",
      "metadata": {
        "id": "EqbcDI1j0GBn"
      },
      "source": [
        "Interestingly, the same pattern doesn't hold from the 5 to 6 pm hour, at least not every day. While Tuesday and Wednesday afternoons see a steep drop from 2019, Thursday and Fridays see increases. But while in 2019 there was  noticeably higher usage earlier in the week, in 2020 usage is converging on all days except Monday. Perhaps the pandemic has wiped away most of the weekly rhythms that distinguish one weekday from another. "
      ]
    },
    {
      "cell_type": "markdown",
      "metadata": {
        "id": "DwzGSEV-0GBo"
      },
      "source": [
        "Now I'd like to get a sense of how usage varies throughout the day. This could help people determine the least crowded time to visit the park, for example. The function below takes a month, year, and weekday (for example, Fridays in March 2020) and returns average counts for each hour: average counts at 10am, average counts at 11am, etc."
      ]
    },
    {
      "cell_type": "code",
      "metadata": {
        "colab": {
          "base_uri": "https://localhost:8080/"
        },
        "id": "6kxJtHSD0GBo",
        "outputId": "db5c6ac8-fcf9-4831-bbc9-0eb7bc1c2d18"
      },
      "source": [
        "def monthly_average_by_hour(month, year, weekday):\n",
        "    hourly_average=[]\n",
        "    hourlist = sorted(unique(APIrecords, 'Time'))\n",
        "    for hour in hourlist:\n",
        "        hourly_average.append(hourly_average_by_day(month, year, weekday, hour))\n",
        "    return hourly_average\n",
        "monthly_average_by_hour('April', 2020, 'Friday')\n",
        "#it would be best if this were a dictionary so we could ensure keys and values are matched up."
      ],
      "execution_count": null,
      "outputs": [
        {
          "output_type": "execute_result",
          "data": {
            "text/plain": [
              "[12.25,\n",
              " 4.0,\n",
              " 4.75,\n",
              " 2.25,\n",
              " 8.75,\n",
              " 20.0,\n",
              " 112.75,\n",
              " 204.0,\n",
              " 188.75,\n",
              " 210.5,\n",
              " 241.0,\n",
              " 282.75,\n",
              " 334.5,\n",
              " 371.0,\n",
              " 350.0,\n",
              " 403.75,\n",
              " 436.75,\n",
              " 501.0,\n",
              " 529.0,\n",
              " 342.75,\n",
              " 128.0,\n",
              " 40.5,\n",
              " 29.5,\n",
              " 10.0]"
            ]
          },
          "metadata": {
            "tags": []
          },
          "execution_count": 25
        }
      ]
    },
    {
      "cell_type": "markdown",
      "metadata": {
        "id": "8_tqOM1s0GBo"
      },
      "source": [
        "That data looks about right, based on what I've observed on various of my own walks! Usage peaks in late afternoon when people get off work and it is warmer. For now I'm going to apply this function to different years in the dataset to compare trends year over year. But instead of Friday, I'll graph Wednesday, because in transportation terms you get a better picture of people's habits if you choose data in the middle of the week. "
      ]
    },
    {
      "cell_type": "code",
      "metadata": {
        "id": "QLOfxhL50GBo",
        "colab": {
          "base_uri": "https://localhost:8080/",
          "height": 559
        },
        "outputId": "6ad3c33f-595b-4de5-98ca-4e65edac893b"
      },
      "source": [
        "plt.figure(figsize=(width, height))\n",
        "fig = go.Figure()\n",
        "fig.add_trace(go.Scatter(x=alltimes, y=monthly_average_by_hour('April', 2020, 'Wednesday'),\n",
        "                    mode='lines',\n",
        "                    name='2020'))\n",
        "fig.add_trace(go.Scatter(x=alltimes, y=monthly_average_by_hour('April', 2019, 'Wednesday'),\n",
        "                    mode='lines',\n",
        "                    name='2019'))\n",
        "fig.add_trace(go.Scatter(x=alltimes, y=monthly_average_by_hour('April', 2018, 'Wednesday'),\n",
        "                    mode='lines',\n",
        "                    name='2018'))\n",
        "fig.add_trace(go.Scatter(x=alltimes, y=monthly_average_by_hour('April', 2017, 'Wednesday'),\n",
        "                    mode='lines',\n",
        "                    name='2017'))\n",
        "fig.add_trace(go.Scatter(x=alltimes, y=monthly_average_by_hour('April', 2016, 'Wednesday'),\n",
        "                    mode='lines',\n",
        "                    name='2016'))\n",
        "fig.update_layout(title='Average Hourly Park Activity for Wednesdays in April',\n",
        "                   xaxis_title='Hour of Day',\n",
        "                   yaxis_title='Average Bike + Ped Count')\n",
        "fig.show()"
      ],
      "execution_count": null,
      "outputs": [
        {
          "output_type": "display_data",
          "data": {
            "text/html": [
              "<html>\n",
              "<head><meta charset=\"utf-8\" /></head>\n",
              "<body>\n",
              "    <div>\n",
              "            <script src=\"https://cdnjs.cloudflare.com/ajax/libs/mathjax/2.7.5/MathJax.js?config=TeX-AMS-MML_SVG\"></script><script type=\"text/javascript\">if (window.MathJax) {MathJax.Hub.Config({SVG: {font: \"STIX-Web\"}});}</script>\n",
              "                <script type=\"text/javascript\">window.PlotlyConfig = {MathJaxConfig: 'local'};</script>\n",
              "        <script src=\"https://cdn.plot.ly/plotly-latest.min.js\"></script>    \n",
              "            <div id=\"a67883c8-19bb-4705-962c-297586a70dd6\" class=\"plotly-graph-div\" style=\"height:525px; width:100%;\"></div>\n",
              "            <script type=\"text/javascript\">\n",
              "                \n",
              "                    window.PLOTLYENV=window.PLOTLYENV || {};\n",
              "                    \n",
              "                if (document.getElementById(\"a67883c8-19bb-4705-962c-297586a70dd6\")) {\n",
              "                    Plotly.newPlot(\n",
              "                        'a67883c8-19bb-4705-962c-297586a70dd6',\n",
              "                        [{\"mode\": \"lines\", \"name\": \"2020\", \"type\": \"scatter\", \"x\": [\"00:00:00\", \"01:00:00\", \"02:00:00\", \"03:00:00\", \"04:00:00\", \"05:00:00\", \"06:00:00\", \"07:00:00\", \"08:00:00\", \"09:00:00\", \"10:00:00\", \"11:00:00\", \"12:00:00\", \"13:00:00\", \"14:00:00\", \"15:00:00\", \"16:00:00\", \"17:00:00\", \"18:00:00\", \"19:00:00\", \"20:00:00\", \"21:00:00\", \"22:00:00\", \"23:00:00\"], \"y\": [3.2, 2.6, 1.0, 6.8, 3.0, 16.2, 95.8, 160.0, 157.8, 130.2, 150.8, 214.4, 282.0, 286.6, 334.0, 391.4, 505.4, 589.4, 642.8, 434.0, 133.6, 45.4, 41.8, 10.2]}, {\"mode\": \"lines\", \"name\": \"2019\", \"type\": \"scatter\", \"x\": [\"00:00:00\", \"01:00:00\", \"02:00:00\", \"03:00:00\", \"04:00:00\", \"05:00:00\", \"06:00:00\", \"07:00:00\", \"08:00:00\", \"09:00:00\", \"10:00:00\", \"11:00:00\", \"12:00:00\", \"13:00:00\", \"14:00:00\", \"15:00:00\", \"16:00:00\", \"17:00:00\", \"18:00:00\", \"19:00:00\", \"20:00:00\", \"21:00:00\", \"22:00:00\", \"23:00:00\"], \"y\": [4.5, 1.75, 3.75, 3.0, 5.0, 31.5, 162.0, 296.75, 293.75, 136.25, 97.75, 124.0, 255.25, 165.5, 215.0, 337.0, 563.5, 806.25, 593.0, 347.5, 95.5, 33.5, 20.5, 7.75]}, {\"mode\": \"lines\", \"name\": \"2018\", \"type\": \"scatter\", \"x\": [\"00:00:00\", \"01:00:00\", \"02:00:00\", \"03:00:00\", \"04:00:00\", \"05:00:00\", \"06:00:00\", \"07:00:00\", \"08:00:00\", \"09:00:00\", \"10:00:00\", \"11:00:00\", \"12:00:00\", \"13:00:00\", \"14:00:00\", \"15:00:00\", \"16:00:00\", \"17:00:00\", \"18:00:00\", \"19:00:00\", \"20:00:00\", \"21:00:00\", \"22:00:00\", \"23:00:00\"], \"y\": [8.75, 4.25, 3.25, 4.25, 4.25, 30.0, 134.75, 271.25, 297.25, 170.25, 110.5, 124.75, 252.5, 167.0, 140.5, 185.5, 268.0, 416.0, 346.0, 217.25, 125.75, 26.5, 15.25, 7.75]}, {\"mode\": \"lines\", \"name\": \"2017\", \"type\": \"scatter\", \"x\": [\"00:00:00\", \"01:00:00\", \"02:00:00\", \"03:00:00\", \"04:00:00\", \"05:00:00\", \"06:00:00\", \"07:00:00\", \"08:00:00\", \"09:00:00\", \"10:00:00\", \"11:00:00\", \"12:00:00\", \"13:00:00\", \"14:00:00\", \"15:00:00\", \"16:00:00\", \"17:00:00\", \"18:00:00\", \"19:00:00\", \"20:00:00\", \"21:00:00\", \"22:00:00\", \"23:00:00\"], \"y\": [5.0, 1.0, 1.0, 3.75, 7.75, 25.75, 116.75, 183.75, 188.5, 97.25, 70.0, 88.75, 178.0, 80.5, 101.75, 112.25, 179.75, 260.75, 253.0, 148.75, 60.25, 14.25, 7.5, 3.25]}, {\"mode\": \"lines\", \"name\": \"2016\", \"type\": \"scatter\", \"x\": [\"00:00:00\", \"01:00:00\", \"02:00:00\", \"03:00:00\", \"04:00:00\", \"05:00:00\", \"06:00:00\", \"07:00:00\", \"08:00:00\", \"09:00:00\", \"10:00:00\", \"11:00:00\", \"12:00:00\", \"13:00:00\", \"14:00:00\", \"15:00:00\", \"16:00:00\", \"17:00:00\", \"18:00:00\", \"19:00:00\", \"20:00:00\", \"21:00:00\", \"22:00:00\", \"23:00:00\"], \"y\": [3.25, 4.75, 1.5, 1.5, 4.5, 18.75, 116.5, 276.75, 363.0, 260.5, 176.0, 189.25, 344.25, 345.75, 227.75, 235.0, 317.5, 527.75, 590.75, 458.5, 243.75, 51.25, 25.0, 12.75]}],\n",
              "                        {\"template\": {\"data\": {\"bar\": [{\"error_x\": {\"color\": \"#2a3f5f\"}, \"error_y\": {\"color\": \"#2a3f5f\"}, \"marker\": {\"line\": {\"color\": \"#E5ECF6\", \"width\": 0.5}}, \"type\": \"bar\"}], \"barpolar\": [{\"marker\": {\"line\": {\"color\": \"#E5ECF6\", \"width\": 0.5}}, \"type\": \"barpolar\"}], \"carpet\": [{\"aaxis\": {\"endlinecolor\": \"#2a3f5f\", \"gridcolor\": \"white\", \"linecolor\": \"white\", \"minorgridcolor\": \"white\", \"startlinecolor\": \"#2a3f5f\"}, \"baxis\": {\"endlinecolor\": \"#2a3f5f\", \"gridcolor\": \"white\", \"linecolor\": \"white\", \"minorgridcolor\": \"white\", \"startlinecolor\": \"#2a3f5f\"}, \"type\": \"carpet\"}], \"choropleth\": [{\"colorbar\": {\"outlinewidth\": 0, \"ticks\": \"\"}, \"type\": \"choropleth\"}], \"contour\": [{\"colorbar\": {\"outlinewidth\": 0, \"ticks\": \"\"}, \"colorscale\": [[0.0, \"#0d0887\"], [0.1111111111111111, \"#46039f\"], [0.2222222222222222, \"#7201a8\"], [0.3333333333333333, \"#9c179e\"], [0.4444444444444444, \"#bd3786\"], [0.5555555555555556, \"#d8576b\"], [0.6666666666666666, \"#ed7953\"], [0.7777777777777778, \"#fb9f3a\"], [0.8888888888888888, \"#fdca26\"], [1.0, \"#f0f921\"]], \"type\": \"contour\"}], \"contourcarpet\": [{\"colorbar\": {\"outlinewidth\": 0, \"ticks\": \"\"}, \"type\": \"contourcarpet\"}], \"heatmap\": [{\"colorbar\": {\"outlinewidth\": 0, \"ticks\": \"\"}, \"colorscale\": [[0.0, \"#0d0887\"], [0.1111111111111111, \"#46039f\"], [0.2222222222222222, \"#7201a8\"], [0.3333333333333333, \"#9c179e\"], [0.4444444444444444, \"#bd3786\"], [0.5555555555555556, \"#d8576b\"], [0.6666666666666666, \"#ed7953\"], [0.7777777777777778, \"#fb9f3a\"], [0.8888888888888888, \"#fdca26\"], [1.0, \"#f0f921\"]], \"type\": \"heatmap\"}], \"heatmapgl\": [{\"colorbar\": {\"outlinewidth\": 0, \"ticks\": \"\"}, \"colorscale\": [[0.0, \"#0d0887\"], [0.1111111111111111, \"#46039f\"], [0.2222222222222222, \"#7201a8\"], [0.3333333333333333, \"#9c179e\"], [0.4444444444444444, \"#bd3786\"], [0.5555555555555556, \"#d8576b\"], [0.6666666666666666, \"#ed7953\"], [0.7777777777777778, \"#fb9f3a\"], [0.8888888888888888, \"#fdca26\"], [1.0, \"#f0f921\"]], \"type\": \"heatmapgl\"}], \"histogram\": [{\"marker\": {\"colorbar\": {\"outlinewidth\": 0, \"ticks\": \"\"}}, \"type\": \"histogram\"}], \"histogram2d\": [{\"colorbar\": {\"outlinewidth\": 0, \"ticks\": \"\"}, \"colorscale\": [[0.0, \"#0d0887\"], [0.1111111111111111, \"#46039f\"], [0.2222222222222222, \"#7201a8\"], [0.3333333333333333, \"#9c179e\"], [0.4444444444444444, \"#bd3786\"], [0.5555555555555556, \"#d8576b\"], [0.6666666666666666, \"#ed7953\"], [0.7777777777777778, \"#fb9f3a\"], [0.8888888888888888, \"#fdca26\"], [1.0, \"#f0f921\"]], \"type\": \"histogram2d\"}], \"histogram2dcontour\": [{\"colorbar\": {\"outlinewidth\": 0, \"ticks\": \"\"}, \"colorscale\": [[0.0, \"#0d0887\"], [0.1111111111111111, \"#46039f\"], [0.2222222222222222, \"#7201a8\"], [0.3333333333333333, \"#9c179e\"], [0.4444444444444444, \"#bd3786\"], [0.5555555555555556, \"#d8576b\"], [0.6666666666666666, \"#ed7953\"], [0.7777777777777778, \"#fb9f3a\"], [0.8888888888888888, \"#fdca26\"], [1.0, \"#f0f921\"]], \"type\": \"histogram2dcontour\"}], \"mesh3d\": [{\"colorbar\": {\"outlinewidth\": 0, \"ticks\": \"\"}, \"type\": \"mesh3d\"}], \"parcoords\": [{\"line\": {\"colorbar\": {\"outlinewidth\": 0, \"ticks\": \"\"}}, \"type\": \"parcoords\"}], \"pie\": [{\"automargin\": true, \"type\": \"pie\"}], \"scatter\": [{\"marker\": {\"colorbar\": {\"outlinewidth\": 0, \"ticks\": \"\"}}, \"type\": \"scatter\"}], \"scatter3d\": [{\"line\": {\"colorbar\": {\"outlinewidth\": 0, \"ticks\": \"\"}}, \"marker\": {\"colorbar\": {\"outlinewidth\": 0, \"ticks\": \"\"}}, \"type\": \"scatter3d\"}], \"scattercarpet\": [{\"marker\": {\"colorbar\": {\"outlinewidth\": 0, \"ticks\": \"\"}}, \"type\": \"scattercarpet\"}], \"scattergeo\": [{\"marker\": {\"colorbar\": {\"outlinewidth\": 0, \"ticks\": \"\"}}, \"type\": \"scattergeo\"}], \"scattergl\": [{\"marker\": {\"colorbar\": {\"outlinewidth\": 0, \"ticks\": \"\"}}, \"type\": \"scattergl\"}], \"scattermapbox\": [{\"marker\": {\"colorbar\": {\"outlinewidth\": 0, \"ticks\": \"\"}}, \"type\": \"scattermapbox\"}], \"scatterpolar\": [{\"marker\": {\"colorbar\": {\"outlinewidth\": 0, \"ticks\": \"\"}}, \"type\": \"scatterpolar\"}], \"scatterpolargl\": [{\"marker\": {\"colorbar\": {\"outlinewidth\": 0, \"ticks\": \"\"}}, \"type\": \"scatterpolargl\"}], \"scatterternary\": [{\"marker\": {\"colorbar\": {\"outlinewidth\": 0, \"ticks\": \"\"}}, \"type\": \"scatterternary\"}], \"surface\": [{\"colorbar\": {\"outlinewidth\": 0, \"ticks\": \"\"}, \"colorscale\": [[0.0, \"#0d0887\"], [0.1111111111111111, \"#46039f\"], [0.2222222222222222, \"#7201a8\"], [0.3333333333333333, \"#9c179e\"], [0.4444444444444444, \"#bd3786\"], [0.5555555555555556, \"#d8576b\"], [0.6666666666666666, \"#ed7953\"], [0.7777777777777778, \"#fb9f3a\"], [0.8888888888888888, \"#fdca26\"], [1.0, \"#f0f921\"]], \"type\": \"surface\"}], \"table\": [{\"cells\": {\"fill\": {\"color\": \"#EBF0F8\"}, \"line\": {\"color\": \"white\"}}, \"header\": {\"fill\": {\"color\": \"#C8D4E3\"}, \"line\": {\"color\": \"white\"}}, \"type\": \"table\"}]}, \"layout\": {\"annotationdefaults\": {\"arrowcolor\": \"#2a3f5f\", \"arrowhead\": 0, \"arrowwidth\": 1}, \"coloraxis\": {\"colorbar\": {\"outlinewidth\": 0, \"ticks\": \"\"}}, \"colorscale\": {\"diverging\": [[0, \"#8e0152\"], [0.1, \"#c51b7d\"], [0.2, \"#de77ae\"], [0.3, \"#f1b6da\"], [0.4, \"#fde0ef\"], [0.5, \"#f7f7f7\"], [0.6, \"#e6f5d0\"], [0.7, \"#b8e186\"], [0.8, \"#7fbc41\"], [0.9, \"#4d9221\"], [1, \"#276419\"]], \"sequential\": [[0.0, \"#0d0887\"], [0.1111111111111111, \"#46039f\"], [0.2222222222222222, \"#7201a8\"], [0.3333333333333333, \"#9c179e\"], [0.4444444444444444, \"#bd3786\"], [0.5555555555555556, \"#d8576b\"], [0.6666666666666666, \"#ed7953\"], [0.7777777777777778, \"#fb9f3a\"], [0.8888888888888888, \"#fdca26\"], [1.0, \"#f0f921\"]], \"sequentialminus\": [[0.0, \"#0d0887\"], [0.1111111111111111, \"#46039f\"], [0.2222222222222222, \"#7201a8\"], [0.3333333333333333, \"#9c179e\"], [0.4444444444444444, \"#bd3786\"], [0.5555555555555556, \"#d8576b\"], [0.6666666666666666, \"#ed7953\"], [0.7777777777777778, \"#fb9f3a\"], [0.8888888888888888, \"#fdca26\"], [1.0, \"#f0f921\"]]}, \"colorway\": [\"#636efa\", \"#EF553B\", \"#00cc96\", \"#ab63fa\", \"#FFA15A\", \"#19d3f3\", \"#FF6692\", \"#B6E880\", \"#FF97FF\", \"#FECB52\"], \"font\": {\"color\": \"#2a3f5f\"}, \"geo\": {\"bgcolor\": \"white\", \"lakecolor\": \"white\", \"landcolor\": \"#E5ECF6\", \"showlakes\": true, \"showland\": true, \"subunitcolor\": \"white\"}, \"hoverlabel\": {\"align\": \"left\"}, \"hovermode\": \"closest\", \"mapbox\": {\"style\": \"light\"}, \"paper_bgcolor\": \"white\", \"plot_bgcolor\": \"#E5ECF6\", \"polar\": {\"angularaxis\": {\"gridcolor\": \"white\", \"linecolor\": \"white\", \"ticks\": \"\"}, \"bgcolor\": \"#E5ECF6\", \"radialaxis\": {\"gridcolor\": \"white\", \"linecolor\": \"white\", \"ticks\": \"\"}}, \"scene\": {\"xaxis\": {\"backgroundcolor\": \"#E5ECF6\", \"gridcolor\": \"white\", \"gridwidth\": 2, \"linecolor\": \"white\", \"showbackground\": true, \"ticks\": \"\", \"zerolinecolor\": \"white\"}, \"yaxis\": {\"backgroundcolor\": \"#E5ECF6\", \"gridcolor\": \"white\", \"gridwidth\": 2, \"linecolor\": \"white\", \"showbackground\": true, \"ticks\": \"\", \"zerolinecolor\": \"white\"}, \"zaxis\": {\"backgroundcolor\": \"#E5ECF6\", \"gridcolor\": \"white\", \"gridwidth\": 2, \"linecolor\": \"white\", \"showbackground\": true, \"ticks\": \"\", \"zerolinecolor\": \"white\"}}, \"shapedefaults\": {\"line\": {\"color\": \"#2a3f5f\"}}, \"ternary\": {\"aaxis\": {\"gridcolor\": \"white\", \"linecolor\": \"white\", \"ticks\": \"\"}, \"baxis\": {\"gridcolor\": \"white\", \"linecolor\": \"white\", \"ticks\": \"\"}, \"bgcolor\": \"#E5ECF6\", \"caxis\": {\"gridcolor\": \"white\", \"linecolor\": \"white\", \"ticks\": \"\"}}, \"title\": {\"x\": 0.05}, \"xaxis\": {\"automargin\": true, \"gridcolor\": \"white\", \"linecolor\": \"white\", \"ticks\": \"\", \"title\": {\"standoff\": 15}, \"zerolinecolor\": \"white\", \"zerolinewidth\": 2}, \"yaxis\": {\"automargin\": true, \"gridcolor\": \"white\", \"linecolor\": \"white\", \"ticks\": \"\", \"title\": {\"standoff\": 15}, \"zerolinecolor\": \"white\", \"zerolinewidth\": 2}}}, \"title\": {\"text\": \"Average Hourly Park Activity for Wednesdays in April\"}, \"xaxis\": {\"title\": {\"text\": \"Hour of Day\"}}, \"yaxis\": {\"title\": {\"text\": \"Average Bike + Ped Count\"}}},\n",
              "                        {\"responsive\": true}\n",
              "                    ).then(function(){\n",
              "                            \n",
              "var gd = document.getElementById('a67883c8-19bb-4705-962c-297586a70dd6');\n",
              "var x = new MutationObserver(function (mutations, observer) {{\n",
              "        var display = window.getComputedStyle(gd).display;\n",
              "        if (!display || display === 'none') {{\n",
              "            console.log([gd, 'removed!']);\n",
              "            Plotly.purge(gd);\n",
              "            observer.disconnect();\n",
              "        }}\n",
              "}});\n",
              "\n",
              "// Listen for the removal of the full notebook cells\n",
              "var notebookContainer = gd.closest('#notebook-container');\n",
              "if (notebookContainer) {{\n",
              "    x.observe(notebookContainer, {childList: true});\n",
              "}}\n",
              "\n",
              "// Listen for the clearing of the current output cell\n",
              "var outputEl = gd.closest('.output');\n",
              "if (outputEl) {{\n",
              "    x.observe(outputEl, {childList: true});\n",
              "}}\n",
              "\n",
              "                        })\n",
              "                };\n",
              "                \n",
              "            </script>\n",
              "        </div>\n",
              "</body>\n",
              "</html>"
            ]
          },
          "metadata": {
            "tags": []
          }
        },
        {
          "output_type": "display_data",
          "data": {
            "text/plain": [
              "<Figure size 864x720 with 0 Axes>"
            ]
          },
          "metadata": {
            "tags": []
          }
        }
      ]
    },
    {
      "cell_type": "markdown",
      "metadata": {
        "id": "ZrMuOcso0GBp"
      },
      "source": [
        "So activity in April 2020 does not really stand out compared to other years."
      ]
    },
    {
      "cell_type": "markdown",
      "metadata": {
        "id": "Pkjd9Dy30GBp"
      },
      "source": [
        "So far we've been looking at April 2020 only as a whole. Let's zoom in on April 2020 by graphing hourly counts for every Friday that month. I posit that counts will creep up week after week, as more and more people began working from home and looking for ways to get some exercise during and after work."
      ]
    },
    {
      "cell_type": "code",
      "metadata": {
        "id": "TL8adKtX0GBp",
        "colab": {
          "base_uri": "https://localhost:8080/",
          "height": 542
        },
        "outputId": "9142a7f6-b6de-493a-856f-5bb91aaefc9d"
      },
      "source": [
        "from plotly.subplots import make_subplots\n",
        "\n",
        "fig = make_subplots(specs=[[{\"secondary_y\": True}]])\n",
        "\n",
        "fig.add_trace(go.Scatter(x=alltimes, y=hourlycounts('4/3/2020', APIrecords),\n",
        "                    mode='lines',\n",
        "                    name='April 3',\n",
        "                    line_color='rgb(40, 246, 212)'),\n",
        "                    secondary_y=False)\n",
        "fig.add_trace(go.Scatter(x=alltimes, y=hourlycounts('4/10/2020', APIrecords),\n",
        "                    mode='lines',\n",
        "                    name='April 10',\n",
        "                    line_color='rgb(27, 164, 161)'),\n",
        "                    secondary_y=False)\n",
        "fig.add_trace(go.Scatter(x=alltimes, y=hourlycounts('4/17/2020', APIrecords),\n",
        "                    mode='lines',\n",
        "                    name='April 17',\n",
        "                    line_color='rgb(15, 82, 110)'),\n",
        "                    secondary_y=False)\n",
        "fig.add_trace(go.Scatter(x=alltimes, y=hourlycounts('4/24/2020', APIrecords),\n",
        "                    mode='lines',\n",
        "                    name='April 24',\n",
        "                    line_color='rgb(3, 1, 60)'),\n",
        "                    secondary_y=False)\n",
        "\n",
        "fig.update_layout(title='Bike and Ped Activity in Myrtle Edwards Park - Fridays During Covid-19 (2020)',\n",
        "                   xaxis_title='Hour of Day',\n",
        "                   yaxis_title='Total Bike + Ped Count')\n",
        "fig.show()"
      ],
      "execution_count": null,
      "outputs": [
        {
          "output_type": "display_data",
          "data": {
            "text/html": [
              "<html>\n",
              "<head><meta charset=\"utf-8\" /></head>\n",
              "<body>\n",
              "    <div>\n",
              "            <script src=\"https://cdnjs.cloudflare.com/ajax/libs/mathjax/2.7.5/MathJax.js?config=TeX-AMS-MML_SVG\"></script><script type=\"text/javascript\">if (window.MathJax) {MathJax.Hub.Config({SVG: {font: \"STIX-Web\"}});}</script>\n",
              "                <script type=\"text/javascript\">window.PlotlyConfig = {MathJaxConfig: 'local'};</script>\n",
              "        <script src=\"https://cdn.plot.ly/plotly-latest.min.js\"></script>    \n",
              "            <div id=\"13d34a1e-2019-4a1a-ad0c-97532ef6549c\" class=\"plotly-graph-div\" style=\"height:525px; width:100%;\"></div>\n",
              "            <script type=\"text/javascript\">\n",
              "                \n",
              "                    window.PLOTLYENV=window.PLOTLYENV || {};\n",
              "                    \n",
              "                if (document.getElementById(\"13d34a1e-2019-4a1a-ad0c-97532ef6549c\")) {\n",
              "                    Plotly.newPlot(\n",
              "                        '13d34a1e-2019-4a1a-ad0c-97532ef6549c',\n",
              "                        [{\"line\": {\"color\": \"rgb(40, 246, 212)\"}, \"mode\": \"lines\", \"name\": \"April 3\", \"type\": \"scatter\", \"x\": [\"00:00:00\", \"01:00:00\", \"02:00:00\", \"03:00:00\", \"04:00:00\", \"05:00:00\", \"06:00:00\", \"07:00:00\", \"08:00:00\", \"09:00:00\", \"10:00:00\", \"11:00:00\", \"12:00:00\", \"13:00:00\", \"14:00:00\", \"15:00:00\", \"16:00:00\", \"17:00:00\", \"18:00:00\", \"19:00:00\", \"20:00:00\", \"21:00:00\", \"22:00:00\", \"23:00:00\"], \"xaxis\": \"x\", \"y\": [\"3\", \"2\", \"0\", \"7\", \"6\", \"7\", \"61\", \"201\", \"148\", \"154\", \"170\", \"187\", \"219\", \"183\", \"208\", \"204\", \"110\", \"243\", \"297\", \"200\", \"46\", \"4\", \"7\", \"10\"], \"yaxis\": \"y\"}, {\"line\": {\"color\": \"rgb(27, 164, 161)\"}, \"mode\": \"lines\", \"name\": \"April 10\", \"type\": \"scatter\", \"x\": [\"00:00:00\", \"01:00:00\", \"02:00:00\", \"03:00:00\", \"04:00:00\", \"05:00:00\", \"06:00:00\", \"07:00:00\", \"08:00:00\", \"09:00:00\", \"10:00:00\", \"11:00:00\", \"12:00:00\", \"13:00:00\", \"14:00:00\", \"15:00:00\", \"16:00:00\", \"17:00:00\", \"18:00:00\", \"19:00:00\", \"20:00:00\", \"21:00:00\", \"22:00:00\", \"23:00:00\"], \"xaxis\": \"x\", \"y\": [\"5\", \"3\", \"2\", \"1\", \"2\", \"33\", \"148\", \"212\", \"195\", \"204\", \"250\", \"338\", \"399\", \"400\", \"449\", \"524\", \"656\", \"698\", \"650\", \"399\", \"174\", \"89\", \"70\", \"22\"], \"yaxis\": \"y\"}, {\"line\": {\"color\": \"rgb(15, 82, 110)\"}, \"mode\": \"lines\", \"name\": \"April 17\", \"type\": \"scatter\", \"x\": [\"00:00:00\", \"01:00:00\", \"02:00:00\", \"03:00:00\", \"04:00:00\", \"05:00:00\", \"06:00:00\", \"07:00:00\", \"08:00:00\", \"09:00:00\", \"10:00:00\", \"11:00:00\", \"12:00:00\", \"13:00:00\", \"14:00:00\", \"15:00:00\", \"16:00:00\", \"17:00:00\", \"18:00:00\", \"19:00:00\", \"20:00:00\", \"21:00:00\", \"22:00:00\", \"23:00:00\"], \"xaxis\": \"x\", \"y\": [\"39\", \"7\", \"14\", \"1\", \"18\", \"23\", \"160\", \"218\", \"235\", \"270\", \"305\", \"364\", \"452\", \"585\", \"435\", \"477\", \"512\", \"518\", \"592\", \"378\", \"141\", \"40\", \"24\", \"6\"], \"yaxis\": \"y\"}, {\"line\": {\"color\": \"rgb(3, 1, 60)\"}, \"mode\": \"lines\", \"name\": \"April 24\", \"type\": \"scatter\", \"x\": [\"00:00:00\", \"01:00:00\", \"02:00:00\", \"03:00:00\", \"04:00:00\", \"05:00:00\", \"06:00:00\", \"07:00:00\", \"08:00:00\", \"09:00:00\", \"10:00:00\", \"11:00:00\", \"12:00:00\", \"13:00:00\", \"14:00:00\", \"15:00:00\", \"16:00:00\", \"17:00:00\", \"18:00:00\", \"19:00:00\", \"20:00:00\", \"21:00:00\", \"22:00:00\", \"23:00:00\"], \"xaxis\": \"x\", \"y\": [\"2\", \"4\", \"3\", \"0\", \"9\", \"17\", \"82\", \"185\", \"177\", \"214\", \"239\", \"242\", \"268\", \"316\", \"308\", \"410\", \"469\", \"545\", \"577\", \"394\", \"151\", \"29\", \"17\", \"2\"], \"yaxis\": \"y\"}],\n",
              "                        {\"template\": {\"data\": {\"bar\": [{\"error_x\": {\"color\": \"#2a3f5f\"}, \"error_y\": {\"color\": \"#2a3f5f\"}, \"marker\": {\"line\": {\"color\": \"#E5ECF6\", \"width\": 0.5}}, \"type\": \"bar\"}], \"barpolar\": [{\"marker\": {\"line\": {\"color\": \"#E5ECF6\", \"width\": 0.5}}, \"type\": \"barpolar\"}], \"carpet\": [{\"aaxis\": {\"endlinecolor\": \"#2a3f5f\", \"gridcolor\": \"white\", \"linecolor\": \"white\", \"minorgridcolor\": \"white\", \"startlinecolor\": \"#2a3f5f\"}, \"baxis\": {\"endlinecolor\": \"#2a3f5f\", \"gridcolor\": \"white\", \"linecolor\": \"white\", \"minorgridcolor\": \"white\", \"startlinecolor\": \"#2a3f5f\"}, \"type\": \"carpet\"}], \"choropleth\": [{\"colorbar\": {\"outlinewidth\": 0, \"ticks\": \"\"}, \"type\": \"choropleth\"}], \"contour\": [{\"colorbar\": {\"outlinewidth\": 0, \"ticks\": \"\"}, \"colorscale\": [[0.0, \"#0d0887\"], [0.1111111111111111, \"#46039f\"], [0.2222222222222222, \"#7201a8\"], [0.3333333333333333, \"#9c179e\"], [0.4444444444444444, \"#bd3786\"], [0.5555555555555556, \"#d8576b\"], [0.6666666666666666, \"#ed7953\"], [0.7777777777777778, \"#fb9f3a\"], [0.8888888888888888, \"#fdca26\"], [1.0, \"#f0f921\"]], \"type\": \"contour\"}], \"contourcarpet\": [{\"colorbar\": {\"outlinewidth\": 0, \"ticks\": \"\"}, \"type\": \"contourcarpet\"}], \"heatmap\": [{\"colorbar\": {\"outlinewidth\": 0, \"ticks\": \"\"}, \"colorscale\": [[0.0, \"#0d0887\"], [0.1111111111111111, \"#46039f\"], [0.2222222222222222, \"#7201a8\"], [0.3333333333333333, \"#9c179e\"], [0.4444444444444444, \"#bd3786\"], [0.5555555555555556, \"#d8576b\"], [0.6666666666666666, \"#ed7953\"], [0.7777777777777778, \"#fb9f3a\"], [0.8888888888888888, \"#fdca26\"], [1.0, \"#f0f921\"]], \"type\": \"heatmap\"}], \"heatmapgl\": [{\"colorbar\": {\"outlinewidth\": 0, \"ticks\": \"\"}, \"colorscale\": [[0.0, \"#0d0887\"], [0.1111111111111111, \"#46039f\"], [0.2222222222222222, \"#7201a8\"], [0.3333333333333333, \"#9c179e\"], [0.4444444444444444, \"#bd3786\"], [0.5555555555555556, \"#d8576b\"], [0.6666666666666666, \"#ed7953\"], [0.7777777777777778, \"#fb9f3a\"], [0.8888888888888888, \"#fdca26\"], [1.0, \"#f0f921\"]], \"type\": \"heatmapgl\"}], \"histogram\": [{\"marker\": {\"colorbar\": {\"outlinewidth\": 0, \"ticks\": \"\"}}, \"type\": \"histogram\"}], \"histogram2d\": [{\"colorbar\": {\"outlinewidth\": 0, \"ticks\": \"\"}, \"colorscale\": [[0.0, \"#0d0887\"], [0.1111111111111111, \"#46039f\"], [0.2222222222222222, \"#7201a8\"], [0.3333333333333333, \"#9c179e\"], [0.4444444444444444, \"#bd3786\"], [0.5555555555555556, \"#d8576b\"], [0.6666666666666666, \"#ed7953\"], [0.7777777777777778, \"#fb9f3a\"], [0.8888888888888888, \"#fdca26\"], [1.0, \"#f0f921\"]], \"type\": \"histogram2d\"}], \"histogram2dcontour\": [{\"colorbar\": {\"outlinewidth\": 0, \"ticks\": \"\"}, \"colorscale\": [[0.0, \"#0d0887\"], [0.1111111111111111, \"#46039f\"], [0.2222222222222222, \"#7201a8\"], [0.3333333333333333, \"#9c179e\"], [0.4444444444444444, \"#bd3786\"], [0.5555555555555556, \"#d8576b\"], [0.6666666666666666, \"#ed7953\"], [0.7777777777777778, \"#fb9f3a\"], [0.8888888888888888, \"#fdca26\"], [1.0, \"#f0f921\"]], \"type\": \"histogram2dcontour\"}], \"mesh3d\": [{\"colorbar\": {\"outlinewidth\": 0, \"ticks\": \"\"}, \"type\": \"mesh3d\"}], \"parcoords\": [{\"line\": {\"colorbar\": {\"outlinewidth\": 0, \"ticks\": \"\"}}, \"type\": \"parcoords\"}], \"pie\": [{\"automargin\": true, \"type\": \"pie\"}], \"scatter\": [{\"marker\": {\"colorbar\": {\"outlinewidth\": 0, \"ticks\": \"\"}}, \"type\": \"scatter\"}], \"scatter3d\": [{\"line\": {\"colorbar\": {\"outlinewidth\": 0, \"ticks\": \"\"}}, \"marker\": {\"colorbar\": {\"outlinewidth\": 0, \"ticks\": \"\"}}, \"type\": \"scatter3d\"}], \"scattercarpet\": [{\"marker\": {\"colorbar\": {\"outlinewidth\": 0, \"ticks\": \"\"}}, \"type\": \"scattercarpet\"}], \"scattergeo\": [{\"marker\": {\"colorbar\": {\"outlinewidth\": 0, \"ticks\": \"\"}}, \"type\": \"scattergeo\"}], \"scattergl\": [{\"marker\": {\"colorbar\": {\"outlinewidth\": 0, \"ticks\": \"\"}}, \"type\": \"scattergl\"}], \"scattermapbox\": [{\"marker\": {\"colorbar\": {\"outlinewidth\": 0, \"ticks\": \"\"}}, \"type\": \"scattermapbox\"}], \"scatterpolar\": [{\"marker\": {\"colorbar\": {\"outlinewidth\": 0, \"ticks\": \"\"}}, \"type\": \"scatterpolar\"}], \"scatterpolargl\": [{\"marker\": {\"colorbar\": {\"outlinewidth\": 0, \"ticks\": \"\"}}, \"type\": \"scatterpolargl\"}], \"scatterternary\": [{\"marker\": {\"colorbar\": {\"outlinewidth\": 0, \"ticks\": \"\"}}, \"type\": \"scatterternary\"}], \"surface\": [{\"colorbar\": {\"outlinewidth\": 0, \"ticks\": \"\"}, \"colorscale\": [[0.0, \"#0d0887\"], [0.1111111111111111, \"#46039f\"], [0.2222222222222222, \"#7201a8\"], [0.3333333333333333, \"#9c179e\"], [0.4444444444444444, \"#bd3786\"], [0.5555555555555556, \"#d8576b\"], [0.6666666666666666, \"#ed7953\"], [0.7777777777777778, \"#fb9f3a\"], [0.8888888888888888, \"#fdca26\"], [1.0, \"#f0f921\"]], \"type\": \"surface\"}], \"table\": [{\"cells\": {\"fill\": {\"color\": \"#EBF0F8\"}, \"line\": {\"color\": \"white\"}}, \"header\": {\"fill\": {\"color\": \"#C8D4E3\"}, \"line\": {\"color\": \"white\"}}, \"type\": \"table\"}]}, \"layout\": {\"annotationdefaults\": {\"arrowcolor\": \"#2a3f5f\", \"arrowhead\": 0, \"arrowwidth\": 1}, \"coloraxis\": {\"colorbar\": {\"outlinewidth\": 0, \"ticks\": \"\"}}, \"colorscale\": {\"diverging\": [[0, \"#8e0152\"], [0.1, \"#c51b7d\"], [0.2, \"#de77ae\"], [0.3, \"#f1b6da\"], [0.4, \"#fde0ef\"], [0.5, \"#f7f7f7\"], [0.6, \"#e6f5d0\"], [0.7, \"#b8e186\"], [0.8, \"#7fbc41\"], [0.9, \"#4d9221\"], [1, \"#276419\"]], \"sequential\": [[0.0, \"#0d0887\"], [0.1111111111111111, \"#46039f\"], [0.2222222222222222, \"#7201a8\"], [0.3333333333333333, \"#9c179e\"], [0.4444444444444444, \"#bd3786\"], [0.5555555555555556, \"#d8576b\"], [0.6666666666666666, \"#ed7953\"], [0.7777777777777778, \"#fb9f3a\"], [0.8888888888888888, \"#fdca26\"], [1.0, \"#f0f921\"]], \"sequentialminus\": [[0.0, \"#0d0887\"], [0.1111111111111111, \"#46039f\"], [0.2222222222222222, \"#7201a8\"], [0.3333333333333333, \"#9c179e\"], [0.4444444444444444, \"#bd3786\"], [0.5555555555555556, \"#d8576b\"], [0.6666666666666666, \"#ed7953\"], [0.7777777777777778, \"#fb9f3a\"], [0.8888888888888888, \"#fdca26\"], [1.0, \"#f0f921\"]]}, \"colorway\": [\"#636efa\", \"#EF553B\", \"#00cc96\", \"#ab63fa\", \"#FFA15A\", \"#19d3f3\", \"#FF6692\", \"#B6E880\", \"#FF97FF\", \"#FECB52\"], \"font\": {\"color\": \"#2a3f5f\"}, \"geo\": {\"bgcolor\": \"white\", \"lakecolor\": \"white\", \"landcolor\": \"#E5ECF6\", \"showlakes\": true, \"showland\": true, \"subunitcolor\": \"white\"}, \"hoverlabel\": {\"align\": \"left\"}, \"hovermode\": \"closest\", \"mapbox\": {\"style\": \"light\"}, \"paper_bgcolor\": \"white\", \"plot_bgcolor\": \"#E5ECF6\", \"polar\": {\"angularaxis\": {\"gridcolor\": \"white\", \"linecolor\": \"white\", \"ticks\": \"\"}, \"bgcolor\": \"#E5ECF6\", \"radialaxis\": {\"gridcolor\": \"white\", \"linecolor\": \"white\", \"ticks\": \"\"}}, \"scene\": {\"xaxis\": {\"backgroundcolor\": \"#E5ECF6\", \"gridcolor\": \"white\", \"gridwidth\": 2, \"linecolor\": \"white\", \"showbackground\": true, \"ticks\": \"\", \"zerolinecolor\": \"white\"}, \"yaxis\": {\"backgroundcolor\": \"#E5ECF6\", \"gridcolor\": \"white\", \"gridwidth\": 2, \"linecolor\": \"white\", \"showbackground\": true, \"ticks\": \"\", \"zerolinecolor\": \"white\"}, \"zaxis\": {\"backgroundcolor\": \"#E5ECF6\", \"gridcolor\": \"white\", \"gridwidth\": 2, \"linecolor\": \"white\", \"showbackground\": true, \"ticks\": \"\", \"zerolinecolor\": \"white\"}}, \"shapedefaults\": {\"line\": {\"color\": \"#2a3f5f\"}}, \"ternary\": {\"aaxis\": {\"gridcolor\": \"white\", \"linecolor\": \"white\", \"ticks\": \"\"}, \"baxis\": {\"gridcolor\": \"white\", \"linecolor\": \"white\", \"ticks\": \"\"}, \"bgcolor\": \"#E5ECF6\", \"caxis\": {\"gridcolor\": \"white\", \"linecolor\": \"white\", \"ticks\": \"\"}}, \"title\": {\"x\": 0.05}, \"xaxis\": {\"automargin\": true, \"gridcolor\": \"white\", \"linecolor\": \"white\", \"ticks\": \"\", \"title\": {\"standoff\": 15}, \"zerolinecolor\": \"white\", \"zerolinewidth\": 2}, \"yaxis\": {\"automargin\": true, \"gridcolor\": \"white\", \"linecolor\": \"white\", \"ticks\": \"\", \"title\": {\"standoff\": 15}, \"zerolinecolor\": \"white\", \"zerolinewidth\": 2}}}, \"title\": {\"text\": \"Bike and Ped Activity in Myrtle Edwards Park - Fridays During Covid-19 (2020)\"}, \"xaxis\": {\"anchor\": \"y\", \"domain\": [0.0, 0.94], \"title\": {\"text\": \"Hour of Day\"}}, \"yaxis\": {\"anchor\": \"x\", \"domain\": [0.0, 1.0], \"title\": {\"text\": \"Total Bike + Ped Count\"}}, \"yaxis2\": {\"anchor\": \"x\", \"overlaying\": \"y\", \"side\": \"right\"}},\n",
              "                        {\"responsive\": true}\n",
              "                    ).then(function(){\n",
              "                            \n",
              "var gd = document.getElementById('13d34a1e-2019-4a1a-ad0c-97532ef6549c');\n",
              "var x = new MutationObserver(function (mutations, observer) {{\n",
              "        var display = window.getComputedStyle(gd).display;\n",
              "        if (!display || display === 'none') {{\n",
              "            console.log([gd, 'removed!']);\n",
              "            Plotly.purge(gd);\n",
              "            observer.disconnect();\n",
              "        }}\n",
              "}});\n",
              "\n",
              "// Listen for the removal of the full notebook cells\n",
              "var notebookContainer = gd.closest('#notebook-container');\n",
              "if (notebookContainer) {{\n",
              "    x.observe(notebookContainer, {childList: true});\n",
              "}}\n",
              "\n",
              "// Listen for the clearing of the current output cell\n",
              "var outputEl = gd.closest('.output');\n",
              "if (outputEl) {{\n",
              "    x.observe(outputEl, {childList: true});\n",
              "}}\n",
              "\n",
              "                        })\n",
              "                };\n",
              "                \n",
              "            </script>\n",
              "        </div>\n",
              "</body>\n",
              "</html>"
            ]
          },
          "metadata": {
            "tags": []
          }
        }
      ]
    },
    {
      "cell_type": "markdown",
      "metadata": {
        "id": "aIiQxxbW0GBp"
      },
      "source": [
        "Well, I was wrong. Bicyle and pedestrian counts seem to vary quite a bit by day, and don't seem to be increasing over time. Could weather be a factor in day to day differences? Let's dig into some more data to find out."
      ]
    },
    {
      "cell_type": "markdown",
      "metadata": {
        "id": "RPZpZU8i0GBp"
      },
      "source": [
        "### Investigating Weather Factors"
      ]
    },
    {
      "cell_type": "code",
      "metadata": {
        "id": "SU__N1kZ0GBq"
      },
      "source": [
        "#x axis: weeks or days\n",
        "#y axis: total count of the week\n",
        "alldays = sorted(unique(APIrecords, 'Date')) #what is this for? not sure if sorting will matter once we have a df."
      ],
      "execution_count": null,
      "outputs": []
    },
    {
      "cell_type": "markdown",
      "metadata": {
        "id": "8zw4zp7W0GBq"
      },
      "source": [
        "### Accessing Weather Data"
      ]
    },
    {
      "cell_type": "markdown",
      "metadata": {
        "id": "-P3dFa0r0GBq"
      },
      "source": [
        "I will use the Climate Data Online API from NOAA: https://www.ncdc.noaa.gov/cdo-web/webservices/v2#gettingStarted. It includes a dataset on historical high temperatures by day. \n",
        "\n",
        "I will also use the cdo-api-py library for this, which is a huge help. https://pypi.org/project/cdo-api-py/. With this library I don't have to worry about creating separate queries to get around request limits, or converting Celsius to Fahrenheit. "
      ]
    },
    {
      "cell_type": "code",
      "metadata": {
        "colab": {
          "base_uri": "https://localhost:8080/"
        },
        "id": "WsZTdjjJNjHR",
        "outputId": "f7b2bf98-d456-46ac-cc50-5d9d57d9bffa"
      },
      "source": [
        "!pip install cdo_api_py\n",
        "!pip install config"
      ],
      "execution_count": null,
      "outputs": [
        {
          "output_type": "stream",
          "text": [
            "Collecting cdo_api_py\n",
            "  Downloading https://files.pythonhosted.org/packages/ca/fc/0a86d9e9068216d971fa351cbd5396ff71bc9d763ba662233ad29119211d/cdo_api_py-1.0.0.dev13-py3-none-any.whl\n",
            "Requirement already satisfied: pandas in /usr/local/lib/python3.7/dist-packages (from cdo_api_py) (1.1.5)\n",
            "Requirement already satisfied: requests in /usr/local/lib/python3.7/dist-packages (from cdo_api_py) (2.23.0)\n",
            "Requirement already satisfied: pytz>=2017.2 in /usr/local/lib/python3.7/dist-packages (from pandas->cdo_api_py) (2018.9)\n",
            "Requirement already satisfied: numpy>=1.15.4 in /usr/local/lib/python3.7/dist-packages (from pandas->cdo_api_py) (1.19.5)\n",
            "Requirement already satisfied: python-dateutil>=2.7.3 in /usr/local/lib/python3.7/dist-packages (from pandas->cdo_api_py) (2.8.1)\n",
            "Requirement already satisfied: urllib3!=1.25.0,!=1.25.1,<1.26,>=1.21.1 in /usr/local/lib/python3.7/dist-packages (from requests->cdo_api_py) (1.24.3)\n",
            "Requirement already satisfied: idna<3,>=2.5 in /usr/local/lib/python3.7/dist-packages (from requests->cdo_api_py) (2.10)\n",
            "Requirement already satisfied: certifi>=2017.4.17 in /usr/local/lib/python3.7/dist-packages (from requests->cdo_api_py) (2021.5.30)\n",
            "Requirement already satisfied: chardet<4,>=3.0.2 in /usr/local/lib/python3.7/dist-packages (from requests->cdo_api_py) (3.0.4)\n",
            "Requirement already satisfied: six>=1.5 in /usr/local/lib/python3.7/dist-packages (from python-dateutil>=2.7.3->pandas->cdo_api_py) (1.15.0)\n",
            "Installing collected packages: cdo-api-py\n",
            "Successfully installed cdo-api-py-1.0.0.dev13\n",
            "Collecting config\n",
            "  Downloading https://files.pythonhosted.org/packages/67/af/a7c8be986afee4cf277045cfdb06605296ff3f1a1de415d62c18a7a33040/config-0.5.0.post0-py2.py3-none-any.whl\n",
            "Installing collected packages: config\n",
            "Successfully installed config-0.5.0.post0\n"
          ],
          "name": "stdout"
        }
      ]
    },
    {
      "cell_type": "code",
      "metadata": {
        "id": "PbYKkjfINmeE"
      },
      "source": [
        "from cdo_api_py import Client\n",
        "\n",
        "# Utils\n",
        "import config\n",
        "import pandas as pd\n",
        "from datetime import datetime\n",
        "from pprint import pprint\n",
        "\n",
        "# Plotting\n",
        "import matplotlib.pyplot as plt\n",
        "import matplotlib.dates as mdates\n",
        "import seaborn as sns"
      ],
      "execution_count": null,
      "outputs": []
    },
    {
      "cell_type": "code",
      "metadata": {
        "id": "4vqjyttENvKI"
      },
      "source": [
        "# Define the client\n",
        "\n",
        "my_client = Client(NOAA_token, default_units='standard', default_limit=1000)\n",
        "\n",
        "######################################\n",
        "#           Configuration            #\n",
        "######################################\n",
        "\n",
        "# Select an area\n",
        "extent = {\n",
        "    \"north\": 47.9,\n",
        "    \"south\": 47.3,\n",
        "    \"east\": -122.26,\n",
        "    \"west\": -122.68,\n",
        "}\n",
        "\n",
        "# Selected Dates\n",
        "startdate = date(2014, 1, 1)\n",
        "enddate = date.today()\n",
        "\n",
        "# Datasets we will query\n",
        "datasetid='GHCND'\n",
        "\n",
        "\n",
        "# PRCP = Precipitation (mm or inches as per user preference, inches to hundredths on Daily Form pdf file)\n",
        "# SNOW = Snowfall (mm or inches as per user preference, inches to tenths on Daily Form pdf file)\n",
        "# TMAX = Maximum temperature (Fahrenheit or Celsius as per user preference, Fahrenheit to tenths on\n",
        "# Daily From pdf file\n",
        "\n",
        "# Data Types\n",
        "datatypeid=['TMAX', 'PRCP', 'SNOW']"
      ],
      "execution_count": null,
      "outputs": []
    },
    {
      "cell_type": "code",
      "metadata": {
        "colab": {
          "base_uri": "https://localhost:8080/"
        },
        "id": "eqvpdDNgN5R5",
        "outputId": "af7cc277-0a9d-4e71-fa9f-fe37396c94c9"
      },
      "source": [
        "# Find weather stations with data\n",
        "stations = my_client.find_stations(\n",
        "    datasetid=datasetid,\n",
        "    extent=extent,\n",
        "    startdate=startdate,\n",
        "    enddate=enddate,\n",
        "    datatypeid=datatypeid,\n",
        "    return_dataframe=True)\n",
        "\n",
        "\n",
        "# Create an empty dataframe to store climate data\n",
        "climate_data = pd.DataFrame()\n",
        "\n",
        "for rowid, station in stations.iterrows():  \n",
        "    station_data = my_client.get_data_by_station(\n",
        "        datasetid=datasetid,\n",
        "        stationid=station['id'],\n",
        "        startdate=startdate,\n",
        "        enddate=enddate,\n",
        "        return_dataframe=True,\n",
        "        include_station_meta=True   # flatten station metadata with ghcnd readings\n",
        "    )\n",
        "    climate_data = pd.concat([climate_data, station_data])"
      ],
      "execution_count": null,
      "outputs": [
        {
          "output_type": "stream",
          "text": [
            "https://www.ncdc.noaa.gov/cdo-web/api/v2/stations?datasetid=GHCND&startdate=2014-01-01&enddate=2021-07-04&extent=47.3&extent=-122.68&extent=47.9&extent=-122.26&datatypeid=TMAX&datatypeid=PRCP&datatypeid=SNOW&limit=1000&units=standard\n",
            "https://www.ncdc.noaa.gov/cdo-web/api/v2/stations/GHCND:USW00024233?limit=1000&units=standard\n",
            "https://www.ncdc.noaa.gov/cdo-web/api/v2/data?datasetid=GHCND&startdate=2014-01-01&enddate=2015-01-01&stationid=GHCND:USW00024233&limit=1000&units=standard\n",
            "https://www.ncdc.noaa.gov/cdo-web/api/v2/data?datasetid=GHCND&startdate=2014-01-01&enddate=2015-01-01&stationid=GHCND:USW00024233&limit=1000&units=standard&offset=1000\n",
            "https://www.ncdc.noaa.gov/cdo-web/api/v2/data?datasetid=GHCND&startdate=2014-01-01&enddate=2015-01-01&stationid=GHCND:USW00024233&limit=1000&units=standard&offset=2000\n",
            "https://www.ncdc.noaa.gov/cdo-web/api/v2/data?datasetid=GHCND&startdate=2014-01-01&enddate=2015-01-01&stationid=GHCND:USW00024233&limit=1000&units=standard&offset=3000\n",
            "https://www.ncdc.noaa.gov/cdo-web/api/v2/data?datasetid=GHCND&startdate=2014-01-01&enddate=2015-01-01&stationid=GHCND:USW00024233&limit=1000&units=standard&offset=4000\n",
            "https://www.ncdc.noaa.gov/cdo-web/api/v2/data?datasetid=GHCND&startdate=2015-01-01&enddate=2016-01-01&stationid=GHCND:USW00024233&limit=1000&units=standard\n",
            "https://www.ncdc.noaa.gov/cdo-web/api/v2/data?datasetid=GHCND&startdate=2015-01-01&enddate=2016-01-01&stationid=GHCND:USW00024233&limit=1000&units=standard&offset=1000\n",
            "https://www.ncdc.noaa.gov/cdo-web/api/v2/data?datasetid=GHCND&startdate=2015-01-01&enddate=2016-01-01&stationid=GHCND:USW00024233&limit=1000&units=standard&offset=2000\n",
            "https://www.ncdc.noaa.gov/cdo-web/api/v2/data?datasetid=GHCND&startdate=2015-01-01&enddate=2016-01-01&stationid=GHCND:USW00024233&limit=1000&units=standard&offset=3000\n",
            "https://www.ncdc.noaa.gov/cdo-web/api/v2/data?datasetid=GHCND&startdate=2015-01-01&enddate=2016-01-01&stationid=GHCND:USW00024233&limit=1000&units=standard&offset=4000\n",
            "https://www.ncdc.noaa.gov/cdo-web/api/v2/data?datasetid=GHCND&startdate=2016-01-01&enddate=2016-12-31&stationid=GHCND:USW00024233&limit=1000&units=standard\n",
            "https://www.ncdc.noaa.gov/cdo-web/api/v2/data?datasetid=GHCND&startdate=2016-01-01&enddate=2016-12-31&stationid=GHCND:USW00024233&limit=1000&units=standard&offset=1000\n",
            "https://www.ncdc.noaa.gov/cdo-web/api/v2/data?datasetid=GHCND&startdate=2016-01-01&enddate=2016-12-31&stationid=GHCND:USW00024233&limit=1000&units=standard&offset=2000\n",
            "https://www.ncdc.noaa.gov/cdo-web/api/v2/data?datasetid=GHCND&startdate=2016-01-01&enddate=2016-12-31&stationid=GHCND:USW00024233&limit=1000&units=standard&offset=3000\n",
            "https://www.ncdc.noaa.gov/cdo-web/api/v2/data?datasetid=GHCND&startdate=2016-01-01&enddate=2016-12-31&stationid=GHCND:USW00024233&limit=1000&units=standard&offset=4000\n",
            "https://www.ncdc.noaa.gov/cdo-web/api/v2/data?datasetid=GHCND&startdate=2016-12-31&enddate=2017-12-31&stationid=GHCND:USW00024233&limit=1000&units=standard\n",
            "https://www.ncdc.noaa.gov/cdo-web/api/v2/data?datasetid=GHCND&startdate=2016-12-31&enddate=2017-12-31&stationid=GHCND:USW00024233&limit=1000&units=standard&offset=1000\n",
            "https://www.ncdc.noaa.gov/cdo-web/api/v2/data?datasetid=GHCND&startdate=2016-12-31&enddate=2017-12-31&stationid=GHCND:USW00024233&limit=1000&units=standard&offset=2000\n",
            "https://www.ncdc.noaa.gov/cdo-web/api/v2/data?datasetid=GHCND&startdate=2016-12-31&enddate=2017-12-31&stationid=GHCND:USW00024233&limit=1000&units=standard&offset=3000\n",
            "https://www.ncdc.noaa.gov/cdo-web/api/v2/data?datasetid=GHCND&startdate=2016-12-31&enddate=2017-12-31&stationid=GHCND:USW00024233&limit=1000&units=standard&offset=4000\n",
            "https://www.ncdc.noaa.gov/cdo-web/api/v2/data?datasetid=GHCND&startdate=2017-12-31&enddate=2018-12-31&stationid=GHCND:USW00024233&limit=1000&units=standard\n",
            "https://www.ncdc.noaa.gov/cdo-web/api/v2/data?datasetid=GHCND&startdate=2017-12-31&enddate=2018-12-31&stationid=GHCND:USW00024233&limit=1000&units=standard&offset=1000\n",
            "https://www.ncdc.noaa.gov/cdo-web/api/v2/data?datasetid=GHCND&startdate=2017-12-31&enddate=2018-12-31&stationid=GHCND:USW00024233&limit=1000&units=standard&offset=2000\n",
            "https://www.ncdc.noaa.gov/cdo-web/api/v2/data?datasetid=GHCND&startdate=2017-12-31&enddate=2018-12-31&stationid=GHCND:USW00024233&limit=1000&units=standard&offset=3000\n",
            "https://www.ncdc.noaa.gov/cdo-web/api/v2/data?datasetid=GHCND&startdate=2017-12-31&enddate=2018-12-31&stationid=GHCND:USW00024233&limit=1000&units=standard&offset=4000\n",
            "https://www.ncdc.noaa.gov/cdo-web/api/v2/data?datasetid=GHCND&startdate=2018-12-31&enddate=2019-12-31&stationid=GHCND:USW00024233&limit=1000&units=standard\n",
            "https://www.ncdc.noaa.gov/cdo-web/api/v2/data?datasetid=GHCND&startdate=2018-12-31&enddate=2019-12-31&stationid=GHCND:USW00024233&limit=1000&units=standard&offset=1000\n",
            "https://www.ncdc.noaa.gov/cdo-web/api/v2/data?datasetid=GHCND&startdate=2018-12-31&enddate=2019-12-31&stationid=GHCND:USW00024233&limit=1000&units=standard&offset=2000\n",
            "https://www.ncdc.noaa.gov/cdo-web/api/v2/data?datasetid=GHCND&startdate=2018-12-31&enddate=2019-12-31&stationid=GHCND:USW00024233&limit=1000&units=standard&offset=3000\n",
            "https://www.ncdc.noaa.gov/cdo-web/api/v2/data?datasetid=GHCND&startdate=2018-12-31&enddate=2019-12-31&stationid=GHCND:USW00024233&limit=1000&units=standard&offset=4000\n",
            "https://www.ncdc.noaa.gov/cdo-web/api/v2/data?datasetid=GHCND&startdate=2019-12-31&enddate=2020-12-30&stationid=GHCND:USW00024233&limit=1000&units=standard\n",
            "https://www.ncdc.noaa.gov/cdo-web/api/v2/data?datasetid=GHCND&startdate=2019-12-31&enddate=2020-12-30&stationid=GHCND:USW00024233&limit=1000&units=standard&offset=1000\n",
            "https://www.ncdc.noaa.gov/cdo-web/api/v2/data?datasetid=GHCND&startdate=2019-12-31&enddate=2020-12-30&stationid=GHCND:USW00024233&limit=1000&units=standard&offset=2000\n",
            "https://www.ncdc.noaa.gov/cdo-web/api/v2/data?datasetid=GHCND&startdate=2019-12-31&enddate=2020-12-30&stationid=GHCND:USW00024233&limit=1000&units=standard&offset=3000\n",
            "https://www.ncdc.noaa.gov/cdo-web/api/v2/data?datasetid=GHCND&startdate=2019-12-31&enddate=2020-12-30&stationid=GHCND:USW00024233&limit=1000&units=standard&offset=4000\n",
            "https://www.ncdc.noaa.gov/cdo-web/api/v2/data?datasetid=GHCND&startdate=2020-12-30&enddate=2021-07-04&stationid=GHCND:USW00024233&limit=1000&units=standard\n",
            "https://www.ncdc.noaa.gov/cdo-web/api/v2/data?datasetid=GHCND&startdate=2020-12-30&enddate=2021-07-04&stationid=GHCND:USW00024233&limit=1000&units=standard&offset=1000\n",
            "https://www.ncdc.noaa.gov/cdo-web/api/v2/data?datasetid=GHCND&startdate=2020-12-30&enddate=2021-07-04&stationid=GHCND:USW00024233&limit=1000&units=standard&offset=2000\n"
          ],
          "name": "stdout"
        }
      ]
    },
    {
      "cell_type": "code",
      "metadata": {
        "colab": {
          "base_uri": "https://localhost:8080/",
          "height": 486
        },
        "id": "zKULvT-iN9dl",
        "outputId": "a7177114-ce5b-4b61-df78-b14c3efd6f0f"
      },
      "source": [
        "climate_data.head()"
      ],
      "execution_count": null,
      "outputs": [
        {
          "output_type": "execute_result",
          "data": {
            "text/html": [
              "<div>\n",
              "<style scoped>\n",
              "    .dataframe tbody tr th:only-of-type {\n",
              "        vertical-align: middle;\n",
              "    }\n",
              "\n",
              "    .dataframe tbody tr th {\n",
              "        vertical-align: top;\n",
              "    }\n",
              "\n",
              "    .dataframe thead th {\n",
              "        text-align: right;\n",
              "    }\n",
              "</style>\n",
              "<table border=\"1\" class=\"dataframe\">\n",
              "  <thead>\n",
              "    <tr style=\"text-align: right;\">\n",
              "      <th></th>\n",
              "      <th>station</th>\n",
              "      <th>date</th>\n",
              "      <th>AWND</th>\n",
              "      <th>PGTM</th>\n",
              "      <th>PRCP</th>\n",
              "      <th>SNOW</th>\n",
              "      <th>SNWD</th>\n",
              "      <th>TAVG</th>\n",
              "      <th>TMAX</th>\n",
              "      <th>TMIN</th>\n",
              "      <th>WDF2</th>\n",
              "      <th>WDF5</th>\n",
              "      <th>WSF2</th>\n",
              "      <th>WSF5</th>\n",
              "      <th>WT01</th>\n",
              "      <th>WT02</th>\n",
              "      <th>WT03</th>\n",
              "      <th>WT04</th>\n",
              "      <th>WT05</th>\n",
              "      <th>WT08</th>\n",
              "      <th>WT09</th>\n",
              "      <th>elevation</th>\n",
              "      <th>mindate</th>\n",
              "      <th>maxdate</th>\n",
              "      <th>latitude</th>\n",
              "      <th>name</th>\n",
              "      <th>datacoverage</th>\n",
              "      <th>elevationUnit</th>\n",
              "      <th>longitude</th>\n",
              "    </tr>\n",
              "  </thead>\n",
              "  <tbody>\n",
              "    <tr>\n",
              "      <th>0</th>\n",
              "      <td>GHCND:USW00024233</td>\n",
              "      <td>2014-01-01T00:00:00</td>\n",
              "      <td>2.7</td>\n",
              "      <td>NaN</td>\n",
              "      <td>0.00</td>\n",
              "      <td>0.0</td>\n",
              "      <td>0.0</td>\n",
              "      <td>42.0</td>\n",
              "      <td>45.0</td>\n",
              "      <td>38.0</td>\n",
              "      <td>340.0</td>\n",
              "      <td>310.0</td>\n",
              "      <td>8.1</td>\n",
              "      <td>8.9</td>\n",
              "      <td>NaN</td>\n",
              "      <td>NaN</td>\n",
              "      <td>NaN</td>\n",
              "      <td>NaN</td>\n",
              "      <td>NaN</td>\n",
              "      <td>NaN</td>\n",
              "      <td>NaN</td>\n",
              "      <td>112.8</td>\n",
              "      <td>1948-01-01</td>\n",
              "      <td>2021-06-30</td>\n",
              "      <td>47.4444</td>\n",
              "      <td>SEATTLE TACOMA AIRPORT, WA US</td>\n",
              "      <td>1</td>\n",
              "      <td>METERS</td>\n",
              "      <td>-122.3138</td>\n",
              "    </tr>\n",
              "    <tr>\n",
              "      <th>1</th>\n",
              "      <td>GHCND:USW00024233</td>\n",
              "      <td>2014-01-02T00:00:00</td>\n",
              "      <td>7.2</td>\n",
              "      <td>NaN</td>\n",
              "      <td>0.16</td>\n",
              "      <td>0.0</td>\n",
              "      <td>0.0</td>\n",
              "      <td>45.0</td>\n",
              "      <td>51.0</td>\n",
              "      <td>43.0</td>\n",
              "      <td>190.0</td>\n",
              "      <td>200.0</td>\n",
              "      <td>21.0</td>\n",
              "      <td>25.9</td>\n",
              "      <td>NaN</td>\n",
              "      <td>NaN</td>\n",
              "      <td>NaN</td>\n",
              "      <td>NaN</td>\n",
              "      <td>NaN</td>\n",
              "      <td>NaN</td>\n",
              "      <td>NaN</td>\n",
              "      <td>112.8</td>\n",
              "      <td>1948-01-01</td>\n",
              "      <td>2021-06-30</td>\n",
              "      <td>47.4444</td>\n",
              "      <td>SEATTLE TACOMA AIRPORT, WA US</td>\n",
              "      <td>1</td>\n",
              "      <td>METERS</td>\n",
              "      <td>-122.3138</td>\n",
              "    </tr>\n",
              "    <tr>\n",
              "      <th>2</th>\n",
              "      <td>GHCND:USW00024233</td>\n",
              "      <td>2014-01-03T00:00:00</td>\n",
              "      <td>5.8</td>\n",
              "      <td>NaN</td>\n",
              "      <td>0.06</td>\n",
              "      <td>0.0</td>\n",
              "      <td>0.0</td>\n",
              "      <td>45.0</td>\n",
              "      <td>48.0</td>\n",
              "      <td>37.0</td>\n",
              "      <td>30.0</td>\n",
              "      <td>50.0</td>\n",
              "      <td>14.1</td>\n",
              "      <td>16.1</td>\n",
              "      <td>1.0</td>\n",
              "      <td>NaN</td>\n",
              "      <td>NaN</td>\n",
              "      <td>NaN</td>\n",
              "      <td>NaN</td>\n",
              "      <td>NaN</td>\n",
              "      <td>NaN</td>\n",
              "      <td>112.8</td>\n",
              "      <td>1948-01-01</td>\n",
              "      <td>2021-06-30</td>\n",
              "      <td>47.4444</td>\n",
              "      <td>SEATTLE TACOMA AIRPORT, WA US</td>\n",
              "      <td>1</td>\n",
              "      <td>METERS</td>\n",
              "      <td>-122.3138</td>\n",
              "    </tr>\n",
              "    <tr>\n",
              "      <th>3</th>\n",
              "      <td>GHCND:USW00024233</td>\n",
              "      <td>2014-01-04T00:00:00</td>\n",
              "      <td>6.0</td>\n",
              "      <td>NaN</td>\n",
              "      <td>0.00</td>\n",
              "      <td>0.0</td>\n",
              "      <td>0.0</td>\n",
              "      <td>41.0</td>\n",
              "      <td>46.0</td>\n",
              "      <td>33.0</td>\n",
              "      <td>40.0</td>\n",
              "      <td>40.0</td>\n",
              "      <td>10.1</td>\n",
              "      <td>13.0</td>\n",
              "      <td>1.0</td>\n",
              "      <td>NaN</td>\n",
              "      <td>NaN</td>\n",
              "      <td>NaN</td>\n",
              "      <td>NaN</td>\n",
              "      <td>NaN</td>\n",
              "      <td>NaN</td>\n",
              "      <td>112.8</td>\n",
              "      <td>1948-01-01</td>\n",
              "      <td>2021-06-30</td>\n",
              "      <td>47.4444</td>\n",
              "      <td>SEATTLE TACOMA AIRPORT, WA US</td>\n",
              "      <td>1</td>\n",
              "      <td>METERS</td>\n",
              "      <td>-122.3138</td>\n",
              "    </tr>\n",
              "    <tr>\n",
              "      <th>4</th>\n",
              "      <td>GHCND:USW00024233</td>\n",
              "      <td>2014-01-05T00:00:00</td>\n",
              "      <td>8.3</td>\n",
              "      <td>NaN</td>\n",
              "      <td>0.00</td>\n",
              "      <td>0.0</td>\n",
              "      <td>0.0</td>\n",
              "      <td>37.0</td>\n",
              "      <td>47.0</td>\n",
              "      <td>31.0</td>\n",
              "      <td>10.0</td>\n",
              "      <td>10.0</td>\n",
              "      <td>15.0</td>\n",
              "      <td>17.0</td>\n",
              "      <td>NaN</td>\n",
              "      <td>NaN</td>\n",
              "      <td>NaN</td>\n",
              "      <td>NaN</td>\n",
              "      <td>NaN</td>\n",
              "      <td>NaN</td>\n",
              "      <td>NaN</td>\n",
              "      <td>112.8</td>\n",
              "      <td>1948-01-01</td>\n",
              "      <td>2021-06-30</td>\n",
              "      <td>47.4444</td>\n",
              "      <td>SEATTLE TACOMA AIRPORT, WA US</td>\n",
              "      <td>1</td>\n",
              "      <td>METERS</td>\n",
              "      <td>-122.3138</td>\n",
              "    </tr>\n",
              "  </tbody>\n",
              "</table>\n",
              "</div>"
            ],
            "text/plain": [
              "             station                 date  ...  elevationUnit  longitude\n",
              "0  GHCND:USW00024233  2014-01-01T00:00:00  ...         METERS  -122.3138\n",
              "1  GHCND:USW00024233  2014-01-02T00:00:00  ...         METERS  -122.3138\n",
              "2  GHCND:USW00024233  2014-01-03T00:00:00  ...         METERS  -122.3138\n",
              "3  GHCND:USW00024233  2014-01-04T00:00:00  ...         METERS  -122.3138\n",
              "4  GHCND:USW00024233  2014-01-05T00:00:00  ...         METERS  -122.3138\n",
              "\n",
              "[5 rows x 29 columns]"
            ]
          },
          "metadata": {
            "tags": []
          },
          "execution_count": 33
        }
      ]
    },
    {
      "cell_type": "markdown",
      "metadata": {
        "id": "XtfzFUSg0GBr"
      },
      "source": [
        "### Preparing Count Data for Further Analysis"
      ]
    },
    {
      "cell_type": "markdown",
      "metadata": {
        "id": "sfBm1H170GBr"
      },
      "source": [
        "First I want take the list of dictionaries `APIrecords` and return a single dictionary with date: count as the key: value pair. However, currently each record represents an hour, so I will need to aggregate these into total daily counts first using a new ``dailysum`` function I create below. "
      ]
    },
    {
      "cell_type": "code",
      "metadata": {
        "id": "f7OibWqH0GBs"
      },
      "source": [
        "def dailysum(date):\n",
        "    strlist = hourlycounts(date, APIrecords) #produces a list of strings\n",
        "    try: \n",
        "        intlist = list(map(int, strlist)) #converts list of strings to integers\n",
        "        return sum(intlist) #sums the integers\n",
        "    except ValueError: #when data is NaN, give a 0 for that day, but it shouldn't affect other days\n",
        "        return 0"
      ],
      "execution_count": null,
      "outputs": []
    },
    {
      "cell_type": "code",
      "metadata": {
        "colab": {
          "base_uri": "https://localhost:8080/"
        },
        "id": "h2FbJWkp0GBs",
        "outputId": "8e1d1179-e0c2-402b-f320-27dc61c9902a"
      },
      "source": [
        "dailysum('03/20/2020')"
      ],
      "execution_count": null,
      "outputs": [
        {
          "output_type": "execute_result",
          "data": {
            "text/plain": [
              "6028"
            ]
          },
          "metadata": {
            "tags": []
          },
          "execution_count": 35
        }
      ]
    },
    {
      "cell_type": "markdown",
      "metadata": {
        "id": "wS99d7DS0GBs"
      },
      "source": [
        "Next I will utilize the `unique` function I created earlier to generate a unique list of all dates in the dataset which I will then plug into the next function."
      ]
    },
    {
      "cell_type": "code",
      "metadata": {
        "id": "jKXxc-SC0GBt"
      },
      "source": [
        "alldates = sorted(unique(APIrecords, 'Date')) \n",
        "testdates = alldates[2300:2305] "
      ],
      "execution_count": null,
      "outputs": []
    },
    {
      "cell_type": "code",
      "metadata": {
        "colab": {
          "base_uri": "https://localhost:8080/"
        },
        "id": "xaQTNvaBJnaQ",
        "outputId": "295fa06d-0d1f-43b1-a00f-578636f8eb1c"
      },
      "source": [
        "testdates"
      ],
      "execution_count": null,
      "outputs": [
        {
          "output_type": "execute_result",
          "data": {
            "text/plain": [
              "[datetime.date(2020, 4, 19),\n",
              " datetime.date(2020, 4, 20),\n",
              " datetime.date(2020, 4, 21),\n",
              " datetime.date(2020, 4, 22),\n",
              " datetime.date(2020, 4, 23)]"
            ]
          },
          "metadata": {
            "tags": []
          },
          "execution_count": 37
        }
      ]
    },
    {
      "cell_type": "markdown",
      "metadata": {
        "id": "CDDKopY70GBt"
      },
      "source": [
        "Finally I create `dict_of_counts` to get my dictionary with date:count as the key:value pair. I test it with the `testdates` list I created above, which is just a subset of the `alldates` list. `alldates` is over 2000 dates so it takes a long time to run."
      ]
    },
    {
      "cell_type": "code",
      "metadata": {
        "colab": {
          "base_uri": "https://localhost:8080/"
        },
        "id": "qwzZx1ix0GBt",
        "outputId": "9f501bc7-7b25-4b5f-8a9b-b77c35ae1dcd"
      },
      "source": [
        "def dict_of_counts(datelist):\n",
        "    master_dict = {}\n",
        "    for date in datelist:\n",
        "        master_dict.update({date: (dailysum(date))})\n",
        "        #master_dict[date] = dailysum(date)\n",
        "    return master_dict\n",
        "\n",
        "print(dict_of_counts(testdates))"
      ],
      "execution_count": null,
      "outputs": [
        {
          "output_type": "stream",
          "text": [
            "{datetime.date(2020, 4, 19): 8319, datetime.date(2020, 4, 20): 6920, datetime.date(2020, 4, 21): 3752, datetime.date(2020, 4, 22): 1754, datetime.date(2020, 4, 23): 3299}\n"
          ],
          "name": "stdout"
        }
      ]
    },
    {
      "cell_type": "markdown",
      "metadata": {
        "id": "6N6yIRIP0GBt"
      },
      "source": [
        "### Preparing Weather Data for Further Analysis"
      ]
    },
    {
      "cell_type": "markdown",
      "metadata": {
        "id": "muv8v7kY0GBt"
      },
      "source": [
        "OK, that is the counts dictionary. Now I want to work on simplifying the weather dataframe."
      ]
    },
    {
      "cell_type": "markdown",
      "metadata": {
        "id": "EwDTCjeK0GBu"
      },
      "source": [
        "Now I need to create a new dataframe with temperature and count so I can associate each one with the same date and therefore ensure that the temperature and count are matched properly when I do a regression."
      ]
    },
    {
      "cell_type": "code",
      "metadata": {
        "id": "SmIXTRry0GBv"
      },
      "source": [
        "date_list = alldates"
      ],
      "execution_count": null,
      "outputs": []
    },
    {
      "cell_type": "code",
      "metadata": {
        "id": "-e92_8uj0GBv"
      },
      "source": [
        "counts_series = pd.Series(dict_of_counts(date_list))"
      ],
      "execution_count": null,
      "outputs": []
    },
    {
      "cell_type": "code",
      "metadata": {
        "id": "fXjvDmSL0U2W"
      },
      "source": [
        "counts_series.index = dict_of_counts(date_list).keys()"
      ],
      "execution_count": null,
      "outputs": []
    },
    {
      "cell_type": "code",
      "metadata": {
        "id": "5FC5PR0Y0Ya0",
        "colab": {
          "base_uri": "https://localhost:8080/"
        },
        "outputId": "8f4f1af1-28cf-4e79-8972-d441e48fbd86"
      },
      "source": [
        "counts_series.head()"
      ],
      "execution_count": null,
      "outputs": [
        {
          "output_type": "execute_result",
          "data": {
            "text/plain": [
              "2014-01-01    2190\n",
              "2014-01-02    1580\n",
              "2014-01-03    2469\n",
              "2014-01-04    3337\n",
              "2014-01-05    2849\n",
              "dtype: int64"
            ]
          },
          "metadata": {
            "tags": []
          },
          "execution_count": 42
        }
      ]
    },
    {
      "cell_type": "code",
      "metadata": {
        "id": "xpPHQWDU0GBv",
        "colab": {
          "base_uri": "https://localhost:8080/"
        },
        "outputId": "c6c3420e-d28e-4873-fcb5-9b5ee63bba66"
      },
      "source": [
        "temp_series = climate_data.iloc[:,8]\n",
        "temp_series.head()\n"
      ],
      "execution_count": null,
      "outputs": [
        {
          "output_type": "execute_result",
          "data": {
            "text/plain": [
              "0    45.0\n",
              "1    51.0\n",
              "2    48.0\n",
              "3    46.0\n",
              "4    47.0\n",
              "Name: TMAX, dtype: float64"
            ]
          },
          "metadata": {
            "tags": []
          },
          "execution_count": 43
        }
      ]
    },
    {
      "cell_type": "code",
      "metadata": {
        "colab": {
          "base_uri": "https://localhost:8080/"
        },
        "id": "19J2r25FVWd9",
        "outputId": "0e31f41a-0dd1-4089-975f-35ec5dfe3f12"
      },
      "source": [
        "temp_series.index = pd.to_datetime(climate_data.iloc[:,1]).dt.date #takes column 1 from the climate_data df and uses it as the index here. At the same time, converts the date to the same format as temp_series. \n",
        "temp_series.head()"
      ],
      "execution_count": null,
      "outputs": [
        {
          "output_type": "execute_result",
          "data": {
            "text/plain": [
              "date\n",
              "2014-01-01    45.0\n",
              "2014-01-02    51.0\n",
              "2014-01-03    48.0\n",
              "2014-01-04    46.0\n",
              "2014-01-05    47.0\n",
              "Name: TMAX, dtype: float64"
            ]
          },
          "metadata": {
            "tags": []
          },
          "execution_count": 44
        }
      ]
    },
    {
      "cell_type": "markdown",
      "metadata": {
        "id": "BX3LotNIwDTO"
      },
      "source": [
        "Let's do the same for precipitation as we did for temperature."
      ]
    },
    {
      "cell_type": "code",
      "metadata": {
        "colab": {
          "base_uri": "https://localhost:8080/"
        },
        "id": "JvSesZa1wGIN",
        "outputId": "9a202594-a89f-4c97-ce1b-ae9e392bd98c"
      },
      "source": [
        "precip_series = climate_data.iloc[:,4]\n",
        "precip_series.head()\n"
      ],
      "execution_count": null,
      "outputs": [
        {
          "output_type": "execute_result",
          "data": {
            "text/plain": [
              "0    0.00\n",
              "1    0.16\n",
              "2    0.06\n",
              "3    0.00\n",
              "4    0.00\n",
              "Name: PRCP, dtype: float64"
            ]
          },
          "metadata": {
            "tags": []
          },
          "execution_count": 45
        }
      ]
    },
    {
      "cell_type": "code",
      "metadata": {
        "colab": {
          "base_uri": "https://localhost:8080/"
        },
        "id": "tu4zbjEgwdrn",
        "outputId": "d01f0189-2a3f-4a29-b8a4-0b69f4edf66e"
      },
      "source": [
        "precip_series.index = pd.to_datetime(climate_data.iloc[:,1]).dt.date #takes column 1 from the climate_data df and uses it as the index here. At the same time, converts the date to the same format as temp_series. \n",
        "precip_series.head()"
      ],
      "execution_count": null,
      "outputs": [
        {
          "output_type": "execute_result",
          "data": {
            "text/plain": [
              "date\n",
              "2014-01-01    0.00\n",
              "2014-01-02    0.16\n",
              "2014-01-03    0.06\n",
              "2014-01-04    0.00\n",
              "2014-01-05    0.00\n",
              "Name: PRCP, dtype: float64"
            ]
          },
          "metadata": {
            "tags": []
          },
          "execution_count": 46
        }
      ]
    },
    {
      "cell_type": "markdown",
      "metadata": {
        "id": "k89eYywQ8tWC"
      },
      "source": [
        "##Putting Back Into a Dataframe"
      ]
    },
    {
      "cell_type": "markdown",
      "metadata": {
        "id": "6KrMvVRFP3Yw"
      },
      "source": [
        "Now we put all the series together into one dataframe."
      ]
    },
    {
      "cell_type": "code",
      "metadata": {
        "id": "5ccY2Ybn0GBw",
        "colab": {
          "base_uri": "https://localhost:8080/",
          "height": 206
        },
        "outputId": "cabcbb45-28fd-4759-a876-dea49fec5a2d"
      },
      "source": [
        "df_dict = {'count':counts_series, 'high temperature':temp_series, 'precipitation':precip_series}\n",
        "df = pd.DataFrame(df_dict)\n",
        "df.head()"
      ],
      "execution_count": null,
      "outputs": [
        {
          "output_type": "execute_result",
          "data": {
            "text/html": [
              "<div>\n",
              "<style scoped>\n",
              "    .dataframe tbody tr th:only-of-type {\n",
              "        vertical-align: middle;\n",
              "    }\n",
              "\n",
              "    .dataframe tbody tr th {\n",
              "        vertical-align: top;\n",
              "    }\n",
              "\n",
              "    .dataframe thead th {\n",
              "        text-align: right;\n",
              "    }\n",
              "</style>\n",
              "<table border=\"1\" class=\"dataframe\">\n",
              "  <thead>\n",
              "    <tr style=\"text-align: right;\">\n",
              "      <th></th>\n",
              "      <th>count</th>\n",
              "      <th>high temperature</th>\n",
              "      <th>precipitation</th>\n",
              "    </tr>\n",
              "  </thead>\n",
              "  <tbody>\n",
              "    <tr>\n",
              "      <th>2014-01-01</th>\n",
              "      <td>2190.0</td>\n",
              "      <td>45.0</td>\n",
              "      <td>0.00</td>\n",
              "    </tr>\n",
              "    <tr>\n",
              "      <th>2014-01-02</th>\n",
              "      <td>1580.0</td>\n",
              "      <td>51.0</td>\n",
              "      <td>0.16</td>\n",
              "    </tr>\n",
              "    <tr>\n",
              "      <th>2014-01-03</th>\n",
              "      <td>2469.0</td>\n",
              "      <td>48.0</td>\n",
              "      <td>0.06</td>\n",
              "    </tr>\n",
              "    <tr>\n",
              "      <th>2014-01-04</th>\n",
              "      <td>3337.0</td>\n",
              "      <td>46.0</td>\n",
              "      <td>0.00</td>\n",
              "    </tr>\n",
              "    <tr>\n",
              "      <th>2014-01-05</th>\n",
              "      <td>2849.0</td>\n",
              "      <td>47.0</td>\n",
              "      <td>0.00</td>\n",
              "    </tr>\n",
              "  </tbody>\n",
              "</table>\n",
              "</div>"
            ],
            "text/plain": [
              "             count  high temperature  precipitation\n",
              "2014-01-01  2190.0              45.0           0.00\n",
              "2014-01-02  1580.0              51.0           0.16\n",
              "2014-01-03  2469.0              48.0           0.06\n",
              "2014-01-04  3337.0              46.0           0.00\n",
              "2014-01-05  2849.0              47.0           0.00"
            ]
          },
          "metadata": {
            "tags": []
          },
          "execution_count": 47
        }
      ]
    },
    {
      "cell_type": "markdown",
      "metadata": {
        "id": "pVCrr6kV7Yji"
      },
      "source": [
        "### Plotting the Distribution of Counts"
      ]
    },
    {
      "cell_type": "markdown",
      "metadata": {
        "id": "JpuEIMqK7j1v"
      },
      "source": [
        "Before I do anything, it's a good idea to see how this data is distributed. Certain analyses require a normal distribution, so if it's is not nrmal, I may need to evaluate other methods."
      ]
    },
    {
      "cell_type": "code",
      "metadata": {
        "colab": {
          "base_uri": "https://localhost:8080/",
          "height": 621
        },
        "id": "zKMTjH7f7vPP",
        "outputId": "8703c4f3-15d9-4a67-e9bf-a89c90a812fa"
      },
      "source": [
        "plt.figure(figsize=(width, height))\n",
        "\n",
        "ax1 = sns.histplot(data=df['count'], stat='count', bins=60)\n",
        "\n",
        "plt.title('Distribution of Counts')\n",
        "plt.xlabel('Daily Ped + Bike Count')\n",
        "plt.ylabel('Frequency')\n",
        "\n",
        "plt.show()\n",
        "plt.close()"
      ],
      "execution_count": null,
      "outputs": [
        {
          "output_type": "display_data",
          "data": {
            "image/png": "[encoded data removed]",
            "text/plain": [
              "<Figure size 864x720 with 1 Axes>"
            ]
          },
          "metadata": {
            "tags": [],
            "needs_background": "light"
          }
        }
      ]
    },
    {
      "cell_type": "markdown",
      "metadata": {
        "id": "xM-cRe2NBsdO"
      },
      "source": [
        "This distribution is fairly normal-looking, except for the obvious outliers to the right."
      ]
    },
    {
      "cell_type": "markdown",
      "metadata": {
        "id": "UcP9tX4NCLX1"
      },
      "source": [
        "##Dealing with Outliers"
      ]
    },
    {
      "cell_type": "markdown",
      "metadata": {
        "id": "5ptwLNctK4T7"
      },
      "source": [
        "There are some extreme outliers here, and I'm not going to be able to make a good model as long as they are there. I suspect they are not mistakes, though, so it's not really right to just remove them. I think there was likely a special event that day that caused numbers to jump. But building a model that accounts for any special event is going to be tough. Let's see if we can understand these outliers a bit more."
      ]
    },
    {
      "cell_type": "code",
      "metadata": {
        "colab": {
          "base_uri": "https://localhost:8080/"
        },
        "id": "zAGeJ23nGGut",
        "outputId": "5ef585ab-ac1d-4386-9a53-81470735e15b"
      },
      "source": [
        "df['count'].describe()"
      ],
      "execution_count": null,
      "outputs": [
        {
          "output_type": "execute_result",
          "data": {
            "text/plain": [
              "count     2708.000000\n",
              "mean      3669.436484\n",
              "std       2074.585832\n",
              "min          0.000000\n",
              "25%       2194.500000\n",
              "50%       3462.000000\n",
              "75%       4918.250000\n",
              "max      23740.000000\n",
              "Name: count, dtype: float64"
            ]
          },
          "metadata": {
            "tags": []
          },
          "execution_count": 49
        }
      ]
    },
    {
      "cell_type": "markdown",
      "metadata": {
        "id": "DlBG4-i8LRLa"
      },
      "source": [
        "A common way to define outliers is values more than 3 standard deviations above the mean. Based on the above, this would be any value over about 10,000, which sounds about right given the graph above. I build an array of the rows with z-scores over 3. "
      ]
    },
    {
      "cell_type": "code",
      "metadata": {
        "colab": {
          "base_uri": "https://localhost:8080/"
        },
        "id": "7DnXpFVkCOG1",
        "outputId": "f62aad50-43f5-409c-ad7d-f059925e8146"
      },
      "source": [
        "z_array = scipy.stats.zscore(df['count'])\n",
        "z_array\n",
        "outliers = np.where(z_array>3)\n",
        "outliers = list(outliers)\n",
        "outliers\n"
      ],
      "execution_count": null,
      "outputs": [
        {
          "output_type": "execute_result",
          "data": {
            "text/plain": [
              "[array([], dtype=int64)]"
            ]
          },
          "metadata": {
            "tags": []
          },
          "execution_count": 50
        }
      ]
    },
    {
      "cell_type": "markdown",
      "metadata": {
        "id": "muMwUgnzLlAa"
      },
      "source": [
        "This array is hard to work with; I want it in a list."
      ]
    },
    {
      "cell_type": "code",
      "metadata": {
        "id": "nzBTOSnkMBv1"
      },
      "source": [
        "output = [item for t in outliers for item in t]\n"
      ],
      "execution_count": null,
      "outputs": []
    },
    {
      "cell_type": "markdown",
      "metadata": {
        "id": "wk-6owkFLnqU"
      },
      "source": [
        "Now these numbers refer to the sequence of the value in the long list of dates, so they don't mean much until I can associate the data with them."
      ]
    },
    {
      "cell_type": "code",
      "metadata": {
        "colab": {
          "base_uri": "https://localhost:8080/",
          "height": 49
        },
        "id": "zi1wbN7mJ0Ma",
        "outputId": "2ce8cddb-169b-428d-fc60-35efded7e6b1"
      },
      "source": [
        "df.iloc[output]"
      ],
      "execution_count": null,
      "outputs": [
        {
          "output_type": "execute_result",
          "data": {
            "text/html": [
              "<div>\n",
              "<style scoped>\n",
              "    .dataframe tbody tr th:only-of-type {\n",
              "        vertical-align: middle;\n",
              "    }\n",
              "\n",
              "    .dataframe tbody tr th {\n",
              "        vertical-align: top;\n",
              "    }\n",
              "\n",
              "    .dataframe thead th {\n",
              "        text-align: right;\n",
              "    }\n",
              "</style>\n",
              "<table border=\"1\" class=\"dataframe\">\n",
              "  <thead>\n",
              "    <tr style=\"text-align: right;\">\n",
              "      <th></th>\n",
              "      <th>count</th>\n",
              "      <th>high temperature</th>\n",
              "      <th>precipitation</th>\n",
              "    </tr>\n",
              "  </thead>\n",
              "  <tbody>\n",
              "  </tbody>\n",
              "</table>\n",
              "</div>"
            ],
            "text/plain": [
              "Empty DataFrame\n",
              "Columns: [count, high temperature, precipitation]\n",
              "Index: []"
            ]
          },
          "metadata": {
            "tags": []
          },
          "execution_count": 52
        }
      ]
    },
    {
      "cell_type": "markdown",
      "metadata": {
        "id": "bNOQLsTMKK4v"
      },
      "source": [
        "I notice that many of these outliers are occurring in the same week of August for several years in a row. Was this a special event? I googled one of the date ranges: \"August 16-18, 2019, Myrtle Edwards Park.\" I got my answer clear as day - it was the week of Seattle's annual tribute to cannabis, [Hempfest](http://www.hempfest.org/about/seattle-hempfest-2/), which happens in the park. It figures!"
      ]
    },
    {
      "cell_type": "markdown",
      "metadata": {
        "id": "rIoVzSbFPi3S"
      },
      "source": [
        "## Incorporating Other Variables"
      ]
    },
    {
      "cell_type": "markdown",
      "metadata": {
        "id": "c9ZClW3eNJ0E"
      },
      "source": [
        "I am going to incorporate a variable \"Hempfest\" because the festival has such a big influence on bike and ped counts on the days it's held. "
      ]
    },
    {
      "cell_type": "markdown",
      "metadata": {
        "id": "m5ubdIYzlzG8"
      },
      "source": [
        "I look up the dates that the festival has been held since 2014. "
      ]
    },
    {
      "cell_type": "code",
      "metadata": {
        "colab": {
          "base_uri": "https://localhost:8080/"
        },
        "id": "Pa5l62JLauHL",
        "outputId": "2e7de2f0-d4dc-4831-cee0-97c4c8435510"
      },
      "source": [
        "Hempfestlist=pd.DatetimeIndex(['2014-08-15', '2014-08-16', '2014-08-17', '2015-08-14', '2015-08-15', '2015-08-16', '2016-08-19', '2016-08-20', '2016-08-21', '2017-08-18', '2017-08-19', '2017-08-20', '2018-08-17', '2018-08-18', '2018-08-19', '2019-08-16', '2019-08-15', '2019-08-14']) \n",
        "Hempfestlist"
      ],
      "execution_count": null,
      "outputs": [
        {
          "output_type": "execute_result",
          "data": {
            "text/plain": [
              "DatetimeIndex(['2014-08-15', '2014-08-16', '2014-08-17', '2015-08-14',\n",
              "               '2015-08-15', '2015-08-16', '2016-08-19', '2016-08-20',\n",
              "               '2016-08-21', '2017-08-18', '2017-08-19', '2017-08-20',\n",
              "               '2018-08-17', '2018-08-18', '2018-08-19', '2019-08-16',\n",
              "               '2019-08-15', '2019-08-14'],\n",
              "              dtype='datetime64[ns]', freq=None)"
            ]
          },
          "metadata": {
            "tags": []
          },
          "execution_count": 53
        }
      ]
    },
    {
      "cell_type": "code",
      "metadata": {
        "colab": {
          "base_uri": "https://localhost:8080/",
          "height": 206
        },
        "id": "_tm-cLCqiEKV",
        "outputId": "491fb682-15eb-4b8e-8d3b-1932849c5b76"
      },
      "source": [
        "start = df.index.min()\n",
        "end = df.index.max()\n",
        "dr = pd.date_range(start, end)\n",
        "df['Hempfest'] = dr.isin(Hempfestlist).astype(int)\n",
        "df.head()"
      ],
      "execution_count": null,
      "outputs": [
        {
          "output_type": "execute_result",
          "data": {
            "text/html": [
              "<div>\n",
              "<style scoped>\n",
              "    .dataframe tbody tr th:only-of-type {\n",
              "        vertical-align: middle;\n",
              "    }\n",
              "\n",
              "    .dataframe tbody tr th {\n",
              "        vertical-align: top;\n",
              "    }\n",
              "\n",
              "    .dataframe thead th {\n",
              "        text-align: right;\n",
              "    }\n",
              "</style>\n",
              "<table border=\"1\" class=\"dataframe\">\n",
              "  <thead>\n",
              "    <tr style=\"text-align: right;\">\n",
              "      <th></th>\n",
              "      <th>count</th>\n",
              "      <th>high temperature</th>\n",
              "      <th>precipitation</th>\n",
              "      <th>Hempfest</th>\n",
              "    </tr>\n",
              "  </thead>\n",
              "  <tbody>\n",
              "    <tr>\n",
              "      <th>2014-01-01</th>\n",
              "      <td>2190.0</td>\n",
              "      <td>45.0</td>\n",
              "      <td>0.00</td>\n",
              "      <td>0</td>\n",
              "    </tr>\n",
              "    <tr>\n",
              "      <th>2014-01-02</th>\n",
              "      <td>1580.0</td>\n",
              "      <td>51.0</td>\n",
              "      <td>0.16</td>\n",
              "      <td>0</td>\n",
              "    </tr>\n",
              "    <tr>\n",
              "      <th>2014-01-03</th>\n",
              "      <td>2469.0</td>\n",
              "      <td>48.0</td>\n",
              "      <td>0.06</td>\n",
              "      <td>0</td>\n",
              "    </tr>\n",
              "    <tr>\n",
              "      <th>2014-01-04</th>\n",
              "      <td>3337.0</td>\n",
              "      <td>46.0</td>\n",
              "      <td>0.00</td>\n",
              "      <td>0</td>\n",
              "    </tr>\n",
              "    <tr>\n",
              "      <th>2014-01-05</th>\n",
              "      <td>2849.0</td>\n",
              "      <td>47.0</td>\n",
              "      <td>0.00</td>\n",
              "      <td>0</td>\n",
              "    </tr>\n",
              "  </tbody>\n",
              "</table>\n",
              "</div>"
            ],
            "text/plain": [
              "             count  high temperature  precipitation  Hempfest\n",
              "2014-01-01  2190.0              45.0           0.00         0\n",
              "2014-01-02  1580.0              51.0           0.16         0\n",
              "2014-01-03  2469.0              48.0           0.06         0\n",
              "2014-01-04  3337.0              46.0           0.00         0\n",
              "2014-01-05  2849.0              47.0           0.00         0"
            ]
          },
          "metadata": {
            "tags": []
          },
          "execution_count": 54
        }
      ]
    },
    {
      "cell_type": "markdown",
      "metadata": {
        "id": "calEJAuuPprk"
      },
      "source": [
        "That should help a lot, so I'm going to leave outliers alone for now. There are a couple other variables that I need to account for here which I expect to have an influence on some of the regular variation. First, was it a weekend or not? I would expect parks to be much more crowded on weekends."
      ]
    },
    {
      "cell_type": "code",
      "metadata": {
        "id": "CqfFM2hVP4_s",
        "colab": {
          "base_uri": "https://localhost:8080/",
          "height": 206
        },
        "outputId": "406efd05-141a-4197-a9ac-2dee5e3f5b8f"
      },
      "source": [
        "df['Is Weekend?'] = ((pd.DatetimeIndex(df.index).dayofweek) // 5 == 1).astype(int)\n",
        "df.head()"
      ],
      "execution_count": null,
      "outputs": [
        {
          "output_type": "execute_result",
          "data": {
            "text/html": [
              "<div>\n",
              "<style scoped>\n",
              "    .dataframe tbody tr th:only-of-type {\n",
              "        vertical-align: middle;\n",
              "    }\n",
              "\n",
              "    .dataframe tbody tr th {\n",
              "        vertical-align: top;\n",
              "    }\n",
              "\n",
              "    .dataframe thead th {\n",
              "        text-align: right;\n",
              "    }\n",
              "</style>\n",
              "<table border=\"1\" class=\"dataframe\">\n",
              "  <thead>\n",
              "    <tr style=\"text-align: right;\">\n",
              "      <th></th>\n",
              "      <th>count</th>\n",
              "      <th>high temperature</th>\n",
              "      <th>precipitation</th>\n",
              "      <th>Hempfest</th>\n",
              "      <th>Is Weekend?</th>\n",
              "    </tr>\n",
              "  </thead>\n",
              "  <tbody>\n",
              "    <tr>\n",
              "      <th>2014-01-01</th>\n",
              "      <td>2190.0</td>\n",
              "      <td>45.0</td>\n",
              "      <td>0.00</td>\n",
              "      <td>0</td>\n",
              "      <td>0</td>\n",
              "    </tr>\n",
              "    <tr>\n",
              "      <th>2014-01-02</th>\n",
              "      <td>1580.0</td>\n",
              "      <td>51.0</td>\n",
              "      <td>0.16</td>\n",
              "      <td>0</td>\n",
              "      <td>0</td>\n",
              "    </tr>\n",
              "    <tr>\n",
              "      <th>2014-01-03</th>\n",
              "      <td>2469.0</td>\n",
              "      <td>48.0</td>\n",
              "      <td>0.06</td>\n",
              "      <td>0</td>\n",
              "      <td>0</td>\n",
              "    </tr>\n",
              "    <tr>\n",
              "      <th>2014-01-04</th>\n",
              "      <td>3337.0</td>\n",
              "      <td>46.0</td>\n",
              "      <td>0.00</td>\n",
              "      <td>0</td>\n",
              "      <td>1</td>\n",
              "    </tr>\n",
              "    <tr>\n",
              "      <th>2014-01-05</th>\n",
              "      <td>2849.0</td>\n",
              "      <td>47.0</td>\n",
              "      <td>0.00</td>\n",
              "      <td>0</td>\n",
              "      <td>1</td>\n",
              "    </tr>\n",
              "  </tbody>\n",
              "</table>\n",
              "</div>"
            ],
            "text/plain": [
              "             count  high temperature  precipitation  Hempfest  Is Weekend?\n",
              "2014-01-01  2190.0              45.0           0.00         0            0\n",
              "2014-01-02  1580.0              51.0           0.16         0            0\n",
              "2014-01-03  2469.0              48.0           0.06         0            0\n",
              "2014-01-04  3337.0              46.0           0.00         0            1\n",
              "2014-01-05  2849.0              47.0           0.00         0            1"
            ]
          },
          "metadata": {
            "tags": []
          },
          "execution_count": 55
        }
      ]
    },
    {
      "cell_type": "markdown",
      "metadata": {
        "id": "fPxfoMKhUS7V"
      },
      "source": [
        "And on holidays:"
      ]
    },
    {
      "cell_type": "code",
      "metadata": {
        "id": "QLchTRESU5wZ"
      },
      "source": [
        "from pandas.tseries.holiday import USFederalHolidayCalendar as calendar"
      ],
      "execution_count": null,
      "outputs": []
    },
    {
      "cell_type": "code",
      "metadata": {
        "id": "XONi8wbJUW0d",
        "colab": {
          "base_uri": "https://localhost:8080/",
          "height": 423
        },
        "outputId": "4966097e-3871-4cfc-e816-d5e66b3dd81b"
      },
      "source": [
        "start = df.index.min()\n",
        "end = df.index.max()\n",
        "dr = pd.date_range(start, end)\n",
        "cal = calendar()\n",
        "holidays = cal.holidays(start=dr.min(), end=dr.max())\n",
        "\n",
        "df['Is Holiday?'] = dr.isin(holidays).astype(int)\n",
        "df"
      ],
      "execution_count": null,
      "outputs": [
        {
          "output_type": "execute_result",
          "data": {
            "text/html": [
              "<div>\n",
              "<style scoped>\n",
              "    .dataframe tbody tr th:only-of-type {\n",
              "        vertical-align: middle;\n",
              "    }\n",
              "\n",
              "    .dataframe tbody tr th {\n",
              "        vertical-align: top;\n",
              "    }\n",
              "\n",
              "    .dataframe thead th {\n",
              "        text-align: right;\n",
              "    }\n",
              "</style>\n",
              "<table border=\"1\" class=\"dataframe\">\n",
              "  <thead>\n",
              "    <tr style=\"text-align: right;\">\n",
              "      <th></th>\n",
              "      <th>count</th>\n",
              "      <th>high temperature</th>\n",
              "      <th>precipitation</th>\n",
              "      <th>Hempfest</th>\n",
              "      <th>Is Weekend?</th>\n",
              "      <th>Is Holiday?</th>\n",
              "    </tr>\n",
              "  </thead>\n",
              "  <tbody>\n",
              "    <tr>\n",
              "      <th>2014-01-01</th>\n",
              "      <td>2190.0</td>\n",
              "      <td>45.0</td>\n",
              "      <td>0.00</td>\n",
              "      <td>0</td>\n",
              "      <td>0</td>\n",
              "      <td>1</td>\n",
              "    </tr>\n",
              "    <tr>\n",
              "      <th>2014-01-02</th>\n",
              "      <td>1580.0</td>\n",
              "      <td>51.0</td>\n",
              "      <td>0.16</td>\n",
              "      <td>0</td>\n",
              "      <td>0</td>\n",
              "      <td>0</td>\n",
              "    </tr>\n",
              "    <tr>\n",
              "      <th>2014-01-03</th>\n",
              "      <td>2469.0</td>\n",
              "      <td>48.0</td>\n",
              "      <td>0.06</td>\n",
              "      <td>0</td>\n",
              "      <td>0</td>\n",
              "      <td>0</td>\n",
              "    </tr>\n",
              "    <tr>\n",
              "      <th>2014-01-04</th>\n",
              "      <td>3337.0</td>\n",
              "      <td>46.0</td>\n",
              "      <td>0.00</td>\n",
              "      <td>0</td>\n",
              "      <td>1</td>\n",
              "      <td>0</td>\n",
              "    </tr>\n",
              "    <tr>\n",
              "      <th>2014-01-05</th>\n",
              "      <td>2849.0</td>\n",
              "      <td>47.0</td>\n",
              "      <td>0.00</td>\n",
              "      <td>0</td>\n",
              "      <td>1</td>\n",
              "      <td>0</td>\n",
              "    </tr>\n",
              "    <tr>\n",
              "      <th>...</th>\n",
              "      <td>...</td>\n",
              "      <td>...</td>\n",
              "      <td>...</td>\n",
              "      <td>...</td>\n",
              "      <td>...</td>\n",
              "      <td>...</td>\n",
              "    </tr>\n",
              "    <tr>\n",
              "      <th>2021-06-26</th>\n",
              "      <td>NaN</td>\n",
              "      <td>102.0</td>\n",
              "      <td>0.00</td>\n",
              "      <td>0</td>\n",
              "      <td>1</td>\n",
              "      <td>0</td>\n",
              "    </tr>\n",
              "    <tr>\n",
              "      <th>2021-06-27</th>\n",
              "      <td>NaN</td>\n",
              "      <td>104.0</td>\n",
              "      <td>0.00</td>\n",
              "      <td>0</td>\n",
              "      <td>1</td>\n",
              "      <td>0</td>\n",
              "    </tr>\n",
              "    <tr>\n",
              "      <th>2021-06-28</th>\n",
              "      <td>NaN</td>\n",
              "      <td>108.0</td>\n",
              "      <td>0.00</td>\n",
              "      <td>0</td>\n",
              "      <td>0</td>\n",
              "      <td>0</td>\n",
              "    </tr>\n",
              "    <tr>\n",
              "      <th>2021-06-29</th>\n",
              "      <td>NaN</td>\n",
              "      <td>85.0</td>\n",
              "      <td>0.00</td>\n",
              "      <td>0</td>\n",
              "      <td>0</td>\n",
              "      <td>0</td>\n",
              "    </tr>\n",
              "    <tr>\n",
              "      <th>2021-06-30</th>\n",
              "      <td>NaN</td>\n",
              "      <td>74.0</td>\n",
              "      <td>0.00</td>\n",
              "      <td>0</td>\n",
              "      <td>0</td>\n",
              "      <td>0</td>\n",
              "    </tr>\n",
              "  </tbody>\n",
              "</table>\n",
              "<p>2738 rows × 6 columns</p>\n",
              "</div>"
            ],
            "text/plain": [
              "             count  high temperature  ...  Is Weekend?  Is Holiday?\n",
              "2014-01-01  2190.0              45.0  ...            0            1\n",
              "2014-01-02  1580.0              51.0  ...            0            0\n",
              "2014-01-03  2469.0              48.0  ...            0            0\n",
              "2014-01-04  3337.0              46.0  ...            1            0\n",
              "2014-01-05  2849.0              47.0  ...            1            0\n",
              "...            ...               ...  ...          ...          ...\n",
              "2021-06-26     NaN             102.0  ...            1            0\n",
              "2021-06-27     NaN             104.0  ...            1            0\n",
              "2021-06-28     NaN             108.0  ...            0            0\n",
              "2021-06-29     NaN              85.0  ...            0            0\n",
              "2021-06-30     NaN              74.0  ...            0            0\n",
              "\n",
              "[2738 rows x 6 columns]"
            ]
          },
          "metadata": {
            "tags": []
          },
          "execution_count": 57
        }
      ]
    },
    {
      "cell_type": "markdown",
      "metadata": {
        "id": "ui7E8cSUXUWk"
      },
      "source": [
        "Let's make sure it looks like we got all the holidays:"
      ]
    },
    {
      "cell_type": "code",
      "metadata": {
        "id": "Us06ETOPVt2m",
        "colab": {
          "base_uri": "https://localhost:8080/"
        },
        "outputId": "1ae786d0-8769-4a25-9f8c-bb33dc968d9f"
      },
      "source": [
        "df['Is Holiday?'].value_counts()"
      ],
      "execution_count": null,
      "outputs": [
        {
          "output_type": "execute_result",
          "data": {
            "text/plain": [
              "0    2664\n",
              "1      74\n",
              "Name: Is Holiday?, dtype: int64"
            ]
          },
          "metadata": {
            "tags": []
          },
          "execution_count": 58
        }
      ]
    },
    {
      "cell_type": "markdown",
      "metadata": {
        "id": "RHr85xkEXZQi"
      },
      "source": [
        "Now let's combine these two columns into a single variable showing if it is a weekend or a holiday, or neither. "
      ]
    },
    {
      "cell_type": "code",
      "metadata": {
        "id": "9sLotkgVXfGF",
        "colab": {
          "base_uri": "https://localhost:8080/",
          "height": 423
        },
        "outputId": "d17d6c5c-7168-4407-c2dd-b98cb08968e5"
      },
      "source": [
        "df['Weekend or Holiday?'] = ((df['Is Weekend?'] + df['Is Holiday?']) >= 1).astype(int)\n",
        "df = df.drop(['Is Weekend?', 'Is Holiday?'], axis=1)\n",
        "df"
      ],
      "execution_count": null,
      "outputs": [
        {
          "output_type": "execute_result",
          "data": {
            "text/html": [
              "<div>\n",
              "<style scoped>\n",
              "    .dataframe tbody tr th:only-of-type {\n",
              "        vertical-align: middle;\n",
              "    }\n",
              "\n",
              "    .dataframe tbody tr th {\n",
              "        vertical-align: top;\n",
              "    }\n",
              "\n",
              "    .dataframe thead th {\n",
              "        text-align: right;\n",
              "    }\n",
              "</style>\n",
              "<table border=\"1\" class=\"dataframe\">\n",
              "  <thead>\n",
              "    <tr style=\"text-align: right;\">\n",
              "      <th></th>\n",
              "      <th>count</th>\n",
              "      <th>high temperature</th>\n",
              "      <th>precipitation</th>\n",
              "      <th>Hempfest</th>\n",
              "      <th>Weekend or Holiday?</th>\n",
              "    </tr>\n",
              "  </thead>\n",
              "  <tbody>\n",
              "    <tr>\n",
              "      <th>2014-01-01</th>\n",
              "      <td>2190.0</td>\n",
              "      <td>45.0</td>\n",
              "      <td>0.00</td>\n",
              "      <td>0</td>\n",
              "      <td>1</td>\n",
              "    </tr>\n",
              "    <tr>\n",
              "      <th>2014-01-02</th>\n",
              "      <td>1580.0</td>\n",
              "      <td>51.0</td>\n",
              "      <td>0.16</td>\n",
              "      <td>0</td>\n",
              "      <td>0</td>\n",
              "    </tr>\n",
              "    <tr>\n",
              "      <th>2014-01-03</th>\n",
              "      <td>2469.0</td>\n",
              "      <td>48.0</td>\n",
              "      <td>0.06</td>\n",
              "      <td>0</td>\n",
              "      <td>0</td>\n",
              "    </tr>\n",
              "    <tr>\n",
              "      <th>2014-01-04</th>\n",
              "      <td>3337.0</td>\n",
              "      <td>46.0</td>\n",
              "      <td>0.00</td>\n",
              "      <td>0</td>\n",
              "      <td>1</td>\n",
              "    </tr>\n",
              "    <tr>\n",
              "      <th>2014-01-05</th>\n",
              "      <td>2849.0</td>\n",
              "      <td>47.0</td>\n",
              "      <td>0.00</td>\n",
              "      <td>0</td>\n",
              "      <td>1</td>\n",
              "    </tr>\n",
              "    <tr>\n",
              "      <th>...</th>\n",
              "      <td>...</td>\n",
              "      <td>...</td>\n",
              "      <td>...</td>\n",
              "      <td>...</td>\n",
              "      <td>...</td>\n",
              "    </tr>\n",
              "    <tr>\n",
              "      <th>2021-06-26</th>\n",
              "      <td>NaN</td>\n",
              "      <td>102.0</td>\n",
              "      <td>0.00</td>\n",
              "      <td>0</td>\n",
              "      <td>1</td>\n",
              "    </tr>\n",
              "    <tr>\n",
              "      <th>2021-06-27</th>\n",
              "      <td>NaN</td>\n",
              "      <td>104.0</td>\n",
              "      <td>0.00</td>\n",
              "      <td>0</td>\n",
              "      <td>1</td>\n",
              "    </tr>\n",
              "    <tr>\n",
              "      <th>2021-06-28</th>\n",
              "      <td>NaN</td>\n",
              "      <td>108.0</td>\n",
              "      <td>0.00</td>\n",
              "      <td>0</td>\n",
              "      <td>0</td>\n",
              "    </tr>\n",
              "    <tr>\n",
              "      <th>2021-06-29</th>\n",
              "      <td>NaN</td>\n",
              "      <td>85.0</td>\n",
              "      <td>0.00</td>\n",
              "      <td>0</td>\n",
              "      <td>0</td>\n",
              "    </tr>\n",
              "    <tr>\n",
              "      <th>2021-06-30</th>\n",
              "      <td>NaN</td>\n",
              "      <td>74.0</td>\n",
              "      <td>0.00</td>\n",
              "      <td>0</td>\n",
              "      <td>0</td>\n",
              "    </tr>\n",
              "  </tbody>\n",
              "</table>\n",
              "<p>2738 rows × 5 columns</p>\n",
              "</div>"
            ],
            "text/plain": [
              "             count  high temperature  ...  Hempfest  Weekend or Holiday?\n",
              "2014-01-01  2190.0              45.0  ...         0                    1\n",
              "2014-01-02  1580.0              51.0  ...         0                    0\n",
              "2014-01-03  2469.0              48.0  ...         0                    0\n",
              "2014-01-04  3337.0              46.0  ...         0                    1\n",
              "2014-01-05  2849.0              47.0  ...         0                    1\n",
              "...            ...               ...  ...       ...                  ...\n",
              "2021-06-26     NaN             102.0  ...         0                    1\n",
              "2021-06-27     NaN             104.0  ...         0                    1\n",
              "2021-06-28     NaN             108.0  ...         0                    0\n",
              "2021-06-29     NaN              85.0  ...         0                    0\n",
              "2021-06-30     NaN              74.0  ...         0                    0\n",
              "\n",
              "[2738 rows x 5 columns]"
            ]
          },
          "metadata": {
            "tags": []
          },
          "execution_count": 59
        }
      ]
    },
    {
      "cell_type": "markdown",
      "metadata": {
        "id": "JM4_Z4JGP7k7"
      },
      "source": [
        "Let's also look at data during the pandemic to see if stay at home orders caused more people to seek solace in parks. I add a variable for \"during pandemic?\" or not, using a (somewhat subjective) estimation for when the pandemic really took hold."
      ]
    },
    {
      "cell_type": "code",
      "metadata": {
        "id": "bxGUP738QBbL",
        "colab": {
          "base_uri": "https://localhost:8080/",
          "height": 423
        },
        "outputId": "b511c008-d023-4c42-efaa-efbc0de4be52"
      },
      "source": [
        "date = df.index\n",
        "pandemic_onset = pd.to_datetime('2020-03-08')\n",
        "df['During Pandemic?'] = (date >= pandemic_onset).astype(int)\n",
        "df"
      ],
      "execution_count": null,
      "outputs": [
        {
          "output_type": "execute_result",
          "data": {
            "text/html": [
              "<div>\n",
              "<style scoped>\n",
              "    .dataframe tbody tr th:only-of-type {\n",
              "        vertical-align: middle;\n",
              "    }\n",
              "\n",
              "    .dataframe tbody tr th {\n",
              "        vertical-align: top;\n",
              "    }\n",
              "\n",
              "    .dataframe thead th {\n",
              "        text-align: right;\n",
              "    }\n",
              "</style>\n",
              "<table border=\"1\" class=\"dataframe\">\n",
              "  <thead>\n",
              "    <tr style=\"text-align: right;\">\n",
              "      <th></th>\n",
              "      <th>count</th>\n",
              "      <th>high temperature</th>\n",
              "      <th>precipitation</th>\n",
              "      <th>Hempfest</th>\n",
              "      <th>Weekend or Holiday?</th>\n",
              "      <th>During Pandemic?</th>\n",
              "    </tr>\n",
              "  </thead>\n",
              "  <tbody>\n",
              "    <tr>\n",
              "      <th>2014-01-01</th>\n",
              "      <td>2190.0</td>\n",
              "      <td>45.0</td>\n",
              "      <td>0.00</td>\n",
              "      <td>0</td>\n",
              "      <td>1</td>\n",
              "      <td>0</td>\n",
              "    </tr>\n",
              "    <tr>\n",
              "      <th>2014-01-02</th>\n",
              "      <td>1580.0</td>\n",
              "      <td>51.0</td>\n",
              "      <td>0.16</td>\n",
              "      <td>0</td>\n",
              "      <td>0</td>\n",
              "      <td>0</td>\n",
              "    </tr>\n",
              "    <tr>\n",
              "      <th>2014-01-03</th>\n",
              "      <td>2469.0</td>\n",
              "      <td>48.0</td>\n",
              "      <td>0.06</td>\n",
              "      <td>0</td>\n",
              "      <td>0</td>\n",
              "      <td>0</td>\n",
              "    </tr>\n",
              "    <tr>\n",
              "      <th>2014-01-04</th>\n",
              "      <td>3337.0</td>\n",
              "      <td>46.0</td>\n",
              "      <td>0.00</td>\n",
              "      <td>0</td>\n",
              "      <td>1</td>\n",
              "      <td>0</td>\n",
              "    </tr>\n",
              "    <tr>\n",
              "      <th>2014-01-05</th>\n",
              "      <td>2849.0</td>\n",
              "      <td>47.0</td>\n",
              "      <td>0.00</td>\n",
              "      <td>0</td>\n",
              "      <td>1</td>\n",
              "      <td>0</td>\n",
              "    </tr>\n",
              "    <tr>\n",
              "      <th>...</th>\n",
              "      <td>...</td>\n",
              "      <td>...</td>\n",
              "      <td>...</td>\n",
              "      <td>...</td>\n",
              "      <td>...</td>\n",
              "      <td>...</td>\n",
              "    </tr>\n",
              "    <tr>\n",
              "      <th>2021-06-26</th>\n",
              "      <td>NaN</td>\n",
              "      <td>102.0</td>\n",
              "      <td>0.00</td>\n",
              "      <td>0</td>\n",
              "      <td>1</td>\n",
              "      <td>1</td>\n",
              "    </tr>\n",
              "    <tr>\n",
              "      <th>2021-06-27</th>\n",
              "      <td>NaN</td>\n",
              "      <td>104.0</td>\n",
              "      <td>0.00</td>\n",
              "      <td>0</td>\n",
              "      <td>1</td>\n",
              "      <td>1</td>\n",
              "    </tr>\n",
              "    <tr>\n",
              "      <th>2021-06-28</th>\n",
              "      <td>NaN</td>\n",
              "      <td>108.0</td>\n",
              "      <td>0.00</td>\n",
              "      <td>0</td>\n",
              "      <td>0</td>\n",
              "      <td>1</td>\n",
              "    </tr>\n",
              "    <tr>\n",
              "      <th>2021-06-29</th>\n",
              "      <td>NaN</td>\n",
              "      <td>85.0</td>\n",
              "      <td>0.00</td>\n",
              "      <td>0</td>\n",
              "      <td>0</td>\n",
              "      <td>1</td>\n",
              "    </tr>\n",
              "    <tr>\n",
              "      <th>2021-06-30</th>\n",
              "      <td>NaN</td>\n",
              "      <td>74.0</td>\n",
              "      <td>0.00</td>\n",
              "      <td>0</td>\n",
              "      <td>0</td>\n",
              "      <td>1</td>\n",
              "    </tr>\n",
              "  </tbody>\n",
              "</table>\n",
              "<p>2738 rows × 6 columns</p>\n",
              "</div>"
            ],
            "text/plain": [
              "             count  high temperature  ...  Weekend or Holiday?  During Pandemic?\n",
              "2014-01-01  2190.0              45.0  ...                    1                 0\n",
              "2014-01-02  1580.0              51.0  ...                    0                 0\n",
              "2014-01-03  2469.0              48.0  ...                    0                 0\n",
              "2014-01-04  3337.0              46.0  ...                    1                 0\n",
              "2014-01-05  2849.0              47.0  ...                    1                 0\n",
              "...            ...               ...  ...                  ...               ...\n",
              "2021-06-26     NaN             102.0  ...                    1                 1\n",
              "2021-06-27     NaN             104.0  ...                    1                 1\n",
              "2021-06-28     NaN             108.0  ...                    0                 1\n",
              "2021-06-29     NaN              85.0  ...                    0                 1\n",
              "2021-06-30     NaN              74.0  ...                    0                 1\n",
              "\n",
              "[2738 rows x 6 columns]"
            ]
          },
          "metadata": {
            "tags": []
          },
          "execution_count": 60
        }
      ]
    },
    {
      "cell_type": "markdown",
      "metadata": {
        "id": "LcPiLDPADZS_"
      },
      "source": [
        "##Putting it All Together"
      ]
    },
    {
      "cell_type": "markdown",
      "metadata": {
        "id": "mXWcrOOnfWzz"
      },
      "source": [
        "Let's evaluate this dataframe to see if we have any missing data. We will be limited in how much analysis we can do if data is missing."
      ]
    },
    {
      "cell_type": "code",
      "metadata": {
        "id": "3wSEGc2feQjn",
        "colab": {
          "base_uri": "https://localhost:8080/",
          "height": 206
        },
        "outputId": "b8b73831-80d0-44a5-eeb8-ba92dc02631d"
      },
      "source": [
        "missing_data = df.isnull()\n",
        "missing_data.head()"
      ],
      "execution_count": null,
      "outputs": [
        {
          "output_type": "execute_result",
          "data": {
            "text/html": [
              "<div>\n",
              "<style scoped>\n",
              "    .dataframe tbody tr th:only-of-type {\n",
              "        vertical-align: middle;\n",
              "    }\n",
              "\n",
              "    .dataframe tbody tr th {\n",
              "        vertical-align: top;\n",
              "    }\n",
              "\n",
              "    .dataframe thead th {\n",
              "        text-align: right;\n",
              "    }\n",
              "</style>\n",
              "<table border=\"1\" class=\"dataframe\">\n",
              "  <thead>\n",
              "    <tr style=\"text-align: right;\">\n",
              "      <th></th>\n",
              "      <th>count</th>\n",
              "      <th>high temperature</th>\n",
              "      <th>precipitation</th>\n",
              "      <th>Hempfest</th>\n",
              "      <th>Weekend or Holiday?</th>\n",
              "      <th>During Pandemic?</th>\n",
              "    </tr>\n",
              "  </thead>\n",
              "  <tbody>\n",
              "    <tr>\n",
              "      <th>2014-01-01</th>\n",
              "      <td>False</td>\n",
              "      <td>False</td>\n",
              "      <td>False</td>\n",
              "      <td>False</td>\n",
              "      <td>False</td>\n",
              "      <td>False</td>\n",
              "    </tr>\n",
              "    <tr>\n",
              "      <th>2014-01-02</th>\n",
              "      <td>False</td>\n",
              "      <td>False</td>\n",
              "      <td>False</td>\n",
              "      <td>False</td>\n",
              "      <td>False</td>\n",
              "      <td>False</td>\n",
              "    </tr>\n",
              "    <tr>\n",
              "      <th>2014-01-03</th>\n",
              "      <td>False</td>\n",
              "      <td>False</td>\n",
              "      <td>False</td>\n",
              "      <td>False</td>\n",
              "      <td>False</td>\n",
              "      <td>False</td>\n",
              "    </tr>\n",
              "    <tr>\n",
              "      <th>2014-01-04</th>\n",
              "      <td>False</td>\n",
              "      <td>False</td>\n",
              "      <td>False</td>\n",
              "      <td>False</td>\n",
              "      <td>False</td>\n",
              "      <td>False</td>\n",
              "    </tr>\n",
              "    <tr>\n",
              "      <th>2014-01-05</th>\n",
              "      <td>False</td>\n",
              "      <td>False</td>\n",
              "      <td>False</td>\n",
              "      <td>False</td>\n",
              "      <td>False</td>\n",
              "      <td>False</td>\n",
              "    </tr>\n",
              "  </tbody>\n",
              "</table>\n",
              "</div>"
            ],
            "text/plain": [
              "            count  high temperature  ...  Weekend or Holiday?  During Pandemic?\n",
              "2014-01-01  False             False  ...                False             False\n",
              "2014-01-02  False             False  ...                False             False\n",
              "2014-01-03  False             False  ...                False             False\n",
              "2014-01-04  False             False  ...                False             False\n",
              "2014-01-05  False             False  ...                False             False\n",
              "\n",
              "[5 rows x 6 columns]"
            ]
          },
          "metadata": {
            "tags": []
          },
          "execution_count": 61
        }
      ]
    },
    {
      "cell_type": "code",
      "metadata": {
        "id": "GmG77W3Hebrt",
        "colab": {
          "base_uri": "https://localhost:8080/"
        },
        "outputId": "e5940733-bd5b-4d2b-9ce2-f9be235144ed"
      },
      "source": [
        "for column in missing_data.columns.values.tolist():\n",
        "    print(column)\n",
        "    print (missing_data[column].value_counts())\n",
        "    print(\"\")  "
      ],
      "execution_count": null,
      "outputs": [
        {
          "output_type": "stream",
          "text": [
            "count\n",
            "False    2708\n",
            "True       30\n",
            "Name: count, dtype: int64\n",
            "\n",
            "high temperature\n",
            "False    2737\n",
            "True        1\n",
            "Name: high temperature, dtype: int64\n",
            "\n",
            "precipitation\n",
            "False    2737\n",
            "True        1\n",
            "Name: precipitation, dtype: int64\n",
            "\n",
            "Hempfest\n",
            "False    2738\n",
            "Name: Hempfest, dtype: int64\n",
            "\n",
            "Weekend or Holiday?\n",
            "False    2738\n",
            "Name: Weekend or Holiday?, dtype: int64\n",
            "\n",
            "During Pandemic?\n",
            "False    2738\n",
            "Name: During Pandemic?, dtype: int64\n",
            "\n"
          ],
          "name": "stdout"
        }
      ]
    },
    {
      "cell_type": "markdown",
      "metadata": {
        "id": "O0y-1Cb1fgPS"
      },
      "source": [
        "We can see here that (at least at the time of writing) there are a few dates missing a count value, 1 date missing temperature, and 1 date missing precipitation. Let's start with count since it has the most NaN values. There are many ways to deal with this missing data. In some instances I could replace these NaN values with the average count. But since count is my target - what I'm trying to predict - that doesn't seem like a good idea. The NaN values account for less 1% of my total dataset. Therefore, I could just remove these records.\n",
        "\n",
        "But wait - let's make sure that these missing count values don't just fall at the end of the dataset because the API hasn't updated yet. If I look at the last 30 rows, that should be enough to show if all 24 missing temperatures are at the end."
      ]
    },
    {
      "cell_type": "code",
      "metadata": {
        "id": "GnIZmRyYkwG-",
        "colab": {
          "base_uri": "https://localhost:8080/",
          "height": 989
        },
        "outputId": "72de7d71-1b0e-4f3b-c644-d03854aaffc5"
      },
      "source": [
        "df.tail(30)"
      ],
      "execution_count": null,
      "outputs": [
        {
          "output_type": "execute_result",
          "data": {
            "text/html": [
              "<div>\n",
              "<style scoped>\n",
              "    .dataframe tbody tr th:only-of-type {\n",
              "        vertical-align: middle;\n",
              "    }\n",
              "\n",
              "    .dataframe tbody tr th {\n",
              "        vertical-align: top;\n",
              "    }\n",
              "\n",
              "    .dataframe thead th {\n",
              "        text-align: right;\n",
              "    }\n",
              "</style>\n",
              "<table border=\"1\" class=\"dataframe\">\n",
              "  <thead>\n",
              "    <tr style=\"text-align: right;\">\n",
              "      <th></th>\n",
              "      <th>count</th>\n",
              "      <th>high temperature</th>\n",
              "      <th>precipitation</th>\n",
              "      <th>Hempfest</th>\n",
              "      <th>Weekend or Holiday?</th>\n",
              "      <th>During Pandemic?</th>\n",
              "    </tr>\n",
              "  </thead>\n",
              "  <tbody>\n",
              "    <tr>\n",
              "      <th>2021-06-01</th>\n",
              "      <td>NaN</td>\n",
              "      <td>86.0</td>\n",
              "      <td>0.00</td>\n",
              "      <td>0</td>\n",
              "      <td>0</td>\n",
              "      <td>1</td>\n",
              "    </tr>\n",
              "    <tr>\n",
              "      <th>2021-06-02</th>\n",
              "      <td>NaN</td>\n",
              "      <td>85.0</td>\n",
              "      <td>0.00</td>\n",
              "      <td>0</td>\n",
              "      <td>0</td>\n",
              "      <td>1</td>\n",
              "    </tr>\n",
              "    <tr>\n",
              "      <th>2021-06-03</th>\n",
              "      <td>NaN</td>\n",
              "      <td>75.0</td>\n",
              "      <td>0.00</td>\n",
              "      <td>0</td>\n",
              "      <td>0</td>\n",
              "      <td>1</td>\n",
              "    </tr>\n",
              "    <tr>\n",
              "      <th>2021-06-04</th>\n",
              "      <td>NaN</td>\n",
              "      <td>68.0</td>\n",
              "      <td>0.00</td>\n",
              "      <td>0</td>\n",
              "      <td>0</td>\n",
              "      <td>1</td>\n",
              "    </tr>\n",
              "    <tr>\n",
              "      <th>2021-06-05</th>\n",
              "      <td>NaN</td>\n",
              "      <td>66.0</td>\n",
              "      <td>0.00</td>\n",
              "      <td>0</td>\n",
              "      <td>1</td>\n",
              "      <td>1</td>\n",
              "    </tr>\n",
              "    <tr>\n",
              "      <th>2021-06-06</th>\n",
              "      <td>NaN</td>\n",
              "      <td>55.0</td>\n",
              "      <td>0.35</td>\n",
              "      <td>0</td>\n",
              "      <td>1</td>\n",
              "      <td>1</td>\n",
              "    </tr>\n",
              "    <tr>\n",
              "      <th>2021-06-07</th>\n",
              "      <td>NaN</td>\n",
              "      <td>63.0</td>\n",
              "      <td>0.11</td>\n",
              "      <td>0</td>\n",
              "      <td>0</td>\n",
              "      <td>1</td>\n",
              "    </tr>\n",
              "    <tr>\n",
              "      <th>2021-06-08</th>\n",
              "      <td>NaN</td>\n",
              "      <td>69.0</td>\n",
              "      <td>0.01</td>\n",
              "      <td>0</td>\n",
              "      <td>0</td>\n",
              "      <td>1</td>\n",
              "    </tr>\n",
              "    <tr>\n",
              "      <th>2021-06-09</th>\n",
              "      <td>NaN</td>\n",
              "      <td>68.0</td>\n",
              "      <td>0.00</td>\n",
              "      <td>0</td>\n",
              "      <td>0</td>\n",
              "      <td>1</td>\n",
              "    </tr>\n",
              "    <tr>\n",
              "      <th>2021-06-10</th>\n",
              "      <td>NaN</td>\n",
              "      <td>65.0</td>\n",
              "      <td>0.00</td>\n",
              "      <td>0</td>\n",
              "      <td>0</td>\n",
              "      <td>1</td>\n",
              "    </tr>\n",
              "    <tr>\n",
              "      <th>2021-06-11</th>\n",
              "      <td>NaN</td>\n",
              "      <td>59.0</td>\n",
              "      <td>0.46</td>\n",
              "      <td>0</td>\n",
              "      <td>0</td>\n",
              "      <td>1</td>\n",
              "    </tr>\n",
              "    <tr>\n",
              "      <th>2021-06-12</th>\n",
              "      <td>NaN</td>\n",
              "      <td>73.0</td>\n",
              "      <td>0.13</td>\n",
              "      <td>0</td>\n",
              "      <td>1</td>\n",
              "      <td>1</td>\n",
              "    </tr>\n",
              "    <tr>\n",
              "      <th>2021-06-13</th>\n",
              "      <td>NaN</td>\n",
              "      <td>64.0</td>\n",
              "      <td>0.81</td>\n",
              "      <td>0</td>\n",
              "      <td>1</td>\n",
              "      <td>1</td>\n",
              "    </tr>\n",
              "    <tr>\n",
              "      <th>2021-06-14</th>\n",
              "      <td>NaN</td>\n",
              "      <td>65.0</td>\n",
              "      <td>0.04</td>\n",
              "      <td>0</td>\n",
              "      <td>0</td>\n",
              "      <td>1</td>\n",
              "    </tr>\n",
              "    <tr>\n",
              "      <th>2021-06-15</th>\n",
              "      <td>NaN</td>\n",
              "      <td>69.0</td>\n",
              "      <td>0.00</td>\n",
              "      <td>0</td>\n",
              "      <td>0</td>\n",
              "      <td>1</td>\n",
              "    </tr>\n",
              "    <tr>\n",
              "      <th>2021-06-16</th>\n",
              "      <td>NaN</td>\n",
              "      <td>72.0</td>\n",
              "      <td>0.00</td>\n",
              "      <td>0</td>\n",
              "      <td>0</td>\n",
              "      <td>1</td>\n",
              "    </tr>\n",
              "    <tr>\n",
              "      <th>2021-06-17</th>\n",
              "      <td>NaN</td>\n",
              "      <td>NaN</td>\n",
              "      <td>NaN</td>\n",
              "      <td>0</td>\n",
              "      <td>0</td>\n",
              "      <td>1</td>\n",
              "    </tr>\n",
              "    <tr>\n",
              "      <th>2021-06-18</th>\n",
              "      <td>NaN</td>\n",
              "      <td>74.0</td>\n",
              "      <td>0.00</td>\n",
              "      <td>0</td>\n",
              "      <td>0</td>\n",
              "      <td>1</td>\n",
              "    </tr>\n",
              "    <tr>\n",
              "      <th>2021-06-19</th>\n",
              "      <td>NaN</td>\n",
              "      <td>76.0</td>\n",
              "      <td>0.00</td>\n",
              "      <td>0</td>\n",
              "      <td>1</td>\n",
              "      <td>1</td>\n",
              "    </tr>\n",
              "    <tr>\n",
              "      <th>2021-06-20</th>\n",
              "      <td>NaN</td>\n",
              "      <td>81.0</td>\n",
              "      <td>0.00</td>\n",
              "      <td>0</td>\n",
              "      <td>1</td>\n",
              "      <td>1</td>\n",
              "    </tr>\n",
              "    <tr>\n",
              "      <th>2021-06-21</th>\n",
              "      <td>NaN</td>\n",
              "      <td>89.0</td>\n",
              "      <td>0.00</td>\n",
              "      <td>0</td>\n",
              "      <td>0</td>\n",
              "      <td>1</td>\n",
              "    </tr>\n",
              "    <tr>\n",
              "      <th>2021-06-22</th>\n",
              "      <td>NaN</td>\n",
              "      <td>76.0</td>\n",
              "      <td>0.00</td>\n",
              "      <td>0</td>\n",
              "      <td>0</td>\n",
              "      <td>1</td>\n",
              "    </tr>\n",
              "    <tr>\n",
              "      <th>2021-06-23</th>\n",
              "      <td>NaN</td>\n",
              "      <td>77.0</td>\n",
              "      <td>0.00</td>\n",
              "      <td>0</td>\n",
              "      <td>0</td>\n",
              "      <td>1</td>\n",
              "    </tr>\n",
              "    <tr>\n",
              "      <th>2021-06-24</th>\n",
              "      <td>NaN</td>\n",
              "      <td>83.0</td>\n",
              "      <td>0.00</td>\n",
              "      <td>0</td>\n",
              "      <td>0</td>\n",
              "      <td>1</td>\n",
              "    </tr>\n",
              "    <tr>\n",
              "      <th>2021-06-25</th>\n",
              "      <td>NaN</td>\n",
              "      <td>87.0</td>\n",
              "      <td>0.00</td>\n",
              "      <td>0</td>\n",
              "      <td>0</td>\n",
              "      <td>1</td>\n",
              "    </tr>\n",
              "    <tr>\n",
              "      <th>2021-06-26</th>\n",
              "      <td>NaN</td>\n",
              "      <td>102.0</td>\n",
              "      <td>0.00</td>\n",
              "      <td>0</td>\n",
              "      <td>1</td>\n",
              "      <td>1</td>\n",
              "    </tr>\n",
              "    <tr>\n",
              "      <th>2021-06-27</th>\n",
              "      <td>NaN</td>\n",
              "      <td>104.0</td>\n",
              "      <td>0.00</td>\n",
              "      <td>0</td>\n",
              "      <td>1</td>\n",
              "      <td>1</td>\n",
              "    </tr>\n",
              "    <tr>\n",
              "      <th>2021-06-28</th>\n",
              "      <td>NaN</td>\n",
              "      <td>108.0</td>\n",
              "      <td>0.00</td>\n",
              "      <td>0</td>\n",
              "      <td>0</td>\n",
              "      <td>1</td>\n",
              "    </tr>\n",
              "    <tr>\n",
              "      <th>2021-06-29</th>\n",
              "      <td>NaN</td>\n",
              "      <td>85.0</td>\n",
              "      <td>0.00</td>\n",
              "      <td>0</td>\n",
              "      <td>0</td>\n",
              "      <td>1</td>\n",
              "    </tr>\n",
              "    <tr>\n",
              "      <th>2021-06-30</th>\n",
              "      <td>NaN</td>\n",
              "      <td>74.0</td>\n",
              "      <td>0.00</td>\n",
              "      <td>0</td>\n",
              "      <td>0</td>\n",
              "      <td>1</td>\n",
              "    </tr>\n",
              "  </tbody>\n",
              "</table>\n",
              "</div>"
            ],
            "text/plain": [
              "            count  high temperature  ...  Weekend or Holiday?  During Pandemic?\n",
              "2021-06-01    NaN              86.0  ...                    0                 1\n",
              "2021-06-02    NaN              85.0  ...                    0                 1\n",
              "2021-06-03    NaN              75.0  ...                    0                 1\n",
              "2021-06-04    NaN              68.0  ...                    0                 1\n",
              "2021-06-05    NaN              66.0  ...                    1                 1\n",
              "2021-06-06    NaN              55.0  ...                    1                 1\n",
              "2021-06-07    NaN              63.0  ...                    0                 1\n",
              "2021-06-08    NaN              69.0  ...                    0                 1\n",
              "2021-06-09    NaN              68.0  ...                    0                 1\n",
              "2021-06-10    NaN              65.0  ...                    0                 1\n",
              "2021-06-11    NaN              59.0  ...                    0                 1\n",
              "2021-06-12    NaN              73.0  ...                    1                 1\n",
              "2021-06-13    NaN              64.0  ...                    1                 1\n",
              "2021-06-14    NaN              65.0  ...                    0                 1\n",
              "2021-06-15    NaN              69.0  ...                    0                 1\n",
              "2021-06-16    NaN              72.0  ...                    0                 1\n",
              "2021-06-17    NaN               NaN  ...                    0                 1\n",
              "2021-06-18    NaN              74.0  ...                    0                 1\n",
              "2021-06-19    NaN              76.0  ...                    1                 1\n",
              "2021-06-20    NaN              81.0  ...                    1                 1\n",
              "2021-06-21    NaN              89.0  ...                    0                 1\n",
              "2021-06-22    NaN              76.0  ...                    0                 1\n",
              "2021-06-23    NaN              77.0  ...                    0                 1\n",
              "2021-06-24    NaN              83.0  ...                    0                 1\n",
              "2021-06-25    NaN              87.0  ...                    0                 1\n",
              "2021-06-26    NaN             102.0  ...                    1                 1\n",
              "2021-06-27    NaN             104.0  ...                    1                 1\n",
              "2021-06-28    NaN             108.0  ...                    0                 1\n",
              "2021-06-29    NaN              85.0  ...                    0                 1\n",
              "2021-06-30    NaN              74.0  ...                    0                 1\n",
              "\n",
              "[30 rows x 6 columns]"
            ]
          },
          "metadata": {
            "tags": []
          },
          "execution_count": 63
        }
      ]
    },
    {
      "cell_type": "markdown",
      "metadata": {
        "id": "31B4f5k4k74z"
      },
      "source": [
        "They are! In fact, this reminds me that the count data API only refreshes monthly and it looks like the NOAA data is a couple days behind. But that's ok, because I can exclude that data for now, but when I re-run this code in a future month, it will have updated."
      ]
    },
    {
      "cell_type": "code",
      "metadata": {
        "id": "cgtIkmBagTB_"
      },
      "source": [
        "df.dropna(subset=['count'], axis=0, inplace=True)\n",
        "df.dropna(subset=['high temperature'], axis=0, inplace=True)\n",
        "df.dropna(subset=['precipitation'], axis=0, inplace=True)"
      ],
      "execution_count": null,
      "outputs": []
    },
    {
      "cell_type": "markdown",
      "metadata": {
        "id": "3DRCCyRnutqg"
      },
      "source": [
        "Now let's be sure that we took care of all our NaN values."
      ]
    },
    {
      "cell_type": "code",
      "metadata": {
        "id": "oJB0SZJwumb1",
        "colab": {
          "base_uri": "https://localhost:8080/"
        },
        "outputId": "87d3bdc7-a073-4c4e-de9c-82c913d43169"
      },
      "source": [
        "missing_data = df.isnull()\n",
        "missing_data.tail()\n",
        "\n",
        "for column in missing_data.columns.values.tolist():\n",
        "    print(column)\n",
        "    print (missing_data[column].value_counts())\n",
        "    print(\"\")  "
      ],
      "execution_count": null,
      "outputs": [
        {
          "output_type": "stream",
          "text": [
            "count\n",
            "False    2708\n",
            "Name: count, dtype: int64\n",
            "\n",
            "high temperature\n",
            "False    2708\n",
            "Name: high temperature, dtype: int64\n",
            "\n",
            "precipitation\n",
            "False    2708\n",
            "Name: precipitation, dtype: int64\n",
            "\n",
            "Hempfest\n",
            "False    2708\n",
            "Name: Hempfest, dtype: int64\n",
            "\n",
            "Weekend or Holiday?\n",
            "False    2708\n",
            "Name: Weekend or Holiday?, dtype: int64\n",
            "\n",
            "During Pandemic?\n",
            "False    2708\n",
            "Name: During Pandemic?, dtype: int64\n",
            "\n"
          ],
          "name": "stdout"
        }
      ]
    },
    {
      "cell_type": "markdown",
      "metadata": {
        "id": "Ecmno1gXuypp"
      },
      "source": [
        "no values are marked \"True,\" which would mean they were null values in this case, so we're good to go."
      ]
    },
    {
      "cell_type": "markdown",
      "metadata": {
        "id": "85ori6ZOdvZl"
      },
      "source": [
        "## Descriptive Statistics"
      ]
    },
    {
      "cell_type": "markdown",
      "metadata": {
        "id": "zsJOumRyd0We"
      },
      "source": [
        "Now let's run some basic stats to understand how counts are distributed based on these different variables. It will help me know what to expect when I run a regression. "
      ]
    },
    {
      "cell_type": "code",
      "metadata": {
        "id": "F0Qi8Mard94Q",
        "colab": {
          "base_uri": "https://localhost:8080/",
          "height": 300
        },
        "outputId": "717a9734-cea7-4788-e631-d702d87f6beb"
      },
      "source": [
        "df.describe()"
      ],
      "execution_count": null,
      "outputs": [
        {
          "output_type": "execute_result",
          "data": {
            "text/html": [
              "<div>\n",
              "<style scoped>\n",
              "    .dataframe tbody tr th:only-of-type {\n",
              "        vertical-align: middle;\n",
              "    }\n",
              "\n",
              "    .dataframe tbody tr th {\n",
              "        vertical-align: top;\n",
              "    }\n",
              "\n",
              "    .dataframe thead th {\n",
              "        text-align: right;\n",
              "    }\n",
              "</style>\n",
              "<table border=\"1\" class=\"dataframe\">\n",
              "  <thead>\n",
              "    <tr style=\"text-align: right;\">\n",
              "      <th></th>\n",
              "      <th>count</th>\n",
              "      <th>high temperature</th>\n",
              "      <th>precipitation</th>\n",
              "      <th>Hempfest</th>\n",
              "      <th>Weekend or Holiday?</th>\n",
              "      <th>During Pandemic?</th>\n",
              "    </tr>\n",
              "  </thead>\n",
              "  <tbody>\n",
              "    <tr>\n",
              "      <th>count</th>\n",
              "      <td>2708.000000</td>\n",
              "      <td>2708.000000</td>\n",
              "      <td>2708.000000</td>\n",
              "      <td>2708.000000</td>\n",
              "      <td>2708.000000</td>\n",
              "      <td>2708.000000</td>\n",
              "    </tr>\n",
              "    <tr>\n",
              "      <th>mean</th>\n",
              "      <td>3669.436484</td>\n",
              "      <td>61.761817</td>\n",
              "      <td>0.116507</td>\n",
              "      <td>0.006647</td>\n",
              "      <td>0.313146</td>\n",
              "      <td>0.166174</td>\n",
              "    </tr>\n",
              "    <tr>\n",
              "      <th>std</th>\n",
              "      <td>2074.585832</td>\n",
              "      <td>13.099480</td>\n",
              "      <td>0.260973</td>\n",
              "      <td>0.081273</td>\n",
              "      <td>0.463859</td>\n",
              "      <td>0.372306</td>\n",
              "    </tr>\n",
              "    <tr>\n",
              "      <th>min</th>\n",
              "      <td>0.000000</td>\n",
              "      <td>29.000000</td>\n",
              "      <td>0.000000</td>\n",
              "      <td>0.000000</td>\n",
              "      <td>0.000000</td>\n",
              "      <td>0.000000</td>\n",
              "    </tr>\n",
              "    <tr>\n",
              "      <th>25%</th>\n",
              "      <td>2194.500000</td>\n",
              "      <td>51.000000</td>\n",
              "      <td>0.000000</td>\n",
              "      <td>0.000000</td>\n",
              "      <td>0.000000</td>\n",
              "      <td>0.000000</td>\n",
              "    </tr>\n",
              "    <tr>\n",
              "      <th>50%</th>\n",
              "      <td>3462.000000</td>\n",
              "      <td>60.000000</td>\n",
              "      <td>0.000000</td>\n",
              "      <td>0.000000</td>\n",
              "      <td>0.000000</td>\n",
              "      <td>0.000000</td>\n",
              "    </tr>\n",
              "    <tr>\n",
              "      <th>75%</th>\n",
              "      <td>4918.250000</td>\n",
              "      <td>72.000000</td>\n",
              "      <td>0.110000</td>\n",
              "      <td>0.000000</td>\n",
              "      <td>1.000000</td>\n",
              "      <td>0.000000</td>\n",
              "    </tr>\n",
              "    <tr>\n",
              "      <th>max</th>\n",
              "      <td>23740.000000</td>\n",
              "      <td>98.000000</td>\n",
              "      <td>3.250000</td>\n",
              "      <td>1.000000</td>\n",
              "      <td>1.000000</td>\n",
              "      <td>1.000000</td>\n",
              "    </tr>\n",
              "  </tbody>\n",
              "</table>\n",
              "</div>"
            ],
            "text/plain": [
              "              count  high temperature  ...  Weekend or Holiday?  During Pandemic?\n",
              "count   2708.000000       2708.000000  ...          2708.000000       2708.000000\n",
              "mean    3669.436484         61.761817  ...             0.313146          0.166174\n",
              "std     2074.585832         13.099480  ...             0.463859          0.372306\n",
              "min        0.000000         29.000000  ...             0.000000          0.000000\n",
              "25%     2194.500000         51.000000  ...             0.000000          0.000000\n",
              "50%     3462.000000         60.000000  ...             0.000000          0.000000\n",
              "75%     4918.250000         72.000000  ...             1.000000          0.000000\n",
              "max    23740.000000         98.000000  ...             1.000000          1.000000\n",
              "\n",
              "[8 rows x 6 columns]"
            ]
          },
          "metadata": {
            "tags": []
          },
          "execution_count": 66
        }
      ]
    },
    {
      "cell_type": "markdown",
      "metadata": {
        "id": "O7AaKX24RT4v"
      },
      "source": [
        "At this point I might choose to standardize the variables to make them all on the same scale. I can see here that ``Temperature`` is on a very different scale than ``count`` which is different than the 1/0 binary scale that ``Weekend or Holiday?`` and ``During Pandemic?`` use. While standardizing might help make the data easier to work with, it should not affect the r-squared value or the relationships between the variables, as I understand. So I am not going to worry about that here, because standardizing might cause the variables to lose meaning when I go to interpret the results. "
      ]
    },
    {
      "cell_type": "markdown",
      "metadata": {
        "id": "efR79dUqDf9k"
      },
      "source": [
        "##Evaluating the Relationships between Variables"
      ]
    },
    {
      "cell_type": "markdown",
      "metadata": {
        "id": "nzZkcDNqxLr9"
      },
      "source": [
        "Let's take an initial look at the correlation between some of these variables to see which relationships are worth exploring further."
      ]
    },
    {
      "cell_type": "code",
      "metadata": {
        "id": "kcDwclldXSzN",
        "colab": {
          "base_uri": "https://localhost:8080/",
          "height": 237
        },
        "outputId": "aa9985b8-a5b4-407a-ed2e-c00bb357f6f7"
      },
      "source": [
        "df.corr()"
      ],
      "execution_count": null,
      "outputs": [
        {
          "output_type": "execute_result",
          "data": {
            "text/html": [
              "<div>\n",
              "<style scoped>\n",
              "    .dataframe tbody tr th:only-of-type {\n",
              "        vertical-align: middle;\n",
              "    }\n",
              "\n",
              "    .dataframe tbody tr th {\n",
              "        vertical-align: top;\n",
              "    }\n",
              "\n",
              "    .dataframe thead th {\n",
              "        text-align: right;\n",
              "    }\n",
              "</style>\n",
              "<table border=\"1\" class=\"dataframe\">\n",
              "  <thead>\n",
              "    <tr style=\"text-align: right;\">\n",
              "      <th></th>\n",
              "      <th>count</th>\n",
              "      <th>high temperature</th>\n",
              "      <th>precipitation</th>\n",
              "      <th>Hempfest</th>\n",
              "      <th>Weekend or Holiday?</th>\n",
              "      <th>During Pandemic?</th>\n",
              "    </tr>\n",
              "  </thead>\n",
              "  <tbody>\n",
              "    <tr>\n",
              "      <th>count</th>\n",
              "      <td>1.000000</td>\n",
              "      <td>0.660293</td>\n",
              "      <td>-0.390282</td>\n",
              "      <td>0.456279</td>\n",
              "      <td>0.005387</td>\n",
              "      <td>0.088211</td>\n",
              "    </tr>\n",
              "    <tr>\n",
              "      <th>high temperature</th>\n",
              "      <td>0.660293</td>\n",
              "      <td>1.000000</td>\n",
              "      <td>-0.247088</td>\n",
              "      <td>0.100032</td>\n",
              "      <td>-0.038181</td>\n",
              "      <td>-0.009151</td>\n",
              "    </tr>\n",
              "    <tr>\n",
              "      <th>precipitation</th>\n",
              "      <td>-0.390282</td>\n",
              "      <td>-0.247088</td>\n",
              "      <td>1.000000</td>\n",
              "      <td>-0.014928</td>\n",
              "      <td>-0.004021</td>\n",
              "      <td>-0.027139</td>\n",
              "    </tr>\n",
              "    <tr>\n",
              "      <th>Hempfest</th>\n",
              "      <td>0.456279</td>\n",
              "      <td>0.100032</td>\n",
              "      <td>-0.014928</td>\n",
              "      <td>1.000000</td>\n",
              "      <td>0.042757</td>\n",
              "      <td>-0.036518</td>\n",
              "    </tr>\n",
              "    <tr>\n",
              "      <th>Weekend or Holiday?</th>\n",
              "      <td>0.005387</td>\n",
              "      <td>-0.038181</td>\n",
              "      <td>-0.004021</td>\n",
              "      <td>0.042757</td>\n",
              "      <td>1.000000</td>\n",
              "      <td>-0.001959</td>\n",
              "    </tr>\n",
              "    <tr>\n",
              "      <th>During Pandemic?</th>\n",
              "      <td>0.088211</td>\n",
              "      <td>-0.009151</td>\n",
              "      <td>-0.027139</td>\n",
              "      <td>-0.036518</td>\n",
              "      <td>-0.001959</td>\n",
              "      <td>1.000000</td>\n",
              "    </tr>\n",
              "  </tbody>\n",
              "</table>\n",
              "</div>"
            ],
            "text/plain": [
              "                        count  ...  During Pandemic?\n",
              "count                1.000000  ...          0.088211\n",
              "high temperature     0.660293  ...         -0.009151\n",
              "precipitation       -0.390282  ...         -0.027139\n",
              "Hempfest             0.456279  ...         -0.036518\n",
              "Weekend or Holiday?  0.005387  ...         -0.001959\n",
              "During Pandemic?     0.088211  ...          1.000000\n",
              "\n",
              "[6 rows x 6 columns]"
            ]
          },
          "metadata": {
            "tags": []
          },
          "execution_count": 67
        }
      ]
    },
    {
      "cell_type": "markdown",
      "metadata": {
        "id": "yyJuQTHRQR-m"
      },
      "source": [
        "First off, I'm surprised that there is no relationship between the count and the 'Weekend or Holiday?' variable. Let's plot this to understand it better:"
      ]
    },
    {
      "cell_type": "code",
      "metadata": {
        "id": "uV7AgSLAeQyO",
        "colab": {
          "base_uri": "https://localhost:8080/",
          "height": 297
        },
        "outputId": "ef583a16-a66e-426c-cd53-3eb49d35ab3c"
      },
      "source": [
        "sns.boxplot(x=\"Weekend or Holiday?\", y=\"count\", data=df)"
      ],
      "execution_count": null,
      "outputs": [
        {
          "output_type": "execute_result",
          "data": {
            "text/plain": [
              "<matplotlib.axes._subplots.AxesSubplot at 0x7f29912230d0>"
            ]
          },
          "metadata": {
            "tags": []
          },
          "execution_count": 68
        },
        {
          "output_type": "display_data",
          "data": {
            "image/png": "[encoded data removed]",
            "text/plain": [
              "<Figure size 432x288 with 1 Axes>"
            ]
          },
          "metadata": {
            "tags": [],
            "needs_background": "light"
          }
        }
      ]
    },
    {
      "cell_type": "markdown",
      "metadata": {
        "id": "QTbJEY5yf7gC"
      },
      "source": [
        "So while overall there is significant overlap of counts between weekends/holidays and regular weekdays, there are more outliers on the high end during weekends. Therefore, this alone isn't as good a predictor as I would have expected, but we can still explore it when it is combined with another variable like weather. After all, it makes sense to me that if the weather is bad it doesn't much matter what day it is, I'm not likely to go to the park. But if it's Saturday and it's sunny - I bet we'll see something there. We will get to that soon."
      ]
    },
    {
      "cell_type": "markdown",
      "metadata": {
        "id": "59vKr9wNWRS1"
      },
      "source": [
        "Let's do the same boxplot for whether we're in a pandemic or not."
      ]
    },
    {
      "cell_type": "code",
      "metadata": {
        "id": "1HzO2j6dfmH5",
        "colab": {
          "base_uri": "https://localhost:8080/",
          "height": 297
        },
        "outputId": "f252f5f9-4558-4787-8fff-969e784ab804"
      },
      "source": [
        "sns.boxplot(x=\"During Pandemic?\", y=\"count\", data=df)"
      ],
      "execution_count": null,
      "outputs": [
        {
          "output_type": "execute_result",
          "data": {
            "text/plain": [
              "<matplotlib.axes._subplots.AxesSubplot at 0x7f2990e951d0>"
            ]
          },
          "metadata": {
            "tags": []
          },
          "execution_count": 69
        },
        {
          "output_type": "display_data",
          "data": {
            "image/png": "[encoded data removed]",
            "text/plain": [
              "<Figure size 432x288 with 1 Axes>"
            ]
          },
          "metadata": {
            "tags": [],
            "needs_background": "light"
          }
        }
      ]
    },
    {
      "cell_type": "markdown",
      "metadata": {
        "id": "IPKzdE-9fp1-"
      },
      "source": [
        "Again, there's a lot of overlap there, but most of the outliers this time are in pre-pandemic days. Now that we know that those outliers are mostly the Hempfest festival, it makes sense. It wasn't held in person during the pandemic. "
      ]
    },
    {
      "cell_type": "markdown",
      "metadata": {
        "id": "WBYHur60w9ds"
      },
      "source": [
        "Just to see how satisfying a boxplot can look when there is a lot of variation, let's look at Hempfest days and non-Hempfest days."
      ]
    },
    {
      "cell_type": "code",
      "metadata": {
        "colab": {
          "base_uri": "https://localhost:8080/",
          "height": 297
        },
        "id": "7txdHohUxJKz",
        "outputId": "ed387be3-386a-4285-ef94-23444fd8a101"
      },
      "source": [
        "sns.boxplot(x=\"Hempfest\", y=\"count\", data=df)"
      ],
      "execution_count": null,
      "outputs": [
        {
          "output_type": "execute_result",
          "data": {
            "text/plain": [
              "<matplotlib.axes._subplots.AxesSubplot at 0x7f2990ba2950>"
            ]
          },
          "metadata": {
            "tags": []
          },
          "execution_count": 70
        },
        {
          "output_type": "display_data",
          "data": {
            "image/png": "[encoded data removed]",
            "text/plain": [
              "<Figure size 432x288 with 1 Axes>"
            ]
          },
          "metadata": {
            "tags": [],
            "needs_background": "light"
          }
        }
      ]
    },
    {
      "cell_type": "markdown",
      "metadata": {
        "id": "3FBDrsVmxP6v"
      },
      "source": [
        "Though there are only a handful of datapoints where Hempfest=1 (meaning Hempfest was held that day), the variation is so stark that I can see why the correlation with ``counts`` is so strong."
      ]
    },
    {
      "cell_type": "markdown",
      "metadata": {
        "id": "A7CfZZea-5ef"
      },
      "source": [
        "#Looking at Precipitation a Different Way"
      ]
    },
    {
      "cell_type": "markdown",
      "metadata": {
        "id": "qzGKeQTDh1Sm"
      },
      "source": [
        "I also notice that the relationship between count and precipitation is negative, which makes sense - more rain generally makes people less apt to go outside, even in Seattle. But the relationship is weak, at -.38. I have a hypothesis that it doesn't so much matter *how much* it rains as *whether* it rains that day. In Seattle our *measured annual rainfall* is actually not as high as many other places (including Hawaii), but we have more *days of rain* per year.\n",
        "\n",
        "So there is another variable in particular that I think would affect bike and pedestrian counts on a given day (based on my own experience): Is it raining? In both cases, I'll want to set up a dummy variable for a yes/no. "
      ]
    },
    {
      "cell_type": "markdown",
      "metadata": {
        "id": "66h3lRwEyVUO"
      },
      "source": [
        "To set a dummy variable for \"did it rain today?\" I'm going to use the bin feature. First, I'll run a quick histogram and descriptive stats to get a sense of how much rain is typical. "
      ]
    },
    {
      "cell_type": "code",
      "metadata": {
        "colab": {
          "base_uri": "https://localhost:8080/"
        },
        "id": "PHhG9z0Yna5e",
        "outputId": "d6d5e7d5-0f13-4a13-e5a5-e67276327ceb"
      },
      "source": [
        "plt.figure(figsize=(width, height))\n",
        "\n",
        "ax1 = sns.histplot(data=df['precipitation'], stat='count', binwidth=.01)\n",
        "\n",
        "plt.title('Distribution of Precipitation')\n",
        "plt.xlabel('Daily Precipitation')\n",
        "plt.ylabel('Frequency')\n",
        "\n",
        "plt.show()\n",
        "plt.close()"
      ],
      "execution_count": null,
      "outputs": [
        {
          "output_type": "display_data",
          "data": {
            "image/png": "[encoded data removed]",
            "text/plain": [
              "<Figure size 864x720 with 1 Axes>"
            ]
          },
          "metadata": {
            "tags": [],
            "needs_background": "light"
          }
        }
      ]
    },
    {
      "cell_type": "code",
      "metadata": {
        "id": "q7pf8KWyy5Mj",
        "colab": {
          "base_uri": "https://localhost:8080/"
        },
        "outputId": "50f868a7-ef77-4ed6-df90-24dc2d685549"
      },
      "source": [
        "df['precipitation'].describe()"
      ],
      "execution_count": null,
      "outputs": [
        {
          "output_type": "execute_result",
          "data": {
            "text/plain": [
              "count    2708.000000\n",
              "mean        0.116507\n",
              "std         0.260973\n",
              "min         0.000000\n",
              "25%         0.000000\n",
              "50%         0.000000\n",
              "75%         0.110000\n",
              "max         3.250000\n",
              "Name: precipitation, dtype: float64"
            ]
          },
          "metadata": {
            "tags": []
          },
          "execution_count": 72
        }
      ]
    },
    {
      "cell_type": "markdown",
      "metadata": {
        "id": "48BFdI8gr5wK"
      },
      "source": [
        "Based on this, I'll set all values of 0-0.01 to go into one bin (I'll count that as basically no rain), and all values greater than 0.01 will go into another."
      ]
    },
    {
      "cell_type": "code",
      "metadata": {
        "id": "UcOgsjVPviQb"
      },
      "source": [
        "bins = ([ 0, 0.01, df['precipitation'].max()])"
      ],
      "execution_count": null,
      "outputs": []
    },
    {
      "cell_type": "code",
      "metadata": {
        "id": "sldFd6wq0FCT"
      },
      "source": [
        "group_names = ['0', '1']"
      ],
      "execution_count": null,
      "outputs": []
    },
    {
      "cell_type": "code",
      "metadata": {
        "id": "KNZi9lyTz5JY",
        "colab": {
          "base_uri": "https://localhost:8080/"
        },
        "outputId": "d78316e0-2238-4cb1-8c9b-2158e2667eff"
      },
      "source": [
        "rain = pd.cut(df['precipitation'], bins, labels=group_names, include_lowest=True )\n",
        "df['Did-it-Rain'] = rain\n",
        "df[['precipitation','Did-it-Rain']].head()"
      ],
      "execution_count": null,
      "outputs": [
        {
          "output_type": "execute_result",
          "data": {
            "text/html": [
              "<div>\n",
              "<style scoped>\n",
              "    .dataframe tbody tr th:only-of-type {\n",
              "        vertical-align: middle;\n",
              "    }\n",
              "\n",
              "    .dataframe tbody tr th {\n",
              "        vertical-align: top;\n",
              "    }\n",
              "\n",
              "    .dataframe thead th {\n",
              "        text-align: right;\n",
              "    }\n",
              "</style>\n",
              "<table border=\"1\" class=\"dataframe\">\n",
              "  <thead>\n",
              "    <tr style=\"text-align: right;\">\n",
              "      <th></th>\n",
              "      <th>precipitation</th>\n",
              "      <th>Did-it-Rain</th>\n",
              "    </tr>\n",
              "  </thead>\n",
              "  <tbody>\n",
              "    <tr>\n",
              "      <th>2014-01-01</th>\n",
              "      <td>0.00</td>\n",
              "      <td>0</td>\n",
              "    </tr>\n",
              "    <tr>\n",
              "      <th>2014-01-02</th>\n",
              "      <td>0.16</td>\n",
              "      <td>1</td>\n",
              "    </tr>\n",
              "    <tr>\n",
              "      <th>2014-01-03</th>\n",
              "      <td>0.06</td>\n",
              "      <td>1</td>\n",
              "    </tr>\n",
              "    <tr>\n",
              "      <th>2014-01-04</th>\n",
              "      <td>0.00</td>\n",
              "      <td>0</td>\n",
              "    </tr>\n",
              "    <tr>\n",
              "      <th>2014-01-05</th>\n",
              "      <td>0.00</td>\n",
              "      <td>0</td>\n",
              "    </tr>\n",
              "  </tbody>\n",
              "</table>\n",
              "</div>"
            ],
            "text/plain": [
              "            precipitation Did-it-Rain\n",
              "2014-01-01           0.00           0\n",
              "2014-01-02           0.16           1\n",
              "2014-01-03           0.06           1\n",
              "2014-01-04           0.00           0\n",
              "2014-01-05           0.00           0"
            ]
          },
          "metadata": {
            "tags": []
          },
          "execution_count": 75
        }
      ]
    },
    {
      "cell_type": "code",
      "metadata": {
        "id": "wWmo-FvwI-Fx"
      },
      "source": [
        "df[[\"Did-it-Rain\"]] = df[[\"Did-it-Rain\"]].astype(\"float\")\n",
        "df[[\"Weekend or Holiday?\"]] = df[[\"Weekend or Holiday?\"]].astype(\"float\")\n",
        "df[[\"During Pandemic?\"]] = df[[\"During Pandemic?\"]].astype(\"float\")"
      ],
      "execution_count": null,
      "outputs": []
    },
    {
      "cell_type": "code",
      "metadata": {
        "id": "y96-AAeS02E1",
        "colab": {
          "base_uri": "https://localhost:8080/"
        },
        "outputId": "a004f8c9-c171-44ec-9654-dfaa65891690"
      },
      "source": [
        "df.head()"
      ],
      "execution_count": null,
      "outputs": [
        {
          "output_type": "execute_result",
          "data": {
            "text/html": [
              "<div>\n",
              "<style scoped>\n",
              "    .dataframe tbody tr th:only-of-type {\n",
              "        vertical-align: middle;\n",
              "    }\n",
              "\n",
              "    .dataframe tbody tr th {\n",
              "        vertical-align: top;\n",
              "    }\n",
              "\n",
              "    .dataframe thead th {\n",
              "        text-align: right;\n",
              "    }\n",
              "</style>\n",
              "<table border=\"1\" class=\"dataframe\">\n",
              "  <thead>\n",
              "    <tr style=\"text-align: right;\">\n",
              "      <th></th>\n",
              "      <th>count</th>\n",
              "      <th>high temperature</th>\n",
              "      <th>precipitation</th>\n",
              "      <th>Hempfest</th>\n",
              "      <th>Weekend or Holiday?</th>\n",
              "      <th>During Pandemic?</th>\n",
              "      <th>Did-it-Rain</th>\n",
              "    </tr>\n",
              "  </thead>\n",
              "  <tbody>\n",
              "    <tr>\n",
              "      <th>2014-01-01</th>\n",
              "      <td>2190.0</td>\n",
              "      <td>45.0</td>\n",
              "      <td>0.00</td>\n",
              "      <td>0</td>\n",
              "      <td>1.0</td>\n",
              "      <td>0.0</td>\n",
              "      <td>0.0</td>\n",
              "    </tr>\n",
              "    <tr>\n",
              "      <th>2014-01-02</th>\n",
              "      <td>1580.0</td>\n",
              "      <td>51.0</td>\n",
              "      <td>0.16</td>\n",
              "      <td>0</td>\n",
              "      <td>0.0</td>\n",
              "      <td>0.0</td>\n",
              "      <td>1.0</td>\n",
              "    </tr>\n",
              "    <tr>\n",
              "      <th>2014-01-03</th>\n",
              "      <td>2469.0</td>\n",
              "      <td>48.0</td>\n",
              "      <td>0.06</td>\n",
              "      <td>0</td>\n",
              "      <td>0.0</td>\n",
              "      <td>0.0</td>\n",
              "      <td>1.0</td>\n",
              "    </tr>\n",
              "    <tr>\n",
              "      <th>2014-01-04</th>\n",
              "      <td>3337.0</td>\n",
              "      <td>46.0</td>\n",
              "      <td>0.00</td>\n",
              "      <td>0</td>\n",
              "      <td>1.0</td>\n",
              "      <td>0.0</td>\n",
              "      <td>0.0</td>\n",
              "    </tr>\n",
              "    <tr>\n",
              "      <th>2014-01-05</th>\n",
              "      <td>2849.0</td>\n",
              "      <td>47.0</td>\n",
              "      <td>0.00</td>\n",
              "      <td>0</td>\n",
              "      <td>1.0</td>\n",
              "      <td>0.0</td>\n",
              "      <td>0.0</td>\n",
              "    </tr>\n",
              "  </tbody>\n",
              "</table>\n",
              "</div>"
            ],
            "text/plain": [
              "             count  high temperature  ...  During Pandemic?  Did-it-Rain\n",
              "2014-01-01  2190.0              45.0  ...               0.0          0.0\n",
              "2014-01-02  1580.0              51.0  ...               0.0          1.0\n",
              "2014-01-03  2469.0              48.0  ...               0.0          1.0\n",
              "2014-01-04  3337.0              46.0  ...               0.0          0.0\n",
              "2014-01-05  2849.0              47.0  ...               0.0          0.0\n",
              "\n",
              "[5 rows x 7 columns]"
            ]
          },
          "metadata": {
            "tags": []
          },
          "execution_count": 77
        }
      ]
    },
    {
      "cell_type": "code",
      "metadata": {
        "id": "n5WcJG6k0h-9",
        "colab": {
          "base_uri": "https://localhost:8080/"
        },
        "outputId": "788e9e85-b596-430e-9eb6-9f34c2f89cd4"
      },
      "source": [
        "df.corr()"
      ],
      "execution_count": null,
      "outputs": [
        {
          "output_type": "execute_result",
          "data": {
            "text/html": [
              "<div>\n",
              "<style scoped>\n",
              "    .dataframe tbody tr th:only-of-type {\n",
              "        vertical-align: middle;\n",
              "    }\n",
              "\n",
              "    .dataframe tbody tr th {\n",
              "        vertical-align: top;\n",
              "    }\n",
              "\n",
              "    .dataframe thead th {\n",
              "        text-align: right;\n",
              "    }\n",
              "</style>\n",
              "<table border=\"1\" class=\"dataframe\">\n",
              "  <thead>\n",
              "    <tr style=\"text-align: right;\">\n",
              "      <th></th>\n",
              "      <th>count</th>\n",
              "      <th>high temperature</th>\n",
              "      <th>precipitation</th>\n",
              "      <th>Hempfest</th>\n",
              "      <th>Weekend or Holiday?</th>\n",
              "      <th>During Pandemic?</th>\n",
              "      <th>Did-it-Rain</th>\n",
              "    </tr>\n",
              "  </thead>\n",
              "  <tbody>\n",
              "    <tr>\n",
              "      <th>count</th>\n",
              "      <td>1.000000</td>\n",
              "      <td>0.660293</td>\n",
              "      <td>-0.390282</td>\n",
              "      <td>0.456279</td>\n",
              "      <td>0.005387</td>\n",
              "      <td>0.088211</td>\n",
              "      <td>-0.501618</td>\n",
              "    </tr>\n",
              "    <tr>\n",
              "      <th>high temperature</th>\n",
              "      <td>0.660293</td>\n",
              "      <td>1.000000</td>\n",
              "      <td>-0.247088</td>\n",
              "      <td>0.100032</td>\n",
              "      <td>-0.038181</td>\n",
              "      <td>-0.009151</td>\n",
              "      <td>-0.409762</td>\n",
              "    </tr>\n",
              "    <tr>\n",
              "      <th>precipitation</th>\n",
              "      <td>-0.390282</td>\n",
              "      <td>-0.247088</td>\n",
              "      <td>1.000000</td>\n",
              "      <td>-0.014928</td>\n",
              "      <td>-0.004021</td>\n",
              "      <td>-0.027139</td>\n",
              "      <td>0.556966</td>\n",
              "    </tr>\n",
              "    <tr>\n",
              "      <th>Hempfest</th>\n",
              "      <td>0.456279</td>\n",
              "      <td>0.100032</td>\n",
              "      <td>-0.014928</td>\n",
              "      <td>1.000000</td>\n",
              "      <td>0.042757</td>\n",
              "      <td>-0.036518</td>\n",
              "      <td>-0.046551</td>\n",
              "    </tr>\n",
              "    <tr>\n",
              "      <th>Weekend or Holiday?</th>\n",
              "      <td>0.005387</td>\n",
              "      <td>-0.038181</td>\n",
              "      <td>-0.004021</td>\n",
              "      <td>0.042757</td>\n",
              "      <td>1.000000</td>\n",
              "      <td>-0.001959</td>\n",
              "      <td>0.014001</td>\n",
              "    </tr>\n",
              "    <tr>\n",
              "      <th>During Pandemic?</th>\n",
              "      <td>0.088211</td>\n",
              "      <td>-0.009151</td>\n",
              "      <td>-0.027139</td>\n",
              "      <td>-0.036518</td>\n",
              "      <td>-0.001959</td>\n",
              "      <td>1.000000</td>\n",
              "      <td>-0.013872</td>\n",
              "    </tr>\n",
              "    <tr>\n",
              "      <th>Did-it-Rain</th>\n",
              "      <td>-0.501618</td>\n",
              "      <td>-0.409762</td>\n",
              "      <td>0.556966</td>\n",
              "      <td>-0.046551</td>\n",
              "      <td>0.014001</td>\n",
              "      <td>-0.013872</td>\n",
              "      <td>1.000000</td>\n",
              "    </tr>\n",
              "  </tbody>\n",
              "</table>\n",
              "</div>"
            ],
            "text/plain": [
              "                        count  high temperature  ...  During Pandemic?  Did-it-Rain\n",
              "count                1.000000          0.660293  ...          0.088211    -0.501618\n",
              "high temperature     0.660293          1.000000  ...         -0.009151    -0.409762\n",
              "precipitation       -0.390282         -0.247088  ...         -0.027139     0.556966\n",
              "Hempfest             0.456279          0.100032  ...         -0.036518    -0.046551\n",
              "Weekend or Holiday?  0.005387         -0.038181  ...         -0.001959     0.014001\n",
              "During Pandemic?     0.088211         -0.009151  ...          1.000000    -0.013872\n",
              "Did-it-Rain         -0.501618         -0.409762  ...         -0.013872     1.000000\n",
              "\n",
              "[7 rows x 7 columns]"
            ]
          },
          "metadata": {
            "tags": []
          },
          "execution_count": 78
        }
      ]
    },
    {
      "cell_type": "markdown",
      "metadata": {
        "id": "NHoZZSrnsKrE"
      },
      "source": [
        "And here we go - as I epxected, ``Did-it-Rain`` has a stronger correlation with ``count`` than ``precipitation`` does. Let's look at the distribution of ``count`` on days when it did and did not rain."
      ]
    },
    {
      "cell_type": "code",
      "metadata": {
        "id": "GCBXSFDhRxdV"
      },
      "source": [
        "df_grouptest = df[['Did-it-Rain','count']]\n",
        "grouped_test1 = df_grouptest.groupby(['Did-it-Rain'],as_index=False).mean()"
      ],
      "execution_count": null,
      "outputs": []
    },
    {
      "cell_type": "code",
      "metadata": {
        "id": "HTKGl46gJpbK",
        "colab": {
          "base_uri": "https://localhost:8080/"
        },
        "outputId": "b2ab5432-6a3b-4323-b423-922e99d3b4db"
      },
      "source": [
        "sns.boxplot(x=\"Did-it-Rain\", y=\"count\", data=df)"
      ],
      "execution_count": null,
      "outputs": [
        {
          "output_type": "execute_result",
          "data": {
            "text/plain": [
              "<matplotlib.axes._subplots.AxesSubplot at 0x7f29918f3ad0>"
            ]
          },
          "metadata": {
            "tags": []
          },
          "execution_count": 80
        },
        {
          "output_type": "display_data",
          "data": {
            "image/png": "[encoded data removed]",
            "text/plain": [
              "<Figure size 432x288 with 1 Axes>"
            ]
          },
          "metadata": {
            "tags": [],
            "needs_background": "light"
          }
        }
      ]
    },
    {
      "cell_type": "markdown",
      "metadata": {
        "id": "bK4Brt1-WyU9"
      },
      "source": [
        "Now we're getting somewhere, as we can see a real difference here. "
      ]
    },
    {
      "cell_type": "code",
      "metadata": {
        "id": "x8pLOWBnPGr1",
        "colab": {
          "base_uri": "https://localhost:8080/"
        },
        "outputId": "e00703d0-4a24-4151-9ea2-1880fa40136a"
      },
      "source": [
        "df['Did-it-Rain'].value_counts()"
      ],
      "execution_count": null,
      "outputs": [
        {
          "output_type": "execute_result",
          "data": {
            "text/plain": [
              "0.0    1656\n",
              "1.0    1052\n",
              "Name: Did-it-Rain, dtype: int64"
            ]
          },
          "metadata": {
            "tags": []
          },
          "execution_count": 81
        }
      ]
    },
    {
      "cell_type": "markdown",
      "metadata": {
        "id": "M5VjEgP3Dqcz"
      },
      "source": [
        "lm2 = LinearRegression()\n",
        "var = df[['normalized-losses','highway-mpg']]\n",
        "lm2.fit(var, df['price'])\n",
        "more in lesson 4 lab"
      ]
    },
    {
      "cell_type": "markdown",
      "metadata": {
        "id": "mAqK4PQoV9at"
      },
      "source": [
        "#Strength of Relationship"
      ]
    },
    {
      "cell_type": "markdown",
      "metadata": {
        "id": "31F4z7VR8eIv"
      },
      "source": [
        "Turning back to our correlation table, we see the strongest relationship is between temperature and count. Is it statistically significant?"
      ]
    },
    {
      "cell_type": "code",
      "metadata": {
        "id": "PYHn0R1UcBcq",
        "colab": {
          "base_uri": "https://localhost:8080/"
        },
        "outputId": "8a3c58a6-57a6-4912-a0eb-ff19b3e3c40d"
      },
      "source": [
        "pearson_coef, p_value = stats.pearsonr(df['count'], df['high temperature'])\n",
        "print(\"The Pearson Correlation Coefficient is\", pearson_coef, \" with a P-value of P =\", p_value)  "
      ],
      "execution_count": null,
      "outputs": [
        {
          "output_type": "stream",
          "text": [
            "The Pearson Correlation Coefficient is 0.6602926813720086  with a P-value of P = 0.0\n"
          ],
          "name": "stdout"
        }
      ]
    },
    {
      "cell_type": "markdown",
      "metadata": {
        "id": "nxXih9NuhKzc"
      },
      "source": [
        "The p-value is 0, showing that the relationship between temperature and count is statistically significant and about as certain as we can be. The strength of the relationship is only moderate, with the correlation coefficient of .66. Now let's do a simple linear regression and look at this on a graph."
      ]
    },
    {
      "cell_type": "markdown",
      "metadata": {
        "id": "XL-DsOrbJadD"
      },
      "source": [
        "## Fitting a Model: Linear Regression"
      ]
    },
    {
      "cell_type": "markdown",
      "metadata": {
        "id": "1zz5-aq3vUUT"
      },
      "source": [
        "Now comes the fun part, where we try to find a model that will predict ``count`` on any given day."
      ]
    },
    {
      "cell_type": "code",
      "metadata": {
        "id": "J5N4mVlo7tjF",
        "colab": {
          "base_uri": "https://localhost:8080/",
          "height": 623
        },
        "outputId": "a7d9efc8-824d-48db-eab4-2cc2fbe329d0"
      },
      "source": [
        "width = 12\n",
        "height = 10\n",
        "plt.figure(figsize=(width, height))\n",
        "sns.regplot(x=\"high temperature\", y=\"count\", data=df)\n",
        "plt.ylim(0,)"
      ],
      "execution_count": null,
      "outputs": [
        {
          "output_type": "execute_result",
          "data": {
            "text/plain": [
              "(0.0, 24927.0)"
            ]
          },
          "metadata": {
            "tags": []
          },
          "execution_count": 83
        },
        {
          "output_type": "display_data",
          "data": {
            "image/png": "[encoded data removed]",
            "text/plain": [
              "<Figure size 864x720 with 1 Axes>"
            ]
          },
          "metadata": {
            "tags": [],
            "needs_background": "light"
          }
        }
      ]
    },
    {
      "cell_type": "code",
      "metadata": {
        "id": "UU28VGC9JgrP",
        "colab": {
          "base_uri": "https://localhost:8080/"
        },
        "outputId": "afd931cc-dc3f-4ff4-c350-b63c784a4830"
      },
      "source": [
        "lm = LinearRegression()\n",
        "x = df[['high temperature']]\n",
        "y = df[['count']]\n",
        "lm.fit(x, y)\n",
        "lm.score(x, y)"
      ],
      "execution_count": null,
      "outputs": [
        {
          "output_type": "execute_result",
          "data": {
            "text/plain": [
              "0.43598642507343677"
            ]
          },
          "metadata": {
            "tags": []
          },
          "execution_count": 84
        }
      ]
    },
    {
      "cell_type": "markdown",
      "metadata": {
        "id": "bPac1ysU9Aq5"
      },
      "source": [
        "This shows that there is indeed a positive relationship between temperature and count, though with an r-squared of .43, the relationship is not too strong. \n",
        "\n",
        "I also notice that counts seem to drop off a bit when the temperature exceeds about 85 degrees. This is not surprising; Seattleites do not tend to enjoy what we consider \"extreme\" temperatures (having spent five years in the New York City area, I know this is laughable). This suggests though that a linear regression model might not be the best fit for this data. To be sure, though, let's do a graph of the residuals. \n",
        "\n",
        "A residual graph has a dot for each datapoint in the analysis. Each dot shows how far the predicted value was from the actual value. A perfect model then would have a residual graph that is just a straight line at y=0 across the whole graph. The further points are from zero, the more variation there is in the data that is not explained by the model. And if points are mostly on one side of zero, that would tell us that the model consistently over or underpredicts values, so it may not be the best model for this dataset."
      ]
    },
    {
      "cell_type": "code",
      "metadata": {
        "id": "CajzAD_C9gd5",
        "colab": {
          "base_uri": "https://localhost:8080/",
          "height": 695
        },
        "outputId": "5cad4e22-0d93-438b-e9e9-ea279e830758"
      },
      "source": [
        "plt.figure(figsize=(width, height))\n",
        "sns.residplot(df['high temperature'], df['count'])\n",
        "plt.show()"
      ],
      "execution_count": null,
      "outputs": [
        {
          "output_type": "stream",
          "text": [
            "/usr/local/lib/python3.7/dist-packages/seaborn/_decorators.py:43: FutureWarning:\n",
            "\n",
            "Pass the following variables as keyword args: x, y. From version 0.12, the only valid positional argument will be `data`, and passing other arguments without an explicit keyword will result in an error or misinterpretation.\n",
            "\n"
          ],
          "name": "stderr"
        },
        {
          "output_type": "display_data",
          "data": {
            "image/png": "[encoded data removed]",
            "text/plain": [
              "<Figure size 864x720 with 1 Axes>"
            ]
          },
          "metadata": {
            "tags": [],
            "needs_background": "light"
          }
        }
      ]
    },
    {
      "cell_type": "markdown",
      "metadata": {
        "id": "1FJ4FXdq94ol"
      },
      "source": [
        "This is not too bad, because residuals are distributed fairly evenly between positive and negative, showing that a linear model works fairly well. It starts to break down at those high temperatures at the right where the actual values are mostly all less than the predicted values, so it's possible that a polynomial model could increase accuracy. At the lowest temperatures, conversely, we see that the model underpredicted. (It could be because when it gets that cold in Seattle it usually means it's sunny, or snowing, both of which are more appealing than gray.) \n",
        "\n",
        "Also, the residuals are large, reinforcing the fact that there are other variables at play here that we should account for. "
      ]
    },
    {
      "cell_type": "markdown",
      "metadata": {
        "id": "yTprM1L1-iEu"
      },
      "source": [
        "## Multiple Linear Regression"
      ]
    },
    {
      "cell_type": "markdown",
      "metadata": {
        "id": "CVvqonYOhFgy"
      },
      "source": [
        "So far we've just looked at the relationship of pairs of variables. We might get more insight if we do a multivariate regression. After playing around a little and removing a couple variables that surprisingly had no effect on the r-squared, I'm running a multiple linear regression using just four variables."
      ]
    },
    {
      "cell_type": "code",
      "metadata": {
        "id": "p9E42lP6hOaS",
        "colab": {
          "base_uri": "https://localhost:8080/"
        },
        "outputId": "1fc43716-4f22-4aa3-9846-74560ed93259"
      },
      "source": [
        "lm2 = LinearRegression()\n",
        "targets = df[['high temperature', 'precipitation', 'Did-it-Rain', 'Hempfest']] #'Weekend or Holiday?', 'During Pandemic?',\n",
        "lm2.fit(targets, df['count'])"
      ],
      "execution_count": null,
      "outputs": [
        {
          "output_type": "execute_result",
          "data": {
            "text/plain": [
              "LinearRegression(copy_X=True, fit_intercept=True, n_jobs=None, normalize=False)"
            ]
          },
          "metadata": {
            "tags": []
          },
          "execution_count": 86
        }
      ]
    },
    {
      "cell_type": "markdown",
      "metadata": {
        "id": "9VM-26_LAPE2"
      },
      "source": [
        "This fits a multiple regression model with the following coefficients for each of the five variables named above: "
      ]
    },
    {
      "cell_type": "code",
      "metadata": {
        "id": "euOthc7BAMLm",
        "colab": {
          "base_uri": "https://localhost:8080/"
        },
        "outputId": "6fa894d4-4c98-4bd6-cd2c-f3ecb8ea3913"
      },
      "source": [
        "lm2.coef_"
      ],
      "execution_count": null,
      "outputs": [
        {
          "output_type": "execute_result",
          "data": {
            "text/plain": [
              "array([   79.92107163, -1218.34656531,  -813.25998859, 10073.03021618])"
            ]
          },
          "metadata": {
            "tags": []
          },
          "execution_count": 87
        }
      ]
    },
    {
      "cell_type": "markdown",
      "metadata": {
        "id": "O7Z059WQAgcm"
      },
      "source": [
        "And this y-intercept, which of course can't actually happen in the real world:"
      ]
    },
    {
      "cell_type": "code",
      "metadata": {
        "id": "_UsRYgJiAfY-",
        "colab": {
          "base_uri": "https://localhost:8080/"
        },
        "outputId": "0443cbd3-2421-45d5-c98d-bada563a3bd0"
      },
      "source": [
        "lm2.intercept_"
      ],
      "execution_count": null,
      "outputs": [
        {
          "output_type": "execute_result",
          "data": {
            "text/plain": [
              "-875.7096918385419"
            ]
          },
          "metadata": {
            "tags": []
          },
          "execution_count": 88
        }
      ]
    },
    {
      "cell_type": "markdown",
      "metadata": {
        "id": "byldw3SkAqb-"
      },
      "source": [
        "Now let's evaluate how well this model fits. "
      ]
    },
    {
      "cell_type": "code",
      "metadata": {
        "id": "JXNgAcgFiip8",
        "colab": {
          "base_uri": "https://localhost:8080/"
        },
        "outputId": "5d525cd3-e9fd-4015-a296-c385edec946b"
      },
      "source": [
        "#get r-squared of multivariate regression model.\n",
        "lm2.score(targets, df['count'])"
      ],
      "execution_count": null,
      "outputs": [
        {
          "output_type": "execute_result",
          "data": {
            "text/plain": [
              "0.6689420362389418"
            ]
          },
          "metadata": {
            "tags": []
          },
          "execution_count": 89
        }
      ]
    },
    {
      "cell_type": "markdown",
      "metadata": {
        "id": "pgy1v0_3rfHN"
      },
      "source": [
        "The r-squared is still not as high as I would have hoped with so many variables, but merely by adding ``Hempfest`` I increased it from .52 to .67. Let's dig in a bit more to understand when the model is working and when it's not. \n",
        "\n",
        "Interestingly, the r-squared did not change when I included ``Weekend or Holiday`` or ``During Pandemic`` , so I'm keeping those out."
      ]
    },
    {
      "cell_type": "code",
      "metadata": {
        "id": "jNjzzeFUAHcV"
      },
      "source": [
        "Y_hat = lm2.predict(targets)"
      ],
      "execution_count": null,
      "outputs": []
    },
    {
      "cell_type": "code",
      "metadata": {
        "id": "6ukkE1aY-4zt",
        "colab": {
          "base_uri": "https://localhost:8080/",
          "height": 621
        },
        "outputId": "042bf190-e273-41e8-fd96-2e099c208432"
      },
      "source": [
        "plt.figure(figsize=(width, height))\n",
        "\n",
        "ax1 = sns.kdeplot(data = df['count'], color=\"r\", label=\"Actual Values\")\n",
        "sns.kdeplot(data = Y_hat, color=\"b\", label=\"Fitted Values\" , ax=ax1)\n",
        "\n",
        "plt.title('Actual vs Fitted Values for Counts')\n",
        "plt.xlabel('Daily Ped + Bike Count')\n",
        "plt.ylabel('Proportion of Days')\n",
        "\n",
        "plt.show()\n",
        "plt.close()"
      ],
      "execution_count": null,
      "outputs": [
        {
          "output_type": "display_data",
          "data": {
            "image/png": "[encoded data removed]",
            "text/plain": [
              "<Figure size 864x720 with 1 Axes>"
            ]
          },
          "metadata": {
            "tags": [],
            "needs_background": "light"
          }
        }
      ]
    },
    {
      "cell_type": "markdown",
      "metadata": {
        "id": "dwGes0k9A_an"
      },
      "source": [
        "So there is still some work to be done here. The fitted values, in blue, tend to underestimate days with very high counts while overestimating days with medium counts. Some of those medium count days are ones with very high temperatures where the model expects ``count`` to increase accordingly, but where people are actually less likely to venture out. \n",
        "\n",
        "The challenge, then, is to figure out what else drives the days with high counts and determine why the model is more likely to predict medium counts even when that's not accurate."
      ]
    },
    {
      "cell_type": "markdown",
      "metadata": {
        "id": "RQ96kQjwrNOs"
      },
      "source": [
        "#Polynomial Regression"
      ]
    },
    {
      "cell_type": "markdown",
      "metadata": {
        "id": "vJ-2ZZT6rvaw"
      },
      "source": [
        "The plot of residuals above showed there might not be a simple linear relationship between all the variables, particularly ``temperature`` and ``count``. It seems that there is an ideal temperature when people like to go outside, but above that point people are less likely to go. Can we account for that with a polynomial?"
      ]
    },
    {
      "cell_type": "code",
      "metadata": {
        "id": "OV12fC0YsT_s"
      },
      "source": [
        "#check accuracy of the below."
      ],
      "execution_count": null,
      "outputs": []
    },
    {
      "cell_type": "code",
      "metadata": {
        "id": "ITI41cGNBp7O"
      },
      "source": [
        "def PlotPolly(model, independent_variable, dependent_variable, Name):\n",
        "    x_new = np.linspace(25, 95, 100)\n",
        "    y_new = model(x_new)\n",
        "\n",
        "    plt.plot(independent_variable, dependent_variable, '.', x_new, y_new, '-')\n",
        "    plt.title('Polynomial Fit with Matplotlib for Count ~ Temperature')\n",
        "    ax = plt.gca()\n",
        "    ax.set_facecolor((0.898, 0.898, 0.898))\n",
        "    fig = plt.gcf()\n",
        "    plt.xlabel(Name)\n",
        "    plt.ylabel('Count')\n",
        "\n",
        "    plt.show()\n",
        "    plt.close()"
      ],
      "execution_count": null,
      "outputs": []
    },
    {
      "cell_type": "markdown",
      "metadata": {
        "id": "dV3KzzDttZLY"
      },
      "source": [
        "Here I try a second-order polynomial (meaning an exponent of two is involved)"
      ]
    },
    {
      "cell_type": "code",
      "metadata": {
        "id": "xd6bRUhWCoG0",
        "colab": {
          "base_uri": "https://localhost:8080/"
        },
        "outputId": "5f97cdb3-ffe9-42b8-e4f5-38db40024614"
      },
      "source": [
        "x = df['high temperature']\n",
        "y = df['count']\n",
        "f = np.polyfit(x, y, 2)\n",
        "p2 = np.poly1d(f)\n",
        "print(p2)"
      ],
      "execution_count": null,
      "outputs": [
        {
          "output_type": "stream",
          "text": [
            "        2\n",
            "-0.129 x + 121 x - 3291\n"
          ],
          "name": "stdout"
        }
      ]
    },
    {
      "cell_type": "code",
      "metadata": {
        "id": "t7cmOAkfC5Te",
        "colab": {
          "base_uri": "https://localhost:8080/",
          "height": 295
        },
        "outputId": "48b6946c-b070-4db6-abe0-dd1853b20c59"
      },
      "source": [
        "PlotPolly(p2, x, y, 'temperature')"
      ],
      "execution_count": null,
      "outputs": [
        {
          "output_type": "display_data",
          "data": {
            "image/png": "[encoded data removed]",
            "text/plain": [
              "<Figure size 432x288 with 1 Axes>"
            ]
          },
          "metadata": {
            "tags": [],
            "needs_background": "light"
          }
        }
      ]
    },
    {
      "cell_type": "code",
      "metadata": {
        "id": "FXvGMZTrQJmn",
        "colab": {
          "base_uri": "https://localhost:8080/"
        },
        "outputId": "506b8b0b-9255-41d3-b0c9-7c162a8c3e5d"
      },
      "source": [
        "r2_score(y, p2(x))"
      ],
      "execution_count": null,
      "outputs": [
        {
          "output_type": "execute_result",
          "data": {
            "text/plain": [
              "0.4361280393857049"
            ]
          },
          "metadata": {
            "tags": []
          },
          "execution_count": 96
        }
      ]
    },
    {
      "cell_type": "markdown",
      "metadata": {
        "id": "gKvsxOJYtiPp"
      },
      "source": [
        "This has not increased my r-squared value compared to the linear model. Let's try a third-order polynomial too:"
      ]
    },
    {
      "cell_type": "code",
      "metadata": {
        "id": "CSr7rRrqRJsa",
        "colab": {
          "base_uri": "https://localhost:8080/",
          "height": 330
        },
        "outputId": "3aeb683b-b83c-4ed2-a931-b6f398b5dc45"
      },
      "source": [
        "f3 = np.polyfit(x, y, 3)\n",
        "p3 = np.poly1d(f3)\n",
        "print(p3)\n",
        "PlotPolly(p3, x, y, 'temperature')"
      ],
      "execution_count": null,
      "outputs": [
        {
          "output_type": "stream",
          "text": [
            "         3        2\n",
            "-0.1007 x + 19.2 x - 1076 x + 2.061e+04\n"
          ],
          "name": "stdout"
        },
        {
          "output_type": "display_data",
          "data": {
            "image/png": "[encoded data removed]",
            "text/plain": [
              "<Figure size 432x288 with 1 Axes>"
            ]
          },
          "metadata": {
            "tags": [],
            "needs_background": "light"
          }
        }
      ]
    },
    {
      "cell_type": "code",
      "metadata": {
        "id": "u9AxVxczRTUw",
        "colab": {
          "base_uri": "https://localhost:8080/"
        },
        "outputId": "f9ef2f1f-1e40-4104-c7b6-1e70f6db986c"
      },
      "source": [
        "r2_score(y, p3(x))"
      ],
      "execution_count": null,
      "outputs": [
        {
          "output_type": "execute_result",
          "data": {
            "text/plain": [
              "0.4605450391588989"
            ]
          },
          "metadata": {
            "tags": []
          },
          "execution_count": 98
        }
      ]
    },
    {
      "cell_type": "markdown",
      "metadata": {
        "id": "XBC5yMCrtot9"
      },
      "source": [
        "This increased the r-squared only slightly. It looks like it did a better job of accounting for the slight dip at higher temperatures, but does nothing for the outliers and might be worse at lower temperatures. I tried several higher-order polynomials as well, but it did nothing for the r-squared, so I don't need to list them all here. The point seems to be that temperature only goes so far in explaining the variation in daily counts.\n",
        "\n",
        "Ideally, a multivariate polynomial regression might be the best model here, but it is beyond what I am comfortable doing at this point. For now, the best model that I have found is the multiple linear regression model."
      ]
    },
    {
      "cell_type": "markdown",
      "metadata": {
        "id": "5Dsk4ebah6p1"
      },
      "source": [
        "#Wrap Up"
      ]
    },
    {
      "cell_type": "code",
      "metadata": {
        "id": "4psYtUG-58S0"
      },
      "source": [
        "#%%timeit cell magic to time functions, for my own learning. \n",
        "#test for skewness and kurtosis - p 258\n",
        "#weekend/holiday has low correlation with count. Should i exclude it?\n",
        "# color 2020 differently in scatterplot; \n",
        "#groupby() can analyze stats by category and subcategory. could use for temp categories, and Did It Rain. or compare mean counts for various temp categories.\n",
        "\n",
        "\n",
        "#ctrl+shift+L : allows you to edit all highlighted items at the same time"
      ],
      "execution_count": null,
      "outputs": []
    }
  ]
}