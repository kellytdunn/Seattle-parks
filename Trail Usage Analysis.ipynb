{
  "nbformat": 4,
  "nbformat_minor": 0,
  "metadata": {
    "kernelspec": {
      "display_name": "Python 3",
      "language": "python",
      "name": "python3"
    },
    "language_info": {
      "codemirror_mode": {
        "name": "ipython",
        "version": 3
      },
      "file_extension": ".py",
      "mimetype": "text/x-python",
      "name": "python",
      "nbconvert_exporter": "python",
      "pygments_lexer": "ipython3",
      "version": "3.9.1"
    },
    "colab": {
      "name": "Trail Usage Analysis_shareable.ipynb",
      "provenance": [],
      "include_colab_link": true
    }
  },
  "cells": [
    {
      "cell_type": "markdown",
      "metadata": {
        "id": "view-in-github",
        "colab_type": "text"
      },
      "source": [
        "<a href=\"https://colab.research.google.com/github/kellytdunn/Seattle-parks/blob/master/Trail_Usage_Analysis.ipynb\" target=\"_parent\"><img src=\"https://colab.research.google.com/assets/colab-badge.svg\" alt=\"Open In Colab\"/></a>"
      ]
    },
    {
      "cell_type": "markdown",
      "metadata": {
        "id": "CfFATACT0GBZ"
      },
      "source": [
        "#### How Do I Avoid Crowds in Seattle Parks During a Pandemic?"
      ]
    },
    {
      "cell_type": "markdown",
      "metadata": {
        "id": "TqYA5Sq10GBb"
      },
      "source": [
        "For my first Python project, I was curious how the pandemic was affecting transportation, as I am a transportation planner. I have gone out to exercise every day during the stay at home orders, and have observed many others doing the same, particularly at big city parks, like Myrtle Edwards. The City took notice and closed down some parks temporarily that were getting too crowded to allow for social distancing. I wondered if people were more likely to be in parks these days given that there are so few other places to be. I found a dataset from the Seattle Department of Transportation on bicycle and pedestrian counts from 2014-2020 at a specific point at Myrtle Edwards Park: https://data.seattle.gov/Transportation/Elliott-Bay-Trail-in-Myrtle-Edwards-Park-Bicycle-a/4qej-qvrz. "
      ]
    },
    {
      "cell_type": "markdown",
      "metadata": {
        "id": "gWEEwFvDBujM"
      },
      "source": [
        "*Note: This notebook uses two API tokens that I want to keep private while I share the notebook publicly. I define them here in a cell that i can easily hide before sharing. If you want to run these notebooks you'll need to grab your own token.Tokens for bike/ped data can be found here: https://data.seattle.gov/login.Tokens for NOAA data can be found here: https://www.ncdc.noaa.gov/cdo-web/token *"
      ]
    },
    {
      "cell_type": "markdown",
      "metadata": {
        "id": "47Ul8AjN0GBc"
      },
      "source": [
        "First, I import libraries:"
      ]
    },
    {
      "cell_type": "code",
      "metadata": {
        "colab": {
          "base_uri": "https://localhost:8080/"
        },
        "id": "cdYDALvj0mxq",
        "outputId": "f0a9d64d-3ac8-4b88-e55e-4ec3a32368c4"
      },
      "source": [
        "!pip install sodapy"
      ],
      "execution_count": 2,
      "outputs": [
        {
          "output_type": "stream",
          "text": [
            "Collecting sodapy\n",
            "  Downloading https://files.pythonhosted.org/packages/9e/74/95fb7d45bbe7f1de43caac45d7dd4807ef1e15881564a00eef489a3bb5c6/sodapy-2.1.0-py2.py3-none-any.whl\n",
            "Requirement already satisfied: requests>=2.20.0 in /usr/local/lib/python3.6/dist-packages (from sodapy) (2.23.0)\n",
            "Requirement already satisfied: certifi>=2017.4.17 in /usr/local/lib/python3.6/dist-packages (from requests>=2.20.0->sodapy) (2020.12.5)\n",
            "Requirement already satisfied: urllib3!=1.25.0,!=1.25.1,<1.26,>=1.21.1 in /usr/local/lib/python3.6/dist-packages (from requests>=2.20.0->sodapy) (1.24.3)\n",
            "Requirement already satisfied: idna<3,>=2.5 in /usr/local/lib/python3.6/dist-packages (from requests>=2.20.0->sodapy) (2.10)\n",
            "Requirement already satisfied: chardet<4,>=3.0.2 in /usr/local/lib/python3.6/dist-packages (from requests>=2.20.0->sodapy) (3.0.4)\n",
            "Installing collected packages: sodapy\n",
            "Successfully installed sodapy-2.1.0\n"
          ],
          "name": "stdout"
        }
      ]
    },
    {
      "cell_type": "code",
      "metadata": {
        "id": "DBAx7_lD0GBc"
      },
      "source": [
        "import sys\n",
        "!{sys.executable} -m pip install ipywidgets>=7.5\n",
        "import pandas as pd\n",
        "from plotly.offline import iplot\n",
        "import plotly.graph_objs as go\n",
        "import time\n",
        "import datetime\n",
        "import math\n",
        "import requests\n",
        "from sodapy import Socrata"
      ],
      "execution_count": 3,
      "outputs": []
    },
    {
      "cell_type": "code",
      "metadata": {
        "id": "tAQKC2R50GBe"
      },
      "source": [
        "#bike/ped count dataset\n",
        "client = Socrata(\"data.seattle.gov\",\n",
        "                  SEA_token)\n",
        "\n",
        "# returned as JSON from API / converted to Python list of dictionaries by sodapy.\n",
        "results = client.get(\"4qej-qvrz\", limit = 100000)\n",
        "\n",
        "# Convert to pandas DataFrame\n",
        "results_df = pd.DataFrame.from_records(results)\n"
      ],
      "execution_count": 4,
      "outputs": []
    },
    {
      "cell_type": "code",
      "metadata": {
        "colab": {
          "base_uri": "https://localhost:8080/",
          "height": 195
        },
        "id": "YTh8dXUJ0GBf",
        "outputId": "11d8026f-e765-41b3-e924-4bbb1ab450c2"
      },
      "source": [
        "#convert the datetime field in the \"date\" column to something more readable and separate date and time.\n",
        "results_df['Date'] = pd.to_datetime(results_df['date']).dt.date \n",
        "results_df['Time'] = pd.to_datetime(results_df['date']).dt.time \n",
        "results_df.head()"
      ],
      "execution_count": 5,
      "outputs": [
        {
          "output_type": "execute_result",
          "data": {
            "text/html": [
              "<div>\n",
              "<style scoped>\n",
              "    .dataframe tbody tr th:only-of-type {\n",
              "        vertical-align: middle;\n",
              "    }\n",
              "\n",
              "    .dataframe tbody tr th {\n",
              "        vertical-align: top;\n",
              "    }\n",
              "\n",
              "    .dataframe thead th {\n",
              "        text-align: right;\n",
              "    }\n",
              "</style>\n",
              "<table border=\"1\" class=\"dataframe\">\n",
              "  <thead>\n",
              "    <tr style=\"text-align: right;\">\n",
              "      <th></th>\n",
              "      <th>date</th>\n",
              "      <th>eilliott_bay_trail_in_myrtle_edwards_park_total</th>\n",
              "      <th>ped_north</th>\n",
              "      <th>ped_south</th>\n",
              "      <th>bike_north</th>\n",
              "      <th>bike_south</th>\n",
              "      <th>Date</th>\n",
              "      <th>Time</th>\n",
              "    </tr>\n",
              "  </thead>\n",
              "  <tbody>\n",
              "    <tr>\n",
              "      <th>0</th>\n",
              "      <td>2020-06-01T00:00:00.000</td>\n",
              "      <td>5</td>\n",
              "      <td>2</td>\n",
              "      <td>1</td>\n",
              "      <td>1</td>\n",
              "      <td>1</td>\n",
              "      <td>2020-06-01</td>\n",
              "      <td>00:00:00</td>\n",
              "    </tr>\n",
              "    <tr>\n",
              "      <th>1</th>\n",
              "      <td>2020-06-01T01:00:00.000</td>\n",
              "      <td>0</td>\n",
              "      <td>0</td>\n",
              "      <td>0</td>\n",
              "      <td>0</td>\n",
              "      <td>0</td>\n",
              "      <td>2020-06-01</td>\n",
              "      <td>01:00:00</td>\n",
              "    </tr>\n",
              "    <tr>\n",
              "      <th>2</th>\n",
              "      <td>2020-06-01T02:00:00.000</td>\n",
              "      <td>1</td>\n",
              "      <td>0</td>\n",
              "      <td>0</td>\n",
              "      <td>1</td>\n",
              "      <td>0</td>\n",
              "      <td>2020-06-01</td>\n",
              "      <td>02:00:00</td>\n",
              "    </tr>\n",
              "    <tr>\n",
              "      <th>3</th>\n",
              "      <td>2020-06-01T03:00:00.000</td>\n",
              "      <td>1</td>\n",
              "      <td>1</td>\n",
              "      <td>0</td>\n",
              "      <td>0</td>\n",
              "      <td>0</td>\n",
              "      <td>2020-06-01</td>\n",
              "      <td>03:00:00</td>\n",
              "    </tr>\n",
              "    <tr>\n",
              "      <th>4</th>\n",
              "      <td>2020-06-01T04:00:00.000</td>\n",
              "      <td>1</td>\n",
              "      <td>0</td>\n",
              "      <td>0</td>\n",
              "      <td>1</td>\n",
              "      <td>0</td>\n",
              "      <td>2020-06-01</td>\n",
              "      <td>04:00:00</td>\n",
              "    </tr>\n",
              "  </tbody>\n",
              "</table>\n",
              "</div>"
            ],
            "text/plain": [
              "                      date  ...      Time\n",
              "0  2020-06-01T00:00:00.000  ...  00:00:00\n",
              "1  2020-06-01T01:00:00.000  ...  01:00:00\n",
              "2  2020-06-01T02:00:00.000  ...  02:00:00\n",
              "3  2020-06-01T03:00:00.000  ...  03:00:00\n",
              "4  2020-06-01T04:00:00.000  ...  04:00:00\n",
              "\n",
              "[5 rows x 8 columns]"
            ]
          },
          "metadata": {
            "tags": []
          },
          "execution_count": 5
        }
      ]
    },
    {
      "cell_type": "code",
      "metadata": {
        "colab": {
          "base_uri": "https://localhost:8080/",
          "height": 195
        },
        "id": "myevh7Rt0GBf",
        "outputId": "477599db-e1f9-42e5-c3a8-6fb17e15aa6f"
      },
      "source": [
        "#rename columns and add columns to help with data analysis.\n",
        "clean_df = results_df.rename(columns={\"date\": \"Timestamp_Date\", \"eilliott_bay_trail_in_myrtle_edwards_park_total\": \"Total\"})\n",
        "clean_df['Day of Week'] = pd.DatetimeIndex(clean_df['Date']).day_name() # week day name\n",
        "clean_df['Month'] = pd.DatetimeIndex(clean_df['Date']).month_name() # month name\n",
        "clean_df['Year'] = pd.DatetimeIndex(clean_df['Timestamp_Date']).year # year name\n",
        "clean_df.head()\n"
      ],
      "execution_count": 6,
      "outputs": [
        {
          "output_type": "execute_result",
          "data": {
            "text/html": [
              "<div>\n",
              "<style scoped>\n",
              "    .dataframe tbody tr th:only-of-type {\n",
              "        vertical-align: middle;\n",
              "    }\n",
              "\n",
              "    .dataframe tbody tr th {\n",
              "        vertical-align: top;\n",
              "    }\n",
              "\n",
              "    .dataframe thead th {\n",
              "        text-align: right;\n",
              "    }\n",
              "</style>\n",
              "<table border=\"1\" class=\"dataframe\">\n",
              "  <thead>\n",
              "    <tr style=\"text-align: right;\">\n",
              "      <th></th>\n",
              "      <th>Timestamp_Date</th>\n",
              "      <th>Total</th>\n",
              "      <th>ped_north</th>\n",
              "      <th>ped_south</th>\n",
              "      <th>bike_north</th>\n",
              "      <th>bike_south</th>\n",
              "      <th>Date</th>\n",
              "      <th>Time</th>\n",
              "      <th>Day of Week</th>\n",
              "      <th>Month</th>\n",
              "      <th>Year</th>\n",
              "    </tr>\n",
              "  </thead>\n",
              "  <tbody>\n",
              "    <tr>\n",
              "      <th>0</th>\n",
              "      <td>2020-06-01T00:00:00.000</td>\n",
              "      <td>5</td>\n",
              "      <td>2</td>\n",
              "      <td>1</td>\n",
              "      <td>1</td>\n",
              "      <td>1</td>\n",
              "      <td>2020-06-01</td>\n",
              "      <td>00:00:00</td>\n",
              "      <td>Monday</td>\n",
              "      <td>June</td>\n",
              "      <td>2020</td>\n",
              "    </tr>\n",
              "    <tr>\n",
              "      <th>1</th>\n",
              "      <td>2020-06-01T01:00:00.000</td>\n",
              "      <td>0</td>\n",
              "      <td>0</td>\n",
              "      <td>0</td>\n",
              "      <td>0</td>\n",
              "      <td>0</td>\n",
              "      <td>2020-06-01</td>\n",
              "      <td>01:00:00</td>\n",
              "      <td>Monday</td>\n",
              "      <td>June</td>\n",
              "      <td>2020</td>\n",
              "    </tr>\n",
              "    <tr>\n",
              "      <th>2</th>\n",
              "      <td>2020-06-01T02:00:00.000</td>\n",
              "      <td>1</td>\n",
              "      <td>0</td>\n",
              "      <td>0</td>\n",
              "      <td>1</td>\n",
              "      <td>0</td>\n",
              "      <td>2020-06-01</td>\n",
              "      <td>02:00:00</td>\n",
              "      <td>Monday</td>\n",
              "      <td>June</td>\n",
              "      <td>2020</td>\n",
              "    </tr>\n",
              "    <tr>\n",
              "      <th>3</th>\n",
              "      <td>2020-06-01T03:00:00.000</td>\n",
              "      <td>1</td>\n",
              "      <td>1</td>\n",
              "      <td>0</td>\n",
              "      <td>0</td>\n",
              "      <td>0</td>\n",
              "      <td>2020-06-01</td>\n",
              "      <td>03:00:00</td>\n",
              "      <td>Monday</td>\n",
              "      <td>June</td>\n",
              "      <td>2020</td>\n",
              "    </tr>\n",
              "    <tr>\n",
              "      <th>4</th>\n",
              "      <td>2020-06-01T04:00:00.000</td>\n",
              "      <td>1</td>\n",
              "      <td>0</td>\n",
              "      <td>0</td>\n",
              "      <td>1</td>\n",
              "      <td>0</td>\n",
              "      <td>2020-06-01</td>\n",
              "      <td>04:00:00</td>\n",
              "      <td>Monday</td>\n",
              "      <td>June</td>\n",
              "      <td>2020</td>\n",
              "    </tr>\n",
              "  </tbody>\n",
              "</table>\n",
              "</div>"
            ],
            "text/plain": [
              "            Timestamp_Date Total ped_north  ... Day of Week Month  Year\n",
              "0  2020-06-01T00:00:00.000     5         2  ...      Monday  June  2020\n",
              "1  2020-06-01T01:00:00.000     0         0  ...      Monday  June  2020\n",
              "2  2020-06-01T02:00:00.000     1         0  ...      Monday  June  2020\n",
              "3  2020-06-01T03:00:00.000     1         1  ...      Monday  June  2020\n",
              "4  2020-06-01T04:00:00.000     1         0  ...      Monday  June  2020\n",
              "\n",
              "[5 rows x 11 columns]"
            ]
          },
          "metadata": {
            "tags": []
          },
          "execution_count": 6
        }
      ]
    },
    {
      "cell_type": "code",
      "metadata": {
        "id": "XWNj0kvl0GBg"
      },
      "source": [
        "APIrecords = clean_df.to_dict('records')"
      ],
      "execution_count": 7,
      "outputs": []
    },
    {
      "cell_type": "code",
      "metadata": {
        "colab": {
          "base_uri": "https://localhost:8080/"
        },
        "id": "s5wm-Gt90GBg",
        "outputId": "2f992a08-d8cf-4132-caed-632477a79ff0"
      },
      "source": [
        "len(results_df)"
      ],
      "execution_count": 8,
      "outputs": [
        {
          "output_type": "execute_result",
          "data": {
            "text/plain": [
              "61368"
            ]
          },
          "metadata": {
            "tags": []
          },
          "execution_count": 8
        }
      ]
    },
    {
      "cell_type": "markdown",
      "metadata": {
        "id": "qLp_CX_T0GBg"
      },
      "source": [
        "So ```APIrecords``` is a list of dictionaries. Each dictionary represents one hour's worth of data and thus each dictionary has the same keys and different values. There are over 56,000 records in this dataset as of May 2020. As I play around with different functions, I need a quick way to select a subset of records so that every function doesn't iterate through the whole thing."
      ]
    },
    {
      "cell_type": "markdown",
      "metadata": {
        "id": "DGkHBZfQ0GBh"
      },
      "source": [
        "I create the below ```testlist``` to give myself a small section of the dataset to try out functions on. "
      ]
    },
    {
      "cell_type": "code",
      "metadata": {
        "colab": {
          "base_uri": "https://localhost:8080/"
        },
        "id": "4R7nFK200GBh",
        "outputId": "5939b93c-f1d5-4133-aa81-11b750ae75c9"
      },
      "source": [
        "testlist = APIrecords[:5]\n",
        "testlist"
      ],
      "execution_count": 9,
      "outputs": [
        {
          "output_type": "execute_result",
          "data": {
            "text/plain": [
              "[{'Date': datetime.date(2020, 6, 1),\n",
              "  'Day of Week': 'Monday',\n",
              "  'Month': 'June',\n",
              "  'Time': datetime.time(0, 0),\n",
              "  'Timestamp_Date': '2020-06-01T00:00:00.000',\n",
              "  'Total': '5',\n",
              "  'Year': 2020,\n",
              "  'bike_north': '1',\n",
              "  'bike_south': '1',\n",
              "  'ped_north': '2',\n",
              "  'ped_south': '1'},\n",
              " {'Date': datetime.date(2020, 6, 1),\n",
              "  'Day of Week': 'Monday',\n",
              "  'Month': 'June',\n",
              "  'Time': datetime.time(1, 0),\n",
              "  'Timestamp_Date': '2020-06-01T01:00:00.000',\n",
              "  'Total': '0',\n",
              "  'Year': 2020,\n",
              "  'bike_north': '0',\n",
              "  'bike_south': '0',\n",
              "  'ped_north': '0',\n",
              "  'ped_south': '0'},\n",
              " {'Date': datetime.date(2020, 6, 1),\n",
              "  'Day of Week': 'Monday',\n",
              "  'Month': 'June',\n",
              "  'Time': datetime.time(2, 0),\n",
              "  'Timestamp_Date': '2020-06-01T02:00:00.000',\n",
              "  'Total': '1',\n",
              "  'Year': 2020,\n",
              "  'bike_north': '1',\n",
              "  'bike_south': '0',\n",
              "  'ped_north': '0',\n",
              "  'ped_south': '0'},\n",
              " {'Date': datetime.date(2020, 6, 1),\n",
              "  'Day of Week': 'Monday',\n",
              "  'Month': 'June',\n",
              "  'Time': datetime.time(3, 0),\n",
              "  'Timestamp_Date': '2020-06-01T03:00:00.000',\n",
              "  'Total': '1',\n",
              "  'Year': 2020,\n",
              "  'bike_north': '0',\n",
              "  'bike_south': '0',\n",
              "  'ped_north': '1',\n",
              "  'ped_south': '0'},\n",
              " {'Date': datetime.date(2020, 6, 1),\n",
              "  'Day of Week': 'Monday',\n",
              "  'Month': 'June',\n",
              "  'Time': datetime.time(4, 0),\n",
              "  'Timestamp_Date': '2020-06-01T04:00:00.000',\n",
              "  'Total': '1',\n",
              "  'Year': 2020,\n",
              "  'bike_north': '1',\n",
              "  'bike_south': '0',\n",
              "  'ped_north': '0',\n",
              "  'ped_south': '0'}]"
            ]
          },
          "metadata": {
            "tags": []
          },
          "execution_count": 9
        }
      ]
    },
    {
      "cell_type": "markdown",
      "metadata": {
        "id": "dOGyWdSh0GBh"
      },
      "source": [
        "#### Creating Functions to Prepare the Data"
      ]
    },
    {
      "cell_type": "code",
      "metadata": {
        "id": "DxGPpmR20GBi"
      },
      "source": [
        "def timestamp(mmddyyyy):\n",
        "    return pd.to_datetime(mmddyyyy)"
      ],
      "execution_count": 10,
      "outputs": []
    },
    {
      "cell_type": "code",
      "metadata": {
        "id": "-3q1O9QV_7r5"
      },
      "source": [
        "def hourlycounts(date, data): #date must be entered as 'mm/dd/yy', including quotes\r\n",
        "    target_date = timestamp(date) #this caches the function so it doesn't have to recalculate with every iteration. \r\n",
        "    return [x['Total'] for x in data if x['Date'] == target_date] #this is a cleaner list comprehension. Thank you Stack Overflow.\r\n"
      ],
      "execution_count": 11,
      "outputs": []
    },
    {
      "cell_type": "markdown",
      "metadata": {
        "id": "z3GTjwJc0GBi"
      },
      "source": [
        "If I want to be able to create graphs with time or date as an independent variable, I need to be able to generate a list of all the values associated with a specific key in the list of dictionaries. Below, I create a function and test it out on ```testlist```."
      ]
    },
    {
      "cell_type": "code",
      "metadata": {
        "colab": {
          "base_uri": "https://localhost:8080/"
        },
        "id": "nNlzUTIL0GBi",
        "outputId": "c1fb733e-7857-4d62-a6c8-68ce3c133197"
      },
      "source": [
        "def list_from_dictionary(dictlist, key):\n",
        "    return [sub[key] for sub in dictlist]\n",
        "list_from_dictionary(testlist, 'Day of Week')"
      ],
      "execution_count": 12,
      "outputs": [
        {
          "output_type": "execute_result",
          "data": {
            "text/plain": [
              "['Monday', 'Monday', 'Monday', 'Monday', 'Monday']"
            ]
          },
          "metadata": {
            "tags": []
          },
          "execution_count": 12
        }
      ]
    },
    {
      "cell_type": "markdown",
      "metadata": {
        "id": "gKj-w8UQ0GBj"
      },
      "source": [
        "Trying this function out on ```testlist``` confirms that it would not filter out duplicates, and if I run this on the whole dataset it would return 54,000 items, which I don't want. "
      ]
    },
    {
      "cell_type": "markdown",
      "metadata": {
        "id": "o75MpHP-0GBj"
      },
      "source": [
        "To create a list of all the values for a given key, without duplicates, I need a new function. "
      ]
    },
    {
      "cell_type": "code",
      "metadata": {
        "colab": {
          "base_uri": "https://localhost:8080/"
        },
        "id": "0w6pU2kV0GBj",
        "outputId": "7480e9b3-c545-4b22-a14e-0a3236ecd921"
      },
      "source": [
        "#generate list of all unique values in a given column in the dataset. Use to generate x values for graphs and in for loops.\n",
        "def unique(recordlist, key):\n",
        "    new_list=[]\n",
        "    list1 = list_from_dictionary(recordlist, key)\n",
        "    list_set = set(list1)\n",
        "    unique_list = list(list_set)\n",
        "    for x in unique_list:\n",
        "        new_list.append(x)\n",
        "    return new_list\n",
        "unique(testlist, 'Day of Week')"
      ],
      "execution_count": 13,
      "outputs": [
        {
          "output_type": "execute_result",
          "data": {
            "text/plain": [
              "['Monday']"
            ]
          },
          "metadata": {
            "tags": []
          },
          "execution_count": 13
        }
      ]
    },
    {
      "cell_type": "markdown",
      "metadata": {
        "id": "zdMW_vTi0GBk"
      },
      "source": [
        "I apply this to the 'Time' key, as I plan to use hour of day as an x-value for my initial graphs."
      ]
    },
    {
      "cell_type": "code",
      "metadata": {
        "id": "lbg_dLbo0GBk"
      },
      "source": [
        "alltimes = sorted(unique(APIrecords, 'Time'))\n"
      ],
      "execution_count": 14,
      "outputs": []
    },
    {
      "cell_type": "markdown",
      "metadata": {
        "id": "6bNKOqV50GBk"
      },
      "source": [
        "Now I want to know how April 2020 overall compares to other years to see if, overall, April 2020 might see different usage than prior years. I'll choose Fridays in April as a way to compare apples to apples across different years.\n",
        "To start with, the function below would give you, for example, the average count at noon for all the Fridays in April 2020. "
      ]
    },
    {
      "cell_type": "code",
      "metadata": {
        "id": "X3_ipOAO0GBk"
      },
      "source": [
        "def hourly_average_by_day(month, year, weekday, hour):\n",
        "    monthly_total = []\n",
        "    matching_records = list(record for record in APIrecords if record['Day of Week']==weekday and record['Month']==month and record['Time']==hour and record['Year']==year)\n",
        "    for record in matching_records:\n",
        "        monthly_total.append(int(record['Total']))\n",
        "    try: \n",
        "        return sum(monthly_total)/len(monthly_total)\n",
        "    except:\n",
        "        return 'error'\n",
        "\n",
        "#hourly_average_by_day('March', 2017, 'Friday', datetime.time(17, 0))\n"
      ],
      "execution_count": 15,
      "outputs": []
    },
    {
      "cell_type": "markdown",
      "metadata": {
        "id": "EhAeTlvE0GBl"
      },
      "source": [
        "The function above gives me average counts for a specific hour of a specific weekday in the year and month I provide as arguments. Now I want to be able to apply that function to every year all at once, so I can graph it and see a change over time. Maybe people are using the park at different times of day than they used to, and I'm curious how that's changed. The following function applies ```hourly_average_by_day()``` to every year from 2014-2020."
      ]
    },
    {
      "cell_type": "markdown",
      "metadata": {
        "id": "eZ0f6zag0GBl"
      },
      "source": [
        "First, though, I noticed when looking through the data that no counts were recorded for a large part of 2015; the equipment must have been broken. I don't want to get zeros in my plots, so I'm going to omit 2015 data. "
      ]
    },
    {
      "cell_type": "code",
      "metadata": {
        "id": "UFsr8L8R0GBm"
      },
      "source": [
        "def counts_across_years(month, weekday, hour): #note below how the hour must be formatted.\n",
        "    counts_list=[]\n",
        "    for year in [x for x in range(2014, 2021) if x != 2015]:\n",
        "        count = hourly_average_by_day(month, year, weekday, hour)\n",
        "        counts_list.append(count)\n",
        "    return counts_list\n",
        "\n",
        "#counts_across_years('April', 'Friday', datetime.time(12, 0))"
      ],
      "execution_count": 16,
      "outputs": []
    },
    {
      "cell_type": "code",
      "metadata": {
        "colab": {
          "base_uri": "https://localhost:8080/"
        },
        "id": "gO9H0K1S0GBm",
        "outputId": "157f3007-f6e0-4c47-8e9f-33546816b7a0"
      },
      "source": [
        "allyears=[]\n",
        "for i in [x for x in range(2014, 2021) if x != 2015]:\n",
        "    allyears.append(i)\n",
        "allyears"
      ],
      "execution_count": 17,
      "outputs": [
        {
          "output_type": "execute_result",
          "data": {
            "text/plain": [
              "[2014, 2016, 2017, 2018, 2019, 2020]"
            ]
          },
          "metadata": {
            "tags": []
          },
          "execution_count": 17
        }
      ]
    },
    {
      "cell_type": "markdown",
      "metadata": {
        "id": "rDxHerCT0GBm"
      },
      "source": [
        "#### Graphing Trail Usage Over Time"
      ]
    },
    {
      "cell_type": "markdown",
      "metadata": {
        "id": "oQmewSVW0GBm"
      },
      "source": [
        "Now it's time to make my first graph. I will use my ```counts_across_years()``` function to graph how average hourly counts at noon for any given weekday have changed from 2014-2020. I am curious if 2020 will continue past trends or show a departure. "
      ]
    },
    {
      "cell_type": "code",
      "metadata": {
        "id": "KGVhPEiR0GBm",
        "colab": {
          "base_uri": "https://localhost:8080/",
          "height": 0
        },
        "outputId": "7be09ac6-e85d-496a-a0ed-e41240c2f7da"
      },
      "source": [
        "fig = go.Figure()\n",
        "fig.add_trace(go.Scatter(x=allyears, y=counts_across_years('April', 'Monday', datetime.time(12, 0)),\n",
        "                    mode='lines',\n",
        "                    name='Mondays, 12-1 pm'))\n",
        "fig.add_trace(go.Scatter(x=allyears, y=counts_across_years('April', 'Tuesday', datetime.time(12, 0)),\n",
        "                    mode='lines',\n",
        "                    name='Tuesdays, 12-1 pm'))\n",
        "fig.add_trace(go.Scatter(x=allyears, y=counts_across_years('April', 'Wednesday', datetime.time(12, 0)),\n",
        "                    mode='lines',\n",
        "                    name='Wednesdays, 12-1 pm'))\n",
        "fig.add_trace(go.Scatter(x=allyears, y=counts_across_years('April', 'Thursday', datetime.time(12, 0)),\n",
        "                    mode='lines',\n",
        "                    name='Thursdays, 12-1 pm'))\n",
        "fig.add_trace(go.Scatter(x=allyears, y=counts_across_years('April', 'Friday', datetime.time(12, 0)),\n",
        "                    mode='lines',\n",
        "                    name='Fridays, 12-1 pm'))\n",
        "fig.update_layout(title='Average Park Activity During Different Days of the Week in April, Lunchtime',\n",
        "                   xaxis_title='Year',\n",
        "                   yaxis_title='Average Bike + Ped Count')\n",
        "fig.show()"
      ],
      "execution_count": 18,
      "outputs": [
        {
          "output_type": "display_data",
          "data": {
            "text/html": [
              "<html>\n",
              "<head><meta charset=\"utf-8\" /></head>\n",
              "<body>\n",
              "    <div>\n",
              "            <script src=\"https://cdnjs.cloudflare.com/ajax/libs/mathjax/2.7.5/MathJax.js?config=TeX-AMS-MML_SVG\"></script><script type=\"text/javascript\">if (window.MathJax) {MathJax.Hub.Config({SVG: {font: \"STIX-Web\"}});}</script>\n",
              "                <script type=\"text/javascript\">window.PlotlyConfig = {MathJaxConfig: 'local'};</script>\n",
              "        <script src=\"https://cdn.plot.ly/plotly-latest.min.js\"></script>    \n",
              "            <div id=\"c1e9f086-94af-4bd5-8010-855d863dd2b2\" class=\"plotly-graph-div\" style=\"height:525px; width:100%;\"></div>\n",
              "            <script type=\"text/javascript\">\n",
              "                \n",
              "                    window.PLOTLYENV=window.PLOTLYENV || {};\n",
              "                    \n",
              "                if (document.getElementById(\"c1e9f086-94af-4bd5-8010-855d863dd2b2\")) {\n",
              "                    Plotly.newPlot(\n",
              "                        'c1e9f086-94af-4bd5-8010-855d863dd2b2',\n",
              "                        [{\"mode\": \"lines\", \"name\": \"Mondays, 12-1 pm\", \"type\": \"scatter\", \"x\": [2014, 2016, 2017, 2018, 2019, 2020], \"y\": [318.0, 323.0, 274.0, 325.0, 326.8, 386.5]}, {\"mode\": \"lines\", \"name\": \"Tuesdays, 12-1 pm\", \"type\": \"scatter\", \"x\": [2014, 2016, 2017, 2018, 2019, 2020], \"y\": [286.6, 316.25, 347.25, 325.25, 314.2, 296.5]}, {\"mode\": \"lines\", \"name\": \"Wednesdays, 12-1 pm\", \"type\": \"scatter\", \"x\": [2014, 2016, 2017, 2018, 2019, 2020], \"y\": [229.2, 344.25, 178.0, 252.5, 255.25, 282.0]}, {\"mode\": \"lines\", \"name\": \"Thursdays, 12-1 pm\", \"type\": \"scatter\", \"x\": [2014, 2016, 2017, 2018, 2019, 2020], \"y\": [166.5, 326.5, 282.75, 288.5, 255.75, 326.8]}, {\"mode\": \"lines\", \"name\": \"Fridays, 12-1 pm\", \"type\": \"scatter\", \"x\": [2014, 2016, 2017, 2018, 2019, 2020], \"y\": [259.0, 277.0, 279.5, 244.25, 196.0, 334.5]}],\n",
              "                        {\"template\": {\"data\": {\"bar\": [{\"error_x\": {\"color\": \"#2a3f5f\"}, \"error_y\": {\"color\": \"#2a3f5f\"}, \"marker\": {\"line\": {\"color\": \"#E5ECF6\", \"width\": 0.5}}, \"type\": \"bar\"}], \"barpolar\": [{\"marker\": {\"line\": {\"color\": \"#E5ECF6\", \"width\": 0.5}}, \"type\": \"barpolar\"}], \"carpet\": [{\"aaxis\": {\"endlinecolor\": \"#2a3f5f\", \"gridcolor\": \"white\", \"linecolor\": \"white\", \"minorgridcolor\": \"white\", \"startlinecolor\": \"#2a3f5f\"}, \"baxis\": {\"endlinecolor\": \"#2a3f5f\", \"gridcolor\": \"white\", \"linecolor\": \"white\", \"minorgridcolor\": \"white\", \"startlinecolor\": \"#2a3f5f\"}, \"type\": \"carpet\"}], \"choropleth\": [{\"colorbar\": {\"outlinewidth\": 0, \"ticks\": \"\"}, \"type\": \"choropleth\"}], \"contour\": [{\"colorbar\": {\"outlinewidth\": 0, \"ticks\": \"\"}, \"colorscale\": [[0.0, \"#0d0887\"], [0.1111111111111111, \"#46039f\"], [0.2222222222222222, \"#7201a8\"], [0.3333333333333333, \"#9c179e\"], [0.4444444444444444, \"#bd3786\"], [0.5555555555555556, \"#d8576b\"], [0.6666666666666666, \"#ed7953\"], [0.7777777777777778, \"#fb9f3a\"], [0.8888888888888888, \"#fdca26\"], [1.0, \"#f0f921\"]], \"type\": \"contour\"}], \"contourcarpet\": [{\"colorbar\": {\"outlinewidth\": 0, \"ticks\": \"\"}, \"type\": \"contourcarpet\"}], \"heatmap\": [{\"colorbar\": {\"outlinewidth\": 0, \"ticks\": \"\"}, \"colorscale\": [[0.0, \"#0d0887\"], [0.1111111111111111, \"#46039f\"], [0.2222222222222222, \"#7201a8\"], [0.3333333333333333, \"#9c179e\"], [0.4444444444444444, \"#bd3786\"], [0.5555555555555556, \"#d8576b\"], [0.6666666666666666, \"#ed7953\"], [0.7777777777777778, \"#fb9f3a\"], [0.8888888888888888, \"#fdca26\"], [1.0, \"#f0f921\"]], \"type\": \"heatmap\"}], \"heatmapgl\": [{\"colorbar\": {\"outlinewidth\": 0, \"ticks\": \"\"}, \"colorscale\": [[0.0, \"#0d0887\"], [0.1111111111111111, \"#46039f\"], [0.2222222222222222, \"#7201a8\"], [0.3333333333333333, \"#9c179e\"], [0.4444444444444444, \"#bd3786\"], [0.5555555555555556, \"#d8576b\"], [0.6666666666666666, \"#ed7953\"], [0.7777777777777778, \"#fb9f3a\"], [0.8888888888888888, \"#fdca26\"], [1.0, \"#f0f921\"]], \"type\": \"heatmapgl\"}], \"histogram\": [{\"marker\": {\"colorbar\": {\"outlinewidth\": 0, \"ticks\": \"\"}}, \"type\": \"histogram\"}], \"histogram2d\": [{\"colorbar\": {\"outlinewidth\": 0, \"ticks\": \"\"}, \"colorscale\": [[0.0, \"#0d0887\"], [0.1111111111111111, \"#46039f\"], [0.2222222222222222, \"#7201a8\"], [0.3333333333333333, \"#9c179e\"], [0.4444444444444444, \"#bd3786\"], [0.5555555555555556, \"#d8576b\"], [0.6666666666666666, \"#ed7953\"], [0.7777777777777778, \"#fb9f3a\"], [0.8888888888888888, \"#fdca26\"], [1.0, \"#f0f921\"]], \"type\": \"histogram2d\"}], \"histogram2dcontour\": [{\"colorbar\": {\"outlinewidth\": 0, \"ticks\": \"\"}, \"colorscale\": [[0.0, \"#0d0887\"], [0.1111111111111111, \"#46039f\"], [0.2222222222222222, \"#7201a8\"], [0.3333333333333333, \"#9c179e\"], [0.4444444444444444, \"#bd3786\"], [0.5555555555555556, \"#d8576b\"], [0.6666666666666666, \"#ed7953\"], [0.7777777777777778, \"#fb9f3a\"], [0.8888888888888888, \"#fdca26\"], [1.0, \"#f0f921\"]], \"type\": \"histogram2dcontour\"}], \"mesh3d\": [{\"colorbar\": {\"outlinewidth\": 0, \"ticks\": \"\"}, \"type\": \"mesh3d\"}], \"parcoords\": [{\"line\": {\"colorbar\": {\"outlinewidth\": 0, \"ticks\": \"\"}}, \"type\": \"parcoords\"}], \"pie\": [{\"automargin\": true, \"type\": \"pie\"}], \"scatter\": [{\"marker\": {\"colorbar\": {\"outlinewidth\": 0, \"ticks\": \"\"}}, \"type\": \"scatter\"}], \"scatter3d\": [{\"line\": {\"colorbar\": {\"outlinewidth\": 0, \"ticks\": \"\"}}, \"marker\": {\"colorbar\": {\"outlinewidth\": 0, \"ticks\": \"\"}}, \"type\": \"scatter3d\"}], \"scattercarpet\": [{\"marker\": {\"colorbar\": {\"outlinewidth\": 0, \"ticks\": \"\"}}, \"type\": \"scattercarpet\"}], \"scattergeo\": [{\"marker\": {\"colorbar\": {\"outlinewidth\": 0, \"ticks\": \"\"}}, \"type\": \"scattergeo\"}], \"scattergl\": [{\"marker\": {\"colorbar\": {\"outlinewidth\": 0, \"ticks\": \"\"}}, \"type\": \"scattergl\"}], \"scattermapbox\": [{\"marker\": {\"colorbar\": {\"outlinewidth\": 0, \"ticks\": \"\"}}, \"type\": \"scattermapbox\"}], \"scatterpolar\": [{\"marker\": {\"colorbar\": {\"outlinewidth\": 0, \"ticks\": \"\"}}, \"type\": \"scatterpolar\"}], \"scatterpolargl\": [{\"marker\": {\"colorbar\": {\"outlinewidth\": 0, \"ticks\": \"\"}}, \"type\": \"scatterpolargl\"}], \"scatterternary\": [{\"marker\": {\"colorbar\": {\"outlinewidth\": 0, \"ticks\": \"\"}}, \"type\": \"scatterternary\"}], \"surface\": [{\"colorbar\": {\"outlinewidth\": 0, \"ticks\": \"\"}, \"colorscale\": [[0.0, \"#0d0887\"], [0.1111111111111111, \"#46039f\"], [0.2222222222222222, \"#7201a8\"], [0.3333333333333333, \"#9c179e\"], [0.4444444444444444, \"#bd3786\"], [0.5555555555555556, \"#d8576b\"], [0.6666666666666666, \"#ed7953\"], [0.7777777777777778, \"#fb9f3a\"], [0.8888888888888888, \"#fdca26\"], [1.0, \"#f0f921\"]], \"type\": \"surface\"}], \"table\": [{\"cells\": {\"fill\": {\"color\": \"#EBF0F8\"}, \"line\": {\"color\": \"white\"}}, \"header\": {\"fill\": {\"color\": \"#C8D4E3\"}, \"line\": {\"color\": \"white\"}}, \"type\": \"table\"}]}, \"layout\": {\"annotationdefaults\": {\"arrowcolor\": \"#2a3f5f\", \"arrowhead\": 0, \"arrowwidth\": 1}, \"coloraxis\": {\"colorbar\": {\"outlinewidth\": 0, \"ticks\": \"\"}}, \"colorscale\": {\"diverging\": [[0, \"#8e0152\"], [0.1, \"#c51b7d\"], [0.2, \"#de77ae\"], [0.3, \"#f1b6da\"], [0.4, \"#fde0ef\"], [0.5, \"#f7f7f7\"], [0.6, \"#e6f5d0\"], [0.7, \"#b8e186\"], [0.8, \"#7fbc41\"], [0.9, \"#4d9221\"], [1, \"#276419\"]], \"sequential\": [[0.0, \"#0d0887\"], [0.1111111111111111, \"#46039f\"], [0.2222222222222222, \"#7201a8\"], [0.3333333333333333, \"#9c179e\"], [0.4444444444444444, \"#bd3786\"], [0.5555555555555556, \"#d8576b\"], [0.6666666666666666, \"#ed7953\"], [0.7777777777777778, \"#fb9f3a\"], [0.8888888888888888, \"#fdca26\"], [1.0, \"#f0f921\"]], \"sequentialminus\": [[0.0, \"#0d0887\"], [0.1111111111111111, \"#46039f\"], [0.2222222222222222, \"#7201a8\"], [0.3333333333333333, \"#9c179e\"], [0.4444444444444444, \"#bd3786\"], [0.5555555555555556, \"#d8576b\"], [0.6666666666666666, \"#ed7953\"], [0.7777777777777778, \"#fb9f3a\"], [0.8888888888888888, \"#fdca26\"], [1.0, \"#f0f921\"]]}, \"colorway\": [\"#636efa\", \"#EF553B\", \"#00cc96\", \"#ab63fa\", \"#FFA15A\", \"#19d3f3\", \"#FF6692\", \"#B6E880\", \"#FF97FF\", \"#FECB52\"], \"font\": {\"color\": \"#2a3f5f\"}, \"geo\": {\"bgcolor\": \"white\", \"lakecolor\": \"white\", \"landcolor\": \"#E5ECF6\", \"showlakes\": true, \"showland\": true, \"subunitcolor\": \"white\"}, \"hoverlabel\": {\"align\": \"left\"}, \"hovermode\": \"closest\", \"mapbox\": {\"style\": \"light\"}, \"paper_bgcolor\": \"white\", \"plot_bgcolor\": \"#E5ECF6\", \"polar\": {\"angularaxis\": {\"gridcolor\": \"white\", \"linecolor\": \"white\", \"ticks\": \"\"}, \"bgcolor\": \"#E5ECF6\", \"radialaxis\": {\"gridcolor\": \"white\", \"linecolor\": \"white\", \"ticks\": \"\"}}, \"scene\": {\"xaxis\": {\"backgroundcolor\": \"#E5ECF6\", \"gridcolor\": \"white\", \"gridwidth\": 2, \"linecolor\": \"white\", \"showbackground\": true, \"ticks\": \"\", \"zerolinecolor\": \"white\"}, \"yaxis\": {\"backgroundcolor\": \"#E5ECF6\", \"gridcolor\": \"white\", \"gridwidth\": 2, \"linecolor\": \"white\", \"showbackground\": true, \"ticks\": \"\", \"zerolinecolor\": \"white\"}, \"zaxis\": {\"backgroundcolor\": \"#E5ECF6\", \"gridcolor\": \"white\", \"gridwidth\": 2, \"linecolor\": \"white\", \"showbackground\": true, \"ticks\": \"\", \"zerolinecolor\": \"white\"}}, \"shapedefaults\": {\"line\": {\"color\": \"#2a3f5f\"}}, \"ternary\": {\"aaxis\": {\"gridcolor\": \"white\", \"linecolor\": \"white\", \"ticks\": \"\"}, \"baxis\": {\"gridcolor\": \"white\", \"linecolor\": \"white\", \"ticks\": \"\"}, \"bgcolor\": \"#E5ECF6\", \"caxis\": {\"gridcolor\": \"white\", \"linecolor\": \"white\", \"ticks\": \"\"}}, \"title\": {\"x\": 0.05}, \"xaxis\": {\"automargin\": true, \"gridcolor\": \"white\", \"linecolor\": \"white\", \"ticks\": \"\", \"title\": {\"standoff\": 15}, \"zerolinecolor\": \"white\", \"zerolinewidth\": 2}, \"yaxis\": {\"automargin\": true, \"gridcolor\": \"white\", \"linecolor\": \"white\", \"ticks\": \"\", \"title\": {\"standoff\": 15}, \"zerolinecolor\": \"white\", \"zerolinewidth\": 2}}}, \"title\": {\"text\": \"Average Park Activity During Different Days of the Week in April, Lunchtime\"}, \"xaxis\": {\"title\": {\"text\": \"Year\"}}, \"yaxis\": {\"title\": {\"text\": \"Average Bike + Ped Count\"}}},\n",
              "                        {\"responsive\": true}\n",
              "                    ).then(function(){\n",
              "                            \n",
              "var gd = document.getElementById('c1e9f086-94af-4bd5-8010-855d863dd2b2');\n",
              "var x = new MutationObserver(function (mutations, observer) {{\n",
              "        var display = window.getComputedStyle(gd).display;\n",
              "        if (!display || display === 'none') {{\n",
              "            console.log([gd, 'removed!']);\n",
              "            Plotly.purge(gd);\n",
              "            observer.disconnect();\n",
              "        }}\n",
              "}});\n",
              "\n",
              "// Listen for the removal of the full notebook cells\n",
              "var notebookContainer = gd.closest('#notebook-container');\n",
              "if (notebookContainer) {{\n",
              "    x.observe(notebookContainer, {childList: true});\n",
              "}}\n",
              "\n",
              "// Listen for the clearing of the current output cell\n",
              "var outputEl = gd.closest('.output');\n",
              "if (outputEl) {{\n",
              "    x.observe(outputEl, {childList: true});\n",
              "}}\n",
              "\n",
              "                        })\n",
              "                };\n",
              "                \n",
              "            </script>\n",
              "        </div>\n",
              "</body>\n",
              "</html>"
            ]
          },
          "metadata": {
            "tags": []
          }
        }
      ]
    },
    {
      "cell_type": "markdown",
      "metadata": {
        "id": "zU-JlIDP0GBn"
      },
      "source": [
        "This data suggests that park usage on any given weekday in April 2020 is higher compared to the same weekday in 2019, except on Tuesdays, but compared to prior years there's no recognizable pattern. This is just the lunch hour though. Will this pattern hold after work hours?"
      ]
    },
    {
      "cell_type": "code",
      "metadata": {
        "id": "un8Do8IN0GBn",
        "colab": {
          "base_uri": "https://localhost:8080/",
          "height": 0
        },
        "outputId": "0e4e16ac-81fc-4b7e-8f5b-f4076d2ef762"
      },
      "source": [
        "fig = go.Figure()\n",
        "fig.add_trace(go.Scatter(x=allyears, y=counts_across_years('April', 'Monday', datetime.time(17, 0)),\n",
        "                    mode='lines',\n",
        "                    name='Mondays, 5-6 pm'))\n",
        "fig.add_trace(go.Scatter(x=allyears, y=counts_across_years('April', 'Tuesday', datetime.time(17, 0)),\n",
        "                    mode='lines',\n",
        "                    name='Tuesdays, 5-6 pm'))\n",
        "fig.add_trace(go.Scatter(x=allyears, y=counts_across_years('April', 'Wednesday', datetime.time(17, 0)),\n",
        "                    mode='lines',\n",
        "                    name='Wednesdays, 5-6 pm'))\n",
        "fig.add_trace(go.Scatter(x=allyears, y=counts_across_years('April', 'Thursday', datetime.time(17, 0)),\n",
        "                    mode='lines',\n",
        "                    name='Thursdays, 5-6 pm'))\n",
        "fig.add_trace(go.Scatter(x=allyears, y=counts_across_years('April', 'Friday', datetime.time(17, 0)),\n",
        "                    mode='lines',\n",
        "                    name='Fridays, 5-6 pm'))\n",
        "fig.add_trace(go.Scatter(x=allyears, y=counts_across_years('April', 'Saturday', datetime.time(17, 0)),\n",
        "                    mode='lines',\n",
        "                    name='Saturdays, 5-6 pm'))\n",
        "\n",
        "fig.update_layout(title='Average Park Activity During Different Days of the Week in March, Evenings',\n",
        "                   xaxis_title='Year',\n",
        "                   yaxis_title='Average Bike + Ped Count')\n",
        "fig.show()"
      ],
      "execution_count": 19,
      "outputs": [
        {
          "output_type": "display_data",
          "data": {
            "text/html": [
              "<html>\n",
              "<head><meta charset=\"utf-8\" /></head>\n",
              "<body>\n",
              "    <div>\n",
              "            <script src=\"https://cdnjs.cloudflare.com/ajax/libs/mathjax/2.7.5/MathJax.js?config=TeX-AMS-MML_SVG\"></script><script type=\"text/javascript\">if (window.MathJax) {MathJax.Hub.Config({SVG: {font: \"STIX-Web\"}});}</script>\n",
              "                <script type=\"text/javascript\">window.PlotlyConfig = {MathJaxConfig: 'local'};</script>\n",
              "        <script src=\"https://cdn.plot.ly/plotly-latest.min.js\"></script>    \n",
              "            <div id=\"b5dfeebf-7d22-4026-83b1-4162c8c3f6a0\" class=\"plotly-graph-div\" style=\"height:525px; width:100%;\"></div>\n",
              "            <script type=\"text/javascript\">\n",
              "                \n",
              "                    window.PLOTLYENV=window.PLOTLYENV || {};\n",
              "                    \n",
              "                if (document.getElementById(\"b5dfeebf-7d22-4026-83b1-4162c8c3f6a0\")) {\n",
              "                    Plotly.newPlot(\n",
              "                        'b5dfeebf-7d22-4026-83b1-4162c8c3f6a0',\n",
              "                        [{\"mode\": \"lines\", \"name\": \"Mondays, 5-6 pm\", \"type\": \"scatter\", \"x\": [2014, 2016, 2017, 2018, 2019, 2020], \"y\": [557.25, 486.25, 378.25, 485.6, 770.4, 784.25]}, {\"mode\": \"lines\", \"name\": \"Tuesdays, 5-6 pm\", \"type\": \"scatter\", \"x\": [2014, 2016, 2017, 2018, 2019, 2020], \"y\": [421.8, 421.75, 400.5, 512.0, 842.8, 622.0]}, {\"mode\": \"lines\", \"name\": \"Wednesdays, 5-6 pm\", \"type\": \"scatter\", \"x\": [2014, 2016, 2017, 2018, 2019, 2020], \"y\": [411.8, 527.75, 260.75, 416.0, 806.25, 589.4]}, {\"mode\": \"lines\", \"name\": \"Thursdays, 5-6 pm\", \"type\": \"scatter\", \"x\": [2014, 2016, 2017, 2018, 2019, 2020], \"y\": [266.0, 552.75, 410.25, 444.75, 430.25, 590.2]}, {\"mode\": \"lines\", \"name\": \"Fridays, 5-6 pm\", \"type\": \"scatter\", \"x\": [2014, 2016, 2017, 2018, 2019, 2020], \"y\": [341.0, 458.6, 410.75, 353.75, 348.0, 501.0]}, {\"mode\": \"lines\", \"name\": \"Saturdays, 5-6 pm\", \"type\": \"scatter\", \"x\": [2014, 2016, 2017, 2018, 2019, 2020], \"y\": [151.25, 466.6, 233.0, 107.5, 632.0, 544.5]}],\n",
              "                        {\"template\": {\"data\": {\"bar\": [{\"error_x\": {\"color\": \"#2a3f5f\"}, \"error_y\": {\"color\": \"#2a3f5f\"}, \"marker\": {\"line\": {\"color\": \"#E5ECF6\", \"width\": 0.5}}, \"type\": \"bar\"}], \"barpolar\": [{\"marker\": {\"line\": {\"color\": \"#E5ECF6\", \"width\": 0.5}}, \"type\": \"barpolar\"}], \"carpet\": [{\"aaxis\": {\"endlinecolor\": \"#2a3f5f\", \"gridcolor\": \"white\", \"linecolor\": \"white\", \"minorgridcolor\": \"white\", \"startlinecolor\": \"#2a3f5f\"}, \"baxis\": {\"endlinecolor\": \"#2a3f5f\", \"gridcolor\": \"white\", \"linecolor\": \"white\", \"minorgridcolor\": \"white\", \"startlinecolor\": \"#2a3f5f\"}, \"type\": \"carpet\"}], \"choropleth\": [{\"colorbar\": {\"outlinewidth\": 0, \"ticks\": \"\"}, \"type\": \"choropleth\"}], \"contour\": [{\"colorbar\": {\"outlinewidth\": 0, \"ticks\": \"\"}, \"colorscale\": [[0.0, \"#0d0887\"], [0.1111111111111111, \"#46039f\"], [0.2222222222222222, \"#7201a8\"], [0.3333333333333333, \"#9c179e\"], [0.4444444444444444, \"#bd3786\"], [0.5555555555555556, \"#d8576b\"], [0.6666666666666666, \"#ed7953\"], [0.7777777777777778, \"#fb9f3a\"], [0.8888888888888888, \"#fdca26\"], [1.0, \"#f0f921\"]], \"type\": \"contour\"}], \"contourcarpet\": [{\"colorbar\": {\"outlinewidth\": 0, \"ticks\": \"\"}, \"type\": \"contourcarpet\"}], \"heatmap\": [{\"colorbar\": {\"outlinewidth\": 0, \"ticks\": \"\"}, \"colorscale\": [[0.0, \"#0d0887\"], [0.1111111111111111, \"#46039f\"], [0.2222222222222222, \"#7201a8\"], [0.3333333333333333, \"#9c179e\"], [0.4444444444444444, \"#bd3786\"], [0.5555555555555556, \"#d8576b\"], [0.6666666666666666, \"#ed7953\"], [0.7777777777777778, \"#fb9f3a\"], [0.8888888888888888, \"#fdca26\"], [1.0, \"#f0f921\"]], \"type\": \"heatmap\"}], \"heatmapgl\": [{\"colorbar\": {\"outlinewidth\": 0, \"ticks\": \"\"}, \"colorscale\": [[0.0, \"#0d0887\"], [0.1111111111111111, \"#46039f\"], [0.2222222222222222, \"#7201a8\"], [0.3333333333333333, \"#9c179e\"], [0.4444444444444444, \"#bd3786\"], [0.5555555555555556, \"#d8576b\"], [0.6666666666666666, \"#ed7953\"], [0.7777777777777778, \"#fb9f3a\"], [0.8888888888888888, \"#fdca26\"], [1.0, \"#f0f921\"]], \"type\": \"heatmapgl\"}], \"histogram\": [{\"marker\": {\"colorbar\": {\"outlinewidth\": 0, \"ticks\": \"\"}}, \"type\": \"histogram\"}], \"histogram2d\": [{\"colorbar\": {\"outlinewidth\": 0, \"ticks\": \"\"}, \"colorscale\": [[0.0, \"#0d0887\"], [0.1111111111111111, \"#46039f\"], [0.2222222222222222, \"#7201a8\"], [0.3333333333333333, \"#9c179e\"], [0.4444444444444444, \"#bd3786\"], [0.5555555555555556, \"#d8576b\"], [0.6666666666666666, \"#ed7953\"], [0.7777777777777778, \"#fb9f3a\"], [0.8888888888888888, \"#fdca26\"], [1.0, \"#f0f921\"]], \"type\": \"histogram2d\"}], \"histogram2dcontour\": [{\"colorbar\": {\"outlinewidth\": 0, \"ticks\": \"\"}, \"colorscale\": [[0.0, \"#0d0887\"], [0.1111111111111111, \"#46039f\"], [0.2222222222222222, \"#7201a8\"], [0.3333333333333333, \"#9c179e\"], [0.4444444444444444, \"#bd3786\"], [0.5555555555555556, \"#d8576b\"], [0.6666666666666666, \"#ed7953\"], [0.7777777777777778, \"#fb9f3a\"], [0.8888888888888888, \"#fdca26\"], [1.0, \"#f0f921\"]], \"type\": \"histogram2dcontour\"}], \"mesh3d\": [{\"colorbar\": {\"outlinewidth\": 0, \"ticks\": \"\"}, \"type\": \"mesh3d\"}], \"parcoords\": [{\"line\": {\"colorbar\": {\"outlinewidth\": 0, \"ticks\": \"\"}}, \"type\": \"parcoords\"}], \"pie\": [{\"automargin\": true, \"type\": \"pie\"}], \"scatter\": [{\"marker\": {\"colorbar\": {\"outlinewidth\": 0, \"ticks\": \"\"}}, \"type\": \"scatter\"}], \"scatter3d\": [{\"line\": {\"colorbar\": {\"outlinewidth\": 0, \"ticks\": \"\"}}, \"marker\": {\"colorbar\": {\"outlinewidth\": 0, \"ticks\": \"\"}}, \"type\": \"scatter3d\"}], \"scattercarpet\": [{\"marker\": {\"colorbar\": {\"outlinewidth\": 0, \"ticks\": \"\"}}, \"type\": \"scattercarpet\"}], \"scattergeo\": [{\"marker\": {\"colorbar\": {\"outlinewidth\": 0, \"ticks\": \"\"}}, \"type\": \"scattergeo\"}], \"scattergl\": [{\"marker\": {\"colorbar\": {\"outlinewidth\": 0, \"ticks\": \"\"}}, \"type\": \"scattergl\"}], \"scattermapbox\": [{\"marker\": {\"colorbar\": {\"outlinewidth\": 0, \"ticks\": \"\"}}, \"type\": \"scattermapbox\"}], \"scatterpolar\": [{\"marker\": {\"colorbar\": {\"outlinewidth\": 0, \"ticks\": \"\"}}, \"type\": \"scatterpolar\"}], \"scatterpolargl\": [{\"marker\": {\"colorbar\": {\"outlinewidth\": 0, \"ticks\": \"\"}}, \"type\": \"scatterpolargl\"}], \"scatterternary\": [{\"marker\": {\"colorbar\": {\"outlinewidth\": 0, \"ticks\": \"\"}}, \"type\": \"scatterternary\"}], \"surface\": [{\"colorbar\": {\"outlinewidth\": 0, \"ticks\": \"\"}, \"colorscale\": [[0.0, \"#0d0887\"], [0.1111111111111111, \"#46039f\"], [0.2222222222222222, \"#7201a8\"], [0.3333333333333333, \"#9c179e\"], [0.4444444444444444, \"#bd3786\"], [0.5555555555555556, \"#d8576b\"], [0.6666666666666666, \"#ed7953\"], [0.7777777777777778, \"#fb9f3a\"], [0.8888888888888888, \"#fdca26\"], [1.0, \"#f0f921\"]], \"type\": \"surface\"}], \"table\": [{\"cells\": {\"fill\": {\"color\": \"#EBF0F8\"}, \"line\": {\"color\": \"white\"}}, \"header\": {\"fill\": {\"color\": \"#C8D4E3\"}, \"line\": {\"color\": \"white\"}}, \"type\": \"table\"}]}, \"layout\": {\"annotationdefaults\": {\"arrowcolor\": \"#2a3f5f\", \"arrowhead\": 0, \"arrowwidth\": 1}, \"coloraxis\": {\"colorbar\": {\"outlinewidth\": 0, \"ticks\": \"\"}}, \"colorscale\": {\"diverging\": [[0, \"#8e0152\"], [0.1, \"#c51b7d\"], [0.2, \"#de77ae\"], [0.3, \"#f1b6da\"], [0.4, \"#fde0ef\"], [0.5, \"#f7f7f7\"], [0.6, \"#e6f5d0\"], [0.7, \"#b8e186\"], [0.8, \"#7fbc41\"], [0.9, \"#4d9221\"], [1, \"#276419\"]], \"sequential\": [[0.0, \"#0d0887\"], [0.1111111111111111, \"#46039f\"], [0.2222222222222222, \"#7201a8\"], [0.3333333333333333, \"#9c179e\"], [0.4444444444444444, \"#bd3786\"], [0.5555555555555556, \"#d8576b\"], [0.6666666666666666, \"#ed7953\"], [0.7777777777777778, \"#fb9f3a\"], [0.8888888888888888, \"#fdca26\"], [1.0, \"#f0f921\"]], \"sequentialminus\": [[0.0, \"#0d0887\"], [0.1111111111111111, \"#46039f\"], [0.2222222222222222, \"#7201a8\"], [0.3333333333333333, \"#9c179e\"], [0.4444444444444444, \"#bd3786\"], [0.5555555555555556, \"#d8576b\"], [0.6666666666666666, \"#ed7953\"], [0.7777777777777778, \"#fb9f3a\"], [0.8888888888888888, \"#fdca26\"], [1.0, \"#f0f921\"]]}, \"colorway\": [\"#636efa\", \"#EF553B\", \"#00cc96\", \"#ab63fa\", \"#FFA15A\", \"#19d3f3\", \"#FF6692\", \"#B6E880\", \"#FF97FF\", \"#FECB52\"], \"font\": {\"color\": \"#2a3f5f\"}, \"geo\": {\"bgcolor\": \"white\", \"lakecolor\": \"white\", \"landcolor\": \"#E5ECF6\", \"showlakes\": true, \"showland\": true, \"subunitcolor\": \"white\"}, \"hoverlabel\": {\"align\": \"left\"}, \"hovermode\": \"closest\", \"mapbox\": {\"style\": \"light\"}, \"paper_bgcolor\": \"white\", \"plot_bgcolor\": \"#E5ECF6\", \"polar\": {\"angularaxis\": {\"gridcolor\": \"white\", \"linecolor\": \"white\", \"ticks\": \"\"}, \"bgcolor\": \"#E5ECF6\", \"radialaxis\": {\"gridcolor\": \"white\", \"linecolor\": \"white\", \"ticks\": \"\"}}, \"scene\": {\"xaxis\": {\"backgroundcolor\": \"#E5ECF6\", \"gridcolor\": \"white\", \"gridwidth\": 2, \"linecolor\": \"white\", \"showbackground\": true, \"ticks\": \"\", \"zerolinecolor\": \"white\"}, \"yaxis\": {\"backgroundcolor\": \"#E5ECF6\", \"gridcolor\": \"white\", \"gridwidth\": 2, \"linecolor\": \"white\", \"showbackground\": true, \"ticks\": \"\", \"zerolinecolor\": \"white\"}, \"zaxis\": {\"backgroundcolor\": \"#E5ECF6\", \"gridcolor\": \"white\", \"gridwidth\": 2, \"linecolor\": \"white\", \"showbackground\": true, \"ticks\": \"\", \"zerolinecolor\": \"white\"}}, \"shapedefaults\": {\"line\": {\"color\": \"#2a3f5f\"}}, \"ternary\": {\"aaxis\": {\"gridcolor\": \"white\", \"linecolor\": \"white\", \"ticks\": \"\"}, \"baxis\": {\"gridcolor\": \"white\", \"linecolor\": \"white\", \"ticks\": \"\"}, \"bgcolor\": \"#E5ECF6\", \"caxis\": {\"gridcolor\": \"white\", \"linecolor\": \"white\", \"ticks\": \"\"}}, \"title\": {\"x\": 0.05}, \"xaxis\": {\"automargin\": true, \"gridcolor\": \"white\", \"linecolor\": \"white\", \"ticks\": \"\", \"title\": {\"standoff\": 15}, \"zerolinecolor\": \"white\", \"zerolinewidth\": 2}, \"yaxis\": {\"automargin\": true, \"gridcolor\": \"white\", \"linecolor\": \"white\", \"ticks\": \"\", \"title\": {\"standoff\": 15}, \"zerolinecolor\": \"white\", \"zerolinewidth\": 2}}}, \"title\": {\"text\": \"Average Park Activity During Different Days of the Week in March, Evenings\"}, \"xaxis\": {\"title\": {\"text\": \"Year\"}}, \"yaxis\": {\"title\": {\"text\": \"Average Bike + Ped Count\"}}},\n",
              "                        {\"responsive\": true}\n",
              "                    ).then(function(){\n",
              "                            \n",
              "var gd = document.getElementById('b5dfeebf-7d22-4026-83b1-4162c8c3f6a0');\n",
              "var x = new MutationObserver(function (mutations, observer) {{\n",
              "        var display = window.getComputedStyle(gd).display;\n",
              "        if (!display || display === 'none') {{\n",
              "            console.log([gd, 'removed!']);\n",
              "            Plotly.purge(gd);\n",
              "            observer.disconnect();\n",
              "        }}\n",
              "}});\n",
              "\n",
              "// Listen for the removal of the full notebook cells\n",
              "var notebookContainer = gd.closest('#notebook-container');\n",
              "if (notebookContainer) {{\n",
              "    x.observe(notebookContainer, {childList: true});\n",
              "}}\n",
              "\n",
              "// Listen for the clearing of the current output cell\n",
              "var outputEl = gd.closest('.output');\n",
              "if (outputEl) {{\n",
              "    x.observe(outputEl, {childList: true});\n",
              "}}\n",
              "\n",
              "                        })\n",
              "                };\n",
              "                \n",
              "            </script>\n",
              "        </div>\n",
              "</body>\n",
              "</html>"
            ]
          },
          "metadata": {
            "tags": []
          }
        }
      ]
    },
    {
      "cell_type": "markdown",
      "metadata": {
        "id": "EqbcDI1j0GBn"
      },
      "source": [
        "Interestingly, the same pattern doesn't hold from the 5 to 6 pm hour, at least not every day. While Tuesday and Wednesday afternoons see a steep drop from 2019, Thursday and Fridays see increases. But while in 2019 there was  noticeably higher usage earlier in the week, in 2020 usage is converging on all days except Monday. Perhaps the pandemic has wiped away most of the weekly rhythms that distinguish one weekday from another. "
      ]
    },
    {
      "cell_type": "markdown",
      "metadata": {
        "id": "DwzGSEV-0GBo"
      },
      "source": [
        "Now I'd like to get a sense of how usage varies throughout the day. This could help people determine the least crowded time to visit the park, for example. The function below takes a month, year, and weekday (for example, Fridays in March 2020) and returns average counts for each hour: average counts at 10am, average counts at 11am, etc."
      ]
    },
    {
      "cell_type": "code",
      "metadata": {
        "colab": {
          "base_uri": "https://localhost:8080/"
        },
        "id": "6kxJtHSD0GBo",
        "outputId": "b0eef076-a84a-4b84-92fe-e845670f7b0a"
      },
      "source": [
        "def monthly_average_by_hour(month, year, weekday):\n",
        "    hourly_average=[]\n",
        "    hourlist = sorted(unique(APIrecords, 'Time'))\n",
        "    for hour in hourlist:\n",
        "        hourly_average.append(hourly_average_by_day(month, year, weekday, hour))\n",
        "    return hourly_average\n",
        "monthly_average_by_hour('April', 2020, 'Friday')\n",
        "#it would be best if this were a dictionary so we could ensure keys and values are matched up."
      ],
      "execution_count": 20,
      "outputs": [
        {
          "output_type": "execute_result",
          "data": {
            "text/plain": [
              "[12.25,\n",
              " 4.0,\n",
              " 4.75,\n",
              " 2.25,\n",
              " 8.75,\n",
              " 20.0,\n",
              " 112.75,\n",
              " 204.0,\n",
              " 188.75,\n",
              " 210.5,\n",
              " 241.0,\n",
              " 282.75,\n",
              " 334.5,\n",
              " 371.0,\n",
              " 350.0,\n",
              " 403.75,\n",
              " 436.75,\n",
              " 501.0,\n",
              " 529.0,\n",
              " 342.75,\n",
              " 128.0,\n",
              " 40.5,\n",
              " 29.5,\n",
              " 10.0]"
            ]
          },
          "metadata": {
            "tags": []
          },
          "execution_count": 20
        }
      ]
    },
    {
      "cell_type": "markdown",
      "metadata": {
        "id": "8_tqOM1s0GBo"
      },
      "source": [
        "That data looks about right, based on what I've observed on various of my own walks! Usage peaks in late afternoon when people get off work and it is warmer. For now I'm going to apply this function to different years in the dataset to compare trends year over year. But instead of Friday, I'll graph Wednesday, because in transportation terms you get a better picture of people's habits if you choose data in the middle of the week. "
      ]
    },
    {
      "cell_type": "code",
      "metadata": {
        "id": "QLOfxhL50GBo",
        "colab": {
          "base_uri": "https://localhost:8080/",
          "height": 0
        },
        "outputId": "238f74c6-2898-4298-ad4d-75282650ccd9"
      },
      "source": [
        "fig = go.Figure()\n",
        "fig.add_trace(go.Scatter(x=alltimes, y=monthly_average_by_hour('April', 2020, 'Wednesday'),\n",
        "                    mode='lines',\n",
        "                    name='2020'))\n",
        "fig.add_trace(go.Scatter(x=alltimes, y=monthly_average_by_hour('April', 2019, 'Wednesday'),\n",
        "                    mode='lines',\n",
        "                    name='2019'))\n",
        "fig.add_trace(go.Scatter(x=alltimes, y=monthly_average_by_hour('April', 2018, 'Wednesday'),\n",
        "                    mode='lines',\n",
        "                    name='2018'))\n",
        "fig.add_trace(go.Scatter(x=alltimes, y=monthly_average_by_hour('April', 2017, 'Wednesday'),\n",
        "                    mode='lines',\n",
        "                    name='2017'))\n",
        "fig.add_trace(go.Scatter(x=alltimes, y=monthly_average_by_hour('April', 2016, 'Wednesday'),\n",
        "                    mode='lines',\n",
        "                    name='2016'))\n",
        "fig.update_layout(title='Average Hourly Park Activity for Wednesdays in April',\n",
        "                   xaxis_title='Hour of Day',\n",
        "                   yaxis_title='Average Bike + Ped Count')\n",
        "fig.show()"
      ],
      "execution_count": 21,
      "outputs": [
        {
          "output_type": "display_data",
          "data": {
            "text/html": [
              "<html>\n",
              "<head><meta charset=\"utf-8\" /></head>\n",
              "<body>\n",
              "    <div>\n",
              "            <script src=\"https://cdnjs.cloudflare.com/ajax/libs/mathjax/2.7.5/MathJax.js?config=TeX-AMS-MML_SVG\"></script><script type=\"text/javascript\">if (window.MathJax) {MathJax.Hub.Config({SVG: {font: \"STIX-Web\"}});}</script>\n",
              "                <script type=\"text/javascript\">window.PlotlyConfig = {MathJaxConfig: 'local'};</script>\n",
              "        <script src=\"https://cdn.plot.ly/plotly-latest.min.js\"></script>    \n",
              "            <div id=\"84b9e52c-1fb5-4f70-860a-605fba4a71aa\" class=\"plotly-graph-div\" style=\"height:525px; width:100%;\"></div>\n",
              "            <script type=\"text/javascript\">\n",
              "                \n",
              "                    window.PLOTLYENV=window.PLOTLYENV || {};\n",
              "                    \n",
              "                if (document.getElementById(\"84b9e52c-1fb5-4f70-860a-605fba4a71aa\")) {\n",
              "                    Plotly.newPlot(\n",
              "                        '84b9e52c-1fb5-4f70-860a-605fba4a71aa',\n",
              "                        [{\"mode\": \"lines\", \"name\": \"2020\", \"type\": \"scatter\", \"x\": [\"00:00:00\", \"01:00:00\", \"02:00:00\", \"03:00:00\", \"04:00:00\", \"05:00:00\", \"06:00:00\", \"07:00:00\", \"08:00:00\", \"09:00:00\", \"10:00:00\", \"11:00:00\", \"12:00:00\", \"13:00:00\", \"14:00:00\", \"15:00:00\", \"16:00:00\", \"17:00:00\", \"18:00:00\", \"19:00:00\", \"20:00:00\", \"21:00:00\", \"22:00:00\", \"23:00:00\"], \"y\": [3.2, 2.6, 1.0, 6.8, 3.0, 16.2, 95.8, 160.0, 157.8, 130.2, 150.8, 214.4, 282.0, 286.6, 334.0, 391.4, 505.4, 589.4, 642.8, 434.0, 133.6, 45.4, 41.8, 10.2]}, {\"mode\": \"lines\", \"name\": \"2019\", \"type\": \"scatter\", \"x\": [\"00:00:00\", \"01:00:00\", \"02:00:00\", \"03:00:00\", \"04:00:00\", \"05:00:00\", \"06:00:00\", \"07:00:00\", \"08:00:00\", \"09:00:00\", \"10:00:00\", \"11:00:00\", \"12:00:00\", \"13:00:00\", \"14:00:00\", \"15:00:00\", \"16:00:00\", \"17:00:00\", \"18:00:00\", \"19:00:00\", \"20:00:00\", \"21:00:00\", \"22:00:00\", \"23:00:00\"], \"y\": [4.5, 1.75, 3.75, 3.0, 5.0, 31.5, 162.0, 296.75, 293.75, 136.25, 97.75, 124.0, 255.25, 165.5, 215.0, 337.0, 563.5, 806.25, 593.0, 347.5, 95.5, 33.5, 20.5, 7.75]}, {\"mode\": \"lines\", \"name\": \"2018\", \"type\": \"scatter\", \"x\": [\"00:00:00\", \"01:00:00\", \"02:00:00\", \"03:00:00\", \"04:00:00\", \"05:00:00\", \"06:00:00\", \"07:00:00\", \"08:00:00\", \"09:00:00\", \"10:00:00\", \"11:00:00\", \"12:00:00\", \"13:00:00\", \"14:00:00\", \"15:00:00\", \"16:00:00\", \"17:00:00\", \"18:00:00\", \"19:00:00\", \"20:00:00\", \"21:00:00\", \"22:00:00\", \"23:00:00\"], \"y\": [8.75, 4.25, 3.25, 4.25, 4.25, 30.0, 134.75, 271.25, 297.25, 170.25, 110.5, 124.75, 252.5, 167.0, 140.5, 185.5, 268.0, 416.0, 346.0, 217.25, 125.75, 26.5, 15.25, 7.75]}, {\"mode\": \"lines\", \"name\": \"2017\", \"type\": \"scatter\", \"x\": [\"00:00:00\", \"01:00:00\", \"02:00:00\", \"03:00:00\", \"04:00:00\", \"05:00:00\", \"06:00:00\", \"07:00:00\", \"08:00:00\", \"09:00:00\", \"10:00:00\", \"11:00:00\", \"12:00:00\", \"13:00:00\", \"14:00:00\", \"15:00:00\", \"16:00:00\", \"17:00:00\", \"18:00:00\", \"19:00:00\", \"20:00:00\", \"21:00:00\", \"22:00:00\", \"23:00:00\"], \"y\": [5.0, 1.0, 1.0, 3.75, 7.75, 25.75, 116.75, 183.75, 188.5, 97.25, 70.0, 88.75, 178.0, 80.5, 101.75, 112.25, 179.75, 260.75, 253.0, 148.75, 60.25, 14.25, 7.5, 3.25]}, {\"mode\": \"lines\", \"name\": \"2016\", \"type\": \"scatter\", \"x\": [\"00:00:00\", \"01:00:00\", \"02:00:00\", \"03:00:00\", \"04:00:00\", \"05:00:00\", \"06:00:00\", \"07:00:00\", \"08:00:00\", \"09:00:00\", \"10:00:00\", \"11:00:00\", \"12:00:00\", \"13:00:00\", \"14:00:00\", \"15:00:00\", \"16:00:00\", \"17:00:00\", \"18:00:00\", \"19:00:00\", \"20:00:00\", \"21:00:00\", \"22:00:00\", \"23:00:00\"], \"y\": [3.25, 4.75, 1.5, 1.5, 4.5, 18.75, 116.5, 276.75, 363.0, 260.5, 176.0, 189.25, 344.25, 345.75, 227.75, 235.0, 317.5, 527.75, 590.75, 458.5, 243.75, 51.25, 25.0, 12.75]}],\n",
              "                        {\"template\": {\"data\": {\"bar\": [{\"error_x\": {\"color\": \"#2a3f5f\"}, \"error_y\": {\"color\": \"#2a3f5f\"}, \"marker\": {\"line\": {\"color\": \"#E5ECF6\", \"width\": 0.5}}, \"type\": \"bar\"}], \"barpolar\": [{\"marker\": {\"line\": {\"color\": \"#E5ECF6\", \"width\": 0.5}}, \"type\": \"barpolar\"}], \"carpet\": [{\"aaxis\": {\"endlinecolor\": \"#2a3f5f\", \"gridcolor\": \"white\", \"linecolor\": \"white\", \"minorgridcolor\": \"white\", \"startlinecolor\": \"#2a3f5f\"}, \"baxis\": {\"endlinecolor\": \"#2a3f5f\", \"gridcolor\": \"white\", \"linecolor\": \"white\", \"minorgridcolor\": \"white\", \"startlinecolor\": \"#2a3f5f\"}, \"type\": \"carpet\"}], \"choropleth\": [{\"colorbar\": {\"outlinewidth\": 0, \"ticks\": \"\"}, \"type\": \"choropleth\"}], \"contour\": [{\"colorbar\": {\"outlinewidth\": 0, \"ticks\": \"\"}, \"colorscale\": [[0.0, \"#0d0887\"], [0.1111111111111111, \"#46039f\"], [0.2222222222222222, \"#7201a8\"], [0.3333333333333333, \"#9c179e\"], [0.4444444444444444, \"#bd3786\"], [0.5555555555555556, \"#d8576b\"], [0.6666666666666666, \"#ed7953\"], [0.7777777777777778, \"#fb9f3a\"], [0.8888888888888888, \"#fdca26\"], [1.0, \"#f0f921\"]], \"type\": \"contour\"}], \"contourcarpet\": [{\"colorbar\": {\"outlinewidth\": 0, \"ticks\": \"\"}, \"type\": \"contourcarpet\"}], \"heatmap\": [{\"colorbar\": {\"outlinewidth\": 0, \"ticks\": \"\"}, \"colorscale\": [[0.0, \"#0d0887\"], [0.1111111111111111, \"#46039f\"], [0.2222222222222222, \"#7201a8\"], [0.3333333333333333, \"#9c179e\"], [0.4444444444444444, \"#bd3786\"], [0.5555555555555556, \"#d8576b\"], [0.6666666666666666, \"#ed7953\"], [0.7777777777777778, \"#fb9f3a\"], [0.8888888888888888, \"#fdca26\"], [1.0, \"#f0f921\"]], \"type\": \"heatmap\"}], \"heatmapgl\": [{\"colorbar\": {\"outlinewidth\": 0, \"ticks\": \"\"}, \"colorscale\": [[0.0, \"#0d0887\"], [0.1111111111111111, \"#46039f\"], [0.2222222222222222, \"#7201a8\"], [0.3333333333333333, \"#9c179e\"], [0.4444444444444444, \"#bd3786\"], [0.5555555555555556, \"#d8576b\"], [0.6666666666666666, \"#ed7953\"], [0.7777777777777778, \"#fb9f3a\"], [0.8888888888888888, \"#fdca26\"], [1.0, \"#f0f921\"]], \"type\": \"heatmapgl\"}], \"histogram\": [{\"marker\": {\"colorbar\": {\"outlinewidth\": 0, \"ticks\": \"\"}}, \"type\": \"histogram\"}], \"histogram2d\": [{\"colorbar\": {\"outlinewidth\": 0, \"ticks\": \"\"}, \"colorscale\": [[0.0, \"#0d0887\"], [0.1111111111111111, \"#46039f\"], [0.2222222222222222, \"#7201a8\"], [0.3333333333333333, \"#9c179e\"], [0.4444444444444444, \"#bd3786\"], [0.5555555555555556, \"#d8576b\"], [0.6666666666666666, \"#ed7953\"], [0.7777777777777778, \"#fb9f3a\"], [0.8888888888888888, \"#fdca26\"], [1.0, \"#f0f921\"]], \"type\": \"histogram2d\"}], \"histogram2dcontour\": [{\"colorbar\": {\"outlinewidth\": 0, \"ticks\": \"\"}, \"colorscale\": [[0.0, \"#0d0887\"], [0.1111111111111111, \"#46039f\"], [0.2222222222222222, \"#7201a8\"], [0.3333333333333333, \"#9c179e\"], [0.4444444444444444, \"#bd3786\"], [0.5555555555555556, \"#d8576b\"], [0.6666666666666666, \"#ed7953\"], [0.7777777777777778, \"#fb9f3a\"], [0.8888888888888888, \"#fdca26\"], [1.0, \"#f0f921\"]], \"type\": \"histogram2dcontour\"}], \"mesh3d\": [{\"colorbar\": {\"outlinewidth\": 0, \"ticks\": \"\"}, \"type\": \"mesh3d\"}], \"parcoords\": [{\"line\": {\"colorbar\": {\"outlinewidth\": 0, \"ticks\": \"\"}}, \"type\": \"parcoords\"}], \"pie\": [{\"automargin\": true, \"type\": \"pie\"}], \"scatter\": [{\"marker\": {\"colorbar\": {\"outlinewidth\": 0, \"ticks\": \"\"}}, \"type\": \"scatter\"}], \"scatter3d\": [{\"line\": {\"colorbar\": {\"outlinewidth\": 0, \"ticks\": \"\"}}, \"marker\": {\"colorbar\": {\"outlinewidth\": 0, \"ticks\": \"\"}}, \"type\": \"scatter3d\"}], \"scattercarpet\": [{\"marker\": {\"colorbar\": {\"outlinewidth\": 0, \"ticks\": \"\"}}, \"type\": \"scattercarpet\"}], \"scattergeo\": [{\"marker\": {\"colorbar\": {\"outlinewidth\": 0, \"ticks\": \"\"}}, \"type\": \"scattergeo\"}], \"scattergl\": [{\"marker\": {\"colorbar\": {\"outlinewidth\": 0, \"ticks\": \"\"}}, \"type\": \"scattergl\"}], \"scattermapbox\": [{\"marker\": {\"colorbar\": {\"outlinewidth\": 0, \"ticks\": \"\"}}, \"type\": \"scattermapbox\"}], \"scatterpolar\": [{\"marker\": {\"colorbar\": {\"outlinewidth\": 0, \"ticks\": \"\"}}, \"type\": \"scatterpolar\"}], \"scatterpolargl\": [{\"marker\": {\"colorbar\": {\"outlinewidth\": 0, \"ticks\": \"\"}}, \"type\": \"scatterpolargl\"}], \"scatterternary\": [{\"marker\": {\"colorbar\": {\"outlinewidth\": 0, \"ticks\": \"\"}}, \"type\": \"scatterternary\"}], \"surface\": [{\"colorbar\": {\"outlinewidth\": 0, \"ticks\": \"\"}, \"colorscale\": [[0.0, \"#0d0887\"], [0.1111111111111111, \"#46039f\"], [0.2222222222222222, \"#7201a8\"], [0.3333333333333333, \"#9c179e\"], [0.4444444444444444, \"#bd3786\"], [0.5555555555555556, \"#d8576b\"], [0.6666666666666666, \"#ed7953\"], [0.7777777777777778, \"#fb9f3a\"], [0.8888888888888888, \"#fdca26\"], [1.0, \"#f0f921\"]], \"type\": \"surface\"}], \"table\": [{\"cells\": {\"fill\": {\"color\": \"#EBF0F8\"}, \"line\": {\"color\": \"white\"}}, \"header\": {\"fill\": {\"color\": \"#C8D4E3\"}, \"line\": {\"color\": \"white\"}}, \"type\": \"table\"}]}, \"layout\": {\"annotationdefaults\": {\"arrowcolor\": \"#2a3f5f\", \"arrowhead\": 0, \"arrowwidth\": 1}, \"coloraxis\": {\"colorbar\": {\"outlinewidth\": 0, \"ticks\": \"\"}}, \"colorscale\": {\"diverging\": [[0, \"#8e0152\"], [0.1, \"#c51b7d\"], [0.2, \"#de77ae\"], [0.3, \"#f1b6da\"], [0.4, \"#fde0ef\"], [0.5, \"#f7f7f7\"], [0.6, \"#e6f5d0\"], [0.7, \"#b8e186\"], [0.8, \"#7fbc41\"], [0.9, \"#4d9221\"], [1, \"#276419\"]], \"sequential\": [[0.0, \"#0d0887\"], [0.1111111111111111, \"#46039f\"], [0.2222222222222222, \"#7201a8\"], [0.3333333333333333, \"#9c179e\"], [0.4444444444444444, \"#bd3786\"], [0.5555555555555556, \"#d8576b\"], [0.6666666666666666, \"#ed7953\"], [0.7777777777777778, \"#fb9f3a\"], [0.8888888888888888, \"#fdca26\"], [1.0, \"#f0f921\"]], \"sequentialminus\": [[0.0, \"#0d0887\"], [0.1111111111111111, \"#46039f\"], [0.2222222222222222, \"#7201a8\"], [0.3333333333333333, \"#9c179e\"], [0.4444444444444444, \"#bd3786\"], [0.5555555555555556, \"#d8576b\"], [0.6666666666666666, \"#ed7953\"], [0.7777777777777778, \"#fb9f3a\"], [0.8888888888888888, \"#fdca26\"], [1.0, \"#f0f921\"]]}, \"colorway\": [\"#636efa\", \"#EF553B\", \"#00cc96\", \"#ab63fa\", \"#FFA15A\", \"#19d3f3\", \"#FF6692\", \"#B6E880\", \"#FF97FF\", \"#FECB52\"], \"font\": {\"color\": \"#2a3f5f\"}, \"geo\": {\"bgcolor\": \"white\", \"lakecolor\": \"white\", \"landcolor\": \"#E5ECF6\", \"showlakes\": true, \"showland\": true, \"subunitcolor\": \"white\"}, \"hoverlabel\": {\"align\": \"left\"}, \"hovermode\": \"closest\", \"mapbox\": {\"style\": \"light\"}, \"paper_bgcolor\": \"white\", \"plot_bgcolor\": \"#E5ECF6\", \"polar\": {\"angularaxis\": {\"gridcolor\": \"white\", \"linecolor\": \"white\", \"ticks\": \"\"}, \"bgcolor\": \"#E5ECF6\", \"radialaxis\": {\"gridcolor\": \"white\", \"linecolor\": \"white\", \"ticks\": \"\"}}, \"scene\": {\"xaxis\": {\"backgroundcolor\": \"#E5ECF6\", \"gridcolor\": \"white\", \"gridwidth\": 2, \"linecolor\": \"white\", \"showbackground\": true, \"ticks\": \"\", \"zerolinecolor\": \"white\"}, \"yaxis\": {\"backgroundcolor\": \"#E5ECF6\", \"gridcolor\": \"white\", \"gridwidth\": 2, \"linecolor\": \"white\", \"showbackground\": true, \"ticks\": \"\", \"zerolinecolor\": \"white\"}, \"zaxis\": {\"backgroundcolor\": \"#E5ECF6\", \"gridcolor\": \"white\", \"gridwidth\": 2, \"linecolor\": \"white\", \"showbackground\": true, \"ticks\": \"\", \"zerolinecolor\": \"white\"}}, \"shapedefaults\": {\"line\": {\"color\": \"#2a3f5f\"}}, \"ternary\": {\"aaxis\": {\"gridcolor\": \"white\", \"linecolor\": \"white\", \"ticks\": \"\"}, \"baxis\": {\"gridcolor\": \"white\", \"linecolor\": \"white\", \"ticks\": \"\"}, \"bgcolor\": \"#E5ECF6\", \"caxis\": {\"gridcolor\": \"white\", \"linecolor\": \"white\", \"ticks\": \"\"}}, \"title\": {\"x\": 0.05}, \"xaxis\": {\"automargin\": true, \"gridcolor\": \"white\", \"linecolor\": \"white\", \"ticks\": \"\", \"title\": {\"standoff\": 15}, \"zerolinecolor\": \"white\", \"zerolinewidth\": 2}, \"yaxis\": {\"automargin\": true, \"gridcolor\": \"white\", \"linecolor\": \"white\", \"ticks\": \"\", \"title\": {\"standoff\": 15}, \"zerolinecolor\": \"white\", \"zerolinewidth\": 2}}}, \"title\": {\"text\": \"Average Hourly Park Activity for Wednesdays in April\"}, \"xaxis\": {\"title\": {\"text\": \"Hour of Day\"}}, \"yaxis\": {\"title\": {\"text\": \"Average Bike + Ped Count\"}}},\n",
              "                        {\"responsive\": true}\n",
              "                    ).then(function(){\n",
              "                            \n",
              "var gd = document.getElementById('84b9e52c-1fb5-4f70-860a-605fba4a71aa');\n",
              "var x = new MutationObserver(function (mutations, observer) {{\n",
              "        var display = window.getComputedStyle(gd).display;\n",
              "        if (!display || display === 'none') {{\n",
              "            console.log([gd, 'removed!']);\n",
              "            Plotly.purge(gd);\n",
              "            observer.disconnect();\n",
              "        }}\n",
              "}});\n",
              "\n",
              "// Listen for the removal of the full notebook cells\n",
              "var notebookContainer = gd.closest('#notebook-container');\n",
              "if (notebookContainer) {{\n",
              "    x.observe(notebookContainer, {childList: true});\n",
              "}}\n",
              "\n",
              "// Listen for the clearing of the current output cell\n",
              "var outputEl = gd.closest('.output');\n",
              "if (outputEl) {{\n",
              "    x.observe(outputEl, {childList: true});\n",
              "}}\n",
              "\n",
              "                        })\n",
              "                };\n",
              "                \n",
              "            </script>\n",
              "        </div>\n",
              "</body>\n",
              "</html>"
            ]
          },
          "metadata": {
            "tags": []
          }
        }
      ]
    },
    {
      "cell_type": "markdown",
      "metadata": {
        "id": "ZrMuOcso0GBp"
      },
      "source": [
        "So activity in April 2020 does not really stand out compared to other years."
      ]
    },
    {
      "cell_type": "markdown",
      "metadata": {
        "id": "Pkjd9Dy30GBp"
      },
      "source": [
        "So far we've been looking at April 2020 only as a whole. Let's zoom in on April 2020 by graphing hourly counts for every Friday that month. I posit that counts will creep up week after week, as more and more people began working from home and looking for ways to get some exercise during and after work."
      ]
    },
    {
      "cell_type": "code",
      "metadata": {
        "id": "TL8adKtX0GBp",
        "colab": {
          "base_uri": "https://localhost:8080/",
          "height": 0
        },
        "outputId": "0fe1b5f1-dc3b-4f73-dc84-66bc0fbabd59"
      },
      "source": [
        "from plotly.subplots import make_subplots\n",
        "\n",
        "fig = make_subplots(specs=[[{\"secondary_y\": True}]])\n",
        "\n",
        "fig.add_trace(go.Scatter(x=alltimes, y=hourlycounts('4/3/2020', APIrecords),\n",
        "                    mode='lines',\n",
        "                    name='April 3',\n",
        "                    line_color='rgb(40, 246, 212)'),\n",
        "                    secondary_y=False)\n",
        "fig.add_trace(go.Scatter(x=alltimes, y=hourlycounts('4/10/2020', APIrecords),\n",
        "                    mode='lines',\n",
        "                    name='April 10',\n",
        "                    line_color='rgb(27, 164, 161)'),\n",
        "                    secondary_y=False)\n",
        "fig.add_trace(go.Scatter(x=alltimes, y=hourlycounts('4/17/2020', APIrecords),\n",
        "                    mode='lines',\n",
        "                    name='April 17',\n",
        "                    line_color='rgb(15, 82, 110)'),\n",
        "                    secondary_y=False)\n",
        "fig.add_trace(go.Scatter(x=alltimes, y=hourlycounts('4/24/2020', APIrecords),\n",
        "                    mode='lines',\n",
        "                    name='April 24',\n",
        "                    line_color='rgb(3, 1, 60)'),\n",
        "                    secondary_y=False)\n",
        "\n",
        "fig.update_layout(title='Bike and Ped Activity in Myrtle Edwards Park - Fridays During Covid-19 (2020)',\n",
        "                   xaxis_title='Hour of Day',\n",
        "                   yaxis_title='Total Bike + Ped Count')\n",
        "fig.show()"
      ],
      "execution_count": 22,
      "outputs": [
        {
          "output_type": "display_data",
          "data": {
            "text/html": [
              "<html>\n",
              "<head><meta charset=\"utf-8\" /></head>\n",
              "<body>\n",
              "    <div>\n",
              "            <script src=\"https://cdnjs.cloudflare.com/ajax/libs/mathjax/2.7.5/MathJax.js?config=TeX-AMS-MML_SVG\"></script><script type=\"text/javascript\">if (window.MathJax) {MathJax.Hub.Config({SVG: {font: \"STIX-Web\"}});}</script>\n",
              "                <script type=\"text/javascript\">window.PlotlyConfig = {MathJaxConfig: 'local'};</script>\n",
              "        <script src=\"https://cdn.plot.ly/plotly-latest.min.js\"></script>    \n",
              "            <div id=\"0ade1762-11d4-4c92-a0e6-a28c584c64ce\" class=\"plotly-graph-div\" style=\"height:525px; width:100%;\"></div>\n",
              "            <script type=\"text/javascript\">\n",
              "                \n",
              "                    window.PLOTLYENV=window.PLOTLYENV || {};\n",
              "                    \n",
              "                if (document.getElementById(\"0ade1762-11d4-4c92-a0e6-a28c584c64ce\")) {\n",
              "                    Plotly.newPlot(\n",
              "                        '0ade1762-11d4-4c92-a0e6-a28c584c64ce',\n",
              "                        [{\"line\": {\"color\": \"rgb(40, 246, 212)\"}, \"mode\": \"lines\", \"name\": \"April 3\", \"type\": \"scatter\", \"x\": [\"00:00:00\", \"01:00:00\", \"02:00:00\", \"03:00:00\", \"04:00:00\", \"05:00:00\", \"06:00:00\", \"07:00:00\", \"08:00:00\", \"09:00:00\", \"10:00:00\", \"11:00:00\", \"12:00:00\", \"13:00:00\", \"14:00:00\", \"15:00:00\", \"16:00:00\", \"17:00:00\", \"18:00:00\", \"19:00:00\", \"20:00:00\", \"21:00:00\", \"22:00:00\", \"23:00:00\"], \"xaxis\": \"x\", \"y\": [\"3\", \"2\", \"0\", \"7\", \"6\", \"7\", \"61\", \"201\", \"148\", \"154\", \"170\", \"187\", \"219\", \"183\", \"208\", \"204\", \"110\", \"243\", \"297\", \"200\", \"46\", \"4\", \"7\", \"10\"], \"yaxis\": \"y\"}, {\"line\": {\"color\": \"rgb(27, 164, 161)\"}, \"mode\": \"lines\", \"name\": \"April 10\", \"type\": \"scatter\", \"x\": [\"00:00:00\", \"01:00:00\", \"02:00:00\", \"03:00:00\", \"04:00:00\", \"05:00:00\", \"06:00:00\", \"07:00:00\", \"08:00:00\", \"09:00:00\", \"10:00:00\", \"11:00:00\", \"12:00:00\", \"13:00:00\", \"14:00:00\", \"15:00:00\", \"16:00:00\", \"17:00:00\", \"18:00:00\", \"19:00:00\", \"20:00:00\", \"21:00:00\", \"22:00:00\", \"23:00:00\"], \"xaxis\": \"x\", \"y\": [\"5\", \"3\", \"2\", \"1\", \"2\", \"33\", \"148\", \"212\", \"195\", \"204\", \"250\", \"338\", \"399\", \"400\", \"449\", \"524\", \"656\", \"698\", \"650\", \"399\", \"174\", \"89\", \"70\", \"22\"], \"yaxis\": \"y\"}, {\"line\": {\"color\": \"rgb(15, 82, 110)\"}, \"mode\": \"lines\", \"name\": \"April 17\", \"type\": \"scatter\", \"x\": [\"00:00:00\", \"01:00:00\", \"02:00:00\", \"03:00:00\", \"04:00:00\", \"05:00:00\", \"06:00:00\", \"07:00:00\", \"08:00:00\", \"09:00:00\", \"10:00:00\", \"11:00:00\", \"12:00:00\", \"13:00:00\", \"14:00:00\", \"15:00:00\", \"16:00:00\", \"17:00:00\", \"18:00:00\", \"19:00:00\", \"20:00:00\", \"21:00:00\", \"22:00:00\", \"23:00:00\"], \"xaxis\": \"x\", \"y\": [\"39\", \"7\", \"14\", \"1\", \"18\", \"23\", \"160\", \"218\", \"235\", \"270\", \"305\", \"364\", \"452\", \"585\", \"435\", \"477\", \"512\", \"518\", \"592\", \"378\", \"141\", \"40\", \"24\", \"6\"], \"yaxis\": \"y\"}, {\"line\": {\"color\": \"rgb(3, 1, 60)\"}, \"mode\": \"lines\", \"name\": \"April 24\", \"type\": \"scatter\", \"x\": [\"00:00:00\", \"01:00:00\", \"02:00:00\", \"03:00:00\", \"04:00:00\", \"05:00:00\", \"06:00:00\", \"07:00:00\", \"08:00:00\", \"09:00:00\", \"10:00:00\", \"11:00:00\", \"12:00:00\", \"13:00:00\", \"14:00:00\", \"15:00:00\", \"16:00:00\", \"17:00:00\", \"18:00:00\", \"19:00:00\", \"20:00:00\", \"21:00:00\", \"22:00:00\", \"23:00:00\"], \"xaxis\": \"x\", \"y\": [\"2\", \"4\", \"3\", \"0\", \"9\", \"17\", \"82\", \"185\", \"177\", \"214\", \"239\", \"242\", \"268\", \"316\", \"308\", \"410\", \"469\", \"545\", \"577\", \"394\", \"151\", \"29\", \"17\", \"2\"], \"yaxis\": \"y\"}],\n",
              "                        {\"template\": {\"data\": {\"bar\": [{\"error_x\": {\"color\": \"#2a3f5f\"}, \"error_y\": {\"color\": \"#2a3f5f\"}, \"marker\": {\"line\": {\"color\": \"#E5ECF6\", \"width\": 0.5}}, \"type\": \"bar\"}], \"barpolar\": [{\"marker\": {\"line\": {\"color\": \"#E5ECF6\", \"width\": 0.5}}, \"type\": \"barpolar\"}], \"carpet\": [{\"aaxis\": {\"endlinecolor\": \"#2a3f5f\", \"gridcolor\": \"white\", \"linecolor\": \"white\", \"minorgridcolor\": \"white\", \"startlinecolor\": \"#2a3f5f\"}, \"baxis\": {\"endlinecolor\": \"#2a3f5f\", \"gridcolor\": \"white\", \"linecolor\": \"white\", \"minorgridcolor\": \"white\", \"startlinecolor\": \"#2a3f5f\"}, \"type\": \"carpet\"}], \"choropleth\": [{\"colorbar\": {\"outlinewidth\": 0, \"ticks\": \"\"}, \"type\": \"choropleth\"}], \"contour\": [{\"colorbar\": {\"outlinewidth\": 0, \"ticks\": \"\"}, \"colorscale\": [[0.0, \"#0d0887\"], [0.1111111111111111, \"#46039f\"], [0.2222222222222222, \"#7201a8\"], [0.3333333333333333, \"#9c179e\"], [0.4444444444444444, \"#bd3786\"], [0.5555555555555556, \"#d8576b\"], [0.6666666666666666, \"#ed7953\"], [0.7777777777777778, \"#fb9f3a\"], [0.8888888888888888, \"#fdca26\"], [1.0, \"#f0f921\"]], \"type\": \"contour\"}], \"contourcarpet\": [{\"colorbar\": {\"outlinewidth\": 0, \"ticks\": \"\"}, \"type\": \"contourcarpet\"}], \"heatmap\": [{\"colorbar\": {\"outlinewidth\": 0, \"ticks\": \"\"}, \"colorscale\": [[0.0, \"#0d0887\"], [0.1111111111111111, \"#46039f\"], [0.2222222222222222, \"#7201a8\"], [0.3333333333333333, \"#9c179e\"], [0.4444444444444444, \"#bd3786\"], [0.5555555555555556, \"#d8576b\"], [0.6666666666666666, \"#ed7953\"], [0.7777777777777778, \"#fb9f3a\"], [0.8888888888888888, \"#fdca26\"], [1.0, \"#f0f921\"]], \"type\": \"heatmap\"}], \"heatmapgl\": [{\"colorbar\": {\"outlinewidth\": 0, \"ticks\": \"\"}, \"colorscale\": [[0.0, \"#0d0887\"], [0.1111111111111111, \"#46039f\"], [0.2222222222222222, \"#7201a8\"], [0.3333333333333333, \"#9c179e\"], [0.4444444444444444, \"#bd3786\"], [0.5555555555555556, \"#d8576b\"], [0.6666666666666666, \"#ed7953\"], [0.7777777777777778, \"#fb9f3a\"], [0.8888888888888888, \"#fdca26\"], [1.0, \"#f0f921\"]], \"type\": \"heatmapgl\"}], \"histogram\": [{\"marker\": {\"colorbar\": {\"outlinewidth\": 0, \"ticks\": \"\"}}, \"type\": \"histogram\"}], \"histogram2d\": [{\"colorbar\": {\"outlinewidth\": 0, \"ticks\": \"\"}, \"colorscale\": [[0.0, \"#0d0887\"], [0.1111111111111111, \"#46039f\"], [0.2222222222222222, \"#7201a8\"], [0.3333333333333333, \"#9c179e\"], [0.4444444444444444, \"#bd3786\"], [0.5555555555555556, \"#d8576b\"], [0.6666666666666666, \"#ed7953\"], [0.7777777777777778, \"#fb9f3a\"], [0.8888888888888888, \"#fdca26\"], [1.0, \"#f0f921\"]], \"type\": \"histogram2d\"}], \"histogram2dcontour\": [{\"colorbar\": {\"outlinewidth\": 0, \"ticks\": \"\"}, \"colorscale\": [[0.0, \"#0d0887\"], [0.1111111111111111, \"#46039f\"], [0.2222222222222222, \"#7201a8\"], [0.3333333333333333, \"#9c179e\"], [0.4444444444444444, \"#bd3786\"], [0.5555555555555556, \"#d8576b\"], [0.6666666666666666, \"#ed7953\"], [0.7777777777777778, \"#fb9f3a\"], [0.8888888888888888, \"#fdca26\"], [1.0, \"#f0f921\"]], \"type\": \"histogram2dcontour\"}], \"mesh3d\": [{\"colorbar\": {\"outlinewidth\": 0, \"ticks\": \"\"}, \"type\": \"mesh3d\"}], \"parcoords\": [{\"line\": {\"colorbar\": {\"outlinewidth\": 0, \"ticks\": \"\"}}, \"type\": \"parcoords\"}], \"pie\": [{\"automargin\": true, \"type\": \"pie\"}], \"scatter\": [{\"marker\": {\"colorbar\": {\"outlinewidth\": 0, \"ticks\": \"\"}}, \"type\": \"scatter\"}], \"scatter3d\": [{\"line\": {\"colorbar\": {\"outlinewidth\": 0, \"ticks\": \"\"}}, \"marker\": {\"colorbar\": {\"outlinewidth\": 0, \"ticks\": \"\"}}, \"type\": \"scatter3d\"}], \"scattercarpet\": [{\"marker\": {\"colorbar\": {\"outlinewidth\": 0, \"ticks\": \"\"}}, \"type\": \"scattercarpet\"}], \"scattergeo\": [{\"marker\": {\"colorbar\": {\"outlinewidth\": 0, \"ticks\": \"\"}}, \"type\": \"scattergeo\"}], \"scattergl\": [{\"marker\": {\"colorbar\": {\"outlinewidth\": 0, \"ticks\": \"\"}}, \"type\": \"scattergl\"}], \"scattermapbox\": [{\"marker\": {\"colorbar\": {\"outlinewidth\": 0, \"ticks\": \"\"}}, \"type\": \"scattermapbox\"}], \"scatterpolar\": [{\"marker\": {\"colorbar\": {\"outlinewidth\": 0, \"ticks\": \"\"}}, \"type\": \"scatterpolar\"}], \"scatterpolargl\": [{\"marker\": {\"colorbar\": {\"outlinewidth\": 0, \"ticks\": \"\"}}, \"type\": \"scatterpolargl\"}], \"scatterternary\": [{\"marker\": {\"colorbar\": {\"outlinewidth\": 0, \"ticks\": \"\"}}, \"type\": \"scatterternary\"}], \"surface\": [{\"colorbar\": {\"outlinewidth\": 0, \"ticks\": \"\"}, \"colorscale\": [[0.0, \"#0d0887\"], [0.1111111111111111, \"#46039f\"], [0.2222222222222222, \"#7201a8\"], [0.3333333333333333, \"#9c179e\"], [0.4444444444444444, \"#bd3786\"], [0.5555555555555556, \"#d8576b\"], [0.6666666666666666, \"#ed7953\"], [0.7777777777777778, \"#fb9f3a\"], [0.8888888888888888, \"#fdca26\"], [1.0, \"#f0f921\"]], \"type\": \"surface\"}], \"table\": [{\"cells\": {\"fill\": {\"color\": \"#EBF0F8\"}, \"line\": {\"color\": \"white\"}}, \"header\": {\"fill\": {\"color\": \"#C8D4E3\"}, \"line\": {\"color\": \"white\"}}, \"type\": \"table\"}]}, \"layout\": {\"annotationdefaults\": {\"arrowcolor\": \"#2a3f5f\", \"arrowhead\": 0, \"arrowwidth\": 1}, \"coloraxis\": {\"colorbar\": {\"outlinewidth\": 0, \"ticks\": \"\"}}, \"colorscale\": {\"diverging\": [[0, \"#8e0152\"], [0.1, \"#c51b7d\"], [0.2, \"#de77ae\"], [0.3, \"#f1b6da\"], [0.4, \"#fde0ef\"], [0.5, \"#f7f7f7\"], [0.6, \"#e6f5d0\"], [0.7, \"#b8e186\"], [0.8, \"#7fbc41\"], [0.9, \"#4d9221\"], [1, \"#276419\"]], \"sequential\": [[0.0, \"#0d0887\"], [0.1111111111111111, \"#46039f\"], [0.2222222222222222, \"#7201a8\"], [0.3333333333333333, \"#9c179e\"], [0.4444444444444444, \"#bd3786\"], [0.5555555555555556, \"#d8576b\"], [0.6666666666666666, \"#ed7953\"], [0.7777777777777778, \"#fb9f3a\"], [0.8888888888888888, \"#fdca26\"], [1.0, \"#f0f921\"]], \"sequentialminus\": [[0.0, \"#0d0887\"], [0.1111111111111111, \"#46039f\"], [0.2222222222222222, \"#7201a8\"], [0.3333333333333333, \"#9c179e\"], [0.4444444444444444, \"#bd3786\"], [0.5555555555555556, \"#d8576b\"], [0.6666666666666666, \"#ed7953\"], [0.7777777777777778, \"#fb9f3a\"], [0.8888888888888888, \"#fdca26\"], [1.0, \"#f0f921\"]]}, \"colorway\": [\"#636efa\", \"#EF553B\", \"#00cc96\", \"#ab63fa\", \"#FFA15A\", \"#19d3f3\", \"#FF6692\", \"#B6E880\", \"#FF97FF\", \"#FECB52\"], \"font\": {\"color\": \"#2a3f5f\"}, \"geo\": {\"bgcolor\": \"white\", \"lakecolor\": \"white\", \"landcolor\": \"#E5ECF6\", \"showlakes\": true, \"showland\": true, \"subunitcolor\": \"white\"}, \"hoverlabel\": {\"align\": \"left\"}, \"hovermode\": \"closest\", \"mapbox\": {\"style\": \"light\"}, \"paper_bgcolor\": \"white\", \"plot_bgcolor\": \"#E5ECF6\", \"polar\": {\"angularaxis\": {\"gridcolor\": \"white\", \"linecolor\": \"white\", \"ticks\": \"\"}, \"bgcolor\": \"#E5ECF6\", \"radialaxis\": {\"gridcolor\": \"white\", \"linecolor\": \"white\", \"ticks\": \"\"}}, \"scene\": {\"xaxis\": {\"backgroundcolor\": \"#E5ECF6\", \"gridcolor\": \"white\", \"gridwidth\": 2, \"linecolor\": \"white\", \"showbackground\": true, \"ticks\": \"\", \"zerolinecolor\": \"white\"}, \"yaxis\": {\"backgroundcolor\": \"#E5ECF6\", \"gridcolor\": \"white\", \"gridwidth\": 2, \"linecolor\": \"white\", \"showbackground\": true, \"ticks\": \"\", \"zerolinecolor\": \"white\"}, \"zaxis\": {\"backgroundcolor\": \"#E5ECF6\", \"gridcolor\": \"white\", \"gridwidth\": 2, \"linecolor\": \"white\", \"showbackground\": true, \"ticks\": \"\", \"zerolinecolor\": \"white\"}}, \"shapedefaults\": {\"line\": {\"color\": \"#2a3f5f\"}}, \"ternary\": {\"aaxis\": {\"gridcolor\": \"white\", \"linecolor\": \"white\", \"ticks\": \"\"}, \"baxis\": {\"gridcolor\": \"white\", \"linecolor\": \"white\", \"ticks\": \"\"}, \"bgcolor\": \"#E5ECF6\", \"caxis\": {\"gridcolor\": \"white\", \"linecolor\": \"white\", \"ticks\": \"\"}}, \"title\": {\"x\": 0.05}, \"xaxis\": {\"automargin\": true, \"gridcolor\": \"white\", \"linecolor\": \"white\", \"ticks\": \"\", \"title\": {\"standoff\": 15}, \"zerolinecolor\": \"white\", \"zerolinewidth\": 2}, \"yaxis\": {\"automargin\": true, \"gridcolor\": \"white\", \"linecolor\": \"white\", \"ticks\": \"\", \"title\": {\"standoff\": 15}, \"zerolinecolor\": \"white\", \"zerolinewidth\": 2}}}, \"title\": {\"text\": \"Bike and Ped Activity in Myrtle Edwards Park - Fridays During Covid-19 (2020)\"}, \"xaxis\": {\"anchor\": \"y\", \"domain\": [0.0, 0.94], \"title\": {\"text\": \"Hour of Day\"}}, \"yaxis\": {\"anchor\": \"x\", \"domain\": [0.0, 1.0], \"title\": {\"text\": \"Total Bike + Ped Count\"}}, \"yaxis2\": {\"anchor\": \"x\", \"overlaying\": \"y\", \"side\": \"right\"}},\n",
              "                        {\"responsive\": true}\n",
              "                    ).then(function(){\n",
              "                            \n",
              "var gd = document.getElementById('0ade1762-11d4-4c92-a0e6-a28c584c64ce');\n",
              "var x = new MutationObserver(function (mutations, observer) {{\n",
              "        var display = window.getComputedStyle(gd).display;\n",
              "        if (!display || display === 'none') {{\n",
              "            console.log([gd, 'removed!']);\n",
              "            Plotly.purge(gd);\n",
              "            observer.disconnect();\n",
              "        }}\n",
              "}});\n",
              "\n",
              "// Listen for the removal of the full notebook cells\n",
              "var notebookContainer = gd.closest('#notebook-container');\n",
              "if (notebookContainer) {{\n",
              "    x.observe(notebookContainer, {childList: true});\n",
              "}}\n",
              "\n",
              "// Listen for the clearing of the current output cell\n",
              "var outputEl = gd.closest('.output');\n",
              "if (outputEl) {{\n",
              "    x.observe(outputEl, {childList: true});\n",
              "}}\n",
              "\n",
              "                        })\n",
              "                };\n",
              "                \n",
              "            </script>\n",
              "        </div>\n",
              "</body>\n",
              "</html>"
            ]
          },
          "metadata": {
            "tags": []
          }
        }
      ]
    },
    {
      "cell_type": "markdown",
      "metadata": {
        "id": "aIiQxxbW0GBp"
      },
      "source": [
        "Well, I was wrong. Bicyle and pedestrian counts seem to vary quite a bit by day, and don't seem to be increasing over time. Could weather be a factor in day to day differences? Let's dig into some more data to find out."
      ]
    },
    {
      "cell_type": "markdown",
      "metadata": {
        "id": "RPZpZU8i0GBp"
      },
      "source": [
        "#### Investigating Weather Factors"
      ]
    },
    {
      "cell_type": "code",
      "metadata": {
        "id": "SU__N1kZ0GBq"
      },
      "source": [
        "#x axis: weeks or days\n",
        "#y axis: total count of the week\n",
        "alldays = sorted(unique(APIrecords, 'Date')) #what is this for? not sure if sorting will matter once we have a df."
      ],
      "execution_count": 23,
      "outputs": []
    },
    {
      "cell_type": "markdown",
      "metadata": {
        "id": "8zw4zp7W0GBq"
      },
      "source": [
        "##### Accessing Weather Data"
      ]
    },
    {
      "cell_type": "markdown",
      "metadata": {
        "id": "-P3dFa0r0GBq"
      },
      "source": [
        "I will use the Climate Data Online API from NOAA: https://www.ncdc.noaa.gov/cdo-web/webservices/v2#gettingStarted. It includes a dataset on historical high temperatures by day. \n",
        "\n",
        "I will also use the cdo-api-py library for this, which is a huge help. https://pypi.org/project/cdo-api-py/. With this library I don't have to worry about creating separate queries to get around request limits, or converting Celsius to Fahrenheit. "
      ]
    },
    {
      "cell_type": "code",
      "metadata": {
        "colab": {
          "base_uri": "https://localhost:8080/"
        },
        "id": "WsZTdjjJNjHR",
        "outputId": "29166440-28a3-4adf-a3f7-af3fa8cfe1ef"
      },
      "source": [
        "!pip install cdo_api_py\r\n",
        "!pip install config"
      ],
      "execution_count": 24,
      "outputs": [
        {
          "output_type": "stream",
          "text": [
            "Collecting cdo_api_py\n",
            "  Downloading https://files.pythonhosted.org/packages/ca/fc/0a86d9e9068216d971fa351cbd5396ff71bc9d763ba662233ad29119211d/cdo_api_py-1.0.0.dev13-py3-none-any.whl\n",
            "Requirement already satisfied: pandas in /usr/local/lib/python3.6/dist-packages (from cdo_api_py) (1.1.5)\n",
            "Requirement already satisfied: requests in /usr/local/lib/python3.6/dist-packages (from cdo_api_py) (2.23.0)\n",
            "Requirement already satisfied: pytz>=2017.2 in /usr/local/lib/python3.6/dist-packages (from pandas->cdo_api_py) (2018.9)\n",
            "Requirement already satisfied: python-dateutil>=2.7.3 in /usr/local/lib/python3.6/dist-packages (from pandas->cdo_api_py) (2.8.1)\n",
            "Requirement already satisfied: numpy>=1.15.4 in /usr/local/lib/python3.6/dist-packages (from pandas->cdo_api_py) (1.19.5)\n",
            "Requirement already satisfied: certifi>=2017.4.17 in /usr/local/lib/python3.6/dist-packages (from requests->cdo_api_py) (2020.12.5)\n",
            "Requirement already satisfied: urllib3!=1.25.0,!=1.25.1,<1.26,>=1.21.1 in /usr/local/lib/python3.6/dist-packages (from requests->cdo_api_py) (1.24.3)\n",
            "Requirement already satisfied: chardet<4,>=3.0.2 in /usr/local/lib/python3.6/dist-packages (from requests->cdo_api_py) (3.0.4)\n",
            "Requirement already satisfied: idna<3,>=2.5 in /usr/local/lib/python3.6/dist-packages (from requests->cdo_api_py) (2.10)\n",
            "Requirement already satisfied: six>=1.5 in /usr/local/lib/python3.6/dist-packages (from python-dateutil>=2.7.3->pandas->cdo_api_py) (1.15.0)\n",
            "Installing collected packages: cdo-api-py\n",
            "Successfully installed cdo-api-py-1.0.0.dev13\n",
            "Collecting config\n",
            "  Downloading https://files.pythonhosted.org/packages/67/af/a7c8be986afee4cf277045cfdb06605296ff3f1a1de415d62c18a7a33040/config-0.5.0.post0-py2.py3-none-any.whl\n",
            "Installing collected packages: config\n",
            "Successfully installed config-0.5.0.post0\n"
          ],
          "name": "stdout"
        }
      ]
    },
    {
      "cell_type": "code",
      "metadata": {
        "id": "PbYKkjfINmeE"
      },
      "source": [
        "from cdo_api_py import Client\r\n",
        "\r\n",
        "# Utils\r\n",
        "import config\r\n",
        "import pandas as pd\r\n",
        "from datetime import datetime\r\n",
        "from pprint import pprint\r\n",
        "\r\n",
        "# Plotting\r\n",
        "import matplotlib.pyplot as plt\r\n",
        "import matplotlib.dates as mdates\r\n",
        "import seaborn as sns"
      ],
      "execution_count": 25,
      "outputs": []
    },
    {
      "cell_type": "code",
      "metadata": {
        "id": "4vqjyttENvKI"
      },
      "source": [
        "# Define the client\r\n",
        "\r\n",
        "my_client = Client(NOAA_token, default_units='standard', default_limit=1000)\r\n",
        "\r\n",
        "######################################\r\n",
        "#           Configuration            #\r\n",
        "######################################\r\n",
        "\r\n",
        "# Select an area\r\n",
        "extent = {\r\n",
        "    \"north\": 47.9,\r\n",
        "    \"south\": 47.3,\r\n",
        "    \"east\": -122.26,\r\n",
        "    \"west\": -122.68,\r\n",
        "}\r\n",
        "\r\n",
        "# Selected Dates\r\n",
        "startdate = datetime(2014, 1, 1)\r\n",
        "enddate = datetime(2020, 12, 31)\r\n",
        "\r\n",
        "# Datasets we will query\r\n",
        "datasetid='GHCND'\r\n",
        "\r\n",
        "\r\n",
        "# PRCP = Precipitation (mm or inches as per user preference, inches to hundredths on Daily Form pdf file)\r\n",
        "# SNOW = Snowfall (mm or inches as per user preference, inches to tenths on Daily Form pdf file)\r\n",
        "# TMAX = Maximum temperature (Fahrenheit or Celsius as per user preference, Fahrenheit to tenths on\r\n",
        "# Daily From pdf file\r\n",
        "\r\n",
        "# Data Types\r\n",
        "datatypeid=['TMAX', 'PRCP', 'SNOW']"
      ],
      "execution_count": 26,
      "outputs": []
    },
    {
      "cell_type": "code",
      "metadata": {
        "colab": {
          "base_uri": "https://localhost:8080/"
        },
        "id": "eqvpdDNgN5R5",
        "outputId": "f005d260-bf79-473d-9b12-4e4df309c2d5"
      },
      "source": [
        "# Find weather stations with data\r\n",
        "stations = my_client.find_stations(\r\n",
        "    datasetid=datasetid,\r\n",
        "    extent=extent,\r\n",
        "    startdate=startdate,\r\n",
        "    enddate=enddate,\r\n",
        "    datatypeid=datatypeid,\r\n",
        "    return_dataframe=True)\r\n",
        "\r\n",
        "\r\n",
        "# Create an empty dataframe to store climate data\r\n",
        "climate_data = pd.DataFrame()\r\n",
        "\r\n",
        "for rowid, station in stations.iterrows():  \r\n",
        "    station_data = my_client.get_data_by_station(\r\n",
        "        datasetid=datasetid,\r\n",
        "        stationid=station['id'],\r\n",
        "        startdate=startdate,\r\n",
        "        enddate=enddate,\r\n",
        "        return_dataframe=True,\r\n",
        "        include_station_meta=True   # flatten station metadata with ghcnd readings\r\n",
        "    )\r\n",
        "    climate_data = pd.concat([climate_data, station_data])"
      ],
      "execution_count": 27,
      "outputs": [
        {
          "output_type": "stream",
          "text": [
            "https://www.ncdc.noaa.gov/cdo-web/api/v2/stations?datasetid=GHCND&startdate=2014-01-01&enddate=2020-12-31&extent=47.3&extent=-122.68&extent=47.9&extent=-122.26&datatypeid=TMAX&datatypeid=PRCP&datatypeid=SNOW&limit=1000&units=standard\n",
            "https://www.ncdc.noaa.gov/cdo-web/api/v2/stations/GHCND:USW00024233?limit=1000&units=standard\n",
            "https://www.ncdc.noaa.gov/cdo-web/api/v2/data?datasetid=GHCND&startdate=2014-01-01&enddate=2015-01-01&stationid=GHCND:USW00024233&limit=1000&units=standard\n",
            "https://www.ncdc.noaa.gov/cdo-web/api/v2/data?datasetid=GHCND&startdate=2014-01-01&enddate=2015-01-01&stationid=GHCND:USW00024233&limit=1000&units=standard&offset=1000\n",
            "https://www.ncdc.noaa.gov/cdo-web/api/v2/data?datasetid=GHCND&startdate=2014-01-01&enddate=2015-01-01&stationid=GHCND:USW00024233&limit=1000&units=standard&offset=2000\n",
            "https://www.ncdc.noaa.gov/cdo-web/api/v2/data?datasetid=GHCND&startdate=2014-01-01&enddate=2015-01-01&stationid=GHCND:USW00024233&limit=1000&units=standard&offset=3000\n",
            "https://www.ncdc.noaa.gov/cdo-web/api/v2/data?datasetid=GHCND&startdate=2014-01-01&enddate=2015-01-01&stationid=GHCND:USW00024233&limit=1000&units=standard&offset=4000\n",
            "https://www.ncdc.noaa.gov/cdo-web/api/v2/data?datasetid=GHCND&startdate=2015-01-01&enddate=2016-01-01&stationid=GHCND:USW00024233&limit=1000&units=standard\n",
            "https://www.ncdc.noaa.gov/cdo-web/api/v2/data?datasetid=GHCND&startdate=2015-01-01&enddate=2016-01-01&stationid=GHCND:USW00024233&limit=1000&units=standard&offset=1000\n",
            "https://www.ncdc.noaa.gov/cdo-web/api/v2/data?datasetid=GHCND&startdate=2015-01-01&enddate=2016-01-01&stationid=GHCND:USW00024233&limit=1000&units=standard&offset=2000\n",
            "https://www.ncdc.noaa.gov/cdo-web/api/v2/data?datasetid=GHCND&startdate=2015-01-01&enddate=2016-01-01&stationid=GHCND:USW00024233&limit=1000&units=standard&offset=3000\n",
            "https://www.ncdc.noaa.gov/cdo-web/api/v2/data?datasetid=GHCND&startdate=2015-01-01&enddate=2016-01-01&stationid=GHCND:USW00024233&limit=1000&units=standard&offset=4000\n",
            "https://www.ncdc.noaa.gov/cdo-web/api/v2/data?datasetid=GHCND&startdate=2016-01-01&enddate=2016-12-31&stationid=GHCND:USW00024233&limit=1000&units=standard\n",
            "https://www.ncdc.noaa.gov/cdo-web/api/v2/data?datasetid=GHCND&startdate=2016-01-01&enddate=2016-12-31&stationid=GHCND:USW00024233&limit=1000&units=standard&offset=1000\n",
            "https://www.ncdc.noaa.gov/cdo-web/api/v2/data?datasetid=GHCND&startdate=2016-01-01&enddate=2016-12-31&stationid=GHCND:USW00024233&limit=1000&units=standard&offset=2000\n",
            "https://www.ncdc.noaa.gov/cdo-web/api/v2/data?datasetid=GHCND&startdate=2016-01-01&enddate=2016-12-31&stationid=GHCND:USW00024233&limit=1000&units=standard&offset=3000\n",
            "https://www.ncdc.noaa.gov/cdo-web/api/v2/data?datasetid=GHCND&startdate=2016-01-01&enddate=2016-12-31&stationid=GHCND:USW00024233&limit=1000&units=standard&offset=4000\n",
            "https://www.ncdc.noaa.gov/cdo-web/api/v2/data?datasetid=GHCND&startdate=2016-12-31&enddate=2017-12-31&stationid=GHCND:USW00024233&limit=1000&units=standard\n",
            "https://www.ncdc.noaa.gov/cdo-web/api/v2/data?datasetid=GHCND&startdate=2016-12-31&enddate=2017-12-31&stationid=GHCND:USW00024233&limit=1000&units=standard&offset=1000\n",
            "https://www.ncdc.noaa.gov/cdo-web/api/v2/data?datasetid=GHCND&startdate=2016-12-31&enddate=2017-12-31&stationid=GHCND:USW00024233&limit=1000&units=standard&offset=2000\n",
            "https://www.ncdc.noaa.gov/cdo-web/api/v2/data?datasetid=GHCND&startdate=2016-12-31&enddate=2017-12-31&stationid=GHCND:USW00024233&limit=1000&units=standard&offset=3000\n",
            "https://www.ncdc.noaa.gov/cdo-web/api/v2/data?datasetid=GHCND&startdate=2016-12-31&enddate=2017-12-31&stationid=GHCND:USW00024233&limit=1000&units=standard&offset=4000\n",
            "https://www.ncdc.noaa.gov/cdo-web/api/v2/data?datasetid=GHCND&startdate=2017-12-31&enddate=2018-12-31&stationid=GHCND:USW00024233&limit=1000&units=standard\n",
            "https://www.ncdc.noaa.gov/cdo-web/api/v2/data?datasetid=GHCND&startdate=2017-12-31&enddate=2018-12-31&stationid=GHCND:USW00024233&limit=1000&units=standard&offset=1000\n",
            "https://www.ncdc.noaa.gov/cdo-web/api/v2/data?datasetid=GHCND&startdate=2017-12-31&enddate=2018-12-31&stationid=GHCND:USW00024233&limit=1000&units=standard&offset=2000\n",
            "https://www.ncdc.noaa.gov/cdo-web/api/v2/data?datasetid=GHCND&startdate=2017-12-31&enddate=2018-12-31&stationid=GHCND:USW00024233&limit=1000&units=standard&offset=3000\n",
            "https://www.ncdc.noaa.gov/cdo-web/api/v2/data?datasetid=GHCND&startdate=2017-12-31&enddate=2018-12-31&stationid=GHCND:USW00024233&limit=1000&units=standard&offset=4000\n",
            "https://www.ncdc.noaa.gov/cdo-web/api/v2/data?datasetid=GHCND&startdate=2018-12-31&enddate=2019-12-31&stationid=GHCND:USW00024233&limit=1000&units=standard\n",
            "https://www.ncdc.noaa.gov/cdo-web/api/v2/data?datasetid=GHCND&startdate=2018-12-31&enddate=2019-12-31&stationid=GHCND:USW00024233&limit=1000&units=standard&offset=1000\n",
            "https://www.ncdc.noaa.gov/cdo-web/api/v2/data?datasetid=GHCND&startdate=2018-12-31&enddate=2019-12-31&stationid=GHCND:USW00024233&limit=1000&units=standard&offset=2000\n",
            "https://www.ncdc.noaa.gov/cdo-web/api/v2/data?datasetid=GHCND&startdate=2018-12-31&enddate=2019-12-31&stationid=GHCND:USW00024233&limit=1000&units=standard&offset=3000\n",
            "https://www.ncdc.noaa.gov/cdo-web/api/v2/data?datasetid=GHCND&startdate=2018-12-31&enddate=2019-12-31&stationid=GHCND:USW00024233&limit=1000&units=standard&offset=4000\n",
            "https://www.ncdc.noaa.gov/cdo-web/api/v2/data?datasetid=GHCND&startdate=2019-12-31&enddate=2020-12-30&stationid=GHCND:USW00024233&limit=1000&units=standard\n",
            "https://www.ncdc.noaa.gov/cdo-web/api/v2/data?datasetid=GHCND&startdate=2019-12-31&enddate=2020-12-30&stationid=GHCND:USW00024233&limit=1000&units=standard&offset=1000\n",
            "https://www.ncdc.noaa.gov/cdo-web/api/v2/data?datasetid=GHCND&startdate=2019-12-31&enddate=2020-12-30&stationid=GHCND:USW00024233&limit=1000&units=standard&offset=2000\n",
            "https://www.ncdc.noaa.gov/cdo-web/api/v2/data?datasetid=GHCND&startdate=2019-12-31&enddate=2020-12-30&stationid=GHCND:USW00024233&limit=1000&units=standard&offset=3000\n",
            "https://www.ncdc.noaa.gov/cdo-web/api/v2/data?datasetid=GHCND&startdate=2019-12-31&enddate=2020-12-30&stationid=GHCND:USW00024233&limit=1000&units=standard&offset=4000\n",
            "https://www.ncdc.noaa.gov/cdo-web/api/v2/data?datasetid=GHCND&startdate=2020-12-30&enddate=2020-12-31&stationid=GHCND:USW00024233&limit=1000&units=standard\n"
          ],
          "name": "stdout"
        }
      ]
    },
    {
      "cell_type": "code",
      "metadata": {
        "colab": {
          "base_uri": "https://localhost:8080/",
          "height": 0
        },
        "id": "zKULvT-iN9dl",
        "outputId": "eaa97de2-5f1c-4162-de2a-ae871210a674"
      },
      "source": [
        "climate_data.head()"
      ],
      "execution_count": 28,
      "outputs": [
        {
          "output_type": "execute_result",
          "data": {
            "text/html": [
              "<div>\n",
              "<style scoped>\n",
              "    .dataframe tbody tr th:only-of-type {\n",
              "        vertical-align: middle;\n",
              "    }\n",
              "\n",
              "    .dataframe tbody tr th {\n",
              "        vertical-align: top;\n",
              "    }\n",
              "\n",
              "    .dataframe thead th {\n",
              "        text-align: right;\n",
              "    }\n",
              "</style>\n",
              "<table border=\"1\" class=\"dataframe\">\n",
              "  <thead>\n",
              "    <tr style=\"text-align: right;\">\n",
              "      <th></th>\n",
              "      <th>station</th>\n",
              "      <th>date</th>\n",
              "      <th>AWND</th>\n",
              "      <th>PGTM</th>\n",
              "      <th>PRCP</th>\n",
              "      <th>SNOW</th>\n",
              "      <th>SNWD</th>\n",
              "      <th>TAVG</th>\n",
              "      <th>TMAX</th>\n",
              "      <th>TMIN</th>\n",
              "      <th>WDF2</th>\n",
              "      <th>WDF5</th>\n",
              "      <th>WSF2</th>\n",
              "      <th>WSF5</th>\n",
              "      <th>WT01</th>\n",
              "      <th>WT02</th>\n",
              "      <th>WT03</th>\n",
              "      <th>WT04</th>\n",
              "      <th>WT05</th>\n",
              "      <th>WT08</th>\n",
              "      <th>WT09</th>\n",
              "      <th>elevation</th>\n",
              "      <th>mindate</th>\n",
              "      <th>maxdate</th>\n",
              "      <th>latitude</th>\n",
              "      <th>name</th>\n",
              "      <th>datacoverage</th>\n",
              "      <th>elevationUnit</th>\n",
              "      <th>longitude</th>\n",
              "    </tr>\n",
              "  </thead>\n",
              "  <tbody>\n",
              "    <tr>\n",
              "      <th>0</th>\n",
              "      <td>GHCND:USW00024233</td>\n",
              "      <td>2014-01-01T00:00:00</td>\n",
              "      <td>2.7</td>\n",
              "      <td>NaN</td>\n",
              "      <td>0.00</td>\n",
              "      <td>0.0</td>\n",
              "      <td>0.0</td>\n",
              "      <td>42.0</td>\n",
              "      <td>45.0</td>\n",
              "      <td>38.0</td>\n",
              "      <td>340.0</td>\n",
              "      <td>310.0</td>\n",
              "      <td>8.1</td>\n",
              "      <td>8.9</td>\n",
              "      <td>NaN</td>\n",
              "      <td>NaN</td>\n",
              "      <td>NaN</td>\n",
              "      <td>NaN</td>\n",
              "      <td>NaN</td>\n",
              "      <td>NaN</td>\n",
              "      <td>NaN</td>\n",
              "      <td>112.8</td>\n",
              "      <td>1948-01-01</td>\n",
              "      <td>2021-02-19</td>\n",
              "      <td>47.4444</td>\n",
              "      <td>SEATTLE TACOMA AIRPORT, WA US</td>\n",
              "      <td>1</td>\n",
              "      <td>METERS</td>\n",
              "      <td>-122.3138</td>\n",
              "    </tr>\n",
              "    <tr>\n",
              "      <th>1</th>\n",
              "      <td>GHCND:USW00024233</td>\n",
              "      <td>2014-01-02T00:00:00</td>\n",
              "      <td>7.2</td>\n",
              "      <td>NaN</td>\n",
              "      <td>0.16</td>\n",
              "      <td>0.0</td>\n",
              "      <td>0.0</td>\n",
              "      <td>45.0</td>\n",
              "      <td>51.0</td>\n",
              "      <td>43.0</td>\n",
              "      <td>190.0</td>\n",
              "      <td>200.0</td>\n",
              "      <td>21.0</td>\n",
              "      <td>25.9</td>\n",
              "      <td>NaN</td>\n",
              "      <td>NaN</td>\n",
              "      <td>NaN</td>\n",
              "      <td>NaN</td>\n",
              "      <td>NaN</td>\n",
              "      <td>NaN</td>\n",
              "      <td>NaN</td>\n",
              "      <td>112.8</td>\n",
              "      <td>1948-01-01</td>\n",
              "      <td>2021-02-19</td>\n",
              "      <td>47.4444</td>\n",
              "      <td>SEATTLE TACOMA AIRPORT, WA US</td>\n",
              "      <td>1</td>\n",
              "      <td>METERS</td>\n",
              "      <td>-122.3138</td>\n",
              "    </tr>\n",
              "    <tr>\n",
              "      <th>2</th>\n",
              "      <td>GHCND:USW00024233</td>\n",
              "      <td>2014-01-03T00:00:00</td>\n",
              "      <td>5.8</td>\n",
              "      <td>NaN</td>\n",
              "      <td>0.06</td>\n",
              "      <td>0.0</td>\n",
              "      <td>0.0</td>\n",
              "      <td>45.0</td>\n",
              "      <td>48.0</td>\n",
              "      <td>37.0</td>\n",
              "      <td>30.0</td>\n",
              "      <td>50.0</td>\n",
              "      <td>14.1</td>\n",
              "      <td>16.1</td>\n",
              "      <td>1.0</td>\n",
              "      <td>NaN</td>\n",
              "      <td>NaN</td>\n",
              "      <td>NaN</td>\n",
              "      <td>NaN</td>\n",
              "      <td>NaN</td>\n",
              "      <td>NaN</td>\n",
              "      <td>112.8</td>\n",
              "      <td>1948-01-01</td>\n",
              "      <td>2021-02-19</td>\n",
              "      <td>47.4444</td>\n",
              "      <td>SEATTLE TACOMA AIRPORT, WA US</td>\n",
              "      <td>1</td>\n",
              "      <td>METERS</td>\n",
              "      <td>-122.3138</td>\n",
              "    </tr>\n",
              "    <tr>\n",
              "      <th>3</th>\n",
              "      <td>GHCND:USW00024233</td>\n",
              "      <td>2014-01-04T00:00:00</td>\n",
              "      <td>6.0</td>\n",
              "      <td>NaN</td>\n",
              "      <td>0.00</td>\n",
              "      <td>0.0</td>\n",
              "      <td>0.0</td>\n",
              "      <td>41.0</td>\n",
              "      <td>46.0</td>\n",
              "      <td>33.0</td>\n",
              "      <td>40.0</td>\n",
              "      <td>40.0</td>\n",
              "      <td>10.1</td>\n",
              "      <td>13.0</td>\n",
              "      <td>1.0</td>\n",
              "      <td>NaN</td>\n",
              "      <td>NaN</td>\n",
              "      <td>NaN</td>\n",
              "      <td>NaN</td>\n",
              "      <td>NaN</td>\n",
              "      <td>NaN</td>\n",
              "      <td>112.8</td>\n",
              "      <td>1948-01-01</td>\n",
              "      <td>2021-02-19</td>\n",
              "      <td>47.4444</td>\n",
              "      <td>SEATTLE TACOMA AIRPORT, WA US</td>\n",
              "      <td>1</td>\n",
              "      <td>METERS</td>\n",
              "      <td>-122.3138</td>\n",
              "    </tr>\n",
              "    <tr>\n",
              "      <th>4</th>\n",
              "      <td>GHCND:USW00024233</td>\n",
              "      <td>2014-01-05T00:00:00</td>\n",
              "      <td>8.3</td>\n",
              "      <td>NaN</td>\n",
              "      <td>0.00</td>\n",
              "      <td>0.0</td>\n",
              "      <td>0.0</td>\n",
              "      <td>37.0</td>\n",
              "      <td>47.0</td>\n",
              "      <td>31.0</td>\n",
              "      <td>10.0</td>\n",
              "      <td>10.0</td>\n",
              "      <td>15.0</td>\n",
              "      <td>17.0</td>\n",
              "      <td>NaN</td>\n",
              "      <td>NaN</td>\n",
              "      <td>NaN</td>\n",
              "      <td>NaN</td>\n",
              "      <td>NaN</td>\n",
              "      <td>NaN</td>\n",
              "      <td>NaN</td>\n",
              "      <td>112.8</td>\n",
              "      <td>1948-01-01</td>\n",
              "      <td>2021-02-19</td>\n",
              "      <td>47.4444</td>\n",
              "      <td>SEATTLE TACOMA AIRPORT, WA US</td>\n",
              "      <td>1</td>\n",
              "      <td>METERS</td>\n",
              "      <td>-122.3138</td>\n",
              "    </tr>\n",
              "  </tbody>\n",
              "</table>\n",
              "</div>"
            ],
            "text/plain": [
              "             station                 date  ...  elevationUnit  longitude\n",
              "0  GHCND:USW00024233  2014-01-01T00:00:00  ...         METERS  -122.3138\n",
              "1  GHCND:USW00024233  2014-01-02T00:00:00  ...         METERS  -122.3138\n",
              "2  GHCND:USW00024233  2014-01-03T00:00:00  ...         METERS  -122.3138\n",
              "3  GHCND:USW00024233  2014-01-04T00:00:00  ...         METERS  -122.3138\n",
              "4  GHCND:USW00024233  2014-01-05T00:00:00  ...         METERS  -122.3138\n",
              "\n",
              "[5 rows x 29 columns]"
            ]
          },
          "metadata": {
            "tags": []
          },
          "execution_count": 28
        }
      ]
    },
    {
      "cell_type": "markdown",
      "metadata": {
        "id": "XtfzFUSg0GBr"
      },
      "source": [
        "##### Preparing Count Data for a Regression"
      ]
    },
    {
      "cell_type": "markdown",
      "metadata": {
        "id": "sfBm1H170GBr"
      },
      "source": [
        "First I want take the list of dictionaries `APIrecords` and return a single dictionary with date: count as the key: value pair. However, currently each record represents an hour, so I will need to aggregate these into total daily counts first using a new ``dailysum`` function I create below. "
      ]
    },
    {
      "cell_type": "markdown",
      "metadata": {
        "id": "0GPJhA6L0GBs"
      },
      "source": [
        "for reference:\n",
        "\n",
        "def hourlycounts(date): #date must be entered as 'mm/dd/yy', including quotes\n",
        "    y_values=[]\n",
        "    date_filtered = list(record for record in APIrecords if record['Date']==timestamp(date)) #checks for records that match the input date.\n",
        "    list(map(lambda record: y_values.append(record['Total']), date_filtered))\n",
        "    return y_values\n",
        "    "
      ]
    },
    {
      "cell_type": "code",
      "metadata": {
        "id": "f7OibWqH0GBs"
      },
      "source": [
        "def dailysum(date):\n",
        "    strlist = hourlycounts(date, APIrecords) #produces a list of strings\n",
        "    try: \n",
        "        intlist = list(map(int, strlist)) #converts list of strings to integers\n",
        "        return sum(intlist) #sums the integers\n",
        "    except ValueError: #when data is NaN, give a 0 for that day, but it shouldn't affect other days\n",
        "        return 0"
      ],
      "execution_count": 29,
      "outputs": []
    },
    {
      "cell_type": "code",
      "metadata": {
        "colab": {
          "base_uri": "https://localhost:8080/"
        },
        "id": "h2FbJWkp0GBs",
        "outputId": "ee47df43-7e96-4ecb-fa10-631d0e6f392f"
      },
      "source": [
        "dailysum('03/20/2020')"
      ],
      "execution_count": 30,
      "outputs": [
        {
          "output_type": "execute_result",
          "data": {
            "text/plain": [
              "6028"
            ]
          },
          "metadata": {
            "tags": []
          },
          "execution_count": 30
        }
      ]
    },
    {
      "cell_type": "markdown",
      "metadata": {
        "id": "wS99d7DS0GBs"
      },
      "source": [
        "Next I will utilize the `unique` function I created earlier to generate a unique list of all dates in the dataset which I will then plug into the next function."
      ]
    },
    {
      "cell_type": "code",
      "metadata": {
        "id": "jKXxc-SC0GBt"
      },
      "source": [
        "alldates = sorted(unique(APIrecords, 'Date')) \n",
        "testdates = alldates[2300:2305] "
      ],
      "execution_count": 31,
      "outputs": []
    },
    {
      "cell_type": "code",
      "metadata": {
        "colab": {
          "base_uri": "https://localhost:8080/"
        },
        "id": "xaQTNvaBJnaQ",
        "outputId": "826361a5-dfed-4469-e96a-6493bcdf9a42"
      },
      "source": [
        "testdates"
      ],
      "execution_count": 32,
      "outputs": [
        {
          "output_type": "execute_result",
          "data": {
            "text/plain": [
              "[datetime.date(2020, 4, 19),\n",
              " datetime.date(2020, 4, 20),\n",
              " datetime.date(2020, 4, 21),\n",
              " datetime.date(2020, 4, 22),\n",
              " datetime.date(2020, 4, 23)]"
            ]
          },
          "metadata": {
            "tags": []
          },
          "execution_count": 32
        }
      ]
    },
    {
      "cell_type": "markdown",
      "metadata": {
        "id": "CDDKopY70GBt"
      },
      "source": [
        "Finally I create `dict_of_counts` to get my dictionary with date:count as the key:value pair. I test it with the `testdates` list I created above, which is just a subset of the `alldates` list. `alldates` is over 2000 dates so it takes a long time to run."
      ]
    },
    {
      "cell_type": "code",
      "metadata": {
        "colab": {
          "base_uri": "https://localhost:8080/"
        },
        "id": "qwzZx1ix0GBt",
        "outputId": "3473efa8-a551-4259-b938-18f840414881"
      },
      "source": [
        "def dict_of_counts(datelist):\n",
        "    master_dict = {}\n",
        "    for date in datelist:\n",
        "        master_dict.update({date: (dailysum(date))})\n",
        "        #master_dict[date] = dailysum(date)\n",
        "    return master_dict\n",
        "\n",
        "print(dict_of_counts(testdates))"
      ],
      "execution_count": 33,
      "outputs": [
        {
          "output_type": "stream",
          "text": [
            "{datetime.date(2020, 4, 19): 8319, datetime.date(2020, 4, 20): 6920, datetime.date(2020, 4, 21): 3752, datetime.date(2020, 4, 22): 1754, datetime.date(2020, 4, 23): 3299}\n"
          ],
          "name": "stdout"
        }
      ]
    },
    {
      "cell_type": "markdown",
      "metadata": {
        "id": "6N6yIRIP0GBt"
      },
      "source": [
        "##### Preparing Weather Data for a Regression"
      ]
    },
    {
      "cell_type": "markdown",
      "metadata": {
        "id": "muv8v7kY0GBt"
      },
      "source": [
        "OK, that is the counts dictionary. Now I want to work on simplifying the weather dataframe."
      ]
    },
    {
      "cell_type": "markdown",
      "metadata": {
        "id": "raW9oGqI0GBu"
      },
      "source": [
        "def dict_of_temps(records): #takes a list of dictionaries from NOAA dataset and returns a single dictionary with Date: Temperature as key: value. only one year at a time.\n",
        "    master_dict = dict()\n",
        "    for record in records: #record would be a dictionary containing one date with one temp reading if `records` is a list of dictionaries. \n",
        "        master_dict.update({record['Date']: convert_temp(record['value'])})\n",
        "    return master_dict\n"
      ]
    },
    {
      "cell_type": "markdown",
      "metadata": {
        "id": "EwDTCjeK0GBu"
      },
      "source": [
        "Now I need to create a new dataframe with temperature and count so I can associate each one with the same date and therefore ensure that the temperature and count are matched properly when I do a regression."
      ]
    },
    {
      "cell_type": "markdown",
      "metadata": {
        "id": "DxNUcSVn0GBv"
      },
      "source": [
        "##next step:\n",
        "Create a series from each dataframe"
      ]
    },
    {
      "cell_type": "code",
      "metadata": {
        "id": "SmIXTRry0GBv"
      },
      "source": [
        "date_list = alldates"
      ],
      "execution_count": 34,
      "outputs": []
    },
    {
      "cell_type": "code",
      "metadata": {
        "id": "-e92_8uj0GBv"
      },
      "source": [
        "counts_series = pd.Series(dict_of_counts(date_list))"
      ],
      "execution_count": 35,
      "outputs": []
    },
    {
      "cell_type": "code",
      "metadata": {
        "id": "fXjvDmSL0U2W"
      },
      "source": [
        "counts_series.index = dict_of_counts(date_list).keys()"
      ],
      "execution_count": 36,
      "outputs": []
    },
    {
      "cell_type": "code",
      "metadata": {
        "colab": {
          "base_uri": "https://localhost:8080/"
        },
        "id": "d0PKL99yQ0SH",
        "outputId": "2d030697-b8ec-4a28-e360-d7ae3f7b6246"
      },
      "source": [
        "type(counts_series)"
      ],
      "execution_count": 37,
      "outputs": [
        {
          "output_type": "execute_result",
          "data": {
            "text/plain": [
              "pandas.core.series.Series"
            ]
          },
          "metadata": {
            "tags": []
          },
          "execution_count": 37
        }
      ]
    },
    {
      "cell_type": "code",
      "metadata": {
        "id": "5FC5PR0Y0Ya0",
        "colab": {
          "base_uri": "https://localhost:8080/"
        },
        "outputId": "131054a5-4ad9-4b63-cdb3-f1548717a43a"
      },
      "source": [
        "counts_series.head()"
      ],
      "execution_count": 38,
      "outputs": [
        {
          "output_type": "execute_result",
          "data": {
            "text/plain": [
              "2014-01-01    2190\n",
              "2014-01-02    1580\n",
              "2014-01-03    2469\n",
              "2014-01-04    3337\n",
              "2014-01-05    2849\n",
              "dtype: int64"
            ]
          },
          "metadata": {
            "tags": []
          },
          "execution_count": 38
        }
      ]
    },
    {
      "cell_type": "code",
      "metadata": {
        "id": "xpPHQWDU0GBv",
        "colab": {
          "base_uri": "https://localhost:8080/"
        },
        "outputId": "d43da1fc-8827-48da-d49e-a94336b47136"
      },
      "source": [
        "temp_series = climate_data.iloc[:,8]\n",
        "temp_series.head()\n"
      ],
      "execution_count": 39,
      "outputs": [
        {
          "output_type": "execute_result",
          "data": {
            "text/plain": [
              "0    45.0\n",
              "1    51.0\n",
              "2    48.0\n",
              "3    46.0\n",
              "4    47.0\n",
              "Name: TMAX, dtype: float64"
            ]
          },
          "metadata": {
            "tags": []
          },
          "execution_count": 39
        }
      ]
    },
    {
      "cell_type": "code",
      "metadata": {
        "colab": {
          "base_uri": "https://localhost:8080/"
        },
        "id": "19J2r25FVWd9",
        "outputId": "d38129ee-2645-4377-b25c-4ff25ec0b3e5"
      },
      "source": [
        "temp_series.index = pd.to_datetime(climate_data.iloc[:,1]).dt.date #takes column 1 from the climate_data df and uses it as the index here. At the same time, converts the date to the same format as temp_series. \r\n",
        "temp_series.head()"
      ],
      "execution_count": 40,
      "outputs": [
        {
          "output_type": "execute_result",
          "data": {
            "text/plain": [
              "date\n",
              "2014-01-01    45.0\n",
              "2014-01-02    51.0\n",
              "2014-01-03    48.0\n",
              "2014-01-04    46.0\n",
              "2014-01-05    47.0\n",
              "Name: TMAX, dtype: float64"
            ]
          },
          "metadata": {
            "tags": []
          },
          "execution_count": 40
        }
      ]
    },
    {
      "cell_type": "code",
      "metadata": {
        "id": "5ccY2Ybn0GBw",
        "colab": {
          "base_uri": "https://localhost:8080/",
          "height": 225
        },
        "outputId": "5980ee3a-51a2-4a7e-ce22-04eabf84412c"
      },
      "source": [
        "df_dict = {'count':counts_series, 'temperature':temp_series}\n",
        "df = pd.DataFrame(df_dict)\n",
        "df.head()"
      ],
      "execution_count": 41,
      "outputs": [
        {
          "output_type": "execute_result",
          "data": {
            "text/html": [
              "<div>\n",
              "<style scoped>\n",
              "    .dataframe tbody tr th:only-of-type {\n",
              "        vertical-align: middle;\n",
              "    }\n",
              "\n",
              "    .dataframe tbody tr th {\n",
              "        vertical-align: top;\n",
              "    }\n",
              "\n",
              "    .dataframe thead th {\n",
              "        text-align: right;\n",
              "    }\n",
              "</style>\n",
              "<table border=\"1\" class=\"dataframe\">\n",
              "  <thead>\n",
              "    <tr style=\"text-align: right;\">\n",
              "      <th></th>\n",
              "      <th>count</th>\n",
              "      <th>temperature</th>\n",
              "    </tr>\n",
              "    <tr>\n",
              "      <th>date</th>\n",
              "      <th></th>\n",
              "      <th></th>\n",
              "    </tr>\n",
              "  </thead>\n",
              "  <tbody>\n",
              "    <tr>\n",
              "      <th>2014-01-01</th>\n",
              "      <td>2190</td>\n",
              "      <td>45.0</td>\n",
              "    </tr>\n",
              "    <tr>\n",
              "      <th>2014-01-02</th>\n",
              "      <td>1580</td>\n",
              "      <td>51.0</td>\n",
              "    </tr>\n",
              "    <tr>\n",
              "      <th>2014-01-03</th>\n",
              "      <td>2469</td>\n",
              "      <td>48.0</td>\n",
              "    </tr>\n",
              "    <tr>\n",
              "      <th>2014-01-04</th>\n",
              "      <td>3337</td>\n",
              "      <td>46.0</td>\n",
              "    </tr>\n",
              "    <tr>\n",
              "      <th>2014-01-05</th>\n",
              "      <td>2849</td>\n",
              "      <td>47.0</td>\n",
              "    </tr>\n",
              "  </tbody>\n",
              "</table>\n",
              "</div>"
            ],
            "text/plain": [
              "            count  temperature\n",
              "date                          \n",
              "2014-01-01   2190         45.0\n",
              "2014-01-02   1580         51.0\n",
              "2014-01-03   2469         48.0\n",
              "2014-01-04   3337         46.0\n",
              "2014-01-05   2849         47.0"
            ]
          },
          "metadata": {
            "tags": []
          },
          "execution_count": 41
        }
      ]
    },
    {
      "cell_type": "code",
      "metadata": {
        "id": "oO5VRXS50GBw",
        "colab": {
          "base_uri": "https://localhost:8080/",
          "height": 542
        },
        "outputId": "0c7bc2dd-54bd-4ba3-ede4-5dcb8b37408a"
      },
      "source": [
        "fig = go.Figure()\n",
        "fig.add_trace(go.Scatter(x=df['temperature'], y=df['count'],\n",
        "                    mode='markers',\n",
        "                    name=''))\n",
        "fig.update_layout(title='Trail Usage as a Function of Temperature',\n",
        "                   xaxis_title='High Temperature (F)',\n",
        "                   yaxis_title='Daily Trail Usage')\n",
        "fig.show()\n"
      ],
      "execution_count": 42,
      "outputs": [
        {
          "output_type": "display_data",
          "data": {
            "text/html": [
              "<html>\n",
              "<head><meta charset=\"utf-8\" /></head>\n",
              "<body>\n",
              "    <div>\n",
              "            <script src=\"https://cdnjs.cloudflare.com/ajax/libs/mathjax/2.7.5/MathJax.js?config=TeX-AMS-MML_SVG\"></script><script type=\"text/javascript\">if (window.MathJax) {MathJax.Hub.Config({SVG: {font: \"STIX-Web\"}});}</script>\n",
              "                <script type=\"text/javascript\">window.PlotlyConfig = {MathJaxConfig: 'local'};</script>\n",
              "        <script src=\"https://cdn.plot.ly/plotly-latest.min.js\"></script>    \n",
              "            <div id=\"7ac6f426-80a9-48aa-b9b0-e45d09488e5b\" class=\"plotly-graph-div\" style=\"height:525px; width:100%;\"></div>\n",
              "            <script type=\"text/javascript\">\n",
              "                \n",
              "                    window.PLOTLYENV=window.PLOTLYENV || {};\n",
              "                    \n",
              "                if (document.getElementById(\"7ac6f426-80a9-48aa-b9b0-e45d09488e5b\")) {\n",
              "                    Plotly.newPlot(\n",
              "                        '7ac6f426-80a9-48aa-b9b0-e45d09488e5b',\n",
              "                        [{\"mode\": \"markers\", \"name\": \"\", \"type\": \"scatter\", \"x\": [45.0, 51.0, 48.0, 46.0, 47.0, 46.0, 47.0, 50.0, 49.0, 55.0, 58.0, 52.0, 51.0, 52.0, 52.0, 44.0, 42.0, 49.0, 43.0, 50.0, 50.0, 49.0, 50.0, 55.0, 54.0, 47.0, 49.0, 52.0, 52.0, 47.0, 46.0, 46.0, 48.0, 41.0, 37.0, 31.0, 29.0, 38.0, 42.0, 39.0, 50.0, 54.0, 54.0, 55.0, 53.0, 52.0, 49.0, 47.0, 48.0, 47.0, 50.0, 44.0, 42.0, 45.0, 44.0, 54.0, 57.0, 55.0, 58.0, 45.0, 52.0, 58.0, 57.0, 60.0, 56.0, 60.0, 55.0, 59.0, 54.0, 58.0, 61.0, 57.0, 58.0, 62.0, 51.0, 50.0, 50.0, 52.0, 52.0, 51.0, 52.0, 55.0, 66.0, 57.0, 52.0, 54.0, 53.0, 53.0, 52.0, 60.0, 58.0, 58.0, 56.0, 55.0, 53.0, 57.0, 70.0, 60.0, 58.0, 59.0, 63.0, 61.0, 69.0, 68.0, 58.0, 52.0, 53.0, 58.0, 53.0, 60.0, 63.0, 54.0, 53.0, 57.0, 58.0, 59.0, 52.0, 61.0, 77.0, 82.0, 85.0, 65.0, 59.0, 58.0, 60.0, 62.0, 65.0, 57.0, 56.0, 60.0, 66.0, 76.0, 80.0, 82.0, 80.0, 68.0, 68.0, 68.0, 70.0, 72.0, 68.0, 76.0, 68.0, 65.0, 59.0, 65.0, 68.0, 66.0, 66.0, 69.0, 74.0, 72.0, 74.0, 65.0, 67.0, 72.0, 77.0, 76.0, 74.0, 70.0, 68.0, 75.0, 71.0, 60.0, 64.0, 65.0, 64.0, 64.0, 66.0, 78.0, 68.0, 72.0, 77.0, 77.0, 76.0, 79.0, 70.0, 70.0, 68.0, 69.0, 78.0, 94.0, 81.0, 71.0, 75.0, 76.0, 84.0, 81.0, 86.0, 80.0, 84.0, 88.0, 90.0, 85.0, 82.0, 88.0, 88.0, 80.0, 75.0, 78.0, 67.0, 75.0, 70.0, 66.0, 69.0, 73.0, 79.0, 83.0, 87.0, 86.0, 85.0, 87.0, 84.0, 85.0, 89.0, 91.0, 77.0, 79.0, 78.0, 78.0, 81.0, 87.0, 96.0, 81.0, 74.0, 70.0, 76.0, 78.0, 82.0, 85.0, 81.0, 71.0, 70.0, 75.0, 82.0, 77.0, 84.0, 88.0, 84.0, 74.0, 73.0, 64.0, 70.0, 74.0, 68.0, 69.0, 75.0, 82.0, 90.0, 83.0, 70.0, 71.0, 72.0, 76.0, 76.0, 83.0, 86.0, 87.0, 72.0, 73.0, 67.0, 75.0, 76.0, 79.0, 72.0, 66.0, 66.0, 71.0, 68.0, 69.0, 66.0, 62.0, 67.0, 65.0, 67.0, 72.0, 71.0, 75.0, 78.0, 66.0, 69.0, 63.0, 65.0, 65.0, 64.0, 70.0, 62.0, 61.0, 69.0, 62.0, 67.0, 72.0, 61.0, 61.0, 60.0, 58.0, 58.0, 62.0, 55.0, 60.0, 59.0, 62.0, 60.0, 55.0, 52.0, 56.0, 57.0, 58.0, 59.0, 62.0, 58.0, 55.0, 56.0, 52.0, 46.0, 44.0, 45.0, 45.0, 47.0, 49.0, 51.0, 45.0, 52.0, 52.0, 52.0, 49.0, 55.0, 53.0, 57.0, 59.0, 58.0, 55.0, 40.0, 37.0, 40.0, 42.0, 50.0, 47.0, 55.0, 53.0, 58.0, 58.0, 61.0, 66.0, 58.0, 52.0, 50.0, 55.0, 54.0, 50.0, 48.0, 49.0, 52.0, 55.0, 55.0, 51.0, 54.0, 45.0, 46.0, 42.0, 49.0, 44.0, 43.0, 38.0, 38.0, 42.0, 42.0, 41.0, 51.0, 54.0, 54.0, 46.0, 46.0, 50.0, 46.0, 49.0, 52.0, 49.0, 43.0, 46.0, 53.0, 56.0, 57.0, 50.0, 50.0, 45.0, 49.0, 54.0, 58.0, 63.0, 61.0, 52.0, 54.0, 54.0, 47.0, 45.0, 49.0, 52.0, 50.0, 51.0, 56.0, 58.0, 54.0, 59.0, 56.0, 55.0, 55.0, 62.0, 60.0, 58.0, 54.0, 59.0, 61.0, 54.0, 51.0, 52.0, 54.0, 53.0, 55.0, 52.0, 50.0, 53.0, 50.0, 54.0, 52.0, 52.0, 51.0, 55.0, 56.0, 59.0, 62.0, 63.0, 58.0, 56.0, 58.0, 64.0, 63.0, 57.0, 51.0, 57.0, 56.0, 60.0, 60.0, 57.0, 56.0, 53.0, 52.0, 55.0, 58.0, 69.0, 65.0, 60.0, 60.0, 64.0, 55.0, 55.0, 56.0, 52.0, 55.0, 62.0, 57.0, 58.0, 63.0, 63.0, 57.0, 53.0, 56.0, 53.0, 53.0, 57.0, 64.0, 66.0, 66.0, 70.0, 73.0, 63.0, 60.0, 54.0, 54.0, 56.0, 60.0, 77.0, 60.0, 61.0, 63.0, 65.0, 65.0, 69.0, 63.0, 58.0, 62.0, 69.0, 75.0, 80.0, 67.0, 57.0, 60.0, 54.0, 64.0, 68.0, 60.0, 67.0, 78.0, 71.0, 74.0, 78.0, 62.0, 61.0, 64.0, 60.0, 71.0, 76.0, 82.0, 79.0, 73.0, 77.0, 61.0, 64.0, 68.0, 73.0, 80.0, 85.0, 88.0, 87.0, 84.0, 78.0, 76.0, 68.0, 75.0, 82.0, 86.0, 73.0, 77.0, 76.0, 75.0, 77.0, 78.0, 77.0, 79.0, 78.0, 87.0, 89.0, 92.0, 83.0, 84.0, 87.0, 90.0, 93.0, 92.0, 92.0, 91.0, 85.0, 81.0, 86.0, 84.0, 70.0, 72.0, 79.0, 78.0, 82.0, 79.0, 79.0, 82.0, 92.0, 95.0, 80.0, 75.0, 75.0, 79.0, 73.0, 70.0, 72.0, 74.0, 82.0, 90.0, 94.0, 94.0, 92.0, 87.0, 83.0, 79.0, 74.0, 77.0, 83.0, 77.0, 83.0, 84.0, 86.0, 83.0, 83.0, 65.0, 71.0, 77.0, 81.0, 86.0, 89.0, 73.0, 72.0, 80.0, 82.0, 75.0, 78.0, 83.0, 85.0, 74.0, 72.0, 68.0, 66.0, 67.0, 67.0, 65.0, 65.0, 69.0, 61.0, 70.0, 73.0, 76.0, 77.0, 81.0, 80.0, 69.0, 62.0, 64.0, 68.0, 65.0, 67.0, 70.0, 73.0, 65.0, 66.0, 69.0, 72.0, 60.0, 65.0, 64.0, 70.0, 71.0, 65.0, 70.0, 60.0, 67.0, 73.0, 74.0, 65.0, 61.0, 66.0, 67.0, 70.0, 64.0, 65.0, 62.0, 59.0, 70.0, 68.0, 67.0, 59.0, 63.0, 64.0, 61.0, 61.0, 55.0, 59.0, 67.0, 54.0, 61.0, 57.0, 59.0, 63.0, 60.0, 54.0, 52.0, 51.0, 50.0, 53.0, 60.0, 54.0, 52.0, 50.0, 52.0, 52.0, 52.0, 56.0, 49.0, 48.0, 48.0, 56.0, 48.0, 48.0, 47.0, 48.0, 50.0, 44.0, 44.0, 45.0, 49.0, 49.0, 45.0, 35.0, 42.0, 50.0, 51.0, 60.0, 51.0, 50.0, 55.0, 52.0, 60.0, 54.0, 53.0, 49.0, 48.0, 46.0, 46.0, 44.0, 43.0, 44.0, 48.0, 47.0, 46.0, 42.0, 46.0, 41.0, 42.0, 41.0, 40.0, 40.0, 41.0, 45.0, 42.0, 42.0, 46.0, 42.0, 40.0, 38.0, 46.0, 53.0, 44.0, 48.0, 49.0, 52.0, 47.0, 48.0, 54.0, 48.0, 47.0, 52.0, 49.0, 52.0, 47.0, 50.0, 53.0, 55.0, 46.0, 50.0, 55.0, 56.0, 58.0, 56.0, 49.0, 46.0, 45.0, 45.0, 50.0, 47.0, 49.0, 52.0, 48.0, 52.0, 59.0, 63.0, 56.0, 55.0, 57.0, 50.0, 53.0, 54.0, 54.0, 63.0, 51.0, 50.0, 51.0, 50.0, 51.0, 58.0, 57.0, 62.0, 57.0, 56.0, 50.0, 53.0, 57.0, 54.0, 58.0, 55.0, 64.0, 59.0, 51.0, 53.0, 55.0, 55.0, 60.0, 50.0, 54.0, 47.0, 50.0, 53.0, 57.0, 63.0, 61.0, 54.0, 55.0, 55.0, 51.0, 52.0, 56.0, 58.0, 55.0, 55.0, 63.0, 68.0, 71.0, 71.0, 62.0, 68.0, 58.0, 56.0, 69.0, 78.0, 76.0, 64.0, 58.0, 58.0, 57.0, 58.0, 59.0, 59.0, 67.0, 80.0, 89.0, 84.0, 81.0, 72.0, 62.0, 64.0, 55.0, 59.0, 59.0, 63.0, 63.0, 61.0, 67.0, 79.0, 87.0, 72.0, 60.0, 68.0, 77.0, 82.0, 66.0, 67.0, 75.0, 80.0, 76.0, 84.0, 58.0, 56.0, 59.0, 69.0, 65.0, 63.0, 66.0, 58.0, 66.0, 66.0, 66.0, 65.0, 62.0, 64.0, 62.0, 64.0, 72.0, 80.0, 74.0, 70.0, 82.0, 85.0, 93.0, 88.0, 84.0, 67.0, 64.0, 65.0, 67.0, 70.0, 65.0, 60.0, 66.0, 70.0, 69.0, 66.0, 72.0, 75.0, 71.0, 75.0, 68.0, 69.0, 72.0, 80.0, 85.0, 76.0, 72.0, 73.0, 75.0, 75.0, 71.0, 69.0, 67.0, 76.0, 68.0, 72.0, 71.0, 73.0, 73.0, 76.0, 74.0, 76.0, 76.0, 73.0, 79.0, 71.0, 77.0, 80.0, 84.0, 73.0, 73.0, 81.0, 86.0, 78.0, 84.0, 88.0, 89.0, 75.0, 72.0, 77.0, 71.0, 76.0, 82.0, 79.0, 71.0, 69.0, 73.0, 71.0, 76.0, 81.0, 90.0, 91.0, 85.0, 83.0, 83.0, 80.0, 87.0, 95.0, 91.0, 73.0, 72.0, 80.0, 85.0, 91.0, 92.0, 73.0, 70.0, 79.0, 71.0, 69.0, 66.0, 69.0, 69.0, 70.0, 64.0, 65.0, 66.0, 70.0, 73.0, 77.0, 70.0, 75.0, 77.0, 78.0, 72.0, 74.0, 67.0, 68.0, 68.0, 67.0, 68.0, 65.0, 63.0, 66.0, 76.0, 77.0, 69.0, 67.0, 66.0, 65.0, 63.0, 63.0, 60.0, 60.0, 65.0, 62.0, 63.0, 65.0, 56.0, 60.0, 62.0, 66.0, 59.0, 57.0, 62.0, 60.0, 59.0, 58.0, 58.0, 60.0, 57.0, 62.0, 62.0, 63.0, 63.0, 58.0, 58.0, 67.0, 60.0, 52.0, 57.0, 56.0, 56.0, 65.0, 63.0, 60.0, 60.0, 66.0, 70.0, 64.0, 62.0, 61.0, 58.0, 54.0, 57.0, 54.0, 50.0, 51.0, 54.0, 57.0, 57.0, 53.0, 53.0, 48.0, 51.0, 52.0, 51.0, 47.0, 50.0, 51.0, 50.0, 46.0, 49.0, 48.0, 45.0, 39.0, 40.0, 38.0, 38.0, 36.0, 44.0, 42.0, 42.0, 38.0, 39.0, 38.0, 34.0, 33.0, 39.0, 45.0, 50.0, 47.0, 44.0, 39.0, 40.0, 42.0, 42.0, 44.0, 47.0, 48.0, 45.0, 38.0, 37.0, 34.0, 33.0, 36.0, 35.0, 40.0, 37.0, 45.0, 42.0, 40.0, 34.0, 40.0, 37.0, 44.0, 43.0, 45.0, 49.0, 53.0, 50.0, 52.0, 54.0, 49.0, 48.0, 43.0, 44.0, 47.0, 54.0, 52.0, 48.0, 45.0, 44.0, 43.0, 44.0, 40.0, 46.0, 41.0, 37.0, 38.0, 40.0, 56.0, 48.0, 49.0, 51.0, 57.0, 58.0, 54.0, 53.0, 56.0, 45.0, 47.0, 45.0, 48.0, 46.0, 44.0, 47.0, 44.0, 41.0, 41.0, 47.0, 49.0, 47.0, 51.0, 46.0, 45.0, 43.0, 42.0, 43.0, 49.0, 52.0, 53.0, 53.0, 53.0, 57.0, 50.0, 52.0, 53.0, 57.0, 53.0, 54.0, 56.0, 56.0, 58.0, 54.0, 52.0, 49.0, 53.0, 53.0, 55.0, 54.0, 56.0, 56.0, 55.0, 53.0, 61.0, 54.0, 60.0, 59.0, 52.0, 56.0, 53.0, 57.0, 59.0, 54.0, 52.0, 57.0, 66.0, 60.0, 60.0, 56.0, 58.0, 66.0, 63.0, 53.0, 57.0, 56.0, 58.0, 56.0, 59.0, 57.0, 56.0, 50.0, 61.0, 74.0, 76.0, 59.0, 60.0, 62.0, 64.0, 70.0, 71.0, 60.0, 54.0, 57.0, 59.0, 52.0, 54.0, 60.0, 64.0, 71.0, 72.0, 76.0, 83.0, 78.0, 63.0, 70.0, 81.0, 86.0, 86.0, 74.0, 58.0, 72.0, 67.0, 73.0, 67.0, 67.0, 74.0, 84.0, 79.0, 63.0, 63.0, 67.0, 70.0, 64.0, 65.0, 65.0, 61.0, 68.0, 63.0, 71.0, 74.0, 73.0, 69.0, 75.0, 81.0, 89.0, 96.0, 72.0, 71.0, 68.0, 78.0, 86.0, 72.0, 77.0, 70.0, 78.0, 85.0, 85.0, 72.0, 81.0, 80.0, 73.0, 75.0, 78.0, 75.0, 79.0, 77.0, 72.0, 78.0, 82.0, 78.0, 74.0, 78.0, 85.0, 76.0, 82.0, 87.0, 84.0, 70.0, 79.0, 81.0, 80.0, 85.0, 87.0, 91.0, 94.0, 91.0, 82.0, 82.0, 84.0, 89.0, 91.0, 90.0, 77.0, 76.0, 74.0, 73.0, 78.0, 79.0, 75.0, 73.0, 76.0, 77.0, 83.0, 86.0, 75.0, 72.0, 76.0, 84.0, 87.0, 88.0, 85.0, 77.0, 75.0, 85.0, 90.0, 90.0, 88.0, 85.0, 81.0, 75.0, 71.0, 68.0, 73.0, 80.0, 77.0, 70.0, 74.0, 76.0, 76.0, 64.0, 62.0, 64.0, 57.0, 64.0, 68.0, 68.0, 72.0, 65.0, 74.0, 80.0, 86.0, 67.0, 64.0, 62.0, 62.0, 69.0, 68.0, 69.0, 66.0, 62.0, 62.0, 64.0, 60.0, 57.0, 50.0, 54.0, 56.0, 63.0, 62.0, 60.0, 64.0, 54.0, 53.0, 58.0, 60.0, 65.0, 66.0, 59.0, 58.0, 66.0, 68.0, 56.0, 63.0, 58.0, 55.0, 50.0, 43.0, 41.0, 40.0, 47.0, 48.0, 54.0, 50.0, 51.0, 52.0, 57.0, 55.0, 54.0, 53.0, 44.0, 50.0, 52.0, 53.0, 50.0, 60.0, 68.0, 59.0, 52.0, 51.0, 58.0, 50.0, 47.0, 50.0, 46.0, 48.0, 44.0, 46.0, 45.0, 45.0, 52.0, 52.0, 43.0, 44.0, 49.0, 49.0, 46.0, 48.0, 50.0, 43.0, 45.0, 50.0, 49.0, 50.0, 49.0, 41.0, 40.0, 38.0, 38.0, 35.0, 39.0, 41.0, 48.0, 54.0, 48.0, 43.0, 44.0, 44.0, 49.0, 47.0, 51.0, 48.0, 45.0, 49.0, 50.0, 45.0, 50.0, 51.0, 58.0, 56.0, 64.0, 56.0, 56.0, 52.0, 46.0, 49.0, 51.0, 47.0, 48.0, 49.0, 44.0, 42.0, 48.0, 57.0, 52.0, 47.0, 45.0, 46.0, 53.0, 51.0, 55.0, 50.0, 48.0, 54.0, 53.0, 49.0, 46.0, 46.0, 47.0, 48.0, 44.0, 45.0, 47.0, 49.0, 39.0, 37.0, 36.0, 34.0, 38.0, 40.0, 45.0, 43.0, 45.0, 47.0, 47.0, 51.0, 45.0, 52.0, 48.0, 47.0, 53.0, 50.0, 52.0, 52.0, 59.0, 64.0, 73.0, 64.0, 53.0, 56.0, 58.0, 54.0, 55.0, 55.0, 56.0, 58.0, 49.0, 49.0, 47.0, 52.0, 46.0, 52.0, 54.0, 55.0, 57.0, 59.0, 50.0, 53.0, 50.0, 50.0, 56.0, 65.0, 62.0, 51.0, 62.0, 60.0, 54.0, 51.0, 53.0, 53.0, 51.0, 47.0, 53.0, 60.0, 62.0, 63.0, 56.0, 59.0, 69.0, 77.0, 75.0, 82.0, 58.0, 55.0, 61.0, 59.0, 62.0, 70.0, 74.0, 64.0, 68.0, 77.0, 69.0, 75.0, 67.0, 62.0, 67.0, 77.0, 85.0, 88.0, 69.0, 68.0, 67.0, 66.0, 72.0, 68.0, 72.0, 79.0, 80.0, 70.0, 68.0, 68.0, 75.0, 70.0, 65.0, 67.0, 67.0, 68.0, 77.0, 63.0, 69.0, 69.0, 75.0, 68.0, 64.0, 63.0, 62.0, 68.0, 69.0, 67.0, 68.0, 73.0, 78.0, 88.0, 87.0, 85.0, 88.0, 69.0, 69.0, 72.0, 79.0, 71.0, 73.0, 67.0, 69.0, 72.0, 66.0, 71.0, 70.0, 76.0, 83.0, 85.0, 78.0, 74.0, 81.0, 72.0, 78.0, 82.0, 89.0, 85.0, 87.0, 93.0, 92.0, 85.0, 77.0, 70.0, 74.0, 79.0, 86.0, 90.0, 91.0, 92.0, 92.0, 88.0, 85.0, 94.0, 89.0, 80.0, 75.0, 70.0, 76.0, 81.0, 86.0, 89.0, 92.0, 94.0, 93.0, 82.0, 72.0, 73.0, 79.0, 85.0, 86.0, 73.0, 74.0, 81.0, 80.0, 81.0, 91.0, 89.0, 73.0, 69.0, 64.0, 65.0, 76.0, 84.0, 77.0, 73.0, 69.0, 73.0, 76.0, 74.0, 77.0, 82.0, 85.0, 75.0, 71.0, 75.0, 68.0, 67.0, 67.0, 70.0, 67.0, 63.0, 65.0, 65.0, 67.0, 68.0, 66.0, 72.0, 68.0, 65.0, 68.0, 69.0, 70.0, 73.0, 79.0, 66.0, 65.0, 65.0, 62.0, 58.0, 60.0, 53.0, 60.0, 56.0, 58.0, 59.0, 64.0, 63.0, 64.0, 62.0, 68.0, 66.0, 72.0, 70.0, 67.0, 61.0, 58.0, 56.0, 53.0, 54.0, 60.0, 58.0, 63.0, 60.0, 57.0, 55.0, 56.0, 58.0, 62.0, 62.0, 55.0, 61.0, 56.0, 56.0, 53.0, 50.0, 43.0, 50.0, 50.0, 61.0, 54.0, 57.0, 55.0, 55.0, 55.0, 55.0, 54.0, 55.0, 53.0, 52.0, 49.0, 49.0, 48.0, 57.0, 58.0, 51.0, 50.0, 50.0, 46.0, 46.0, 47.0, 47.0, 45.0, 46.0, 44.0, 48.0, 48.0, 49.0, 50.0, 49.0, 52.0, 57.0, 52.0, 56.0, 54.0, 54.0, 51.0, 59.0, 44.0, 48.0, 47.0, 51.0, 45.0, 43.0, 47.0, 49.0, 51.0, 49.0, 43.0, 44.0, 47.0, 56.0, 51.0, 51.0, 50.0, 45.0, 49.0, 53.0, 54.0, 61.0, 59.0, 56.0, 51.0, 47.0, 55.0, 57.0, 53.0, 51.0, 47.0, 47.0, 49.0, 51.0, 47.0, 50.0, 51.0, 43.0, 51.0, 54.0, 51.0, 54.0, 50.0, 48.0, 42.0, 32.0, 34.0, 37.0, 39.0, 37.0, 33.0, 36.0, 38.0, 40.0, 39.0, 44.0, 47.0, 44.0, 43.0, 45.0, 43.0, 43.0, 47.0, 42.0, 45.0, 42.0, 44.0, 43.0, 43.0, 49.0, 51.0, 51.0, 47.0, 46.0, 49.0, 40.0, 45.0, 41.0, 48.0, 52.0, 51.0, 48.0, 52.0, 54.0, 60.0, 61.0, 64.0, 76.0, 79.0, 79.0, 60.0, 65.0, 59.0, 57.0, 60.0, 58.0, 60.0, 64.0, 62.0, 66.0, 68.0, 70.0, 68.0, 59.0, 63.0, 57.0, 57.0, 55.0, 61.0, 58.0, 53.0, 53.0, 60.0, 51.0, 51.0, 56.0, 56.0, 63.0, 62.0, 56.0, 60.0, 60.0, 59.0, 60.0, 61.0, 62.0, 63.0, 54.0, 60.0, 65.0, 67.0, 64.0, 59.0, 63.0, 69.0, 70.0, 76.0, 74.0, 75.0, 83.0, 86.0, 83.0, 67.0, 68.0, 60.0, 71.0, 64.0, 64.0, 71.0, 70.0, 57.0, 62.0, 75.0, 77.0, 62.0, 56.0, 72.0, 77.0, 66.0, 70.0, 75.0, 76.0, 76.0, 75.0, 69.0, 72.0, 66.0, 66.0, 64.0, 70.0, 75.0, 79.0, 87.0, 95.0, 80.0, 70.0, 75.0, 77.0, 76.0, 66.0, 70.0, 70.0, 72.0, 66.0, 66.0, 71.0, 75.0, 72.0, 70.0, 73.0, 77.0, 81.0, 81.0, 62.0, 71.0, 75.0, 69.0, 72.0, 68.0, 75.0, 75.0, 70.0, 76.0, 80.0, 79.0, 79.0, 71.0, 80.0, 69.0, 72.0, 73.0, 80.0, 91.0, 83.0, 71.0, 78.0, 85.0, 87.0, 76.0, 81.0, 81.0, 77.0, 83.0, 85.0, 78.0, 82.0, 87.0, 88.0, 84.0, 76.0, 69.0, 76.0, 74.0, 75.0, 79.0, 85.0, 84.0, 78.0, 69.0, 75.0, 76.0, 76.0, 82.0, 70.0, 71.0, 73.0, 76.0, 74.0, 79.0, 85.0, 89.0, 78.0, 77.0, 78.0, 79.0, 79.0, 81.0, 76.0, 79.0, 77.0, 67.0, 74.0, 68.0, 72.0, 73.0, 79.0, 71.0, 67.0, 61.0, 68.0, 64.0, 68.0, 70.0, 69.0, 67.0, 65.0, 62.0, 69.0, 69.0, 69.0, 64.0, 60.0, 56.0, 60.0, 62.0, 64.0, 62.0, 62.0, 63.0, 65.0, 63.0, 53.0, 52.0, 58.0, 64.0, 59.0, 58.0, 60.0, 61.0, 58.0, 56.0, 52.0, 56.0, 54.0, 59.0, 59.0, 57.0, 64.0, 58.0, 54.0, 55.0, 53.0, 50.0, 53.0, 53.0, 56.0, 57.0, 57.0, 57.0, 56.0, 54.0, 58.0, 58.0, 53.0, 54.0, 61.0, 53.0, 55.0, 54.0, 58.0, 54.0, 58.0, 52.0, 52.0, 50.0, 45.0, 46.0, 52.0, 52.0, 47.0, 46.0, 48.0, 45.0, 42.0, 47.0, 46.0, 51.0, 52.0, 50.0, 52.0, 56.0, 51.0, 52.0, 47.0, 45.0, 49.0, 51.0, 49.0, 45.0, 44.0, 46.0, 47.0, 46.0, 53.0, 54.0, 52.0, 44.0, 44.0, 40.0, 44.0, 39.0, 45.0, 47.0, 51.0, 48.0, 53.0, 53.0, 50.0, 62.0, 46.0, 48.0, 51.0, 55.0, 45.0, 39.0, 44.0, 46.0, 45.0, 37.0, 36.0, 46.0, 45.0, 42.0, 51.0, 54.0, 53.0, 53.0, 50.0, 55.0, 52.0, 52.0, 54.0, 51.0, 53.0, 51.0, 51.0, 59.0, 55.0, 44.0, 43.0, 41.0, 50.0, 51.0, 52.0, 48.0, 48.0, 48.0, 48.0, 48.0, 48.0, 50.0, 46.0, 48.0, 48.0, 48.0, 55.0, 58.0, 54.0, 47.0, 48.0, 50.0, 51.0, 53.0, 57.0, 50.0, 49.0, 47.0, 48.0, 53.0, 52.0, 56.0, 43.0, 45.0, 49.0, 50.0, 51.0, 51.0, 52.0, 43.0, 44.0, 46.0, 55.0, 54.0, 56.0, 61.0, 62.0, 56.0, 58.0, 51.0, 50.0, 49.0, 49.0, 50.0, 54.0, 55.0, 50.0, 50.0, 52.0, 51.0, 50.0, 56.0, 56.0, 60.0, 56.0, 63.0, 69.0, 64.0, 60.0, 60.0, 64.0, 64.0, 66.0, 70.0, 71.0, 57.0, 65.0, 67.0, 58.0, 54.0, 59.0, 60.0, 62.0, 62.0, 63.0, 63.0, 70.0, 58.0, 66.0, 58.0, 57.0, 65.0, 71.0, 62.0, 68.0, 80.0, 86.0, 87.0, 74.0, 65.0, 65.0, 67.0, 68.0, 64.0, 68.0, 67.0, 65.0, 59.0, 59.0, 62.0, 65.0, 71.0, 63.0, 66.0, 75.0, 82.0, 80.0, 60.0, 63.0, 68.0, 66.0, 66.0, 70.0, 66.0, 63.0, 64.0, 64.0, 62.0, 72.0, 71.0, 59.0, 63.0, 67.0, 64.0, 68.0, 73.0, 77.0, 81.0, 74.0, 71.0, 80.0, 85.0, 78.0, 81.0, 82.0, 64.0, 71.0, 72.0, 66.0, 66.0, 67.0, 66.0, 71.0, 74.0, 72.0, 70.0, 73.0, 72.0, 73.0, 70.0, 72.0, 76.0, 81.0, 84.0, 77.0, 72.0, 80.0, 84.0, 87.0, 81.0, 73.0, 69.0, 72.0, 78.0, 88.0, 94.0, 81.0, 86.0, 90.0, 83.0, 76.0, 82.0, 82.0, 84.0, 81.0, 73.0, 75.0, 69.0, 77.0, 82.0, 76.0, 71.0, 75.0, 81.0, 88.0, 98.0, 88.0, 81.0, 83.0, 80.0, 71.0, 75.0, 77.0, 76.0, 78.0, 78.0, 81.0, 78.0, 70.0, 73.0, 71.0, 81.0, 81.0, 84.0, 83.0, 75.0, 81.0, 84.0, 83.0, 88.0, 91.0, 73.0, 61.0, 64.0, 69.0, 75.0, 71.0, 74.0, 66.0, 72.0, 71.0, 70.0, 73.0, 63.0, 66.0, 63.0, 65.0, 70.0, 76.0, 80.0, 76.0, 72.0, 73.0, 58.0, 59.0, 68.0, 73.0, 61.0, 67.0, 68.0, 62.0, 59.0, 62.0, 63.0, 63.0, 60.0, 62.0, 57.0, 63.0, 59.0, 59.0, 53.0, 54.0, 51.0, 50.0, 49.0, 52.0, 57.0, 55.0, 59.0, 60.0, 57.0, 61.0, 65.0, 58.0, 66.0, 60.0, 51.0, 44.0, 49.0, 43.0, 46.0, 46.0, 49.0, 52.0, 48.0, 53.0, 51.0, 63.0, 49.0, 48.0, 50.0, 54.0, 45.0, 47.0, 52.0, 48.0, 50.0, 51.0, 48.0, 45.0, 51.0, 49.0, 60.0, 50.0, 54.0, 58.0, 54.0, 52.0, 52.0, 50.0, 44.0, 47.0, 45.0, 45.0, 50.0, 48.0, 50.0, 50.0, 52.0, 53.0, 54.0, 59.0, 46.0, 43.0, 44.0, 49.0, 50.0, 49.0, 47.0, 41.0, 50.0, 50.0], \"y\": [2190, 1580, 2469, 3337, 2849, 1857, 1595, 1446, 1601, 1491, 526, 1492, 2011, 2417, 2669, 2286, 1993, 2115, 1429, 2929, 2360, 2418, 2852, 2961, 3398, 3462, 2125, 2186, 1478, 1894, 1786, 2146, 2104, 2249, 1802, 2526, 1307, 1674, 1616, 894, 1186, 1856, 2424, 2397, 1580, 1096, 1146, 1533, 1285, 2353, 2173, 1708, 1034, 1376, 1184, 3039, 3306, 2713, 3620, 1836, 900, 1962, 1649, 1991, 1682, 2971, 1157, 2784, 2068, 4528, 4995, 3392, 2687, 1946, 736, 3044, 2651, 2173, 3353, 3501, 2600, 4264, 4499, 1777, 2114, 2887, 1483, 1016, 2420, 4144, 3940, 3783, 2271, 3186, 1676, 2754, 6237, 2501, 4175, 4164, 3938, 4478, 6301, 4807, 3641, 1691, 1396, 3684, 1424, 4079, 3398, 2687, 2524, 2396, 4127, 3412, 2209, 4509, 5793, 6657, 0, 4053, 1659, 1156, 3128, 4543, 5796, 2143, 2439, 3226, 4829, 6164, 7048, 6619, 5697, 4416, 3684, 4122, 5179, 5986, 4919, 4971, 2601, 3834, 2044, 4730, 4956, 3913, 4076, 5312, 5803, 5111, 5539, 4351, 5220, 5372, 5081, 5322, 5449, 4160, 4639, 5686, 4186, 2137, 3217, 2459, 4062, 4337, 5111, 4969, 4122, 4848, 4768, 4930, 5446, 5417, 3954, 3322, 3431, 3797, 6067, 5990, 5330, 4093, 4160, 3433, 5554, 5382, 6413, 5971, 5953, 5395, 5249, 4345, 5354, 5938, 6037, 5116, 4705, 3813, 3098, 5502, 5041, 2110, 3304, 4920, 5259, 5368, 5731, 6182, 6260, 5762, 4828, 4721, 6781, 5607, 5175, 5226, 5365, 4837, 5088, 5045, 5363, 4180, 3947, 4669, 17264, 23740, 22869, 5182, 5309, 4690, 4762, 4495, 4760, 4524, 5296, 5452, 5146, 4373, 3407, 2042, 3415, 5023, 3253, 4511, 4867, 4750, 4468, 4724, 3541, 4313, 4362, 4688, 4507, 4602, 4316, 4733, 4292, 3699, 2991, 3804, 4019, 5263, 3885, 2842, 2314, 3047, 2677, 4083, 3596, 2355, 3822, 3677, 3864, 3831, 3276, 4225, 4068, 3857, 3594, 3531, 2713, 2235, 2459, 2745, 2434, 1818, 2784, 1641, 2439, 4346, 2331, 2867, 1326, 2039, 2477, 1317, 1965, 3162, 1762, 2727, 1352, 1544, 2237, 1840, 1926, 2406, 2433, 1682, 3410, 3058, 1461, 3356, 3335, 2603, 2553, 2285, 2527, 2474, 2620, 2458, 2350, 2118, 1220, 1924, 1998, 1947, 1449, 1966, 1348, 385, 933, 1560, 1847, 1904, 2127, 1638, 1572, 1676, 2219, 2238, 1938, 1389, 1547, 2190, 2469, 2861, 2279, 2106, 1932, 1784, 1949, 607, 1955, 2063, 1252, 1172, 2220, 1680, 1111, 1589, 2333, 2144, 2112, 3029, 1259, 1641, 846, 1709, 3091, 2901, 2761, 2438, 1692, 2045, 3155, 3597, 3289, 1768, 2768, 1240, 802, 3186, 3208, 2676, 2053, 1610, 2771, 5344, 4337, 2402, 3506, 3735, 2541, 2295, 1249, 1732, 2303, 2131, 1597, 1546, 1175, 3594, 2193, 2945, 2749, 3127, 2896, 3598, 4763, 3756, 4305, 2916, 2167, 2292, 3746, 3914, 3870, 3592, 2441, 2544, 1905, 4298, 1487, 322, 8, 0, 4, 0, 0, 0, 302, 0, 0, 0, 0, 0, 0, 0, 0, 0, 0, 0, 0, 0, 0, 0, 0, 0, 0, 0, 0, 0, 0, 0, 2406, 2688, 4098, 4173, 3747, 3441, 4519, 5205, 2336, 2703, 3322, 1758, 2784, 4502, 4952, 4383, 5149, 5434, 6133, 3616, 4139, 2309, 2544, 3750, 4421, 6288, 2509, 4361, 4183, 4341, 4696, 5571, 4740, 2332, 4514, 5574, 5309, 5476, 4723, 3614, 3690, 2380, 4406, 4799, 2553, 3778, 5711, 4447, 4888, 5714, 3640, 3017, 3524, 3534, 5082, 5811, 6359, 5642, 5416, 4721, 3037, 3360, 4484, 5520, 5559, 5294, 5409, 6057, 6347, 5942, 5635, 4101, 4926, 5235, 5491, 5089, 5573, 4635, 4536, 4638, 4834, 5215, 6175, 5299, 5683, 5102, 4217, 3493, 5220, 5529, 5418, 4741, 4490, 4296, 4064, 4927, 5390, 5231, 5459, 4199, 3630, 4603, 4882, 5943, 5484, 5392, 4988, 5599, 4233, 4925, 4967, 5365, 5354, 3681, 3026, 3136, 5371, 5965, 5889, 5511, 5052, 4815, 6536, 5124, 5486, 4643, 5328, 5025, 4024, 5284, 5222, 5644, 4761, 5645, 7767, 21012, 19770, 5180, 5320, 5016, 4710, 4355, 4061, 4427, 4789, 5132, 4967, 5301, 3190, 1763, 2817, 2695, 2952, 4017, 3573, 3192, 3243, 2326, 4887, 4052, 5020, 4802, 4615, 4518, 2692, 3603, 3814, 4281, 2154, 3310, 3275, 3320, 4468, 4775, 4588, 4102, 2544, 3371, 3579, 4228, 4722, 3873, 3934, 2644, 3595, 4091, 4198, 3434, 1916, 3347, 2866, 1151, 3498, 3090, 3318, 3578, 3761, 3793, 2805, 1779, 3028, 4307, 3368, 3462, 2778, 2275, 2043, 1923, 3649, 2296, 2581, 2018, 818, 1178, 2373, 2926, 3099, 2572, 2345, 1035, 2357, 2147, 2793, 3006, 1901, 1213, 775, 2700, 1682, 1164, 2553, 2751, 2463, 2724, 2505, 1892, 1819, 2221, 2242, 2128, 2419, 1289, 1925, 2187, 2090, 1442, 2136, 705, 1264, 1359, 1108, 2029, 1171, 2019, 681, 1081, 2417, 1947, 2187, 1189, 1493, 1666, 885, 566, 1658, 1028, 844, 1473, 1267, 526, 1640, 2145, 2532, 2411, 3371, 2759, 1291, 1533, 1683, 2963, 2190, 2742, 2526, 3503, 1662, 1396, 1593, 2950, 1658, 1442, 1195, 2666, 1804, 2437, 1000, 2398, 820, 3780, 2953, 1761, 2162, 2240, 1969, 2266, 1896, 2405, 3422, 1727, 2167, 1972, 2266, 2488, 4025, 3776, 2154, 1953, 2348, 1357, 1614, 1170, 2655, 2520, 2491, 1195, 4058, 1914, 2999, 3862, 2988, 4356, 2429, 3420, 1618, 2807, 1442, 2564, 2368, 1858, 4309, 1718, 2497, 2919, 1629, 1925, 2266, 1636, 0, 2013, 3035, 3695, 4194, 3831, 3112, 1720, 1944, 3171, 2230, 3008, 3942, 3717, 1458, 3882, 5528, 5957, 5830, 5585, 4274, 5104, 3105, 3424, 5356, 6329, 5099, 5306, 3555, 3308, 2285, 3517, 4183, 3290, 4936, 5808, 6240, 6455, 6330, 5306, 2853, 3474, 1412, 3900, 4588, 3982, 4021, 3735, 5454, 6086, 6925, 5624, 4036, 5316, 5477, 5654, 2682, 5189, 6297, 6120, 5792, 5529, 2741, 2290, 3708, 5927, 4406, 3422, 4358, 1862, 4502, 4214, 4634, 4312, 3761, 3158, 2293, 2296, 6158, 5626, 5006, 4196, 5392, 5524, 5086, 5665, 5795, 4431, 4290, 3489, 3580, 4951, 3933, 3396, 4836, 4836, 3788, 2312, 5546, 5091, 4948, 5208, 2735, 3381, 4931, 4961, 5618, 5775, 5178, 5022, 4553, 4457, 3940, 3537, 3653, 5916, 3297, 3995, 4223, 4788, 4974, 5622, 6039, 5734, 5198, 4425, 5679, 4479, 5869, 6122, 5909, 2947, 5177, 5880, 5934, 5842, 5864, 5772, 5128, 4532, 4875, 5293, 4953, 8016, 2108, 3944, 4414, 4685, 4618, 4651, 5450, 6208, 4932, 4720, 5291, 5722, 5725, 5575, 5243, 12637, 17051, 18186, 4975, 5521, 5226, 4849, 4515, 3553, 3472, 5056, 4607, 3470, 3255, 2604, 3402, 4316, 3419, 3272, 3211, 4113, 4637, 4600, 3942, 4818, 5047, 5109, 4310, 4066, 1876, 4422, 3492, 4610, 4194, 4264, 2579, 3371, 4089, 4583, 4314, 4410, 3961, 3639, 1976, 3585, 3408, 2625, 3450, 2854, 2320, 1282, 2401, 3560, 4079, 3628, 1037, 925, 1018, 1484, 2665, 3176, 3077, 1519, 2526, 3528, 2816, 2365, 3331, 1358, 2586, 3344, 1804, 1736, 1770, 1962, 1818, 3899, 3360, 811, 3849, 2675, 4579, 2578, 3117, 3071, 1774, 1542, 2979, 2143, 2467, 2949, 2252, 1697, 1271, 2814, 1750, 1622, 505, 2273, 944, 1013, 2510, 2571, 1778, 2302, 1239, 1457, 2989, 1208, 2208, 2189, 1581, 651, 865, 894, 1585, 1979, 1623, 1655, 1728, 1076, 1225, 1154, 2542, 2250, 1401, 508, 1016, 1469, 1000, 1456, 2103, 1289, 1811, 1093, 1811, 2133, 2211, 2346, 2343, 1875, 1489, 725, 1869, 1774, 1892, 2826, 1896, 3325, 4018, 2739, 1398, 1402, 1750, 2174, 2234, 1574, 2834, 2511, 2006, 2425, 3278, 2862, 1899, 2335, 3098, 3202, 2803, 892, 883, 885, 970, 1768, 1164, 1221, 1620, 2691, 4053, 3828, 2792, 1134, 2697, 3605, 1346, 1444, 1170, 1859, 2989, 2338, 2204, 2470, 1414, 1111, 2357, 2112, 1768, 1159, 2720, 1244, 2312, 1367, 1906, 1445, 2714, 1351, 0, 1628, 1813, 1715, 4011, 1600, 2177, 5549, 2530, 2464, 2604, 3137, 1600, 3489, 1169, 2746, 2152, 2452, 3338, 3761, 2613, 3619, 4112, 3545, 1711, 3152, 1433, 2356, 3857, 2000, 4051, 2205, 2615, 2719, 4303, 3899, 2501, 2922, 2331, 3809, 6153, 2238, 1517, 3659, 2999, 2510, 3461, 4013, 2731, 3255, 2668, 3648, 5797, 3896, 2949, 4415, 4764, 4383, 6136, 5437, 2236, 2988, 2937, 2973, 2295, 2680, 4164, 4562, 5155, 5643, 6282, 6382, 6073, 4550, 5787, 5433, 5466, 5898, 5046, 3145, 4464, 4064, 4514, 3919, 4313, 5595, 6348, 5355, 2922, 3613, 4982, 5004, 3814, 4007, 4775, 1777, 4280, 3144, 3535, 4583, 3852, 5649, 6046, 5537, 5343, 4599, 4938, 5191, 4948, 5702, 5315, 4458, 5268, 4217, 5446, 5298, 5552, 4976, 5412, 5187, 4718, 5626, 5846, 5100, 5196, 4853, 4913, 5307, 6009, 5611, 4942, 4959, 4837, 4918, 5811, 6277, 5769, 4965, 5157, 6155, 5425, 5758, 5746, 4983, 4510, 4207, 4657, 4647, 4750, 5214, 4914, 4844, 4716, 4740, 3649, 5231, 5754, 5417, 5421, 12617, 18185, 15806, 4598, 5092, 4988, 4971, 4582, 4919, 4788, 4735, 4995, 4776, 4337, 4393, 4670, 4242, 4267, 3268, 3514, 3823, 3601, 2964, 4594, 4953, 5160, 4610, 4600, 4330, 3756, 2545, 2856, 2391, 3233, 3468, 4159, 4066, 4137, 3204, 4908, 4922, 5105, 2675, 2850, 3153, 3814, 4380, 4265, 4137, 2980, 2429, 3389, 3828, 2965, 3219, 2013, 2832, 2797, 4283, 3653, 2392, 1612, 1572, 2134, 943, 3034, 3851, 4428, 2776, 3505, 3642, 3778, 2845, 3684, 3504, 2701, 4313, 255, 24, 4, 4, 1640, 2264, 1659, 2981, 1501, 1690, 1317, 1930, 1888, 1739, 2277, 2829, 1488, 1618, 1104, 1957, 1749, 1475, 1820, 1124, 2470, 1351, 2499, 1618, 1506, 712, 2069, 2195, 2625, 2769, 2712, 2146, 1819, 2403, 2296, 2274, 2457, 2413, 1545, 1485, 1060, 1170, 1002, 2203, 1524, 1258, 1911, 791, 908, 1429, 1449, 1192, 510, 2087, 2177, 3194, 2118, 3021, 2017, 1475, 1199, 1159, 2475, 1621, 2131, 1467, 1707, 2954, 5046, 3451, 2564, 1837, 1734, 1736, 1423, 1124, 2302, 1242, 1621, 1731, 1571, 1194, 2027, 1225, 2889, 2191, 1653, 1896, 1337, 2546, 2244, 2331, 2504, 2095, 2658, 3899, 3083, 3062, 2572, 1808, 2335, 1689, 1812, 1432, 2052, 1566, 1704, 1565, 1093, 1901, 2080, 2546, 1746, 1462, 3056, 1967, 4045, 1795, 2225, 3890, 2674, 1237, 3023, 4615, 0, 5717, 1911, 3568, 4203, 4058, 2787, 3786, 3616, 4205, 3217, 1736, 1704, 2644, 3453, 1945, 2307, 3136, 3230, 3145, 4289, 1523, 3384, 3171, 1824, 1804, 3970, 1442, 1872, 4787, 3030, 1952, 2393, 1493, 1042, 2497, 1643, 3455, 3740, 4824, 3481, 3257, 4965, 5470, 6004, 5810, 6247, 3119, 1625, 3836, 3459, 4630, 5804, 8655, 4838, 4621, 5372, 5183, 4668, 0, 3396, 4730, 5514, 5960, 6037, 5440, 5046, 4462, 4202, 4220, 4463, 5580, 6276, 6015, 4876, 3871, 4138, 5530, 4876, 3943, 4897, 3900, 4214, 5654, 2860, 4230, 5093, 5564, 4467, 2326, 3327, 2753, 5385, 4629, 2823, 4368, 5261, 4987, 5614, 5699, 6182, 5608, 4850, 3887, 4721, 4715, 4197, 5114, 4810, 4074, 4042, 3290, 3790, 5076, 5646, 5202, 5407, 4954, 5269, 6064, 4578, 5771, 6085, 6126, 5299, 5246, 5054, 5438, 5518, 5496, 4503, 4898, 5664, 5308, 5611, 6051, 5804, 5540, 5137, 5116, 5044, 5226, 5436, 5540, 4260, 4681, 5697, 5397, 5638, 5698, 5412, 5368, 4984, 4089, 5460, 5104, 4476, 4054, 4486, 10917, 16909, 15495, 2998, 2318, 2379, 3559, 3655, 2810, 2751, 4851, 4983, 4456, 3852, 3751, 4027, 5006, 4878, 4473, 4691, 4585, 3573, 3294, 3686, 3687, 3987, 3891, 3730, 2910, 2632, 3425, 4142, 4416, 4387, 3463, 3374, 2776, 3926, 4312, 4406, 4392, 4285, 4273, 3527, 2590, 2333, 3165, 3204, 3762, 1654, 3289, 1836, 2031, 3139, 3882, 3623, 3559, 3457, 3871, 4155, 4409, 4122, 3706, 2949, 2798, 2828, 2637, 2782, 3271, 2001, 2451, 2005, 1415, 2545, 2815, 2298, 2384, 2679, 1330, 3236, 2736, 3301, 3120, 2975, 1794, 2889, 2888, 3024, 2913, 2089, 2651, 2419, 3668, 3542, 2990, 2457, 1606, 1317, 1097, 2103, 2142, 1046, 1995, 1646, 2377, 2032, 1641, 1777, 2823, 3165, 2856, 2462, 2189, 1779, 660, 2516, 1249, 1989, 1678, 1831, 1986, 953, 1891, 1360, 1900, 1081, 1803, 1431, 985, 2563, 1598, 1006, 1889, 819, 829, 2667, 2435, 2746, 2080, 1297, 2072, 2118, 1728, 2627, 1683, 1817, 2465, 2803, 3998, 5360, 4172, 2913, 3017, 2162, 1980, 1944, 2188, 2705, 1757, 2539, 2786, 2951, 4204, 1960, 3575, 4786, 2961, 2780, 1219, 2127, 1496, 617, 2559, 2656, 1598, 900, 1532, 505, 370, 476, 1202, 1146, 3899, 1068, 2327, 1725, 1686, 2083, 4556, 1202, 1995, 2226, 3731, 3722, 1914, 4042, 5423, 6561, 5529, 5915, 6594, 1674, 2501, 2588, 5659, 0, 2363, 2097, 5102, 3145, 4056, 4764, 7758, 8237, 7651, 8680, 5024, 3068, 5174, 3746, 2714, 5838, 3653, 5699, 4202, 8258, 9274, 7564, 4258, 3052, 5003, 2208, 1828, 2538, 2707, 3757, 2171, 2131, 3475, 3472, 2161, 4472, 3026, 4995, 2712, 1843, 5797, 5118, 2437, 7881, 8183, 4211, 5047, 4967, 9708, 9492, 8857, 8895, 3640, 6442, 6873, 8950, 8173, 9457, 9505, 10126, 8432, 6797, 4296, 5040, 2917, 3614, 3156, 6310, 5946, 6698, 2466, 4270, 9514, 8477, 2885, 2147, 7258, 10258, 5876, 6905, 7815, 7552, 7910, 6837, 7990, 7793, 6281, 5038, 3515, 8044, 7165, 10796, 10778, 6468, 6917, 8566, 7721, 7788, 7323, 8736, 6721, 10171, 9104, 4519, 6840, 8574, 8177, 4817, 5632, 6412, 10291, 10674, 9259, 3008, 4539, 6459, 3757, 5584, 3582, 7262, 4253, 3129, 5003, 7311, 6210, 6646, 4323, 7488, 3580, 4667, 6222, 7866, 7608, 7810, 6822, 7665, 8979, 7937, 4982, 9655, 7721, 7503, 8550, 7707, 8444, 7907, 8603, 7999, 7834, 7689, 4957, 6018, 4973, 4916, 7336, 7879, 6786, 7107, 10186, 15439, 15552, 6427, 5126, 2819, 6251, 4061, 5152, 6238, 8051, 8414, 7447, 4674, 4693, 4389, 5623, 6537, 6082, 5590, 5550, 7988, 6651, 6864, 5702, 7209, 5545, 5604, 6117, 6187, 2466, 5042, 2654, 4614, 4324, 3738, 5043, 1942, 2922, 4156, 4603, 3534, 3068, 4041, 2921, 5125, 4952, 3787, 3256, 2873, 4002, 4695, 2910, 3239, 4719, 4194, 4087, 3485, 3935, 5549, 4319, 2302, 2375, 2589, 1966, 1504, 2137, 2538, 3702, 3850, 2510, 2837, 3967, 3743, 4326, 3549, 3582, 3828, 4181, 4632, 3811, 4134, 4756, 5353, 4167, 2018, 2695, 4263, 2429, 3448, 3388, 2850, 3606, 1966, 2157, 2783, 4142, 3720, 2503, 2313, 3082, 2109, 2391, 2491, 2822, 2249, 2808, 2950, 4867, 4113, 2743, 3909, 3007, 1304, 2136, 2537, 1987, 1791, 1877, 2240, 1427, 1708, 2465, 2481, 2121, 1372, 689, 698, 1561, 1519, 1383, 2046, 1486, 1564, 2217, 2737, 1710, 1103, 3259, 1567, 2652, 2174, 1649, 1632, 1946, 2236, 2019, 1191, 1535, 1798, 1044, 1223, 1188, 2211, 1864, 1935, 2083, 2105, 1483, 1770, 1418, 2013, 2236, 2797, 2310, 2415, 1881, 2360, 1151, 1830, 3524, 2718, 1680, 1238, 1281, 1781, 2680, 4195, 3182, 2555, 2699, 1882, 2733, 1523, 2887, 3645, 3402, 3872, 3913, 3510, 2471, 2243, 3024, 3069, 3490, 4066, 2144, 2568, 2889, 1791, 2495, 3937, 2365, 1625, 2490, 0, 3941, 2413, 2796, 2944, 838, 2393, 4035, 4528, 4419, 5816, 6160, 6028, 7078, 5181, 3887, 3439, 3873, 2594, 2759, 3555, 6175, 1720, 3305, 4822, 3733, 2677, 5642, 5006, 5935, 5707, 6191, 6946, 5923, 6044, 6883, 5875, 6054, 5449, 7236, 5814, 4251, 8319, 6920, 3752, 1754, 3299, 4660, 5034, 6620, 4565, 4190, 4976, 4377, 5582, 3350, 6383, 4910, 6374, 4378, 6839, 7110, 7424, 7004, 4304, 4164, 5548, 5296, 6675, 3269, 7218, 5402, 5507, 3215, 2710, 4206, 7488, 7187, 3273, 5818, 7053, 5888, 6378, 1521, 3327, 4945, 3803, 4715, 5151, 4503, 5324, 5027, 4572, 2623, 5915, 5020, 3034, 4170, 5870, 3516, 5809, 6172, 6218, 5341, 4598, 6055, 6523, 5880, 5503, 6330, 5256, 2843, 6205, 5380, 3622, 3882, 4148, 4716, 6723, 7099, 5806, 4430, 6384, 5356, 6343, 4769, 5668, 7246, 6681, 6504, 5450, 3793, 7307, 6741, 6264, 5984, 5163, 4816, 4350, 6804, 6796, 5342, 5686, 6162, 5683, 5144, 5568, 6168, 5767, 6572, 5668, 3765, 5183, 4806, 7432, 5975, 5222, 5055, 5410, 5282, 5717, 4716, 4802, 5030, 4917, 4298, 3767, 5930, 5911, 4999, 5541, 5457, 5365, 5280, 5011, 5968, 5374, 5837, 5306, 5187, 4847, 5488, 6426, 5851, 3100, 3650, 3815, 1659, 745, 865, 1024, 1880, 1633, 2185, 2132, 4189, 5754, 5629, 6058, 1415, 2499, 2492, 3938, 5749, 4817, 4535, 3502, 3341, 3586, 3258, 3541, 4446, 4653, 3431, 3600, 3368, 3782, 1687, 3905, 2548, 4016, 3891, 2381, 3471, 2477, 2332, 4204, 2846, 3263, 1514, 3278, 3934, 2842, 3451, 2670, 3539, 3405, 4647, 5155, 3646, 1454, 1617, 1590, 2688, 2663, 4859, 3381, 1868, 2826, 1703, 2510, 2337, 3474, 1029, 1646, 1313, 2710, 2241, 5915, 2517, 1993, 1404, 2870, 2700, 4508, 2579, 4182, 3082, 3510, 3860, 2384, 3848, 5920, 3838, 2619, 1316, 2601, 2292, 2582, 4979, 1810, 1881, 1439, 1387, 2961, 1299, 1883, 2797, 1550, 3295, 3035, 3268, 1656, 2472, 2862, 4623, 2264, 1328, 2844]}],\n",
              "                        {\"template\": {\"data\": {\"bar\": [{\"error_x\": {\"color\": \"#2a3f5f\"}, \"error_y\": {\"color\": \"#2a3f5f\"}, \"marker\": {\"line\": {\"color\": \"#E5ECF6\", \"width\": 0.5}}, \"type\": \"bar\"}], \"barpolar\": [{\"marker\": {\"line\": {\"color\": \"#E5ECF6\", \"width\": 0.5}}, \"type\": \"barpolar\"}], \"carpet\": [{\"aaxis\": {\"endlinecolor\": \"#2a3f5f\", \"gridcolor\": \"white\", \"linecolor\": \"white\", \"minorgridcolor\": \"white\", \"startlinecolor\": \"#2a3f5f\"}, \"baxis\": {\"endlinecolor\": \"#2a3f5f\", \"gridcolor\": \"white\", \"linecolor\": \"white\", \"minorgridcolor\": \"white\", \"startlinecolor\": \"#2a3f5f\"}, \"type\": \"carpet\"}], \"choropleth\": [{\"colorbar\": {\"outlinewidth\": 0, \"ticks\": \"\"}, \"type\": \"choropleth\"}], \"contour\": [{\"colorbar\": {\"outlinewidth\": 0, \"ticks\": \"\"}, \"colorscale\": [[0.0, \"#0d0887\"], [0.1111111111111111, \"#46039f\"], [0.2222222222222222, \"#7201a8\"], [0.3333333333333333, \"#9c179e\"], [0.4444444444444444, \"#bd3786\"], [0.5555555555555556, \"#d8576b\"], [0.6666666666666666, \"#ed7953\"], [0.7777777777777778, \"#fb9f3a\"], [0.8888888888888888, \"#fdca26\"], [1.0, \"#f0f921\"]], \"type\": \"contour\"}], \"contourcarpet\": [{\"colorbar\": {\"outlinewidth\": 0, \"ticks\": \"\"}, \"type\": \"contourcarpet\"}], \"heatmap\": [{\"colorbar\": {\"outlinewidth\": 0, \"ticks\": \"\"}, \"colorscale\": [[0.0, \"#0d0887\"], [0.1111111111111111, \"#46039f\"], [0.2222222222222222, \"#7201a8\"], [0.3333333333333333, \"#9c179e\"], [0.4444444444444444, \"#bd3786\"], [0.5555555555555556, \"#d8576b\"], [0.6666666666666666, \"#ed7953\"], [0.7777777777777778, \"#fb9f3a\"], [0.8888888888888888, \"#fdca26\"], [1.0, \"#f0f921\"]], \"type\": \"heatmap\"}], \"heatmapgl\": [{\"colorbar\": {\"outlinewidth\": 0, \"ticks\": \"\"}, \"colorscale\": [[0.0, \"#0d0887\"], [0.1111111111111111, \"#46039f\"], [0.2222222222222222, \"#7201a8\"], [0.3333333333333333, \"#9c179e\"], [0.4444444444444444, \"#bd3786\"], [0.5555555555555556, \"#d8576b\"], [0.6666666666666666, \"#ed7953\"], [0.7777777777777778, \"#fb9f3a\"], [0.8888888888888888, \"#fdca26\"], [1.0, \"#f0f921\"]], \"type\": \"heatmapgl\"}], \"histogram\": [{\"marker\": {\"colorbar\": {\"outlinewidth\": 0, \"ticks\": \"\"}}, \"type\": \"histogram\"}], \"histogram2d\": [{\"colorbar\": {\"outlinewidth\": 0, \"ticks\": \"\"}, \"colorscale\": [[0.0, \"#0d0887\"], [0.1111111111111111, \"#46039f\"], [0.2222222222222222, \"#7201a8\"], [0.3333333333333333, \"#9c179e\"], [0.4444444444444444, \"#bd3786\"], [0.5555555555555556, \"#d8576b\"], [0.6666666666666666, \"#ed7953\"], [0.7777777777777778, \"#fb9f3a\"], [0.8888888888888888, \"#fdca26\"], [1.0, \"#f0f921\"]], \"type\": \"histogram2d\"}], \"histogram2dcontour\": [{\"colorbar\": {\"outlinewidth\": 0, \"ticks\": \"\"}, \"colorscale\": [[0.0, \"#0d0887\"], [0.1111111111111111, \"#46039f\"], [0.2222222222222222, \"#7201a8\"], [0.3333333333333333, \"#9c179e\"], [0.4444444444444444, \"#bd3786\"], [0.5555555555555556, \"#d8576b\"], [0.6666666666666666, \"#ed7953\"], [0.7777777777777778, \"#fb9f3a\"], [0.8888888888888888, \"#fdca26\"], [1.0, \"#f0f921\"]], \"type\": \"histogram2dcontour\"}], \"mesh3d\": [{\"colorbar\": {\"outlinewidth\": 0, \"ticks\": \"\"}, \"type\": \"mesh3d\"}], \"parcoords\": [{\"line\": {\"colorbar\": {\"outlinewidth\": 0, \"ticks\": \"\"}}, \"type\": \"parcoords\"}], \"pie\": [{\"automargin\": true, \"type\": \"pie\"}], \"scatter\": [{\"marker\": {\"colorbar\": {\"outlinewidth\": 0, \"ticks\": \"\"}}, \"type\": \"scatter\"}], \"scatter3d\": [{\"line\": {\"colorbar\": {\"outlinewidth\": 0, \"ticks\": \"\"}}, \"marker\": {\"colorbar\": {\"outlinewidth\": 0, \"ticks\": \"\"}}, \"type\": \"scatter3d\"}], \"scattercarpet\": [{\"marker\": {\"colorbar\": {\"outlinewidth\": 0, \"ticks\": \"\"}}, \"type\": \"scattercarpet\"}], \"scattergeo\": [{\"marker\": {\"colorbar\": {\"outlinewidth\": 0, \"ticks\": \"\"}}, \"type\": \"scattergeo\"}], \"scattergl\": [{\"marker\": {\"colorbar\": {\"outlinewidth\": 0, \"ticks\": \"\"}}, \"type\": \"scattergl\"}], \"scattermapbox\": [{\"marker\": {\"colorbar\": {\"outlinewidth\": 0, \"ticks\": \"\"}}, \"type\": \"scattermapbox\"}], \"scatterpolar\": [{\"marker\": {\"colorbar\": {\"outlinewidth\": 0, \"ticks\": \"\"}}, \"type\": \"scatterpolar\"}], \"scatterpolargl\": [{\"marker\": {\"colorbar\": {\"outlinewidth\": 0, \"ticks\": \"\"}}, \"type\": \"scatterpolargl\"}], \"scatterternary\": [{\"marker\": {\"colorbar\": {\"outlinewidth\": 0, \"ticks\": \"\"}}, \"type\": \"scatterternary\"}], \"surface\": [{\"colorbar\": {\"outlinewidth\": 0, \"ticks\": \"\"}, \"colorscale\": [[0.0, \"#0d0887\"], [0.1111111111111111, \"#46039f\"], [0.2222222222222222, \"#7201a8\"], [0.3333333333333333, \"#9c179e\"], [0.4444444444444444, \"#bd3786\"], [0.5555555555555556, \"#d8576b\"], [0.6666666666666666, \"#ed7953\"], [0.7777777777777778, \"#fb9f3a\"], [0.8888888888888888, \"#fdca26\"], [1.0, \"#f0f921\"]], \"type\": \"surface\"}], \"table\": [{\"cells\": {\"fill\": {\"color\": \"#EBF0F8\"}, \"line\": {\"color\": \"white\"}}, \"header\": {\"fill\": {\"color\": \"#C8D4E3\"}, \"line\": {\"color\": \"white\"}}, \"type\": \"table\"}]}, \"layout\": {\"annotationdefaults\": {\"arrowcolor\": \"#2a3f5f\", \"arrowhead\": 0, \"arrowwidth\": 1}, \"coloraxis\": {\"colorbar\": {\"outlinewidth\": 0, \"ticks\": \"\"}}, \"colorscale\": {\"diverging\": [[0, \"#8e0152\"], [0.1, \"#c51b7d\"], [0.2, \"#de77ae\"], [0.3, \"#f1b6da\"], [0.4, \"#fde0ef\"], [0.5, \"#f7f7f7\"], [0.6, \"#e6f5d0\"], [0.7, \"#b8e186\"], [0.8, \"#7fbc41\"], [0.9, \"#4d9221\"], [1, \"#276419\"]], \"sequential\": [[0.0, \"#0d0887\"], [0.1111111111111111, \"#46039f\"], [0.2222222222222222, \"#7201a8\"], [0.3333333333333333, \"#9c179e\"], [0.4444444444444444, \"#bd3786\"], [0.5555555555555556, \"#d8576b\"], [0.6666666666666666, \"#ed7953\"], [0.7777777777777778, \"#fb9f3a\"], [0.8888888888888888, \"#fdca26\"], [1.0, \"#f0f921\"]], \"sequentialminus\": [[0.0, \"#0d0887\"], [0.1111111111111111, \"#46039f\"], [0.2222222222222222, \"#7201a8\"], [0.3333333333333333, \"#9c179e\"], [0.4444444444444444, \"#bd3786\"], [0.5555555555555556, \"#d8576b\"], [0.6666666666666666, \"#ed7953\"], [0.7777777777777778, \"#fb9f3a\"], [0.8888888888888888, \"#fdca26\"], [1.0, \"#f0f921\"]]}, \"colorway\": [\"#636efa\", \"#EF553B\", \"#00cc96\", \"#ab63fa\", \"#FFA15A\", \"#19d3f3\", \"#FF6692\", \"#B6E880\", \"#FF97FF\", \"#FECB52\"], \"font\": {\"color\": \"#2a3f5f\"}, \"geo\": {\"bgcolor\": \"white\", \"lakecolor\": \"white\", \"landcolor\": \"#E5ECF6\", \"showlakes\": true, \"showland\": true, \"subunitcolor\": \"white\"}, \"hoverlabel\": {\"align\": \"left\"}, \"hovermode\": \"closest\", \"mapbox\": {\"style\": \"light\"}, \"paper_bgcolor\": \"white\", \"plot_bgcolor\": \"#E5ECF6\", \"polar\": {\"angularaxis\": {\"gridcolor\": \"white\", \"linecolor\": \"white\", \"ticks\": \"\"}, \"bgcolor\": \"#E5ECF6\", \"radialaxis\": {\"gridcolor\": \"white\", \"linecolor\": \"white\", \"ticks\": \"\"}}, \"scene\": {\"xaxis\": {\"backgroundcolor\": \"#E5ECF6\", \"gridcolor\": \"white\", \"gridwidth\": 2, \"linecolor\": \"white\", \"showbackground\": true, \"ticks\": \"\", \"zerolinecolor\": \"white\"}, \"yaxis\": {\"backgroundcolor\": \"#E5ECF6\", \"gridcolor\": \"white\", \"gridwidth\": 2, \"linecolor\": \"white\", \"showbackground\": true, \"ticks\": \"\", \"zerolinecolor\": \"white\"}, \"zaxis\": {\"backgroundcolor\": \"#E5ECF6\", \"gridcolor\": \"white\", \"gridwidth\": 2, \"linecolor\": \"white\", \"showbackground\": true, \"ticks\": \"\", \"zerolinecolor\": \"white\"}}, \"shapedefaults\": {\"line\": {\"color\": \"#2a3f5f\"}}, \"ternary\": {\"aaxis\": {\"gridcolor\": \"white\", \"linecolor\": \"white\", \"ticks\": \"\"}, \"baxis\": {\"gridcolor\": \"white\", \"linecolor\": \"white\", \"ticks\": \"\"}, \"bgcolor\": \"#E5ECF6\", \"caxis\": {\"gridcolor\": \"white\", \"linecolor\": \"white\", \"ticks\": \"\"}}, \"title\": {\"x\": 0.05}, \"xaxis\": {\"automargin\": true, \"gridcolor\": \"white\", \"linecolor\": \"white\", \"ticks\": \"\", \"title\": {\"standoff\": 15}, \"zerolinecolor\": \"white\", \"zerolinewidth\": 2}, \"yaxis\": {\"automargin\": true, \"gridcolor\": \"white\", \"linecolor\": \"white\", \"ticks\": \"\", \"title\": {\"standoff\": 15}, \"zerolinecolor\": \"white\", \"zerolinewidth\": 2}}}, \"title\": {\"text\": \"Trail Usage as a Function of Temperature\"}, \"xaxis\": {\"title\": {\"text\": \"High Temperature (F)\"}}, \"yaxis\": {\"title\": {\"text\": \"Daily Trail Usage\"}}},\n",
              "                        {\"responsive\": true}\n",
              "                    ).then(function(){\n",
              "                            \n",
              "var gd = document.getElementById('7ac6f426-80a9-48aa-b9b0-e45d09488e5b');\n",
              "var x = new MutationObserver(function (mutations, observer) {{\n",
              "        var display = window.getComputedStyle(gd).display;\n",
              "        if (!display || display === 'none') {{\n",
              "            console.log([gd, 'removed!']);\n",
              "            Plotly.purge(gd);\n",
              "            observer.disconnect();\n",
              "        }}\n",
              "}});\n",
              "\n",
              "// Listen for the removal of the full notebook cells\n",
              "var notebookContainer = gd.closest('#notebook-container');\n",
              "if (notebookContainer) {{\n",
              "    x.observe(notebookContainer, {childList: true});\n",
              "}}\n",
              "\n",
              "// Listen for the clearing of the current output cell\n",
              "var outputEl = gd.closest('.output');\n",
              "if (outputEl) {{\n",
              "    x.observe(outputEl, {childList: true});\n",
              "}}\n",
              "\n",
              "                        })\n",
              "                };\n",
              "                \n",
              "            </script>\n",
              "        </div>\n",
              "</body>\n",
              "</html>"
            ]
          },
          "metadata": {
            "tags": []
          }
        }
      ]
    },
    {
      "cell_type": "code",
      "metadata": {
        "id": "4psYtUG-58S0"
      },
      "source": [
        "#next steps: color 2020 differently; add post-covid 2020 as a dummy variable; incorporate other variables"
      ],
      "execution_count": 43,
      "outputs": []
    }
  ]
}
